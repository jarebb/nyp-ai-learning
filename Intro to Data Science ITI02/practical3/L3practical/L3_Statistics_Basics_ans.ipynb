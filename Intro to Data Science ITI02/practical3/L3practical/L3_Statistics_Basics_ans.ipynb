{
  "nbformat": 4,
  "nbformat_minor": 0,
  "metadata": {
    "kernelspec": {
      "display_name": "Python 3",
      "language": "python",
      "name": "python3"
    },
    "language_info": {
      "codemirror_mode": {
        "name": "ipython",
        "version": 2
      },
      "file_extension": ".py",
      "mimetype": "text/x-python",
      "name": "python",
      "nbconvert_exporter": "python",
      "pygments_lexer": "ipython2",
      "version": "2.7.15"
    },
    "colab": {
      "name": "L3_Statistics_Basics_ans.ipynb",
      "provenance": [],
      "collapsed_sections": [
        "3WovTsuyPcnP",
        "jQGO4UlimDyD",
        "Q1ijJ1cxPcnS",
        "adg4rztfPcnV",
        "sHKp8qK2PcnX",
        "EuGTIIc1Hcns"
      ]
    }
  },
  "cells": [
    {
      "cell_type": "markdown",
      "metadata": {
        "id": "C_5bmyGnPcnN"
      },
      "source": [
        "# **L3 Statistics Basics**\n",
        "\n"
      ]
    },
    {
      "cell_type": "markdown",
      "metadata": {
        "id": "s0B0leC1lwya"
      },
      "source": [
        "By the end of this practical you will be able to perform basic statistics operation using Python\n"
      ]
    },
    {
      "cell_type": "markdown",
      "metadata": {
        "id": "3WovTsuyPcnP"
      },
      "source": [
        "## Descriptive Statistics \n",
        "Recall from the lecture notes that we have discussed the following mean (average), median, standard deviation, skewness and kurtosis. We will use the python to do the implementation.\n",
        "\n",
        "\n"
      ]
    },
    {
      "cell_type": "markdown",
      "metadata": {
        "id": "jQGO4UlimDyD"
      },
      "source": [
        "\n",
        "\n",
        "### Mean\n",
        "\n",
        "The mean is the numerical average of the entire data set.\n",
        "\n",
        "$$nums = \\{ 872,  432,  397,  427,  388,  782, 397\\}$$\n",
        "\n",
        "$$mean = \\Sigma nums / | nums |$$"
      ]
    },
    {
      "cell_type": "code",
      "metadata": {
        "id": "AQvyC9qNPcnQ",
        "colab": {
          "base_uri": "https://localhost:8080/"
        },
        "outputId": "bd575a47-41c5-4d54-c43f-962b15cfc7fc"
      },
      "source": [
        "\n",
        "\n",
        "def mean(l):\n",
        "    return sum(l) / len(l)\n",
        "nums = [872, 432, 397, 427, 388, 782, 397]\n",
        "print(mean(nums))\n",
        "\n"
      ],
      "execution_count": null,
      "outputs": [
        {
          "output_type": "stream",
          "text": [
            "527.8571428571429\n"
          ],
          "name": "stdout"
        }
      ]
    },
    {
      "cell_type": "markdown",
      "metadata": {
        "id": "Q1ijJ1cxPcnS"
      },
      "source": [
        "### Median\n",
        "\n",
        "Median is the center (position) value in the ordered list.\n",
        "\n",
        "$$nums = \\{ 872, 432, 397, 427, 388, 782, 397\\}  = \\{ 388, 397, 397, \\underline{427}, 432, 782, 872\\}$$\n",
        "\n",
        "$$median = 427$$\n",
        "\n",
        "If the number of values in the data set is even, we take the average of the two center value. "
      ]
    },
    {
      "cell_type": "code",
      "metadata": {
        "id": "lJnG_MhOPcnT",
        "colab": {
          "base_uri": "https://localhost:8080/"
        },
        "outputId": "65cb7a33-0cd8-4d22-ecc8-f839e323edd2"
      },
      "source": [
        "from math import * # a library that provides math functions\n",
        "def median(l):\n",
        "    if (len(l) % 2 == 1):\n",
        "        return sorted(l)[int(floor(len(l)/2))]\n",
        "    else:\n",
        "        i1 = int(floor(len(l)/2-1))\n",
        "        i2 = int(floor(len(l)/2))\n",
        "        sl = sorted(l)\n",
        "        return (sl[i1]+sl[i2] ) / 2\n",
        "        \n",
        "nums = [872, 432, 397, 427, 388, 782, 397]\n",
        "print(median(nums))\n",
        "\n",
        "age=[21,20,21,23,23,19,30,60]\n",
        "print(median(age))"
      ],
      "execution_count": null,
      "outputs": [
        {
          "output_type": "stream",
          "text": [
            "427\n",
            "22.0\n"
          ],
          "name": "stdout"
        }
      ]
    },
    {
      "cell_type": "markdown",
      "metadata": {
        "id": "adg4rztfPcnV"
      },
      "source": [
        "### Mode\n",
        "\n",
        "Mode - the most frequent observation. If there is no repetition, no\n",
        "  mode exists.\n",
        "  \n",
        "$$nums = \\{ 872, \\underline{432, 432, 432}, 388, 782, 388\\}$$\n",
        "\n",
        "$$mode = 432$$\n"
      ]
    },
    {
      "cell_type": "code",
      "metadata": {
        "colab": {
          "base_uri": "https://localhost:8080/"
        },
        "id": "kC2p_HEEImgk",
        "outputId": "e16bca2f-ac2a-4da2-c5ad-9e0ed2ada608"
      },
      "source": [
        "def mode(l): # assuming l is non empty\n",
        "    d = {}\n",
        "    for x in l:\n",
        "        if (x in d):\n",
        "            d[x] +=1\n",
        "        else:\n",
        "            d[x] = 1\n",
        "    print(d)\n",
        "    print(d.items())\n",
        " \n",
        "    return [g for g,l in d.items() if l==max(d.values())]\n",
        "\n",
        "nums = [872, 432, 397, 427, 388, 782, 397]\n",
        "print(mode(nums))"
      ],
      "execution_count": null,
      "outputs": [
        {
          "output_type": "stream",
          "text": [
            "{872: 1, 432: 1, 397: 2, 427: 1, 388: 1, 782: 1}\n",
            "dict_items([(872, 1), (432, 1), (397, 2), (427, 1), (388, 1), (782, 1)])\n",
            "[397]\n"
          ],
          "name": "stdout"
        }
      ]
    },
    {
      "cell_type": "markdown",
      "metadata": {
        "id": "sHKp8qK2PcnX"
      },
      "source": [
        "### Variance\n",
        "\n",
        "The variance measures how far each value in the data set is from the\n",
        "mean.\n",
        "\n",
        "Let $x$ denote the data set, $n$ be the size of the data, $\\bar{x}$ denote the mean, variance $\\sigma^2$ is defined as \n",
        "$$\\sigma^2=\\frac{\\Sigma (x - \\bar{x})^2}{n}$$\n"
      ]
    },
    {
      "cell_type": "code",
      "metadata": {
        "id": "KMDAxV0pPcnY",
        "colab": {
          "base_uri": "https://localhost:8080/"
        },
        "outputId": "6dbdd3cc-6f48-4b07-be5b-1ff2ceea60ba"
      },
      "source": [
        "def variance(l): # assuming l is non empty\n",
        "    m = mean(l)\n",
        "    diffsqsum = sum(map(lambda x:(x - m)**2, l))\n",
        "    return diffsqsum/len(l)\n",
        "\n",
        "nums = [872, 432, 397, 427, 388, 782, 397]\n",
        "print(variance(nums))\n",
        "\n"
      ],
      "execution_count": null,
      "outputs": [
        {
          "output_type": "stream",
          "text": [
            "36598.69387755102\n"
          ],
          "name": "stdout"
        }
      ]
    },
    {
      "cell_type": "markdown",
      "metadata": {
        "id": "Q9Jps7gWPcnZ"
      },
      "source": [
        "### Standard deviation\n",
        "\n",
        "The standard deviation measures the spread of the data about the mean\n",
        "value. It is useful in comparing sets of data which may have the same\n",
        "mean but a different range.  $\\sigma$ is the standard deviation\n",
        "Let $x$ denote the data set, $n$ be the size of the data, $\\bar{x}$ denote the mean, standard deviation $\\sigma$ is defined as \n",
        "$$\\sigma=\\sqrt{\\frac{\\Sigma (x - \\bar{x})^2}{n}}$$\n",
        "\n"
      ]
    },
    {
      "cell_type": "code",
      "metadata": {
        "id": "KUf5mZtpPcna",
        "colab": {
          "base_uri": "https://localhost:8080/"
        },
        "outputId": "83803b02-fedc-4967-e14b-16dd6ed2b2a2"
      },
      "source": [
        "def std(l): # assuming l is non empty\n",
        "    return sqrt(variance(l))\n",
        "\n",
        "nums = [872, 432, 397, 427, 388, 782, 397]\n",
        "print(std(nums))"
      ],
      "execution_count": null,
      "outputs": [
        {
          "output_type": "stream",
          "text": [
            "191.30785106093012\n"
          ],
          "name": "stdout"
        }
      ]
    },
    {
      "cell_type": "markdown",
      "metadata": {
        "id": "9GKwLTqLHMLa"
      },
      "source": [
        "### Skewness\n",
        "\n",
        "https://pandas.pydata.org/docs/reference/api/pandas.DataFrame.skew.html"
      ]
    },
    {
      "cell_type": "code",
      "metadata": {
        "id": "W9dKpd-4HbBK",
        "colab": {
          "base_uri": "https://localhost:8080/",
          "height": 187
        },
        "outputId": "9e7d31fe-c1d2-4502-a13c-228ec6c1db40"
      },
      "source": [
        "import pandas as pd\n",
        "\n",
        "dataVal = [(10,20,30,40,50,60,70),\n",
        "\n",
        "           (10,10,40,40,50,60,70),\n",
        "\n",
        "           (10,20,30,50,50,60,80)]\n",
        "\n",
        "dataFrame = pd.DataFrame(data=dataVal);\n",
        "\n",
        "skewValue = dataFrame.skew(axis=1) #by row\n",
        "\n",
        "print(\"DataFrame:\")\n",
        "\n",
        "print(dataFrame)\n",
        "\n",
        "print(\"Skew:\")\n",
        "\n",
        "print(skewValue)"
      ],
      "execution_count": null,
      "outputs": [
        {
          "output_type": "stream",
          "text": [
            "DataFrame:\n",
            "    0   1   2   3   4   5   6\n",
            "0  10  20  30  40  50  60  70\n",
            "1  10  10  40  40  50  60  70\n",
            "2  10  20  30  50  50  60  80\n",
            "Skew:\n",
            "0    0.000000\n",
            "1   -0.340998\n",
            "2    0.121467\n",
            "dtype: float64\n"
          ],
          "name": "stdout"
        }
      ]
    },
    {
      "cell_type": "markdown",
      "metadata": {
        "id": "EuGTIIc1Hcns"
      },
      "source": [
        "### kurtosis\n",
        "https://pandas.pydata.org/docs/reference/api/pandas.DataFrame.kurtosis.html"
      ]
    },
    {
      "cell_type": "code",
      "metadata": {
        "id": "Yykl5RmpHlWB",
        "colab": {
          "base_uri": "https://localhost:8080/",
          "height": 150
        },
        "outputId": "309bd615-62c3-4736-e800-7f105ca56f0d"
      },
      "source": [
        "import pandas as pd\n",
        "\n",
        "import numpy as np\n",
        "\n",
        " \n",
        "\n",
        "dataMatrix = [(65,75,74,73,95,76,62,100),\n",
        "\n",
        "              (101,102,103,107,157,160,191,192)];\n",
        "\n",
        "       \n",
        "\n",
        "dataFrame = pd.DataFrame(data=dataMatrix);\n",
        "\n",
        "kurt = dataFrame.kurt(axis=1);\n",
        "\n",
        "print(\"Data:\");\n",
        "\n",
        "print(dataFrame);\n",
        "\n",
        "print(\"Kurtosis:\");\n",
        "\n",
        "print(kurt);\n",
        "\n",
        " "
      ],
      "execution_count": null,
      "outputs": [
        {
          "output_type": "stream",
          "text": [
            "Data:\n",
            "     0    1    2    3    4    5    6    7\n",
            "0   65   75   74   73   95   76   62  100\n",
            "1  101  102  103  107  157  160  191  192\n",
            "Kurtosis:\n",
            "0   -0.246357\n",
            "1   -2.044655\n",
            "dtype: float64\n"
          ],
          "name": "stdout"
        }
      ]
    },
    {
      "cell_type": "code",
      "metadata": {
        "id": "NSQfcXdWJ95W",
        "colab": {
          "base_uri": "https://localhost:8080/",
          "height": 184
        },
        "outputId": "f5b3dea9-a23f-4a35-9c59-06f60236008c"
      },
      "source": [
        "dataMatrix = [(70,90,90,100,120,120,100,121,125,115,112),\n",
        "\n",
        "              (58.22,39.33,-30.44,36.77,20.80,-73.95,-39.99,91.03,-138.01,-20,None)];\n",
        "\n",
        "             \n",
        "\n",
        "dataFrame = pd.DataFrame(data=dataMatrix);\n",
        "\n",
        "kurt = dataFrame.kurt(axis=1);\n",
        "\n",
        "print(\"Data:\");\n",
        "\n",
        "print(dataFrame);\n",
        "\n",
        "print(\"Kurtosis:\");\n",
        "\n",
        "print(kurt);"
      ],
      "execution_count": null,
      "outputs": [
        {
          "output_type": "stream",
          "text": [
            "Data:\n",
            "      0      1      2       3      4   ...      6       7       8    9      10\n",
            "0  70.00  90.00  90.00  100.00  120.0  ...  100.00  121.00  125.00  115  112.0\n",
            "1  58.22  39.33 -30.44   36.77   20.8  ...  -39.99   91.03 -138.01  -20    NaN\n",
            "\n",
            "[2 rows x 11 columns]\n",
            "Kurtosis:\n",
            "0    0.057451\n",
            "1    0.067184\n",
            "dtype: float64\n"
          ],
          "name": "stdout"
        }
      ]
    },
    {
      "cell_type": "markdown",
      "metadata": {
        "id": "9Ve_0Qu_HmYg"
      },
      "source": [
        "### Correlation\n",
        "https://pandas.pydata.org/pandas-docs/stable/reference/api/pandas.DataFrame.corr.html\n"
      ]
    },
    {
      "cell_type": "code",
      "metadata": {
        "id": "QCyQVakuPcpB",
        "colab": {
          "base_uri": "https://localhost:8080/",
          "height": 339
        },
        "outputId": "e376304a-b2b3-45a4-fdee-834af19618b8"
      },
      "source": [
        "from pandas import DataFrame\n",
        "import seaborn as sn\n",
        "\n",
        "Data = {'A': [45,37,42,35,39],\n",
        "        'B': [38,31,26,28,33],\n",
        "        'C': [10,15,17,21,12]\n",
        "        }\n",
        "\n",
        "df = DataFrame(Data,columns=['A','B','C'])\n",
        "\n",
        "corrMatrix = df.corr()\n",
        "sn.heatmap(corrMatrix, annot=True)\n"
      ],
      "execution_count": null,
      "outputs": [
        {
          "output_type": "stream",
          "text": [
            "/usr/local/lib/python3.6/dist-packages/statsmodels/tools/_testing.py:19: FutureWarning: pandas.util.testing is deprecated. Use the functions in the public API at pandas.testing instead.\n",
            "  import pandas.util.testing as tm\n"
          ],
          "name": "stderr"
        },
        {
          "output_type": "execute_result",
          "data": {
            "text/plain": [
              "<matplotlib.axes._subplots.AxesSubplot at 0x7fc2c09e8d68>"
            ]
          },
          "metadata": {
            "tags": []
          },
          "execution_count": 12
        },
        {
          "output_type": "display_data",
          "data": {
            "image/png": "[encoded data removed]",
            "text/plain": [
              "<Figure size 432x288 with 2 Axes>"
            ]
          },
          "metadata": {
            "tags": [],
            "needs_background": "light"
          }
        }
      ]
    }
  ]
}