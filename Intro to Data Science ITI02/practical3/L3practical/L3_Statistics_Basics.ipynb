{
  "cells": [
    {
      "cell_type": "markdown",
      "metadata": {
        "id": "C_5bmyGnPcnN"
      },
      "source": [
        "# **L3 Statistics Basics**\n",
        "\n"
      ]
    },
    {
      "cell_type": "markdown",
      "metadata": {
        "id": "s0B0leC1lwya"
      },
      "source": [
        "By the end of this practical you will be able to perform basic statistics operation using Python "
      ]
    },
    {
      "cell_type": "markdown",
      "metadata": {
        "id": "3WovTsuyPcnP"
      },
      "source": [
        "## Descriptive Statistics \n",
        "Recall from the lecture notes that we have discussed the following mean (average), median, standard deviation, skewness and kurtosis. We will use the python to do the implementation.\n",
        "\n",
        "\n"
      ]
    },
    {
      "cell_type": "markdown",
      "metadata": {
        "id": "jQGO4UlimDyD"
      },
      "source": [
        "\n",
        "\n",
        "### Mean\n",
        "\n",
        "The mean is the numerical average of the entire data set.\n",
        "\n",
        "$$nums = \\{ 872,  432,  397,  427,  388,  782, 397\\}$$\n",
        "\n",
        "$$mean = \\Sigma nums / | nums |$$\n",
        "\n",
        "\n",
        "\n",
        "\n",
        "```\n",
        "def mean(l):\n",
        "  m= sum(l) / len(l)\n",
        "  return m\n",
        "\n",
        "print(mean(nums))\n",
        "```\n",
        "\n",
        "\n"
      ]
    },
    {
      "cell_type": "code",
      "execution_count": 1,
      "metadata": {
        "id": "AQvyC9qNPcnQ"
      },
      "outputs": [],
      "source": [
        "nums = [872, 432, 397, 427, 388, 782, 397]\n",
        "#Add code here\n",
        "\n"
      ]
    },
    {
      "cell_type": "markdown",
      "metadata": {
        "id": "Q1ijJ1cxPcnS"
      },
      "source": [
        "### Median\n",
        "\n",
        "Median is the center (position) value in the ordered list.\n",
        "\n",
        "$$nums = \\{ 872, 432, 397, 427, 388, 782, 397\\}  = \\{ 388, 397, 397, \\underline{427}, 432, 782, 872\\}$$\n",
        "\n",
        "$$median = 427$$\n",
        "\n",
        "If the number of values in the data set is even, we take the average of the two center value. \n",
        "\n",
        "\n",
        "\n",
        "```\n",
        "def median(l):\n",
        "    if (len(l) % 2 == 1):\n",
        "        return sorted(l)[int(floor(len(l)/2))]\n",
        "    else:\n",
        "        i1 = int(floor(len(l)/2-1))\n",
        "        i2 = int(floor(len(l)/2))\n",
        "        sl = sorted(l)\n",
        "        return (sl[i1]+sl[i2] ) / 2\n",
        "```\n",
        "\n"
      ]
    },
    {
      "cell_type": "code",
      "execution_count": null,
      "metadata": {
        "id": "lJnG_MhOPcnT"
      },
      "outputs": [],
      "source": [
        "\n",
        "from math import * # a library that provides math functions\n",
        "\n",
        "#Add Code Here\n",
        "\n",
        "\n",
        "nums = [872, 432, 397, 427, 388, 782, 397]\n",
        "print(median(nums))\n",
        "\n"
      ]
    },
    {
      "cell_type": "markdown",
      "metadata": {
        "id": "adg4rztfPcnV"
      },
      "source": [
        "### Mode\n",
        "\n",
        "Mode - the most frequent observation. If there is no repetition, no\n",
        "  mode exists.\n",
        "  \n",
        "$$nums = \\{ 872, \\underline{432, 432, 432}, 388, 782, 388\\}$$\n",
        "\n",
        "$$mode = 432$$\n",
        "\n",
        "\n",
        "\n",
        "```\n",
        "def mode(l): # assuming l is non empty\n",
        "    d = {}\n",
        "    for x in l:\n",
        "        if (x in d):\n",
        "            d[x] +=1\n",
        "        else:\n",
        "            d[x] = 1\n",
        "    \n",
        "    return [g for g,l in d.items() if l==max(d.values())]\n",
        "```\n",
        "\n",
        "\n"
      ]
    },
    {
      "cell_type": "code",
      "execution_count": null,
      "metadata": {
        "id": "Y_kmhxOSPcnV"
      },
      "outputs": [],
      "source": [
        "\n",
        "\n",
        "#Add code here\n",
        "\n",
        "nums = [872, 432, 397, 427, 388, 782, 397]\n",
        "print(mode(nums))\n",
        "\n"
      ]
    },
    {
      "cell_type": "markdown",
      "metadata": {
        "id": "sHKp8qK2PcnX"
      },
      "source": [
        "### Variance\n",
        "\n",
        "The variance measures how far each value in the data set is from the\n",
        "mean.\n",
        "\n",
        "Let $x$ denote the data set, $n$ be the size of the data, $\\bar{x}$ denote the mean, variance $\\sigma^2$ is defined as \n",
        "$$\\sigma^2=\\frac{\\Sigma (x - \\bar{x})^2}{n}$$\n",
        "\n",
        "\n",
        "\n",
        "```\n",
        "def variance(l): # assuming l is non empty\n",
        "    m = mean(l)\n",
        "    diffsqsum = sum(map(lambda x:(x - m)**2, l))\n",
        "    return diffsqsum/len(l)\n",
        "```\n",
        "\n",
        "\n"
      ]
    },
    {
      "cell_type": "code",
      "execution_count": null,
      "metadata": {
        "id": "KMDAxV0pPcnY"
      },
      "outputs": [],
      "source": [
        "\n",
        "\n",
        "#Add code here\n",
        "\n",
        "nums = [872, 432, 397, 427, 388, 782, 397]\n",
        "print(variance(nums))"
      ]
    },
    {
      "cell_type": "markdown",
      "metadata": {
        "id": "Q9Jps7gWPcnZ"
      },
      "source": [
        "### Standard deviation\n",
        "\n",
        "The standard deviation measures the spread of the data about the mean\n",
        "value. It is useful in comparing sets of data which may have the same\n",
        "mean but a different range.  $\\sigma$ is the standard deviation\n",
        "Let $x$ denote the data set, $n$ be the size of the data, $\\bar{x}$ denote the mean, standard deviation $\\sigma$ is defined as \n",
        "$$\\sigma=\\sqrt{\\frac{\\Sigma (x - \\bar{x})^2}{n}}$$\n",
        "\n"
      ]
    },
    {
      "cell_type": "code",
      "execution_count": null,
      "metadata": {
        "id": "KUf5mZtpPcna"
      },
      "outputs": [],
      "source": [
        "\n",
        "#Add code here\n",
        "\n",
        "def std(l): # assuming l is non empty\n",
        "    return sqrt(variance(l))\n",
        "\n",
        "nums = [872, 432, 397, 427, 388, 782, 397]\n",
        "print(std(nums))"
      ]
    },
    {
      "cell_type": "markdown",
      "metadata": {
        "id": "9GKwLTqLHMLa"
      },
      "source": [
        "### Skewness\n",
        "\n",
        "https://pandas.pydata.org/docs/reference/api/pandas.DataFrame.skew.html\n",
        "\n",
        "```\n",
        "print(\"Skew:\")\n",
        "skewValue = dataFrame.skew(axis=1)\n",
        "print(skewValue)\n",
        "```\n",
        "\n"
      ]
    },
    {
      "cell_type": "code",
      "execution_count": null,
      "metadata": {
        "id": "W9dKpd-4HbBK"
      },
      "outputs": [],
      "source": [
        "#Suggested python code\n",
        "# dataFrame = pd.DataFrame(data=dataVal);\n",
        "# skewValue = dataFrame.skew(axis=1)\n",
        "\n",
        "import pandas as pd\n",
        "\n",
        "dataVal = [(10,20,30,40,50,60,70),\n",
        "\n",
        "           (10,10,40,40,50,60,70),\n",
        "\n",
        "           (10,20,30,50,50,60,80)]\n",
        "\n",
        "#Add code here\n",
        "\n",
        "print(\"DataFrame:\")\n",
        "dataFrame = pd.DataFrame(data=dataVal)\n",
        "print(dataFrame)\n",
        "#Add code"
      ]
    },
    {
      "cell_type": "markdown",
      "metadata": {
        "id": "EuGTIIc1Hcns"
      },
      "source": [
        "### kurtosis\n",
        "https://pandas.pydata.org/docs/reference/api/pandas.DataFrame.kurtosis.html\n",
        "\n",
        "```\n",
        "print(\"Kurtosis:\");\n",
        "kurt = dataFrame.kurt(axis=1)\n",
        "print(kurt);\n",
        "```\n",
        "\n"
      ]
    },
    {
      "cell_type": "code",
      "execution_count": null,
      "metadata": {
        "id": "Yykl5RmpHlWB"
      },
      "outputs": [],
      "source": [
        "#Suggested pytho code\n",
        "# dataFrame = pd.DataFrame(data=dataMatrix);\n",
        "# kurt = dataFrame.kurt(axis=1);\n",
        "\n",
        "import pandas as pd\n",
        "\n",
        "import numpy as np\n",
        "\n",
        "dataMatrix = [(65,75,74,73,95,76,62,100),\n",
        "\n",
        "              (101,102,103,107,157,160,191,192)];\n",
        "\n",
        "#Add code here\n",
        "\n",
        "print(\"Data:\");\n",
        "dataFrame = pd.DataFrame(data=dataMatrix)\n",
        "print(dataFrame);\n",
        "\n",
        "#Add code\n",
        " "
      ]
    },
    {
      "cell_type": "code",
      "execution_count": null,
      "metadata": {
        "id": "NSQfcXdWJ95W"
      },
      "outputs": [],
      "source": [
        "\n",
        "\n",
        "dataMatrix = [(70,90,90,100,120,120,100,121,125,115,112),\n",
        "\n",
        "              (58.22,39.33,-30.44,36.77,20.80,-73.95,-39.99,91.03,-138.01,-20,None)];\n",
        "\n",
        "#Add code here             \n",
        "\n",
        "print(\"Data:\");\n",
        "dataFrame = pd.DataFrame(data=dataMatrix)\n",
        "print(dataFrame);\n",
        "\n",
        "#Add code"
      ]
    },
    {
      "cell_type": "markdown",
      "metadata": {
        "id": "9Ve_0Qu_HmYg"
      },
      "source": [
        "### Correlation\n",
        "https://pandas.pydata.org/pandas-docs/stable/reference/api/pandas.DataFrame.corr.html\n",
        "\n",
        "\n",
        "\n",
        "```\n",
        "corrMatrix = df.corr()\n",
        "sn.heatmap(corrMatrix, annot=True)\n",
        "```\n"
      ]
    },
    {
      "cell_type": "code",
      "execution_count": null,
      "metadata": {
        "id": "QCyQVakuPcpB"
      },
      "outputs": [],
      "source": [
        "from pandas import DataFrame\n",
        "import seaborn as sn\n",
        "\n",
        "Data = {'A': [45,37,42,35,39],\n",
        "        'B': [38,31,26,28,33],\n",
        "        'C': [10,15,17,21,12]\n",
        "        }\n",
        "\n",
        "df = DataFrame(Data,columns=['A','B','C'])\n",
        "\n",
        "#Add code"
      ]
    }
  ],
  "metadata": {
    "colab": {
      "collapsed_sections": [
        "3WovTsuyPcnP",
        "jQGO4UlimDyD",
        "Q1ijJ1cxPcnS",
        "adg4rztfPcnV",
        "sHKp8qK2PcnX",
        "Q9Jps7gWPcnZ",
        "9GKwLTqLHMLa",
        "EuGTIIc1Hcns",
        "9Ve_0Qu_HmYg"
      ],
      "name": "L3_Statistics_Basics.ipynb",
      "provenance": []
    },
    "kernelspec": {
      "display_name": "Python 3",
      "language": "python",
      "name": "python3"
    },
    "language_info": {
      "codemirror_mode": {
        "name": "ipython",
        "version": 3
      },
      "file_extension": ".py",
      "mimetype": "text/x-python",
      "name": "python",
      "nbconvert_exporter": "python",
      "pygments_lexer": "ipython3",
      "version": "3.8.8"
    }
  },
  "nbformat": 4,
  "nbformat_minor": 0
}
