{
  "nbformat": 4,
  "nbformat_minor": 0,
  "metadata": {
    "colab": {
      "name": "L6_demo.ipynb",
      "provenance": [],
      "collapsed_sections": []
    },
    "kernelspec": {
      "name": "python3",
      "display_name": "Python 3"
    },
    "language_info": {
      "name": "python"
    }
  },
  "cells": [
    {
      "cell_type": "code",
      "metadata": {
        "id": "SHom1n_vmLH1"
      },
      "source": [
        "import sqlite3"
      ],
      "execution_count": 2,
      "outputs": []
    },
    {
      "cell_type": "code",
      "metadata": {
        "id": "BKzPUeMtmW19"
      },
      "source": [
        "db=sqlite3.connect('test.db')"
      ],
      "execution_count": 3,
      "outputs": []
    },
    {
      "cell_type": "code",
      "metadata": {
        "id": "CPo3uPlVmbxN"
      },
      "source": [
        "db.execute('DROP TABLE student')\n",
        "db.execute('CREATE TABLE student(name text, age int, gender text)')\n",
        "db.commit()"
      ],
      "execution_count": 15,
      "outputs": []
    },
    {
      "cell_type": "code",
      "metadata": {
        "id": "4pmaTY6gmmVm"
      },
      "source": [
        "db.execute('INSERT INTO student(name, age, gender) values(?,?,?)', ('Ben', '16', 'F'))\n",
        "db.execute('INSERT INTO student(name, age, gender) values(?,?,?)', ('Amy', '17', 'F'))\n",
        "db.execute('INSERT INTO student(name, age, gender) values(?,?,?)', ('Dan', '20', 'F'))\n",
        "db.execute('INSERT INTO student(name, age, gender) values(?,?,?)', ('Andy', '21', 'M'))\n",
        "db.execute('INSERT INTO student(name, age, gender) values(?,?,?)', ('Chris', '18', 'M'))\n",
        "db.execute('INSERT INTO student(name, age, gender) values(?,?,?)', ('Jenny', '22', 'F'))\n",
        "db.commit()"
      ],
      "execution_count": 16,
      "outputs": []
    },
    {
      "cell_type": "code",
      "metadata": {
        "colab": {
          "base_uri": "https://localhost:8080/"
        },
        "id": "N5sZrwsqm9B5",
        "outputId": "b8a22cdc-a847-4d6b-b292-f09f079b492f"
      },
      "source": [
        "lst = db.execute('SELECT * FROM student')\n",
        "for i in lst:\n",
        "  print(i)"
      ],
      "execution_count": 17,
      "outputs": [
        {
          "output_type": "stream",
          "text": [
            "('Ben', 16, 'F')\n",
            "('Amy', 17, 'F')\n",
            "('Dan', 20, 'F')\n",
            "('Andy', 21, 'M')\n",
            "('Chris', 18, 'M')\n",
            "('Jenny', 22, 'F')\n"
          ],
          "name": "stdout"
        }
      ]
    },
    {
      "cell_type": "code",
      "metadata": {
        "colab": {
          "base_uri": "https://localhost:8080/"
        },
        "id": "qg0YikNvnMUU",
        "outputId": "b7b0732a-949a-4ab5-cf23-4832c080e23f"
      },
      "source": [
        "lst = db.execute('SELECT * FROM student ORDER by name')\n",
        "for i in lst:\n",
        "  print(i)"
      ],
      "execution_count": 18,
      "outputs": [
        {
          "output_type": "stream",
          "text": [
            "('Amy', 17, 'F')\n",
            "('Andy', 21, 'M')\n",
            "('Ben', 16, 'F')\n",
            "('Chris', 18, 'M')\n",
            "('Dan', 20, 'F')\n",
            "('Jenny', 22, 'F')\n"
          ],
          "name": "stdout"
        }
      ]
    },
    {
      "cell_type": "code",
      "metadata": {
        "colab": {
          "base_uri": "https://localhost:8080/"
        },
        "id": "RXVyvqW8oIj7",
        "outputId": "aeadb32b-0d7c-44cb-9fbe-697d6250c5d4"
      },
      "source": [
        "lst = db.execute('SELECT * FROM student ORDER by age')\n",
        "for i in lst:\n",
        "  print(i)"
      ],
      "execution_count": 19,
      "outputs": [
        {
          "output_type": "stream",
          "text": [
            "('Ben', 16, 'F')\n",
            "('Amy', 17, 'F')\n",
            "('Chris', 18, 'M')\n",
            "('Dan', 20, 'F')\n",
            "('Andy', 21, 'M')\n",
            "('Jenny', 22, 'F')\n"
          ],
          "name": "stdout"
        }
      ]
    },
    {
      "cell_type": "code",
      "metadata": {
        "id": "RXQJZPfaoUGN"
      },
      "source": [
        "db.execute('UPDATE student set gender = ? WHERE name = ?',('M','Ben'))\n",
        "db.commit()"
      ],
      "execution_count": 20,
      "outputs": []
    },
    {
      "cell_type": "code",
      "metadata": {
        "colab": {
          "base_uri": "https://localhost:8080/"
        },
        "id": "TaKuaGT5oiId",
        "outputId": "e2639395-e9bb-4cfa-febd-12cccac5fe0c"
      },
      "source": [
        "lst = db.execute('SELECT * FROM student')\n",
        "for i in lst:\n",
        "  print(i)"
      ],
      "execution_count": 21,
      "outputs": [
        {
          "output_type": "stream",
          "text": [
            "('Ben', 16, 'M')\n",
            "('Amy', 17, 'F')\n",
            "('Dan', 20, 'F')\n",
            "('Andy', 21, 'M')\n",
            "('Chris', 18, 'M')\n",
            "('Jenny', 22, 'F')\n"
          ],
          "name": "stdout"
        }
      ]
    },
    {
      "cell_type": "code",
      "metadata": {
        "colab": {
          "base_uri": "https://localhost:8080/"
        },
        "id": "K4UUztfgpEBF",
        "outputId": "5bd5fbca-c405-4605-fe24-94629723ef22"
      },
      "source": [
        "lst = db.execute('SELECT * FROM student where age >=21')\n",
        "for i in lst:\n",
        "  print(i)"
      ],
      "execution_count": 22,
      "outputs": [
        {
          "output_type": "stream",
          "text": [
            "('Andy', 21, 'M')\n",
            "('Jenny', 22, 'F')\n"
          ],
          "name": "stdout"
        }
      ]
    },
    {
      "cell_type": "code",
      "metadata": {
        "colab": {
          "base_uri": "https://localhost:8080/"
        },
        "id": "o8o76pYGoj5T",
        "outputId": "ab34af9b-db6d-4441-cbbb-2407d0a4694f"
      },
      "source": [
        "db.execute('DELETE FROM student where name = ?',('Amy',))\n",
        "db.commit()\n",
        "lst = db.execute('SELECT * FROM student')\n",
        "for i in lst:\n",
        "  print(i)"
      ],
      "execution_count": 25,
      "outputs": [
        {
          "output_type": "stream",
          "text": [
            "('Ben', 16, 'M')\n",
            "('Dan', 20, 'F')\n",
            "('Andy', 21, 'M')\n",
            "('Chris', 18, 'M')\n",
            "('Jenny', 22, 'F')\n"
          ],
          "name": "stdout"
        }
      ]
    },
    {
      "cell_type": "code",
      "metadata": {
        "colab": {
          "base_uri": "https://localhost:8080/"
        },
        "id": "Gg1rXIagpZnS",
        "outputId": "614882e4-f635-48f5-e9b7-9b61c2f7ad7d"
      },
      "source": [
        "db.execute('DELETE FROM student where age >=21')\n",
        "db.commit()\n",
        "lst = db.execute('SELECT * FROM student')\n",
        "for i in lst:\n",
        "  print(i)"
      ],
      "execution_count": 27,
      "outputs": [
        {
          "output_type": "stream",
          "text": [
            "('Ben', 16, 'M')\n",
            "('Dan', 20, 'F')\n",
            "('Chris', 18, 'M')\n"
          ],
          "name": "stdout"
        }
      ]
    },
    {
      "cell_type": "code",
      "metadata": {
        "id": "e6Cb6fFpqDCD"
      },
      "source": [
        ""
      ],
      "execution_count": null,
      "outputs": []
    }
  ]
}