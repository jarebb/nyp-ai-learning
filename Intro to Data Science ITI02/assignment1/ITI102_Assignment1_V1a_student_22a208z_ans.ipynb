{
  "nbformat": 4,
  "nbformat_minor": 0,
  "metadata": {
    "kernelspec": {
      "display_name": "Python 3",
      "language": "python",
      "name": "python3"
    },
    "language_info": {
      "codemirror_mode": {
        "name": "ipython",
        "version": 3
      },
      "file_extension": ".py",
      "mimetype": "text/x-python",
      "name": "python",
      "nbconvert_exporter": "python",
      "pygments_lexer": "ipython3",
      "version": "3.6.5"
    },
    "colab": {
      "name": "ITI102_Assignment1_V1a_student_22a208z_ans.ipynb",
      "provenance": [],
      "collapsed_sections": []
    }
  },
  "cells": [
    {
      "cell_type": "markdown",
      "metadata": {
        "id": "wse8vWWRD0K5"
      },
      "source": [
        "# **NYP Data Science Foundation 2022S1 ITI102 Assignment 1**\n",
        "\n",
        "##Smartphone Applications Dataset Analysis\n",
        "Instructions:\n",
        "\n",
        "\n",
        "*   Complete sections with label TODO with the correct code\n",
        "*   Add the code under the label #Add code\n",
        "*   Fill your Name and Admin in the below section\n",
        "\n",
        "\n",
        "\n",
        "```\n",
        "Name : Ng Jarebb\n",
        "Admin no: 22A208Z\n",
        "```\n",
        "\n",
        "\n"
      ]
    },
    {
      "cell_type": "markdown",
      "metadata": {
        "id": "3lh7DlB8D0K8"
      },
      "source": [
        "## In this assignment, you are going to analyse the dataset for Smartphone Applications\n",
        "\n",
        "###**Dataset Information**\n",
        "\n",
        "You are given a csv file **dataset.csv** with all the data.    \n",
        "There are 13 columns in the csv file.    \n",
        "The first row is the header.    \n",
        "\n",
        "Following are the description for each header for the columns:\n",
        "\n",
        "1.App\t: Name of the Application\n",
        "\n",
        "2.Category   : the catergory where the apllication belong example Art and design, beauty etc..\n",
        "\n",
        "3.Rating  : The rating of the app between 0 to 5 with 1 decimal point\n",
        "\n",
        "4.Reviews\t:Number of customers reviewed app\n",
        "\n",
        "5.Size\t:The size of the software(app)\n",
        "\n",
        "6.Installs\t: Number of customers installed the app\n",
        "\n",
        "7.Type: refer to the purchase mode of the app-either free or paid\n",
        "\n",
        "8.Price\t: the price of the app\n",
        "\n",
        "9.Content Rating\t: refer the content suitability for different audience eg. everyone,erveryone 17+,teen, Mature 17+ ,..etc\n",
        "\n",
        "10.Genres\t: denoting the type of app. eg. Art & Design, Auto & Vehicles,..etc\n",
        "\n",
        "11.Last Updated\t: Date where the app last updated\n",
        "\n",
        "12.Current Ver\t: App current version\n",
        "\n",
        "13.Android Ver : Android version that support the app\n",
        "\n",
        "\n"
      ]
    },
    {
      "cell_type": "markdown",
      "metadata": {
        "id": "1xIPH2cUD0K9"
      },
      "source": [
        "### Complete all the codes in the following sections:\n",
        "> #### 1. Importing Packages\n",
        "> #### 2. Reading Data\n",
        "> #### 3. Data Preprocessing\n",
        "    > #### -  3.1 Handling NULL Values\n",
        "    > #### -  3.2 Handling Data Types and Values\n",
        "> #### 4. Analyzing Features\n",
        "> #### 5. Furthur Analysis.\n",
        "\n",
        "**Read the requirement at TODO**  \n",
        "**Then fill the code in the cell with tag** #Add code\n"
      ]
    },
    {
      "cell_type": "markdown",
      "metadata": {
        "id": "GF0JX8yLD0K9"
      },
      "source": [
        "<a id='1'></a>\n",
        "## 1. Importing the required packages"
      ]
    },
    {
      "cell_type": "markdown",
      "metadata": {
        "id": "qyELf4X1Ipfm"
      },
      "source": [
        "**<font color='red'>TODO: (0.5 mark)</font>**\n",
        "\n",
        "* Add all the modules that you require for the subsequence steps.\n",
        "\n",
        "* All the required modules must be added in this section."
      ]
    },
    {
      "cell_type": "code",
      "metadata": {
        "id": "w8mSC70gjYAH"
      },
      "source": [
        "#Add code\n",
        "\n",
        "import pandas as pd\n",
        "import numpy as np\n",
        "import matplotlib.pyplot as plt"
      ],
      "execution_count": null,
      "outputs": []
    },
    {
      "cell_type": "markdown",
      "metadata": {
        "id": "TZQaKg8NsDfl"
      },
      "source": [
        "**<font color='red'>TODO: (0.5 mark)</font>**\n",
        "* Mount drive in colab      \n",
        "* Create directory in google drive  '/content/drive/My Drive/Data/DSA1/'      \n",
        "* Copy file 'dataset.csv' into directory '/content/drive/My Drive/Data/DSA1/'      "
      ]
    },
    {
      "cell_type": "code",
      "metadata": {
        "id": "7ESW7rmNhknZ",
        "colab": {
          "base_uri": "https://localhost:8080/"
        },
        "outputId": "4bebeeb3-f493-4e6f-9f58-d5f00fb608fb"
      },
      "source": [
        "#Add Code\n",
        "\n",
        "from google.colab import drive\n",
        "drive.mount('/content/drive', force_remount=True)\n",
        "datadir=\"/content/drive/My Drive/Data/DSA1/\""
      ],
      "execution_count": null,
      "outputs": [
        {
          "output_type": "stream",
          "name": "stdout",
          "text": [
            "Mounted at /content/drive\n"
          ]
        }
      ]
    },
    {
      "cell_type": "markdown",
      "metadata": {
        "id": "ZOPxB_dLD0LC"
      },
      "source": [
        "***"
      ]
    },
    {
      "cell_type": "markdown",
      "metadata": {
        "id": "jr-tdc_HD0LD"
      },
      "source": [
        "<a id='2'></a>\n",
        "## 2.  Reading Data\n",
        "**<font color='red'>TODO: (1 mark)</font>**\n",
        "\n",
        "* Use pandas function to read in the given dataset 'dataset.csv' that you have copied in the directory '/content/drive/My Drive/Data/DSA1/'.\n",
        "\n",
        "* Assign the read dataframe into a variable. Use this dataframe variable for the rest of the part in the notebook. \n",
        "\n",
        "* Display the first 5 rows of data that you read using the pandas function."
      ]
    },
    {
      "cell_type": "code",
      "metadata": {
        "id": "pu5pjWkWhoge"
      },
      "source": [
        "#Add code\n",
        "\n",
        "df = pd.read_csv(datadir + 'dataset.csv')"
      ],
      "execution_count": null,
      "outputs": []
    },
    {
      "cell_type": "code",
      "metadata": {
        "id": "45q00DgRJA2z",
        "colab": {
          "base_uri": "https://localhost:8080/",
          "height": 206
        },
        "outputId": "37f2ae9d-23ea-423b-f645-e0ff909b0a57"
      },
      "source": [
        "#Add code\n",
        "df.head(5)"
      ],
      "execution_count": null,
      "outputs": [
        {
          "output_type": "execute_result",
          "data": {
            "text/plain": [
              "                                                 App        Category  Rating  \\\n",
              "0     Photo Editor & Candy Camera & Grid & ScrapBook  ART_AND_DESIGN     4.1   \n",
              "1                                Coloring book moana  ART_AND_DESIGN     3.9   \n",
              "2  U Launcher Lite – FREE Live Cool Themes, Hide ...  ART_AND_DESIGN     4.7   \n",
              "3                              Sketch - Draw & Paint  ART_AND_DESIGN     4.5   \n",
              "4              Pixel Draw - Number Art Coloring Book  ART_AND_DESIGN     4.3   \n",
              "\n",
              "  Reviews  Size     Installs  Type Price Content Rating  \\\n",
              "0     159   19M      10,000+  Free     0       Everyone   \n",
              "1     967   14M     500,000+  Free     0       Everyone   \n",
              "2   87510  8.7M   5,000,000+  Free     0       Everyone   \n",
              "3  215644   25M  50,000,000+  Free     0           Teen   \n",
              "4     967  2.8M     100,000+  Free     0       Everyone   \n",
              "\n",
              "                      Genres      Last Updated         Current Ver  \\\n",
              "0               Art & Design   January 7, 2018               1.0.0   \n",
              "1  Art & Design;Pretend Play  January 15, 2018               2.0.0   \n",
              "2               Art & Design    August 1, 2018               1.2.4   \n",
              "3               Art & Design      June 8, 2018  Varies with device   \n",
              "4    Art & Design;Creativity     June 20, 2018                 1.1   \n",
              "\n",
              "    Android Ver  \n",
              "0  4.0.3 and up  \n",
              "1  4.0.3 and up  \n",
              "2  4.0.3 and up  \n",
              "3    4.2 and up  \n",
              "4    4.4 and up  "
            ],
            "text/html": [
              "\n",
              "  <div id=\"df-9b2039f7-afa4-4116-bd36-f18f08d15280\">\n",
              "    <div class=\"colab-df-container\">\n",
              "      <div>\n",
              "<style scoped>\n",
              "    .dataframe tbody tr th:only-of-type {\n",
              "        vertical-align: middle;\n",
              "    }\n",
              "\n",
              "    .dataframe tbody tr th {\n",
              "        vertical-align: top;\n",
              "    }\n",
              "\n",
              "    .dataframe thead th {\n",
              "        text-align: right;\n",
              "    }\n",
              "</style>\n",
              "<table border=\"1\" class=\"dataframe\">\n",
              "  <thead>\n",
              "    <tr style=\"text-align: right;\">\n",
              "      <th></th>\n",
              "      <th>App</th>\n",
              "      <th>Category</th>\n",
              "      <th>Rating</th>\n",
              "      <th>Reviews</th>\n",
              "      <th>Size</th>\n",
              "      <th>Installs</th>\n",
              "      <th>Type</th>\n",
              "      <th>Price</th>\n",
              "      <th>Content Rating</th>\n",
              "      <th>Genres</th>\n",
              "      <th>Last Updated</th>\n",
              "      <th>Current Ver</th>\n",
              "      <th>Android Ver</th>\n",
              "    </tr>\n",
              "  </thead>\n",
              "  <tbody>\n",
              "    <tr>\n",
              "      <th>0</th>\n",
              "      <td>Photo Editor &amp; Candy Camera &amp; Grid &amp; ScrapBook</td>\n",
              "      <td>ART_AND_DESIGN</td>\n",
              "      <td>4.1</td>\n",
              "      <td>159</td>\n",
              "      <td>19M</td>\n",
              "      <td>10,000+</td>\n",
              "      <td>Free</td>\n",
              "      <td>0</td>\n",
              "      <td>Everyone</td>\n",
              "      <td>Art &amp; Design</td>\n",
              "      <td>January 7, 2018</td>\n",
              "      <td>1.0.0</td>\n",
              "      <td>4.0.3 and up</td>\n",
              "    </tr>\n",
              "    <tr>\n",
              "      <th>1</th>\n",
              "      <td>Coloring book moana</td>\n",
              "      <td>ART_AND_DESIGN</td>\n",
              "      <td>3.9</td>\n",
              "      <td>967</td>\n",
              "      <td>14M</td>\n",
              "      <td>500,000+</td>\n",
              "      <td>Free</td>\n",
              "      <td>0</td>\n",
              "      <td>Everyone</td>\n",
              "      <td>Art &amp; Design;Pretend Play</td>\n",
              "      <td>January 15, 2018</td>\n",
              "      <td>2.0.0</td>\n",
              "      <td>4.0.3 and up</td>\n",
              "    </tr>\n",
              "    <tr>\n",
              "      <th>2</th>\n",
              "      <td>U Launcher Lite – FREE Live Cool Themes, Hide ...</td>\n",
              "      <td>ART_AND_DESIGN</td>\n",
              "      <td>4.7</td>\n",
              "      <td>87510</td>\n",
              "      <td>8.7M</td>\n",
              "      <td>5,000,000+</td>\n",
              "      <td>Free</td>\n",
              "      <td>0</td>\n",
              "      <td>Everyone</td>\n",
              "      <td>Art &amp; Design</td>\n",
              "      <td>August 1, 2018</td>\n",
              "      <td>1.2.4</td>\n",
              "      <td>4.0.3 and up</td>\n",
              "    </tr>\n",
              "    <tr>\n",
              "      <th>3</th>\n",
              "      <td>Sketch - Draw &amp; Paint</td>\n",
              "      <td>ART_AND_DESIGN</td>\n",
              "      <td>4.5</td>\n",
              "      <td>215644</td>\n",
              "      <td>25M</td>\n",
              "      <td>50,000,000+</td>\n",
              "      <td>Free</td>\n",
              "      <td>0</td>\n",
              "      <td>Teen</td>\n",
              "      <td>Art &amp; Design</td>\n",
              "      <td>June 8, 2018</td>\n",
              "      <td>Varies with device</td>\n",
              "      <td>4.2 and up</td>\n",
              "    </tr>\n",
              "    <tr>\n",
              "      <th>4</th>\n",
              "      <td>Pixel Draw - Number Art Coloring Book</td>\n",
              "      <td>ART_AND_DESIGN</td>\n",
              "      <td>4.3</td>\n",
              "      <td>967</td>\n",
              "      <td>2.8M</td>\n",
              "      <td>100,000+</td>\n",
              "      <td>Free</td>\n",
              "      <td>0</td>\n",
              "      <td>Everyone</td>\n",
              "      <td>Art &amp; Design;Creativity</td>\n",
              "      <td>June 20, 2018</td>\n",
              "      <td>1.1</td>\n",
              "      <td>4.4 and up</td>\n",
              "    </tr>\n",
              "  </tbody>\n",
              "</table>\n",
              "</div>\n",
              "      <button class=\"colab-df-convert\" onclick=\"convertToInteractive('df-9b2039f7-afa4-4116-bd36-f18f08d15280')\"\n",
              "              title=\"Convert this dataframe to an interactive table.\"\n",
              "              style=\"display:none;\">\n",
              "        \n",
              "  <svg xmlns=\"http://www.w3.org/2000/svg\" height=\"24px\"viewBox=\"0 0 24 24\"\n",
              "       width=\"24px\">\n",
              "    <path d=\"M0 0h24v24H0V0z\" fill=\"none\"/>\n",
              "    <path d=\"M18.56 5.44l.94 2.06.94-2.06 2.06-.94-2.06-.94-.94-2.06-.94 2.06-2.06.94zm-11 1L8.5 8.5l.94-2.06 2.06-.94-2.06-.94L8.5 2.5l-.94 2.06-2.06.94zm10 10l.94 2.06.94-2.06 2.06-.94-2.06-.94-.94-2.06-.94 2.06-2.06.94z\"/><path d=\"M17.41 7.96l-1.37-1.37c-.4-.4-.92-.59-1.43-.59-.52 0-1.04.2-1.43.59L10.3 9.45l-7.72 7.72c-.78.78-.78 2.05 0 2.83L4 21.41c.39.39.9.59 1.41.59.51 0 1.02-.2 1.41-.59l7.78-7.78 2.81-2.81c.8-.78.8-2.07 0-2.86zM5.41 20L4 18.59l7.72-7.72 1.47 1.35L5.41 20z\"/>\n",
              "  </svg>\n",
              "      </button>\n",
              "      \n",
              "  <style>\n",
              "    .colab-df-container {\n",
              "      display:flex;\n",
              "      flex-wrap:wrap;\n",
              "      gap: 12px;\n",
              "    }\n",
              "\n",
              "    .colab-df-convert {\n",
              "      background-color: #E8F0FE;\n",
              "      border: none;\n",
              "      border-radius: 50%;\n",
              "      cursor: pointer;\n",
              "      display: none;\n",
              "      fill: #1967D2;\n",
              "      height: 32px;\n",
              "      padding: 0 0 0 0;\n",
              "      width: 32px;\n",
              "    }\n",
              "\n",
              "    .colab-df-convert:hover {\n",
              "      background-color: #E2EBFA;\n",
              "      box-shadow: 0px 1px 2px rgba(60, 64, 67, 0.3), 0px 1px 3px 1px rgba(60, 64, 67, 0.15);\n",
              "      fill: #174EA6;\n",
              "    }\n",
              "\n",
              "    [theme=dark] .colab-df-convert {\n",
              "      background-color: #3B4455;\n",
              "      fill: #D2E3FC;\n",
              "    }\n",
              "\n",
              "    [theme=dark] .colab-df-convert:hover {\n",
              "      background-color: #434B5C;\n",
              "      box-shadow: 0px 1px 3px 1px rgba(0, 0, 0, 0.15);\n",
              "      filter: drop-shadow(0px 1px 2px rgba(0, 0, 0, 0.3));\n",
              "      fill: #FFFFFF;\n",
              "    }\n",
              "  </style>\n",
              "\n",
              "      <script>\n",
              "        const buttonEl =\n",
              "          document.querySelector('#df-9b2039f7-afa4-4116-bd36-f18f08d15280 button.colab-df-convert');\n",
              "        buttonEl.style.display =\n",
              "          google.colab.kernel.accessAllowed ? 'block' : 'none';\n",
              "\n",
              "        async function convertToInteractive(key) {\n",
              "          const element = document.querySelector('#df-9b2039f7-afa4-4116-bd36-f18f08d15280');\n",
              "          const dataTable =\n",
              "            await google.colab.kernel.invokeFunction('convertToInteractive',\n",
              "                                                     [key], {});\n",
              "          if (!dataTable) return;\n",
              "\n",
              "          const docLinkHtml = 'Like what you see? Visit the ' +\n",
              "            '<a target=\"_blank\" href=https://colab.research.google.com/notebooks/data_table.ipynb>data table notebook</a>'\n",
              "            + ' to learn more about interactive tables.';\n",
              "          element.innerHTML = '';\n",
              "          dataTable['output_type'] = 'display_data';\n",
              "          await google.colab.output.renderOutput(dataTable, element);\n",
              "          const docLink = document.createElement('div');\n",
              "          docLink.innerHTML = docLinkHtml;\n",
              "          element.appendChild(docLink);\n",
              "        }\n",
              "      </script>\n",
              "    </div>\n",
              "  </div>\n",
              "  "
            ]
          },
          "metadata": {},
          "execution_count": 4
        }
      ]
    },
    {
      "cell_type": "markdown",
      "metadata": {
        "id": "hhyOgj9WD0LH"
      },
      "source": [
        "***"
      ]
    },
    {
      "cell_type": "markdown",
      "metadata": {
        "id": "KDWrQ5aND0LI"
      },
      "source": [
        "<a id='3.1'></a>\n",
        "\n",
        "## 3. Data Preprocessing\n",
        "\n"
      ]
    },
    {
      "cell_type": "markdown",
      "metadata": {
        "id": "sVXTOkCvydcr"
      },
      "source": [
        "### 3.1 Handling NULL/Duplication Values"
      ]
    },
    {
      "cell_type": "markdown",
      "metadata": {
        "id": "DOQWNUqXD0LJ"
      },
      "source": [
        "#### This is a very crucial step in every analysis and model, which help to improves the accuracy of insights and predictions.  \n",
        "\n",
        "**<font color='red'>TODO: (1 mark)</font>**\n",
        "\n",
        "Use the dataframe variable that you read from the previous section using pandas function.\n",
        "\n",
        "* Count number of Null in each columns. Print the result.\n",
        "\n",
        "* Drop all rows with Null values. Print the total rows after remove the Null."
      ]
    },
    {
      "cell_type": "code",
      "metadata": {
        "id": "Dkqdugv1k8dT",
        "colab": {
          "base_uri": "https://localhost:8080/"
        },
        "outputId": "4d17411c-8c45-4215-d063-4c52bd99180e"
      },
      "source": [
        "#Check the number of rows before the data cleaning\n",
        "df.shape"
      ],
      "execution_count": null,
      "outputs": [
        {
          "output_type": "execute_result",
          "data": {
            "text/plain": [
              "(10841, 13)"
            ]
          },
          "metadata": {},
          "execution_count": 5
        }
      ]
    },
    {
      "cell_type": "code",
      "metadata": {
        "id": "k3nUFpzFI9WV",
        "colab": {
          "base_uri": "https://localhost:8080/"
        },
        "outputId": "be4d5e52-64bf-4b47-e128-26f6c6517477"
      },
      "source": [
        "#Add code\n",
        "\n",
        "df.isnull().sum()"
      ],
      "execution_count": null,
      "outputs": [
        {
          "output_type": "execute_result",
          "data": {
            "text/plain": [
              "App                  0\n",
              "Category             0\n",
              "Rating            1474\n",
              "Reviews              0\n",
              "Size                 0\n",
              "Installs             0\n",
              "Type                 1\n",
              "Price                0\n",
              "Content Rating       1\n",
              "Genres               0\n",
              "Last Updated         0\n",
              "Current Ver          8\n",
              "Android Ver          3\n",
              "dtype: int64"
            ]
          },
          "metadata": {},
          "execution_count": 6
        }
      ]
    },
    {
      "cell_type": "code",
      "metadata": {
        "id": "CmbTpRmBkKg9",
        "colab": {
          "base_uri": "https://localhost:8080/"
        },
        "outputId": "9145e7a9-66ab-409c-e0d1-945628fb9ee5"
      },
      "source": [
        "#Add code\n",
        "\n",
        "df = df.dropna()\n",
        "print(len(df))"
      ],
      "execution_count": null,
      "outputs": [
        {
          "output_type": "stream",
          "name": "stdout",
          "text": [
            "9360\n"
          ]
        }
      ]
    },
    {
      "cell_type": "markdown",
      "metadata": {
        "id": "7eXlLvFHD0LM"
      },
      "source": [
        "#### There also duplications in the dataset\n",
        "**<font color='red'>TODO: (1 mark)</font>**\n",
        "\n",
        "* Remove the duplications rows in the dataset\n",
        "\n",
        "\n"
      ]
    },
    {
      "cell_type": "code",
      "metadata": {
        "id": "rS94eZKvkN_e"
      },
      "source": [
        "#Add code\n",
        "df = df.drop_duplicates()"
      ],
      "execution_count": null,
      "outputs": []
    },
    {
      "cell_type": "markdown",
      "metadata": {
        "id": "gJXuQGK3D0LQ"
      },
      "source": [
        "#### Print the shape of the data read\n",
        "* Display the size of the dataset read"
      ]
    },
    {
      "cell_type": "code",
      "metadata": {
        "id": "EpT3fLGKD0LR",
        "colab": {
          "base_uri": "https://localhost:8080/"
        },
        "outputId": "6f0df69e-f15d-4c95-9b17-3f0ca20aab42"
      },
      "source": [
        "df.shape"
      ],
      "execution_count": null,
      "outputs": [
        {
          "output_type": "execute_result",
          "data": {
            "text/plain": [
              "(8886, 13)"
            ]
          },
          "metadata": {},
          "execution_count": 9
        }
      ]
    },
    {
      "cell_type": "markdown",
      "metadata": {
        "id": "o9znBL1LD0LU"
      },
      "source": [
        "<a id='3.2'></a>\n",
        "### 3.2 Handling Data Types of each Feature\n",
        "\n",
        "#### The data types of each feature must be changed to a proper format that can be used for analysis.\n",
        "This is the tasks for this section."
      ]
    },
    {
      "cell_type": "markdown",
      "metadata": {
        "id": "pOuB2PaPD0LX"
      },
      "source": [
        "####**<font color='red'>TODO: (2 marks)</font>**   \n",
        "\n",
        "The Column *Reviews* must be of correct numerical type\n",
        "\n",
        "* Check the Column Reviews type. Display the result.\n",
        "* Change the Reviews column type to int64. Display the result. "
      ]
    },
    {
      "cell_type": "code",
      "metadata": {
        "id": "bbCXMq7SoZTF",
        "colab": {
          "base_uri": "https://localhost:8080/"
        },
        "outputId": "f747bfec-da59-4b72-9f44-e8126a0cb10e"
      },
      "source": [
        "#Add code\n",
        "\n",
        "df['Reviews'].dtypes"
      ],
      "execution_count": null,
      "outputs": [
        {
          "output_type": "execute_result",
          "data": {
            "text/plain": [
              "dtype('O')"
            ]
          },
          "metadata": {},
          "execution_count": 10
        }
      ]
    },
    {
      "cell_type": "code",
      "metadata": {
        "id": "_WNLw7eUqi0v",
        "colab": {
          "base_uri": "https://localhost:8080/"
        },
        "outputId": "d090268c-acb1-4034-a166-433b67299058"
      },
      "source": [
        "#Add code\n",
        "\n",
        "df['Reviews'] = df['Reviews'].astype(np.int64)\n",
        "df['Reviews']"
      ],
      "execution_count": null,
      "outputs": [
        {
          "output_type": "execute_result",
          "data": {
            "text/plain": [
              "0           159\n",
              "1           967\n",
              "2         87510\n",
              "3        215644\n",
              "4           967\n",
              "          ...  \n",
              "10834         7\n",
              "10836        38\n",
              "10837         4\n",
              "10839       114\n",
              "10840    398307\n",
              "Name: Reviews, Length: 8886, dtype: int64"
            ]
          },
          "metadata": {},
          "execution_count": 11
        }
      ]
    },
    {
      "cell_type": "markdown",
      "metadata": {
        "id": "lnLnxAEVD0Lb"
      },
      "source": [
        "####**<font color='red'>TODO: (2 marks)</font>** \n",
        "Changing the Feature : Installs\n",
        "\n",
        "* The installs values must be changed to a proper format so that we can use them for analysis and plots.    \n",
        "Example : Change '10,000+' to 10000\n",
        "* After format the data in installs column, convert all items in the column to float.\n",
        "* Update the new data into your dataframe where the installs column is."
      ]
    },
    {
      "cell_type": "code",
      "metadata": {
        "id": "i89hFdJ7wI4u"
      },
      "source": [
        "#Add code\n",
        "df['Installs'] = df['Installs'].map(lambda x: x.replace('+', '').replace(',', '')).astype(float)\n"
      ],
      "execution_count": null,
      "outputs": []
    },
    {
      "cell_type": "markdown",
      "metadata": {
        "id": "3qdBRbVqD0Le"
      },
      "source": [
        "####**<font color='red'>TODO: (2 marks)</font>** \n",
        "Changing the feature : Size\n",
        "\n",
        "* The column Size values are not able to use for data analysis, it not a value.\n",
        "* Change it into number format example 15M to 15.0 and other format set to 0.0. Do for all the rest in this column.\n",
        "* After format the data in Size column, convert all items in the column to float.\n",
        "* Update the new data into your dataframe where the Size column is."
      ]
    },
    {
      "cell_type": "code",
      "metadata": {
        "id": "OrxStjknwcdr"
      },
      "source": [
        "#Add code\n",
        "\n",
        "df['Size'] = df['Size'].map(lambda x: x.replace('M', '000000').replace('k', '000').replace('Varies with device', '0')).astype(float)\n"
      ],
      "execution_count": null,
      "outputs": []
    },
    {
      "cell_type": "markdown",
      "metadata": {
        "id": "wTPr3aiPD0Lh"
      },
      "source": [
        "####**<font color='red'>TODO: (2 marks)</font>** \n",
        "\n",
        "Changing the feature Price \n",
        "\n",
        "* Most value in the Price column is 0 but some have value example  \n",
        "```\n",
        "$2.44\n",
        "```\n",
        "* You need to remove '$' in the data.\n",
        "* After format the data in Price column, convert all items in the column to float.\n",
        "* Update the new data into your dataframe where the Price column is."
      ]
    },
    {
      "cell_type": "code",
      "metadata": {
        "id": "mFAJ2-wAwm9W"
      },
      "source": [
        "#Add code\n",
        "\n",
        "df['Price'] = df['Price'].map(lambda x: x.replace('$', '')).astype(float)"
      ],
      "execution_count": null,
      "outputs": []
    },
    {
      "cell_type": "markdown",
      "metadata": {
        "id": "N_rfL46BD0Ll"
      },
      "source": [
        "####**<font color='red'>TODO: (2 marks)</font>** \n",
        "\n",
        "Changing the feature, Android Ver \n",
        "\n",
        "The column Android Ver store data example 4.0.3 and up    \n",
        "* We are only interest on the major version not the minor version   \n",
        "* We need to change format, for example **4.0.3 and up**  to **4.0**, do for the rest of items in this column.\n",
        "* After format the data in Android Ver column, convert all items in the column to float.\n",
        "* Update the new data into your dataframe where the Android Ver column is."
      ]
    },
    {
      "cell_type": "code",
      "metadata": {
        "id": "xFMM62VEw4CY"
      },
      "source": [
        "#Add code\n",
        "\n",
        "df['Android Ver'] = df['Android Ver'].map(lambda x: x.replace('Varies with device', '0')[0:1]).astype(float)"
      ],
      "execution_count": null,
      "outputs": []
    },
    {
      "cell_type": "markdown",
      "metadata": {
        "id": "_eaxlwziD0Lo"
      },
      "source": [
        "<a id='4'></a>\n",
        "## 4. Analyzing Features :"
      ]
    },
    {
      "cell_type": "markdown",
      "metadata": {
        "id": "5OC8X9U2D0Lp"
      },
      "source": [
        "### 4.1 Categories\n",
        "\n",
        "\n"
      ]
    },
    {
      "cell_type": "markdown",
      "metadata": {
        "id": "59q-9ScHjfw7"
      },
      "source": [
        "####**<font color='red'>TODO: (2 marks)</font>** \n",
        "\n",
        "Find the Total count for each of the Category\n",
        "\n",
        "* In the Category column display the different App category. You need to count the total number for each Category.\n",
        "\n",
        "Example\n",
        "```\n",
        "Example only. Not the answer.\n",
        "\n",
        "FAMILY                 1717\n",
        "GAME                   1074\n",
        "TOOLS                   733\n",
        "PRODUCTIVITY            334\n",
        "FINANCE                 317\n",
        ".....\n",
        ".....\n",
        "```\n",
        "\n"
      ]
    },
    {
      "cell_type": "code",
      "metadata": {
        "id": "V5BPrLoex5rs",
        "colab": {
          "base_uri": "https://localhost:8080/"
        },
        "outputId": "46d82c05-c143-45fc-a677-0a6e222f8729"
      },
      "source": [
        "#Add code\n",
        "df[\"Category\"].value_counts()"
      ],
      "execution_count": null,
      "outputs": [
        {
          "output_type": "execute_result",
          "data": {
            "text/plain": [
              "FAMILY                 1717\n",
              "GAME                   1074\n",
              "TOOLS                   733\n",
              "PRODUCTIVITY            334\n",
              "FINANCE                 317\n",
              "PERSONALIZATION         308\n",
              "COMMUNICATION           307\n",
              "LIFESTYLE               305\n",
              "PHOTOGRAPHY             304\n",
              "MEDICAL                 302\n",
              "SPORTS                  286\n",
              "BUSINESS                270\n",
              "HEALTH_AND_FITNESS      262\n",
              "SOCIAL                  244\n",
              "NEWS_AND_MAGAZINES      214\n",
              "TRAVEL_AND_LOCAL        205\n",
              "SHOPPING                202\n",
              "BOOKS_AND_REFERENCE     177\n",
              "VIDEO_PLAYERS           160\n",
              "DATING                  159\n",
              "EDUCATION               129\n",
              "MAPS_AND_NAVIGATION     124\n",
              "ENTERTAINMENT           111\n",
              "FOOD_AND_DRINK          106\n",
              "WEATHER                  75\n",
              "AUTO_AND_VEHICLES        73\n",
              "HOUSE_AND_HOME           68\n",
              "LIBRARIES_AND_DEMO       64\n",
              "ART_AND_DESIGN           61\n",
              "COMICS                   58\n",
              "PARENTING                50\n",
              "EVENTS                   45\n",
              "BEAUTY                   42\n",
              "Name: Category, dtype: int64"
            ]
          },
          "metadata": {},
          "execution_count": 16
        }
      ]
    },
    {
      "cell_type": "markdown",
      "metadata": {
        "id": "BEW_ZqJklaKv"
      },
      "source": [
        "####**<font color='red'>TODO: (3 marks)</font>** \n",
        "\n",
        "* Group using the column 'Type', 'Category'and aggregate Rating with the mean\n",
        "* Which 'Type' and 'Category' has the highest mean Rating? Write your answer in the text cell below.\n",
        "\n",
        "\n",
        "```\n",
        "Example only. Not the answer.\n",
        "\n",
        "\t\t                       Rating\n",
        "                             mean\n",
        "Type    Category\t\n",
        "Free\tART_AND_DESIGN\t       4.358621\n",
        "       AUTO_AND_VEHICLES\t   4.184722\n",
        "       BEAUTY\t               4.278571\n",
        "       BOOKS_AND_REFERENCE\t 4.350888\n",
        "       BUSINESS\t             4.103448\n",
        "...\t...\t...\n",
        "Paid\t SPORTS\t            4.254545\n",
        "        TOOLS          \t    4.169841\n",
        "        TRAVEL_AND_LOCAL\t  4.100000\n",
        "        VIDEO_PLAYERS\t      4.100000\n",
        "        WEATHER\t            4.371429\n",
        "```\n",
        "\n",
        "\n",
        "\n"
      ]
    },
    {
      "cell_type": "code",
      "metadata": {
        "id": "y-NOxtagzih9",
        "colab": {
          "base_uri": "https://localhost:8080/",
          "height": 455
        },
        "outputId": "bb7cabac-99df-4af3-fe95-29545e2f3997"
      },
      "source": [
        "#Add code\n",
        "df.groupby(['Type', 'Category']).agg(Mean=('Rating', np.mean)).sort_values(['Mean'],ascending=False)"
      ],
      "execution_count": null,
      "outputs": [
        {
          "output_type": "execute_result",
          "data": {
            "text/plain": [
              "                              Mean\n",
              "Type Category                     \n",
              "Paid NEWS_AND_MAGAZINES   4.800000\n",
              "     EDUCATION            4.750000\n",
              "     ART_AND_DESIGN       4.733333\n",
              "     ENTERTAINMENT        4.600000\n",
              "     AUTO_AND_VEHICLES    4.600000\n",
              "...                            ...\n",
              "     MAPS_AND_NAVIGATION  3.860000\n",
              "     FINANCE              3.830769\n",
              "     SOCIAL               3.700000\n",
              "     DATING               3.625000\n",
              "     PARENTING            3.350000\n",
              "\n",
              "[61 rows x 1 columns]"
            ],
            "text/html": [
              "\n",
              "  <div id=\"df-8de732b4-6ed4-4f5a-b4b5-2eafeb32fdb6\">\n",
              "    <div class=\"colab-df-container\">\n",
              "      <div>\n",
              "<style scoped>\n",
              "    .dataframe tbody tr th:only-of-type {\n",
              "        vertical-align: middle;\n",
              "    }\n",
              "\n",
              "    .dataframe tbody tr th {\n",
              "        vertical-align: top;\n",
              "    }\n",
              "\n",
              "    .dataframe thead th {\n",
              "        text-align: right;\n",
              "    }\n",
              "</style>\n",
              "<table border=\"1\" class=\"dataframe\">\n",
              "  <thead>\n",
              "    <tr style=\"text-align: right;\">\n",
              "      <th></th>\n",
              "      <th></th>\n",
              "      <th>Mean</th>\n",
              "    </tr>\n",
              "    <tr>\n",
              "      <th>Type</th>\n",
              "      <th>Category</th>\n",
              "      <th></th>\n",
              "    </tr>\n",
              "  </thead>\n",
              "  <tbody>\n",
              "    <tr>\n",
              "      <th rowspan=\"11\" valign=\"top\">Paid</th>\n",
              "      <th>NEWS_AND_MAGAZINES</th>\n",
              "      <td>4.800000</td>\n",
              "    </tr>\n",
              "    <tr>\n",
              "      <th>EDUCATION</th>\n",
              "      <td>4.750000</td>\n",
              "    </tr>\n",
              "    <tr>\n",
              "      <th>ART_AND_DESIGN</th>\n",
              "      <td>4.733333</td>\n",
              "    </tr>\n",
              "    <tr>\n",
              "      <th>ENTERTAINMENT</th>\n",
              "      <td>4.600000</td>\n",
              "    </tr>\n",
              "    <tr>\n",
              "      <th>AUTO_AND_VEHICLES</th>\n",
              "      <td>4.600000</td>\n",
              "    </tr>\n",
              "    <tr>\n",
              "      <th>...</th>\n",
              "      <td>...</td>\n",
              "    </tr>\n",
              "    <tr>\n",
              "      <th>MAPS_AND_NAVIGATION</th>\n",
              "      <td>3.860000</td>\n",
              "    </tr>\n",
              "    <tr>\n",
              "      <th>FINANCE</th>\n",
              "      <td>3.830769</td>\n",
              "    </tr>\n",
              "    <tr>\n",
              "      <th>SOCIAL</th>\n",
              "      <td>3.700000</td>\n",
              "    </tr>\n",
              "    <tr>\n",
              "      <th>DATING</th>\n",
              "      <td>3.625000</td>\n",
              "    </tr>\n",
              "    <tr>\n",
              "      <th>PARENTING</th>\n",
              "      <td>3.350000</td>\n",
              "    </tr>\n",
              "  </tbody>\n",
              "</table>\n",
              "<p>61 rows × 1 columns</p>\n",
              "</div>\n",
              "      <button class=\"colab-df-convert\" onclick=\"convertToInteractive('df-8de732b4-6ed4-4f5a-b4b5-2eafeb32fdb6')\"\n",
              "              title=\"Convert this dataframe to an interactive table.\"\n",
              "              style=\"display:none;\">\n",
              "        \n",
              "  <svg xmlns=\"http://www.w3.org/2000/svg\" height=\"24px\"viewBox=\"0 0 24 24\"\n",
              "       width=\"24px\">\n",
              "    <path d=\"M0 0h24v24H0V0z\" fill=\"none\"/>\n",
              "    <path d=\"M18.56 5.44l.94 2.06.94-2.06 2.06-.94-2.06-.94-.94-2.06-.94 2.06-2.06.94zm-11 1L8.5 8.5l.94-2.06 2.06-.94-2.06-.94L8.5 2.5l-.94 2.06-2.06.94zm10 10l.94 2.06.94-2.06 2.06-.94-2.06-.94-.94-2.06-.94 2.06-2.06.94z\"/><path d=\"M17.41 7.96l-1.37-1.37c-.4-.4-.92-.59-1.43-.59-.52 0-1.04.2-1.43.59L10.3 9.45l-7.72 7.72c-.78.78-.78 2.05 0 2.83L4 21.41c.39.39.9.59 1.41.59.51 0 1.02-.2 1.41-.59l7.78-7.78 2.81-2.81c.8-.78.8-2.07 0-2.86zM5.41 20L4 18.59l7.72-7.72 1.47 1.35L5.41 20z\"/>\n",
              "  </svg>\n",
              "      </button>\n",
              "      \n",
              "  <style>\n",
              "    .colab-df-container {\n",
              "      display:flex;\n",
              "      flex-wrap:wrap;\n",
              "      gap: 12px;\n",
              "    }\n",
              "\n",
              "    .colab-df-convert {\n",
              "      background-color: #E8F0FE;\n",
              "      border: none;\n",
              "      border-radius: 50%;\n",
              "      cursor: pointer;\n",
              "      display: none;\n",
              "      fill: #1967D2;\n",
              "      height: 32px;\n",
              "      padding: 0 0 0 0;\n",
              "      width: 32px;\n",
              "    }\n",
              "\n",
              "    .colab-df-convert:hover {\n",
              "      background-color: #E2EBFA;\n",
              "      box-shadow: 0px 1px 2px rgba(60, 64, 67, 0.3), 0px 1px 3px 1px rgba(60, 64, 67, 0.15);\n",
              "      fill: #174EA6;\n",
              "    }\n",
              "\n",
              "    [theme=dark] .colab-df-convert {\n",
              "      background-color: #3B4455;\n",
              "      fill: #D2E3FC;\n",
              "    }\n",
              "\n",
              "    [theme=dark] .colab-df-convert:hover {\n",
              "      background-color: #434B5C;\n",
              "      box-shadow: 0px 1px 3px 1px rgba(0, 0, 0, 0.15);\n",
              "      filter: drop-shadow(0px 1px 2px rgba(0, 0, 0, 0.3));\n",
              "      fill: #FFFFFF;\n",
              "    }\n",
              "  </style>\n",
              "\n",
              "      <script>\n",
              "        const buttonEl =\n",
              "          document.querySelector('#df-8de732b4-6ed4-4f5a-b4b5-2eafeb32fdb6 button.colab-df-convert');\n",
              "        buttonEl.style.display =\n",
              "          google.colab.kernel.accessAllowed ? 'block' : 'none';\n",
              "\n",
              "        async function convertToInteractive(key) {\n",
              "          const element = document.querySelector('#df-8de732b4-6ed4-4f5a-b4b5-2eafeb32fdb6');\n",
              "          const dataTable =\n",
              "            await google.colab.kernel.invokeFunction('convertToInteractive',\n",
              "                                                     [key], {});\n",
              "          if (!dataTable) return;\n",
              "\n",
              "          const docLinkHtml = 'Like what you see? Visit the ' +\n",
              "            '<a target=\"_blank\" href=https://colab.research.google.com/notebooks/data_table.ipynb>data table notebook</a>'\n",
              "            + ' to learn more about interactive tables.';\n",
              "          element.innerHTML = '';\n",
              "          dataTable['output_type'] = 'display_data';\n",
              "          await google.colab.output.renderOutput(dataTable, element);\n",
              "          const docLink = document.createElement('div');\n",
              "          docLink.innerHTML = docLinkHtml;\n",
              "          element.appendChild(docLink);\n",
              "        }\n",
              "      </script>\n",
              "    </div>\n",
              "  </div>\n",
              "  "
            ]
          },
          "metadata": {},
          "execution_count": 17
        }
      ]
    },
    {
      "cell_type": "markdown",
      "metadata": {
        "id": "HBGoUJz6vW3s"
      },
      "source": [
        "Which 'Type' and 'Category' has the highest mean Rating?\n",
        "\n",
        "\n",
        "\n",
        "*   **Paid** & **NEWS_AND_MAGAZINES**\n",
        "\n",
        "\n"
      ]
    },
    {
      "cell_type": "markdown",
      "metadata": {
        "id": "Zg7dkxkYD0MD"
      },
      "source": [
        "### 4.2 Price \n",
        "####**<font color='red'>TODO: (1 mark)</font>** \n",
        "* Find the row where the column Price is max and store as a dataframe"
      ]
    },
    {
      "cell_type": "code",
      "metadata": {
        "id": "DLcXDmoSzpxr"
      },
      "source": [
        "#Add code\n",
        "df_max_price = df[df['Price'] == df['Price'].max()]"
      ],
      "execution_count": null,
      "outputs": []
    },
    {
      "cell_type": "markdown",
      "metadata": {
        "id": "E6HmcrImD0MR"
      },
      "source": [
        "<a id='5'></a>\n",
        "## 5. Furthur Analysis\n"
      ]
    },
    {
      "cell_type": "markdown",
      "metadata": {
        "id": "6zeTAgDV53j6"
      },
      "source": [
        "###**<font color='red'>TODO: (2 marks)</font>** \n",
        "\n",
        "* Find all Apps with 5.0 ratings:\n",
        "\n",
        "* Then use the result to Group using the column 'Type', 'Category'and aggregate Rating with the number of count\n",
        "\n",
        "* Which of the Type and Group have the maximum Rating count? \n",
        "* Place your answers in the Text Cell. \n",
        "\n",
        "\n",
        "```\n",
        "Example only. Not the answer.\n",
        "\n",
        "\t\t                  Rating count\n",
        "Type\tCategory\t\n",
        "Free\tART_AND_DESIGN\t1\n",
        "      BOOKS_AND_REFERENCE\t4\n",
        "      BUSINESS\t18\n",
        "      COMICS\t2\n",
        "      COMMUNICATION\t5\n",
        "      DATING\t6\n",
        "      EVENTS\t6\n",
        "      FAMILY\t59\n",
        "      FINANCE\t8\n",
        "      FOOD_AND_DRINK\t2\n",
        "      GAME\t8\n",
        "      HEALTH_AND_FITNESS\t12\n",
        "      LIBRARIES_AND_DEMO\t2\n",
        "      LIFESTYLE\t27\n",
        "      MEDICAL\t23\n",
        "      NEWS_AND_MAGAZINES\t7\n",
        "      PARENTING\t1\n",
        "      PERSONALIZATION\t3\n",
        "      PHOTOGRAPHY\t6\n",
        "      PRODUCTIVITY\t7\n",
        "      SHOPPING\t6\n",
        "      SOCIAL\t8\n",
        "      SPORTS\t4\n",
        "      TOOLS\t15\n",
        "      TRAVEL_AND_LOCAL\t3\n",
        "Paid\tBOOKS_AND_REFERENCE\t2\n",
        "      FAMILY\t8\n",
        "      GAME\t4\n",
        "      LIFESTYLE\t2\n",
        "      MEDICAL\t2\n",
        "      PERSONALIZATION\t7\n",
        "      PRODUCTIVITY\t1\n",
        "      TOOLS\t2\n",
        "```\n",
        "\n"
      ]
    },
    {
      "cell_type": "code",
      "metadata": {
        "id": "YDU_lm0eK3Dm"
      },
      "source": [
        "#Add code\n",
        "df_app_five_rating = df[df['Rating'] == 5]"
      ],
      "execution_count": null,
      "outputs": []
    },
    {
      "cell_type": "code",
      "metadata": {
        "id": "9xNBlRszYloW"
      },
      "source": [
        "#Add code\n",
        "df_top_count = df_app_five_rating.groupby(['Type', 'Category']).agg(Count=('Rating', 'count')).sort_values(['Count'],ascending=False)[0:1]"
      ],
      "execution_count": null,
      "outputs": []
    },
    {
      "cell_type": "code",
      "metadata": {
        "id": "pP8EWzou9JxJ",
        "colab": {
          "base_uri": "https://localhost:8080/",
          "height": 112
        },
        "outputId": "2f6d9bb3-9369-49be-cd2e-fa46073184b1"
      },
      "source": [
        "#Add code\n",
        "df_top_count"
      ],
      "execution_count": null,
      "outputs": [
        {
          "output_type": "execute_result",
          "data": {
            "text/plain": [
              "               Count\n",
              "Type Category       \n",
              "Free FAMILY       59"
            ],
            "text/html": [
              "\n",
              "  <div id=\"df-0ad5f3f6-7cea-4820-a762-0540f4de7264\">\n",
              "    <div class=\"colab-df-container\">\n",
              "      <div>\n",
              "<style scoped>\n",
              "    .dataframe tbody tr th:only-of-type {\n",
              "        vertical-align: middle;\n",
              "    }\n",
              "\n",
              "    .dataframe tbody tr th {\n",
              "        vertical-align: top;\n",
              "    }\n",
              "\n",
              "    .dataframe thead th {\n",
              "        text-align: right;\n",
              "    }\n",
              "</style>\n",
              "<table border=\"1\" class=\"dataframe\">\n",
              "  <thead>\n",
              "    <tr style=\"text-align: right;\">\n",
              "      <th></th>\n",
              "      <th></th>\n",
              "      <th>Count</th>\n",
              "    </tr>\n",
              "    <tr>\n",
              "      <th>Type</th>\n",
              "      <th>Category</th>\n",
              "      <th></th>\n",
              "    </tr>\n",
              "  </thead>\n",
              "  <tbody>\n",
              "    <tr>\n",
              "      <th>Free</th>\n",
              "      <th>FAMILY</th>\n",
              "      <td>59</td>\n",
              "    </tr>\n",
              "  </tbody>\n",
              "</table>\n",
              "</div>\n",
              "      <button class=\"colab-df-convert\" onclick=\"convertToInteractive('df-0ad5f3f6-7cea-4820-a762-0540f4de7264')\"\n",
              "              title=\"Convert this dataframe to an interactive table.\"\n",
              "              style=\"display:none;\">\n",
              "        \n",
              "  <svg xmlns=\"http://www.w3.org/2000/svg\" height=\"24px\"viewBox=\"0 0 24 24\"\n",
              "       width=\"24px\">\n",
              "    <path d=\"M0 0h24v24H0V0z\" fill=\"none\"/>\n",
              "    <path d=\"M18.56 5.44l.94 2.06.94-2.06 2.06-.94-2.06-.94-.94-2.06-.94 2.06-2.06.94zm-11 1L8.5 8.5l.94-2.06 2.06-.94-2.06-.94L8.5 2.5l-.94 2.06-2.06.94zm10 10l.94 2.06.94-2.06 2.06-.94-2.06-.94-.94-2.06-.94 2.06-2.06.94z\"/><path d=\"M17.41 7.96l-1.37-1.37c-.4-.4-.92-.59-1.43-.59-.52 0-1.04.2-1.43.59L10.3 9.45l-7.72 7.72c-.78.78-.78 2.05 0 2.83L4 21.41c.39.39.9.59 1.41.59.51 0 1.02-.2 1.41-.59l7.78-7.78 2.81-2.81c.8-.78.8-2.07 0-2.86zM5.41 20L4 18.59l7.72-7.72 1.47 1.35L5.41 20z\"/>\n",
              "  </svg>\n",
              "      </button>\n",
              "      \n",
              "  <style>\n",
              "    .colab-df-container {\n",
              "      display:flex;\n",
              "      flex-wrap:wrap;\n",
              "      gap: 12px;\n",
              "    }\n",
              "\n",
              "    .colab-df-convert {\n",
              "      background-color: #E8F0FE;\n",
              "      border: none;\n",
              "      border-radius: 50%;\n",
              "      cursor: pointer;\n",
              "      display: none;\n",
              "      fill: #1967D2;\n",
              "      height: 32px;\n",
              "      padding: 0 0 0 0;\n",
              "      width: 32px;\n",
              "    }\n",
              "\n",
              "    .colab-df-convert:hover {\n",
              "      background-color: #E2EBFA;\n",
              "      box-shadow: 0px 1px 2px rgba(60, 64, 67, 0.3), 0px 1px 3px 1px rgba(60, 64, 67, 0.15);\n",
              "      fill: #174EA6;\n",
              "    }\n",
              "\n",
              "    [theme=dark] .colab-df-convert {\n",
              "      background-color: #3B4455;\n",
              "      fill: #D2E3FC;\n",
              "    }\n",
              "\n",
              "    [theme=dark] .colab-df-convert:hover {\n",
              "      background-color: #434B5C;\n",
              "      box-shadow: 0px 1px 3px 1px rgba(0, 0, 0, 0.15);\n",
              "      filter: drop-shadow(0px 1px 2px rgba(0, 0, 0, 0.3));\n",
              "      fill: #FFFFFF;\n",
              "    }\n",
              "  </style>\n",
              "\n",
              "      <script>\n",
              "        const buttonEl =\n",
              "          document.querySelector('#df-0ad5f3f6-7cea-4820-a762-0540f4de7264 button.colab-df-convert');\n",
              "        buttonEl.style.display =\n",
              "          google.colab.kernel.accessAllowed ? 'block' : 'none';\n",
              "\n",
              "        async function convertToInteractive(key) {\n",
              "          const element = document.querySelector('#df-0ad5f3f6-7cea-4820-a762-0540f4de7264');\n",
              "          const dataTable =\n",
              "            await google.colab.kernel.invokeFunction('convertToInteractive',\n",
              "                                                     [key], {});\n",
              "          if (!dataTable) return;\n",
              "\n",
              "          const docLinkHtml = 'Like what you see? Visit the ' +\n",
              "            '<a target=\"_blank\" href=https://colab.research.google.com/notebooks/data_table.ipynb>data table notebook</a>'\n",
              "            + ' to learn more about interactive tables.';\n",
              "          element.innerHTML = '';\n",
              "          dataTable['output_type'] = 'display_data';\n",
              "          await google.colab.output.renderOutput(dataTable, element);\n",
              "          const docLink = document.createElement('div');\n",
              "          docLink.innerHTML = docLinkHtml;\n",
              "          element.appendChild(docLink);\n",
              "        }\n",
              "      </script>\n",
              "    </div>\n",
              "  </div>\n",
              "  "
            ]
          },
          "metadata": {},
          "execution_count": 21
        }
      ]
    },
    {
      "cell_type": "markdown",
      "metadata": {
        "id": "9Ua_69-E4V4D"
      },
      "source": [
        "Which of the Type and Group have the maximum Rating count?\n",
        "\n",
        "\n",
        "\n",
        "*   **Free** & **FAMILY**\n",
        "\n"
      ]
    },
    {
      "cell_type": "markdown",
      "metadata": {
        "id": "lUuOEEKCD0Mb"
      },
      "source": [
        "###**<font color='red'>TODO: (2 marks)</font>** \n",
        "\n",
        "* Show the descriptive statistics for the column Rating\n",
        "\n",
        "* Plot a frequencey plot for distribution of the column Rating\n",
        "\n",
        "* Get the skew value of the column Rating"
      ]
    },
    {
      "cell_type": "code",
      "metadata": {
        "id": "MQGf3Q-hFrIE",
        "colab": {
          "base_uri": "https://localhost:8080/"
        },
        "outputId": "0dc5fcfb-f268-432c-cc69-c8942faf8ce6"
      },
      "source": [
        "#Add code\n",
        "df['Rating'].describe()"
      ],
      "execution_count": null,
      "outputs": [
        {
          "output_type": "execute_result",
          "data": {
            "text/plain": [
              "count    8886.000000\n",
              "mean        4.187959\n",
              "std         0.522428\n",
              "min         1.000000\n",
              "25%         4.000000\n",
              "50%         4.300000\n",
              "75%         4.500000\n",
              "max         5.000000\n",
              "Name: Rating, dtype: float64"
            ]
          },
          "metadata": {},
          "execution_count": 22
        }
      ]
    },
    {
      "cell_type": "code",
      "metadata": {
        "id": "1W_rxSOEBTdM",
        "colab": {
          "base_uri": "https://localhost:8080/",
          "height": 288
        },
        "outputId": "647e6a63-069c-4171-e05b-eadd01a8f21f"
      },
      "source": [
        "#Add code\n",
        "fig, ax = plt.subplots()\n",
        "df['Rating'].value_counts().plot(ax=ax, kind='bar')"
      ],
      "execution_count": null,
      "outputs": [
        {
          "output_type": "execute_result",
          "data": {
            "text/plain": [
              "<matplotlib.axes._subplots.AxesSubplot at 0x7f16c9fe1d50>"
            ]
          },
          "metadata": {},
          "execution_count": 23
        },
        {
          "output_type": "display_data",
          "data": {
            "text/plain": [
              "<Figure size 432x288 with 1 Axes>"
            ],
            "image/png": "[encoded data removed]"
          },
          "metadata": {
            "needs_background": "light"
          }
        }
      ]
    },
    {
      "cell_type": "code",
      "metadata": {
        "id": "g-t6QwwrBTnB",
        "colab": {
          "base_uri": "https://localhost:8080/"
        },
        "outputId": "bb650841-1208-414c-fd44-e29d849fb569"
      },
      "source": [
        "#Add code\n",
        "df['Rating'].skew()"
      ],
      "execution_count": null,
      "outputs": [
        {
          "output_type": "execute_result",
          "data": {
            "text/plain": [
              "-1.8239465880060681"
            ]
          },
          "metadata": {},
          "execution_count": 24
        }
      ]
    },
    {
      "cell_type": "markdown",
      "metadata": {
        "id": "15fkZ61cdsQf"
      },
      "source": [
        "\n",
        "###**<font color='red'>TODO: (6 marks)</font>** \n",
        "\n",
        "Category and Reviews:\n",
        "\n",
        " \n",
        "* In each unique Category  get average of review and rating    \n",
        "* Sort the rating in the descending order as show result\n",
        "\n",
        "\n",
        "\n",
        "```\n",
        "Example only. Not the answer.\n",
        "\n",
        "\t                    Reviews\tRating\n",
        "Category\t\t\n",
        "EVENTS\t              3.568667e+03\t4.435556\n",
        "ART_AND_DESIGN\t      2.810356e+04\t4.377049\n",
        "EDUCATION\t            1.795715e+05\t4.375969\n",
        "BOOKS_AND_REFERENCE\t  1.235752e+05\t4.347458\n",
        "PERSONALIZATION\t      2.441312e+05\t4.333117\n",
        "PARENTING\t            1.907218e+04\t4.300000\n",
        "GAME\t                1.318002e+06\t4.281285\n",
        "BEAUTY\t              9.407929e+03\t4.278571\n",
        "HEALTH_AND_FITNESS\t  1.177293e+05\t4.261450\n",
        "SOCIAL\t              2.186789e+06\t4.254918\n",
        ".......\n",
        ".......\n",
        ".......\n",
        "```\n",
        "\n",
        "\n",
        "\n"
      ]
    },
    {
      "cell_type": "code",
      "metadata": {
        "id": "nQUA11aWKo4w"
      },
      "source": [
        "#Add code\n",
        "gb_rv_rating = df.groupby(['Category']).agg(Reviews=('Reviews', 'mean'), Rating=('Rating', 'mean'))"
      ],
      "execution_count": null,
      "outputs": []
    },
    {
      "cell_type": "code",
      "metadata": {
        "id": "FRKooLI8-JN5",
        "colab": {
          "base_uri": "https://localhost:8080/",
          "height": 1000
        },
        "outputId": "bfeee1d4-933b-48d3-e376-884f0bb1731f"
      },
      "source": [
        "#Add code\n",
        "gb_rv_rating.sort_values(['Rating'], ascending=False)"
      ],
      "execution_count": null,
      "outputs": [
        {
          "output_type": "execute_result",
          "data": {
            "text/plain": [
              "                          Reviews    Rating\n",
              "Category                                   \n",
              "EVENTS               3.568667e+03  4.435556\n",
              "ART_AND_DESIGN       2.810356e+04  4.377049\n",
              "EDUCATION            1.795715e+05  4.375969\n",
              "BOOKS_AND_REFERENCE  1.235752e+05  4.347458\n",
              "PERSONALIZATION      2.441312e+05  4.333117\n",
              "PARENTING            1.907218e+04  4.300000\n",
              "GAME                 1.318002e+06  4.281285\n",
              "BEAUTY               9.407929e+03  4.278571\n",
              "HEALTH_AND_FITNESS   1.177293e+05  4.261450\n",
              "SOCIAL               2.186789e+06  4.254918\n",
              "SHOPPING             4.699553e+05  4.251485\n",
              "WEATHER              1.947293e+05  4.244000\n",
              "SPORTS               2.283990e+05  4.225175\n",
              "PRODUCTIVITY         3.070486e+05  4.201796\n",
              "FAMILY               2.310824e+05  4.191264\n",
              "AUTO_AND_VEHICLES    1.594014e+04  4.190411\n",
              "PHOTOGRAPHY          6.720308e+05  4.182895\n",
              "MEDICAL              4.623930e+03  4.182450\n",
              "LIBRARIES_AND_DEMO   1.583422e+04  4.179688\n",
              "HOUSE_AND_HOME       4.109399e+04  4.164706\n",
              "FOOD_AND_DRINK       7.237033e+04  4.164151\n",
              "COMICS               5.830940e+04  4.155172\n",
              "COMMUNICATION        1.958544e+06  4.151466\n",
              "ENTERTAINMENT        4.285650e+05  4.136036\n",
              "NEWS_AND_MAGAZINES   1.787145e+05  4.128505\n",
              "FINANCE              5.362640e+04  4.127445\n",
              "BUSINESS             4.576928e+04  4.102593\n",
              "LIFESTYLE            4.203134e+04  4.096066\n",
              "TRAVEL_AND_LOCAL     2.710488e+05  4.094146\n",
              "VIDEO_PLAYERS        6.898731e+05  4.063750\n",
              "MAPS_AND_NAVIGATION  2.472505e+05  4.051613\n",
              "TOOLS                3.726878e+05  4.047203\n",
              "DATING               3.487525e+04  3.971698"
            ],
            "text/html": [
              "\n",
              "  <div id=\"df-2aae3360-96bf-41f3-8cab-a0b0d52a81d0\">\n",
              "    <div class=\"colab-df-container\">\n",
              "      <div>\n",
              "<style scoped>\n",
              "    .dataframe tbody tr th:only-of-type {\n",
              "        vertical-align: middle;\n",
              "    }\n",
              "\n",
              "    .dataframe tbody tr th {\n",
              "        vertical-align: top;\n",
              "    }\n",
              "\n",
              "    .dataframe thead th {\n",
              "        text-align: right;\n",
              "    }\n",
              "</style>\n",
              "<table border=\"1\" class=\"dataframe\">\n",
              "  <thead>\n",
              "    <tr style=\"text-align: right;\">\n",
              "      <th></th>\n",
              "      <th>Reviews</th>\n",
              "      <th>Rating</th>\n",
              "    </tr>\n",
              "    <tr>\n",
              "      <th>Category</th>\n",
              "      <th></th>\n",
              "      <th></th>\n",
              "    </tr>\n",
              "  </thead>\n",
              "  <tbody>\n",
              "    <tr>\n",
              "      <th>EVENTS</th>\n",
              "      <td>3.568667e+03</td>\n",
              "      <td>4.435556</td>\n",
              "    </tr>\n",
              "    <tr>\n",
              "      <th>ART_AND_DESIGN</th>\n",
              "      <td>2.810356e+04</td>\n",
              "      <td>4.377049</td>\n",
              "    </tr>\n",
              "    <tr>\n",
              "      <th>EDUCATION</th>\n",
              "      <td>1.795715e+05</td>\n",
              "      <td>4.375969</td>\n",
              "    </tr>\n",
              "    <tr>\n",
              "      <th>BOOKS_AND_REFERENCE</th>\n",
              "      <td>1.235752e+05</td>\n",
              "      <td>4.347458</td>\n",
              "    </tr>\n",
              "    <tr>\n",
              "      <th>PERSONALIZATION</th>\n",
              "      <td>2.441312e+05</td>\n",
              "      <td>4.333117</td>\n",
              "    </tr>\n",
              "    <tr>\n",
              "      <th>PARENTING</th>\n",
              "      <td>1.907218e+04</td>\n",
              "      <td>4.300000</td>\n",
              "    </tr>\n",
              "    <tr>\n",
              "      <th>GAME</th>\n",
              "      <td>1.318002e+06</td>\n",
              "      <td>4.281285</td>\n",
              "    </tr>\n",
              "    <tr>\n",
              "      <th>BEAUTY</th>\n",
              "      <td>9.407929e+03</td>\n",
              "      <td>4.278571</td>\n",
              "    </tr>\n",
              "    <tr>\n",
              "      <th>HEALTH_AND_FITNESS</th>\n",
              "      <td>1.177293e+05</td>\n",
              "      <td>4.261450</td>\n",
              "    </tr>\n",
              "    <tr>\n",
              "      <th>SOCIAL</th>\n",
              "      <td>2.186789e+06</td>\n",
              "      <td>4.254918</td>\n",
              "    </tr>\n",
              "    <tr>\n",
              "      <th>SHOPPING</th>\n",
              "      <td>4.699553e+05</td>\n",
              "      <td>4.251485</td>\n",
              "    </tr>\n",
              "    <tr>\n",
              "      <th>WEATHER</th>\n",
              "      <td>1.947293e+05</td>\n",
              "      <td>4.244000</td>\n",
              "    </tr>\n",
              "    <tr>\n",
              "      <th>SPORTS</th>\n",
              "      <td>2.283990e+05</td>\n",
              "      <td>4.225175</td>\n",
              "    </tr>\n",
              "    <tr>\n",
              "      <th>PRODUCTIVITY</th>\n",
              "      <td>3.070486e+05</td>\n",
              "      <td>4.201796</td>\n",
              "    </tr>\n",
              "    <tr>\n",
              "      <th>FAMILY</th>\n",
              "      <td>2.310824e+05</td>\n",
              "      <td>4.191264</td>\n",
              "    </tr>\n",
              "    <tr>\n",
              "      <th>AUTO_AND_VEHICLES</th>\n",
              "      <td>1.594014e+04</td>\n",
              "      <td>4.190411</td>\n",
              "    </tr>\n",
              "    <tr>\n",
              "      <th>PHOTOGRAPHY</th>\n",
              "      <td>6.720308e+05</td>\n",
              "      <td>4.182895</td>\n",
              "    </tr>\n",
              "    <tr>\n",
              "      <th>MEDICAL</th>\n",
              "      <td>4.623930e+03</td>\n",
              "      <td>4.182450</td>\n",
              "    </tr>\n",
              "    <tr>\n",
              "      <th>LIBRARIES_AND_DEMO</th>\n",
              "      <td>1.583422e+04</td>\n",
              "      <td>4.179688</td>\n",
              "    </tr>\n",
              "    <tr>\n",
              "      <th>HOUSE_AND_HOME</th>\n",
              "      <td>4.109399e+04</td>\n",
              "      <td>4.164706</td>\n",
              "    </tr>\n",
              "    <tr>\n",
              "      <th>FOOD_AND_DRINK</th>\n",
              "      <td>7.237033e+04</td>\n",
              "      <td>4.164151</td>\n",
              "    </tr>\n",
              "    <tr>\n",
              "      <th>COMICS</th>\n",
              "      <td>5.830940e+04</td>\n",
              "      <td>4.155172</td>\n",
              "    </tr>\n",
              "    <tr>\n",
              "      <th>COMMUNICATION</th>\n",
              "      <td>1.958544e+06</td>\n",
              "      <td>4.151466</td>\n",
              "    </tr>\n",
              "    <tr>\n",
              "      <th>ENTERTAINMENT</th>\n",
              "      <td>4.285650e+05</td>\n",
              "      <td>4.136036</td>\n",
              "    </tr>\n",
              "    <tr>\n",
              "      <th>NEWS_AND_MAGAZINES</th>\n",
              "      <td>1.787145e+05</td>\n",
              "      <td>4.128505</td>\n",
              "    </tr>\n",
              "    <tr>\n",
              "      <th>FINANCE</th>\n",
              "      <td>5.362640e+04</td>\n",
              "      <td>4.127445</td>\n",
              "    </tr>\n",
              "    <tr>\n",
              "      <th>BUSINESS</th>\n",
              "      <td>4.576928e+04</td>\n",
              "      <td>4.102593</td>\n",
              "    </tr>\n",
              "    <tr>\n",
              "      <th>LIFESTYLE</th>\n",
              "      <td>4.203134e+04</td>\n",
              "      <td>4.096066</td>\n",
              "    </tr>\n",
              "    <tr>\n",
              "      <th>TRAVEL_AND_LOCAL</th>\n",
              "      <td>2.710488e+05</td>\n",
              "      <td>4.094146</td>\n",
              "    </tr>\n",
              "    <tr>\n",
              "      <th>VIDEO_PLAYERS</th>\n",
              "      <td>6.898731e+05</td>\n",
              "      <td>4.063750</td>\n",
              "    </tr>\n",
              "    <tr>\n",
              "      <th>MAPS_AND_NAVIGATION</th>\n",
              "      <td>2.472505e+05</td>\n",
              "      <td>4.051613</td>\n",
              "    </tr>\n",
              "    <tr>\n",
              "      <th>TOOLS</th>\n",
              "      <td>3.726878e+05</td>\n",
              "      <td>4.047203</td>\n",
              "    </tr>\n",
              "    <tr>\n",
              "      <th>DATING</th>\n",
              "      <td>3.487525e+04</td>\n",
              "      <td>3.971698</td>\n",
              "    </tr>\n",
              "  </tbody>\n",
              "</table>\n",
              "</div>\n",
              "      <button class=\"colab-df-convert\" onclick=\"convertToInteractive('df-2aae3360-96bf-41f3-8cab-a0b0d52a81d0')\"\n",
              "              title=\"Convert this dataframe to an interactive table.\"\n",
              "              style=\"display:none;\">\n",
              "        \n",
              "  <svg xmlns=\"http://www.w3.org/2000/svg\" height=\"24px\"viewBox=\"0 0 24 24\"\n",
              "       width=\"24px\">\n",
              "    <path d=\"M0 0h24v24H0V0z\" fill=\"none\"/>\n",
              "    <path d=\"M18.56 5.44l.94 2.06.94-2.06 2.06-.94-2.06-.94-.94-2.06-.94 2.06-2.06.94zm-11 1L8.5 8.5l.94-2.06 2.06-.94-2.06-.94L8.5 2.5l-.94 2.06-2.06.94zm10 10l.94 2.06.94-2.06 2.06-.94-2.06-.94-.94-2.06-.94 2.06-2.06.94z\"/><path d=\"M17.41 7.96l-1.37-1.37c-.4-.4-.92-.59-1.43-.59-.52 0-1.04.2-1.43.59L10.3 9.45l-7.72 7.72c-.78.78-.78 2.05 0 2.83L4 21.41c.39.39.9.59 1.41.59.51 0 1.02-.2 1.41-.59l7.78-7.78 2.81-2.81c.8-.78.8-2.07 0-2.86zM5.41 20L4 18.59l7.72-7.72 1.47 1.35L5.41 20z\"/>\n",
              "  </svg>\n",
              "      </button>\n",
              "      \n",
              "  <style>\n",
              "    .colab-df-container {\n",
              "      display:flex;\n",
              "      flex-wrap:wrap;\n",
              "      gap: 12px;\n",
              "    }\n",
              "\n",
              "    .colab-df-convert {\n",
              "      background-color: #E8F0FE;\n",
              "      border: none;\n",
              "      border-radius: 50%;\n",
              "      cursor: pointer;\n",
              "      display: none;\n",
              "      fill: #1967D2;\n",
              "      height: 32px;\n",
              "      padding: 0 0 0 0;\n",
              "      width: 32px;\n",
              "    }\n",
              "\n",
              "    .colab-df-convert:hover {\n",
              "      background-color: #E2EBFA;\n",
              "      box-shadow: 0px 1px 2px rgba(60, 64, 67, 0.3), 0px 1px 3px 1px rgba(60, 64, 67, 0.15);\n",
              "      fill: #174EA6;\n",
              "    }\n",
              "\n",
              "    [theme=dark] .colab-df-convert {\n",
              "      background-color: #3B4455;\n",
              "      fill: #D2E3FC;\n",
              "    }\n",
              "\n",
              "    [theme=dark] .colab-df-convert:hover {\n",
              "      background-color: #434B5C;\n",
              "      box-shadow: 0px 1px 3px 1px rgba(0, 0, 0, 0.15);\n",
              "      filter: drop-shadow(0px 1px 2px rgba(0, 0, 0, 0.3));\n",
              "      fill: #FFFFFF;\n",
              "    }\n",
              "  </style>\n",
              "\n",
              "      <script>\n",
              "        const buttonEl =\n",
              "          document.querySelector('#df-2aae3360-96bf-41f3-8cab-a0b0d52a81d0 button.colab-df-convert');\n",
              "        buttonEl.style.display =\n",
              "          google.colab.kernel.accessAllowed ? 'block' : 'none';\n",
              "\n",
              "        async function convertToInteractive(key) {\n",
              "          const element = document.querySelector('#df-2aae3360-96bf-41f3-8cab-a0b0d52a81d0');\n",
              "          const dataTable =\n",
              "            await google.colab.kernel.invokeFunction('convertToInteractive',\n",
              "                                                     [key], {});\n",
              "          if (!dataTable) return;\n",
              "\n",
              "          const docLinkHtml = 'Like what you see? Visit the ' +\n",
              "            '<a target=\"_blank\" href=https://colab.research.google.com/notebooks/data_table.ipynb>data table notebook</a>'\n",
              "            + ' to learn more about interactive tables.';\n",
              "          element.innerHTML = '';\n",
              "          dataTable['output_type'] = 'display_data';\n",
              "          await google.colab.output.renderOutput(dataTable, element);\n",
              "          const docLink = document.createElement('div');\n",
              "          docLink.innerHTML = docLinkHtml;\n",
              "          element.appendChild(docLink);\n",
              "        }\n",
              "      </script>\n",
              "    </div>\n",
              "  </div>\n",
              "  "
            ]
          },
          "metadata": {},
          "execution_count": 26
        }
      ]
    }
  ]
}