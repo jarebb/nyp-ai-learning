{
  "nbformat": 4,
  "nbformat_minor": 0,
  "metadata": {
    "kernelspec": {
      "display_name": "Python 3",
      "language": "python",
      "name": "python3"
    },
    "language_info": {
      "codemirror_mode": {
        "name": "ipython",
        "version": 3
      },
      "file_extension": ".py",
      "mimetype": "text/x-python",
      "name": "python",
      "nbconvert_exporter": "python",
      "pygments_lexer": "ipython3",
      "version": "3.6.4"
    },
    "colab": {
      "name": "L3_Statistics_Pandas_ans.ipynb",
      "provenance": [],
      "collapsed_sections": [
        "fSoO7BRMyKPG",
        "nKHjOxUYyKPH",
        "0rWgkVkQyKPI",
        "9A68BfQsyKPI",
        "IMT4z-OQyKPJ",
        "L3mW7O20yKPL",
        "2GAY-hnzyKPM",
        "RrTOmZDMyKPN",
        "nWt1f95oyKPZ",
        "HvxAyU1-yKPa",
        "57-w6DtGyKPa",
        "PmCPx4q4yKPb",
        "6WYuT_W1yKPc",
        "5YGbXdgiyKPe",
        "dpsesNNHyKPm",
        "nKZEfjUeyKPn",
        "QXH2pBK5yKPo",
        "g7syrdARMXIe",
        "AuZHiCIngnN9",
        "XrdAqBg5hBff"
      ]
    }
  },
  "cells": [
    {
      "cell_type": "markdown",
      "metadata": {
        "id": "ia42dWQ6yKO-"
      },
      "source": [
        "# L3 Statistics with Pandas"
      ]
    },
    {
      "cell_type": "markdown",
      "metadata": {
        "id": "NXZgsqOzyKPC"
      },
      "source": [
        "### 1. What is Pandas?\n"
      ]
    },
    {
      "cell_type": "markdown",
      "metadata": {
        "id": "CA3SVnTuyKPD"
      },
      "source": [
        "\n",
        "\n",
        "Pandas is used as data cleaning module in the field of data science.You can do many operations in the dataset with this module. Can we clean or change the value in the dataset manually ? We can if size of the dataset is small. What if we have a large dataset then we cannot do it manually it will take a lot of time.In this case, Pandas makes data manipulation very easy and effective.\n"
      ]
    },
    {
      "cell_type": "markdown",
      "metadata": {
        "id": "GrZE0CncyKPE"
      },
      "source": [
        "### 2. Import the pandas module in your program\n",
        "\n",
        "\n",
        "```\n",
        "import pandas as pd\n",
        "```\n",
        "\n"
      ]
    },
    {
      "cell_type": "code",
      "metadata": {
        "id": "-cx1O-Ujq5zk"
      },
      "source": [
        "#Add code"
      ],
      "execution_count": null,
      "outputs": []
    },
    {
      "cell_type": "code",
      "metadata": {
        "id": "4TGOGPz8yKPE"
      },
      "source": [
        "import pandas as pd"
      ],
      "execution_count": 1,
      "outputs": []
    },
    {
      "cell_type": "markdown",
      "metadata": {
        "id": "Ze8yLf5FyKPE"
      },
      "source": [
        "### 3. Pandas Dataframe"
      ]
    },
    {
      "cell_type": "markdown",
      "metadata": {
        "id": "DmADy9dwyKPE"
      },
      "source": [
        "#### Read file into dataframe \n",
        "\n",
        "d=pd.read_csv(\"path\"):\n",
        " * pd.read_csv() is the function to read the CSV(Comma separated values) file from your computer.\n",
        " * In the function you have to pass a \"path\" and CSV filename.\n",
        " \n",
        "\n",
        "##### d=pd.read_excel(\"path\") : \n",
        " * It is same as the read_csv() but it reads  excel sheet or file.\n"
      ]
    },
    {
      "cell_type": "markdown",
      "metadata": {
        "id": "CdXHrH6217Ja"
      },
      "source": [
        "Setup the Colab Drive with the path to the dataset\n",
        "\n",
        "\n",
        "\n",
        "```\n",
        "from google.colab import drive\n",
        "drive.mount('/content/drive/')\n",
        "datadir=\"/content/drive/My Drive/Data/DS3/\"\n",
        "```\n",
        "\n"
      ]
    },
    {
      "cell_type": "code",
      "metadata": {
        "id": "NPnVLyFa2OQd"
      },
      "source": [
        "#Add code"
      ],
      "execution_count": null,
      "outputs": []
    },
    {
      "cell_type": "code",
      "metadata": {
        "colab": {
          "base_uri": "https://localhost:8080/"
        },
        "id": "nzbHn-Gd1A8B",
        "outputId": "2d99a344-8d89-45b8-d6c0-c8b498a68f86"
      },
      "source": [
        "from google.colab import drive\n",
        "drive.mount('/content/drive/')\n",
        "datadir=\"/content/drive/My Drive/Data/DS3/\""
      ],
      "execution_count": 2,
      "outputs": [
        {
          "output_type": "stream",
          "text": [
            "Mounted at /content/drive/\n"
          ],
          "name": "stdout"
        }
      ]
    },
    {
      "cell_type": "markdown",
      "metadata": {
        "id": "7lp23ztP2WRl"
      },
      "source": [
        "Load the weather.csv using pandas read_csv() function\n",
        "\n",
        "\n",
        "\n",
        "```\n",
        "d=pd.read_csv(datadir+'weather.csv') \n",
        "d\n",
        "\n",
        "```\n",
        "\n"
      ]
    },
    {
      "cell_type": "code",
      "metadata": {
        "id": "gmd9T2bX2lJw"
      },
      "source": [
        "#Add code"
      ],
      "execution_count": null,
      "outputs": []
    },
    {
      "cell_type": "code",
      "metadata": {
        "colab": {
          "base_uri": "https://localhost:8080/",
          "height": 593
        },
        "id": "MhajM7ZbyKPF",
        "outputId": "fa7b2053-fd26-46f6-e753-3aa175a8a130"
      },
      "source": [
        "d=pd.read_csv(datadir+'weather.csv') \n",
        "# returning dataframe object\n",
        "d\n",
        "#printing dataframe d"
      ],
      "execution_count": null,
      "outputs": [
        {
          "output_type": "execute_result",
          "data": {
            "text/html": [
              "<div>\n",
              "<style scoped>\n",
              "    .dataframe tbody tr th:only-of-type {\n",
              "        vertical-align: middle;\n",
              "    }\n",
              "\n",
              "    .dataframe tbody tr th {\n",
              "        vertical-align: top;\n",
              "    }\n",
              "\n",
              "    .dataframe thead th {\n",
              "        text-align: right;\n",
              "    }\n",
              "</style>\n",
              "<table border=\"1\" class=\"dataframe\">\n",
              "  <thead>\n",
              "    <tr style=\"text-align: right;\">\n",
              "      <th></th>\n",
              "      <th>Formatted Date</th>\n",
              "      <th>Summary</th>\n",
              "      <th>Precip Type</th>\n",
              "      <th>Temperature (C)</th>\n",
              "      <th>Apparent Temperature (C)</th>\n",
              "      <th>Humidity</th>\n",
              "      <th>Wind Speed (km/h)</th>\n",
              "      <th>Wind Bearing (degrees)</th>\n",
              "      <th>Visibility (km)</th>\n",
              "      <th>Loud Cover</th>\n",
              "      <th>Pressure (millibars)</th>\n",
              "      <th>Daily Summary</th>\n",
              "    </tr>\n",
              "  </thead>\n",
              "  <tbody>\n",
              "    <tr>\n",
              "      <th>0</th>\n",
              "      <td>2006-04-01 00:00:00.000 +0200</td>\n",
              "      <td>Partly Cloudy</td>\n",
              "      <td>rain</td>\n",
              "      <td>9.472222</td>\n",
              "      <td>7.388889</td>\n",
              "      <td>0.89</td>\n",
              "      <td>14.1197</td>\n",
              "      <td>251.0</td>\n",
              "      <td>15.8263</td>\n",
              "      <td>0.0</td>\n",
              "      <td>1015.13</td>\n",
              "      <td>Partly cloudy throughout the day.</td>\n",
              "    </tr>\n",
              "    <tr>\n",
              "      <th>1</th>\n",
              "      <td>2006-04-01 01:00:00.000 +0200</td>\n",
              "      <td>Partly Cloudy</td>\n",
              "      <td>rain</td>\n",
              "      <td>9.355556</td>\n",
              "      <td>7.227778</td>\n",
              "      <td>0.86</td>\n",
              "      <td>14.2646</td>\n",
              "      <td>259.0</td>\n",
              "      <td>15.8263</td>\n",
              "      <td>0.0</td>\n",
              "      <td>1015.63</td>\n",
              "      <td>Partly cloudy throughout the day.</td>\n",
              "    </tr>\n",
              "    <tr>\n",
              "      <th>2</th>\n",
              "      <td>2006-04-01 02:00:00.000 +0200</td>\n",
              "      <td>Mostly Cloudy</td>\n",
              "      <td>rain</td>\n",
              "      <td>9.377778</td>\n",
              "      <td>9.377778</td>\n",
              "      <td>0.89</td>\n",
              "      <td>3.9284</td>\n",
              "      <td>204.0</td>\n",
              "      <td>14.9569</td>\n",
              "      <td>0.0</td>\n",
              "      <td>1015.94</td>\n",
              "      <td>Partly cloudy throughout the day.</td>\n",
              "    </tr>\n",
              "    <tr>\n",
              "      <th>3</th>\n",
              "      <td>2006-04-01 03:00:00.000 +0200</td>\n",
              "      <td>Partly Cloudy</td>\n",
              "      <td>rain</td>\n",
              "      <td>8.288889</td>\n",
              "      <td>5.944444</td>\n",
              "      <td>0.83</td>\n",
              "      <td>14.1036</td>\n",
              "      <td>269.0</td>\n",
              "      <td>15.8263</td>\n",
              "      <td>0.0</td>\n",
              "      <td>1016.41</td>\n",
              "      <td>Partly cloudy throughout the day.</td>\n",
              "    </tr>\n",
              "    <tr>\n",
              "      <th>4</th>\n",
              "      <td>2006-04-01 04:00:00.000 +0200</td>\n",
              "      <td>Mostly Cloudy</td>\n",
              "      <td>rain</td>\n",
              "      <td>8.755556</td>\n",
              "      <td>6.977778</td>\n",
              "      <td>0.83</td>\n",
              "      <td>11.0446</td>\n",
              "      <td>259.0</td>\n",
              "      <td>15.8263</td>\n",
              "      <td>0.0</td>\n",
              "      <td>1016.51</td>\n",
              "      <td>Partly cloudy throughout the day.</td>\n",
              "    </tr>\n",
              "    <tr>\n",
              "      <th>...</th>\n",
              "      <td>...</td>\n",
              "      <td>...</td>\n",
              "      <td>...</td>\n",
              "      <td>...</td>\n",
              "      <td>...</td>\n",
              "      <td>...</td>\n",
              "      <td>...</td>\n",
              "      <td>...</td>\n",
              "      <td>...</td>\n",
              "      <td>...</td>\n",
              "      <td>...</td>\n",
              "      <td>...</td>\n",
              "    </tr>\n",
              "    <tr>\n",
              "      <th>96448</th>\n",
              "      <td>2016-09-09 19:00:00.000 +0200</td>\n",
              "      <td>Partly Cloudy</td>\n",
              "      <td>rain</td>\n",
              "      <td>26.016667</td>\n",
              "      <td>26.016667</td>\n",
              "      <td>0.43</td>\n",
              "      <td>10.9963</td>\n",
              "      <td>31.0</td>\n",
              "      <td>16.1000</td>\n",
              "      <td>0.0</td>\n",
              "      <td>1014.36</td>\n",
              "      <td>Partly cloudy starting in the morning.</td>\n",
              "    </tr>\n",
              "    <tr>\n",
              "      <th>96449</th>\n",
              "      <td>2016-09-09 20:00:00.000 +0200</td>\n",
              "      <td>Partly Cloudy</td>\n",
              "      <td>rain</td>\n",
              "      <td>24.583333</td>\n",
              "      <td>24.583333</td>\n",
              "      <td>0.48</td>\n",
              "      <td>10.0947</td>\n",
              "      <td>20.0</td>\n",
              "      <td>15.5526</td>\n",
              "      <td>0.0</td>\n",
              "      <td>1015.16</td>\n",
              "      <td>Partly cloudy starting in the morning.</td>\n",
              "    </tr>\n",
              "    <tr>\n",
              "      <th>96450</th>\n",
              "      <td>2016-09-09 21:00:00.000 +0200</td>\n",
              "      <td>Partly Cloudy</td>\n",
              "      <td>rain</td>\n",
              "      <td>22.038889</td>\n",
              "      <td>22.038889</td>\n",
              "      <td>0.56</td>\n",
              "      <td>8.9838</td>\n",
              "      <td>30.0</td>\n",
              "      <td>16.1000</td>\n",
              "      <td>0.0</td>\n",
              "      <td>1015.66</td>\n",
              "      <td>Partly cloudy starting in the morning.</td>\n",
              "    </tr>\n",
              "    <tr>\n",
              "      <th>96451</th>\n",
              "      <td>2016-09-09 22:00:00.000 +0200</td>\n",
              "      <td>Partly Cloudy</td>\n",
              "      <td>rain</td>\n",
              "      <td>21.522222</td>\n",
              "      <td>21.522222</td>\n",
              "      <td>0.60</td>\n",
              "      <td>10.5294</td>\n",
              "      <td>20.0</td>\n",
              "      <td>16.1000</td>\n",
              "      <td>0.0</td>\n",
              "      <td>1015.95</td>\n",
              "      <td>Partly cloudy starting in the morning.</td>\n",
              "    </tr>\n",
              "    <tr>\n",
              "      <th>96452</th>\n",
              "      <td>2016-09-09 23:00:00.000 +0200</td>\n",
              "      <td>Partly Cloudy</td>\n",
              "      <td>rain</td>\n",
              "      <td>20.438889</td>\n",
              "      <td>20.438889</td>\n",
              "      <td>0.61</td>\n",
              "      <td>5.8765</td>\n",
              "      <td>39.0</td>\n",
              "      <td>15.5204</td>\n",
              "      <td>0.0</td>\n",
              "      <td>1016.16</td>\n",
              "      <td>Partly cloudy starting in the morning.</td>\n",
              "    </tr>\n",
              "  </tbody>\n",
              "</table>\n",
              "<p>96453 rows × 12 columns</p>\n",
              "</div>"
            ],
            "text/plain": [
              "                      Formatted Date  ...                           Daily Summary\n",
              "0      2006-04-01 00:00:00.000 +0200  ...       Partly cloudy throughout the day.\n",
              "1      2006-04-01 01:00:00.000 +0200  ...       Partly cloudy throughout the day.\n",
              "2      2006-04-01 02:00:00.000 +0200  ...       Partly cloudy throughout the day.\n",
              "3      2006-04-01 03:00:00.000 +0200  ...       Partly cloudy throughout the day.\n",
              "4      2006-04-01 04:00:00.000 +0200  ...       Partly cloudy throughout the day.\n",
              "...                              ...  ...                                     ...\n",
              "96448  2016-09-09 19:00:00.000 +0200  ...  Partly cloudy starting in the morning.\n",
              "96449  2016-09-09 20:00:00.000 +0200  ...  Partly cloudy starting in the morning.\n",
              "96450  2016-09-09 21:00:00.000 +0200  ...  Partly cloudy starting in the morning.\n",
              "96451  2016-09-09 22:00:00.000 +0200  ...  Partly cloudy starting in the morning.\n",
              "96452  2016-09-09 23:00:00.000 +0200  ...  Partly cloudy starting in the morning.\n",
              "\n",
              "[96453 rows x 12 columns]"
            ]
          },
          "metadata": {
            "tags": []
          },
          "execution_count": 3
        }
      ]
    },
    {
      "cell_type": "markdown",
      "metadata": {
        "id": "OwAqmnIsyKPG"
      },
      "source": [
        "#### Check how many rows in dataframe?\n",
        "\n",
        "\n",
        "\n",
        "\n",
        "```\n",
        "print(len(d))\n",
        "# there are 96453 rows\n",
        "```\n",
        "\n"
      ]
    },
    {
      "cell_type": "code",
      "metadata": {
        "id": "56MewUB_2wOh"
      },
      "source": [
        "#Add code"
      ],
      "execution_count": null,
      "outputs": []
    },
    {
      "cell_type": "code",
      "metadata": {
        "colab": {
          "base_uri": "https://localhost:8080/"
        },
        "id": "jszwb0KkyKPG",
        "outputId": "9449ae1f-99ba-42fa-9408-18435c0293e7"
      },
      "source": [
        "print(len(d))\n",
        "# there are 96453 rows"
      ],
      "execution_count": null,
      "outputs": [
        {
          "output_type": "stream",
          "text": [
            "96453\n"
          ],
          "name": "stdout"
        }
      ]
    },
    {
      "cell_type": "markdown",
      "metadata": {
        "id": "fSoO7BRMyKPG"
      },
      "source": [
        "#### Getting first n-rows of dataframe\n",
        "  * To see the first five rows call head() function with dataframe object. <br>\n",
        "      for example-  \n",
        "      <code> d.head() </code> <br>\n",
        "  * If you want to view first n-rows <br>\n",
        "      <code> d.head(n) </code>"
      ]
    },
    {
      "cell_type": "code",
      "metadata": {
        "id": "UUIIWqqX217d"
      },
      "source": [
        "#Add code"
      ],
      "execution_count": null,
      "outputs": []
    },
    {
      "cell_type": "code",
      "metadata": {
        "colab": {
          "base_uri": "https://localhost:8080/",
          "height": 299
        },
        "id": "2nWUiO4MyKPG",
        "outputId": "66bc09c4-68d9-4284-ebef-dc3abc0cb9e4"
      },
      "source": [
        "d.head() # first five rows"
      ],
      "execution_count": null,
      "outputs": [
        {
          "output_type": "execute_result",
          "data": {
            "text/html": [
              "<div>\n",
              "<style scoped>\n",
              "    .dataframe tbody tr th:only-of-type {\n",
              "        vertical-align: middle;\n",
              "    }\n",
              "\n",
              "    .dataframe tbody tr th {\n",
              "        vertical-align: top;\n",
              "    }\n",
              "\n",
              "    .dataframe thead th {\n",
              "        text-align: right;\n",
              "    }\n",
              "</style>\n",
              "<table border=\"1\" class=\"dataframe\">\n",
              "  <thead>\n",
              "    <tr style=\"text-align: right;\">\n",
              "      <th></th>\n",
              "      <th>Formatted Date</th>\n",
              "      <th>Summary</th>\n",
              "      <th>Precip Type</th>\n",
              "      <th>Temperature (C)</th>\n",
              "      <th>Apparent Temperature (C)</th>\n",
              "      <th>Humidity</th>\n",
              "      <th>Wind Speed (km/h)</th>\n",
              "      <th>Wind Bearing (degrees)</th>\n",
              "      <th>Visibility (km)</th>\n",
              "      <th>Loud Cover</th>\n",
              "      <th>Pressure (millibars)</th>\n",
              "      <th>Daily Summary</th>\n",
              "    </tr>\n",
              "  </thead>\n",
              "  <tbody>\n",
              "    <tr>\n",
              "      <th>0</th>\n",
              "      <td>2006-04-01 00:00:00.000 +0200</td>\n",
              "      <td>Partly Cloudy</td>\n",
              "      <td>rain</td>\n",
              "      <td>9.472222</td>\n",
              "      <td>7.388889</td>\n",
              "      <td>0.89</td>\n",
              "      <td>14.1197</td>\n",
              "      <td>251.0</td>\n",
              "      <td>15.8263</td>\n",
              "      <td>0.0</td>\n",
              "      <td>1015.13</td>\n",
              "      <td>Partly cloudy throughout the day.</td>\n",
              "    </tr>\n",
              "    <tr>\n",
              "      <th>1</th>\n",
              "      <td>2006-04-01 01:00:00.000 +0200</td>\n",
              "      <td>Partly Cloudy</td>\n",
              "      <td>rain</td>\n",
              "      <td>9.355556</td>\n",
              "      <td>7.227778</td>\n",
              "      <td>0.86</td>\n",
              "      <td>14.2646</td>\n",
              "      <td>259.0</td>\n",
              "      <td>15.8263</td>\n",
              "      <td>0.0</td>\n",
              "      <td>1015.63</td>\n",
              "      <td>Partly cloudy throughout the day.</td>\n",
              "    </tr>\n",
              "    <tr>\n",
              "      <th>2</th>\n",
              "      <td>2006-04-01 02:00:00.000 +0200</td>\n",
              "      <td>Mostly Cloudy</td>\n",
              "      <td>rain</td>\n",
              "      <td>9.377778</td>\n",
              "      <td>9.377778</td>\n",
              "      <td>0.89</td>\n",
              "      <td>3.9284</td>\n",
              "      <td>204.0</td>\n",
              "      <td>14.9569</td>\n",
              "      <td>0.0</td>\n",
              "      <td>1015.94</td>\n",
              "      <td>Partly cloudy throughout the day.</td>\n",
              "    </tr>\n",
              "    <tr>\n",
              "      <th>3</th>\n",
              "      <td>2006-04-01 03:00:00.000 +0200</td>\n",
              "      <td>Partly Cloudy</td>\n",
              "      <td>rain</td>\n",
              "      <td>8.288889</td>\n",
              "      <td>5.944444</td>\n",
              "      <td>0.83</td>\n",
              "      <td>14.1036</td>\n",
              "      <td>269.0</td>\n",
              "      <td>15.8263</td>\n",
              "      <td>0.0</td>\n",
              "      <td>1016.41</td>\n",
              "      <td>Partly cloudy throughout the day.</td>\n",
              "    </tr>\n",
              "    <tr>\n",
              "      <th>4</th>\n",
              "      <td>2006-04-01 04:00:00.000 +0200</td>\n",
              "      <td>Mostly Cloudy</td>\n",
              "      <td>rain</td>\n",
              "      <td>8.755556</td>\n",
              "      <td>6.977778</td>\n",
              "      <td>0.83</td>\n",
              "      <td>11.0446</td>\n",
              "      <td>259.0</td>\n",
              "      <td>15.8263</td>\n",
              "      <td>0.0</td>\n",
              "      <td>1016.51</td>\n",
              "      <td>Partly cloudy throughout the day.</td>\n",
              "    </tr>\n",
              "  </tbody>\n",
              "</table>\n",
              "</div>"
            ],
            "text/plain": [
              "                  Formatted Date  ...                      Daily Summary\n",
              "0  2006-04-01 00:00:00.000 +0200  ...  Partly cloudy throughout the day.\n",
              "1  2006-04-01 01:00:00.000 +0200  ...  Partly cloudy throughout the day.\n",
              "2  2006-04-01 02:00:00.000 +0200  ...  Partly cloudy throughout the day.\n",
              "3  2006-04-01 03:00:00.000 +0200  ...  Partly cloudy throughout the day.\n",
              "4  2006-04-01 04:00:00.000 +0200  ...  Partly cloudy throughout the day.\n",
              "\n",
              "[5 rows x 12 columns]"
            ]
          },
          "metadata": {
            "tags": []
          },
          "execution_count": 5
        }
      ]
    },
    {
      "cell_type": "markdown",
      "metadata": {
        "id": "jji9EwfY26Gc"
      },
      "source": [
        "Display the first 9 rows\n",
        "\n",
        "\n",
        "\n",
        "```\n",
        "d.head(9)\n",
        "```\n",
        "\n"
      ]
    },
    {
      "cell_type": "code",
      "metadata": {
        "colab": {
          "base_uri": "https://localhost:8080/",
          "height": 487
        },
        "id": "fn06kfGhyKPH",
        "outputId": "d7f81d8b-cf1c-43fb-fa5d-fab7bde334e9"
      },
      "source": [
        "d.head(9) # to print first n=9 rows"
      ],
      "execution_count": null,
      "outputs": [
        {
          "output_type": "execute_result",
          "data": {
            "text/html": [
              "<div>\n",
              "<style scoped>\n",
              "    .dataframe tbody tr th:only-of-type {\n",
              "        vertical-align: middle;\n",
              "    }\n",
              "\n",
              "    .dataframe tbody tr th {\n",
              "        vertical-align: top;\n",
              "    }\n",
              "\n",
              "    .dataframe thead th {\n",
              "        text-align: right;\n",
              "    }\n",
              "</style>\n",
              "<table border=\"1\" class=\"dataframe\">\n",
              "  <thead>\n",
              "    <tr style=\"text-align: right;\">\n",
              "      <th></th>\n",
              "      <th>Formatted Date</th>\n",
              "      <th>Summary</th>\n",
              "      <th>Precip Type</th>\n",
              "      <th>Temperature (C)</th>\n",
              "      <th>Apparent Temperature (C)</th>\n",
              "      <th>Humidity</th>\n",
              "      <th>Wind Speed (km/h)</th>\n",
              "      <th>Wind Bearing (degrees)</th>\n",
              "      <th>Visibility (km)</th>\n",
              "      <th>Loud Cover</th>\n",
              "      <th>Pressure (millibars)</th>\n",
              "      <th>Daily Summary</th>\n",
              "    </tr>\n",
              "  </thead>\n",
              "  <tbody>\n",
              "    <tr>\n",
              "      <th>0</th>\n",
              "      <td>2006-04-01 00:00:00.000 +0200</td>\n",
              "      <td>Partly Cloudy</td>\n",
              "      <td>rain</td>\n",
              "      <td>9.472222</td>\n",
              "      <td>7.388889</td>\n",
              "      <td>0.89</td>\n",
              "      <td>14.1197</td>\n",
              "      <td>251.0</td>\n",
              "      <td>15.8263</td>\n",
              "      <td>0.0</td>\n",
              "      <td>1015.13</td>\n",
              "      <td>Partly cloudy throughout the day.</td>\n",
              "    </tr>\n",
              "    <tr>\n",
              "      <th>1</th>\n",
              "      <td>2006-04-01 01:00:00.000 +0200</td>\n",
              "      <td>Partly Cloudy</td>\n",
              "      <td>rain</td>\n",
              "      <td>9.355556</td>\n",
              "      <td>7.227778</td>\n",
              "      <td>0.86</td>\n",
              "      <td>14.2646</td>\n",
              "      <td>259.0</td>\n",
              "      <td>15.8263</td>\n",
              "      <td>0.0</td>\n",
              "      <td>1015.63</td>\n",
              "      <td>Partly cloudy throughout the day.</td>\n",
              "    </tr>\n",
              "    <tr>\n",
              "      <th>2</th>\n",
              "      <td>2006-04-01 02:00:00.000 +0200</td>\n",
              "      <td>Mostly Cloudy</td>\n",
              "      <td>rain</td>\n",
              "      <td>9.377778</td>\n",
              "      <td>9.377778</td>\n",
              "      <td>0.89</td>\n",
              "      <td>3.9284</td>\n",
              "      <td>204.0</td>\n",
              "      <td>14.9569</td>\n",
              "      <td>0.0</td>\n",
              "      <td>1015.94</td>\n",
              "      <td>Partly cloudy throughout the day.</td>\n",
              "    </tr>\n",
              "    <tr>\n",
              "      <th>3</th>\n",
              "      <td>2006-04-01 03:00:00.000 +0200</td>\n",
              "      <td>Partly Cloudy</td>\n",
              "      <td>rain</td>\n",
              "      <td>8.288889</td>\n",
              "      <td>5.944444</td>\n",
              "      <td>0.83</td>\n",
              "      <td>14.1036</td>\n",
              "      <td>269.0</td>\n",
              "      <td>15.8263</td>\n",
              "      <td>0.0</td>\n",
              "      <td>1016.41</td>\n",
              "      <td>Partly cloudy throughout the day.</td>\n",
              "    </tr>\n",
              "    <tr>\n",
              "      <th>4</th>\n",
              "      <td>2006-04-01 04:00:00.000 +0200</td>\n",
              "      <td>Mostly Cloudy</td>\n",
              "      <td>rain</td>\n",
              "      <td>8.755556</td>\n",
              "      <td>6.977778</td>\n",
              "      <td>0.83</td>\n",
              "      <td>11.0446</td>\n",
              "      <td>259.0</td>\n",
              "      <td>15.8263</td>\n",
              "      <td>0.0</td>\n",
              "      <td>1016.51</td>\n",
              "      <td>Partly cloudy throughout the day.</td>\n",
              "    </tr>\n",
              "    <tr>\n",
              "      <th>5</th>\n",
              "      <td>2006-04-01 05:00:00.000 +0200</td>\n",
              "      <td>Partly Cloudy</td>\n",
              "      <td>rain</td>\n",
              "      <td>9.222222</td>\n",
              "      <td>7.111111</td>\n",
              "      <td>0.85</td>\n",
              "      <td>13.9587</td>\n",
              "      <td>258.0</td>\n",
              "      <td>14.9569</td>\n",
              "      <td>0.0</td>\n",
              "      <td>1016.66</td>\n",
              "      <td>Partly cloudy throughout the day.</td>\n",
              "    </tr>\n",
              "    <tr>\n",
              "      <th>6</th>\n",
              "      <td>2006-04-01 06:00:00.000 +0200</td>\n",
              "      <td>Partly Cloudy</td>\n",
              "      <td>rain</td>\n",
              "      <td>7.733333</td>\n",
              "      <td>5.522222</td>\n",
              "      <td>0.95</td>\n",
              "      <td>12.3648</td>\n",
              "      <td>259.0</td>\n",
              "      <td>9.9820</td>\n",
              "      <td>0.0</td>\n",
              "      <td>1016.72</td>\n",
              "      <td>Partly cloudy throughout the day.</td>\n",
              "    </tr>\n",
              "    <tr>\n",
              "      <th>7</th>\n",
              "      <td>2006-04-01 07:00:00.000 +0200</td>\n",
              "      <td>Partly Cloudy</td>\n",
              "      <td>rain</td>\n",
              "      <td>8.772222</td>\n",
              "      <td>6.527778</td>\n",
              "      <td>0.89</td>\n",
              "      <td>14.1519</td>\n",
              "      <td>260.0</td>\n",
              "      <td>9.9820</td>\n",
              "      <td>0.0</td>\n",
              "      <td>1016.84</td>\n",
              "      <td>Partly cloudy throughout the day.</td>\n",
              "    </tr>\n",
              "    <tr>\n",
              "      <th>8</th>\n",
              "      <td>2006-04-01 08:00:00.000 +0200</td>\n",
              "      <td>Partly Cloudy</td>\n",
              "      <td>rain</td>\n",
              "      <td>10.822222</td>\n",
              "      <td>10.822222</td>\n",
              "      <td>0.82</td>\n",
              "      <td>11.3183</td>\n",
              "      <td>259.0</td>\n",
              "      <td>9.9820</td>\n",
              "      <td>0.0</td>\n",
              "      <td>1017.37</td>\n",
              "      <td>Partly cloudy throughout the day.</td>\n",
              "    </tr>\n",
              "  </tbody>\n",
              "</table>\n",
              "</div>"
            ],
            "text/plain": [
              "                  Formatted Date  ...                      Daily Summary\n",
              "0  2006-04-01 00:00:00.000 +0200  ...  Partly cloudy throughout the day.\n",
              "1  2006-04-01 01:00:00.000 +0200  ...  Partly cloudy throughout the day.\n",
              "2  2006-04-01 02:00:00.000 +0200  ...  Partly cloudy throughout the day.\n",
              "3  2006-04-01 03:00:00.000 +0200  ...  Partly cloudy throughout the day.\n",
              "4  2006-04-01 04:00:00.000 +0200  ...  Partly cloudy throughout the day.\n",
              "5  2006-04-01 05:00:00.000 +0200  ...  Partly cloudy throughout the day.\n",
              "6  2006-04-01 06:00:00.000 +0200  ...  Partly cloudy throughout the day.\n",
              "7  2006-04-01 07:00:00.000 +0200  ...  Partly cloudy throughout the day.\n",
              "8  2006-04-01 08:00:00.000 +0200  ...  Partly cloudy throughout the day.\n",
              "\n",
              "[9 rows x 12 columns]"
            ]
          },
          "metadata": {
            "tags": []
          },
          "execution_count": 6
        }
      ]
    },
    {
      "cell_type": "markdown",
      "metadata": {
        "id": "nKHjOxUYyKPH"
      },
      "source": [
        "#### Getting last n-rows of dataframe\n",
        "  * Call the tail() function <br>\n",
        "     <code> d.tail() </code> <br>\n",
        "It will show only last five rows of dataframe d. <br>\n",
        "  * If you want to see last n-rows - <br>\n",
        "     <code> d.tail(n) </code>"
      ]
    },
    {
      "cell_type": "code",
      "metadata": {
        "id": "1khS9Jw3bGey"
      },
      "source": [
        "#Add code"
      ],
      "execution_count": null,
      "outputs": []
    },
    {
      "cell_type": "code",
      "metadata": {
        "id": "WCkkK6A8yKPH",
        "outputId": "3429ec5b-7741-4c99-c9b7-90ace31a0850"
      },
      "source": [
        "d.tail() #last five rows"
      ],
      "execution_count": null,
      "outputs": [
        {
          "output_type": "execute_result",
          "data": {
            "text/html": [
              "<div>\n",
              "<style scoped>\n",
              "    .dataframe tbody tr th:only-of-type {\n",
              "        vertical-align: middle;\n",
              "    }\n",
              "\n",
              "    .dataframe tbody tr th {\n",
              "        vertical-align: top;\n",
              "    }\n",
              "\n",
              "    .dataframe thead th {\n",
              "        text-align: right;\n",
              "    }\n",
              "</style>\n",
              "<table border=\"1\" class=\"dataframe\">\n",
              "  <thead>\n",
              "    <tr style=\"text-align: right;\">\n",
              "      <th></th>\n",
              "      <th>Formatted Date</th>\n",
              "      <th>Summary</th>\n",
              "      <th>Precip Type</th>\n",
              "      <th>Temperature (C)</th>\n",
              "      <th>Apparent Temperature (C)</th>\n",
              "      <th>Humidity</th>\n",
              "      <th>Wind Speed (km/h)</th>\n",
              "      <th>Wind Bearing (degrees)</th>\n",
              "      <th>Visibility (km)</th>\n",
              "      <th>Loud Cover</th>\n",
              "      <th>Pressure (millibars)</th>\n",
              "      <th>Daily Summary</th>\n",
              "    </tr>\n",
              "  </thead>\n",
              "  <tbody>\n",
              "    <tr>\n",
              "      <th>96448</th>\n",
              "      <td>2016-09-09 19:00:00.000 +0200</td>\n",
              "      <td>Partly Cloudy</td>\n",
              "      <td>rain</td>\n",
              "      <td>26.016667</td>\n",
              "      <td>26.016667</td>\n",
              "      <td>0.43</td>\n",
              "      <td>10.9963</td>\n",
              "      <td>31.0</td>\n",
              "      <td>16.1000</td>\n",
              "      <td>0.0</td>\n",
              "      <td>1014.36</td>\n",
              "      <td>Partly cloudy starting in the morning.</td>\n",
              "    </tr>\n",
              "    <tr>\n",
              "      <th>96449</th>\n",
              "      <td>2016-09-09 20:00:00.000 +0200</td>\n",
              "      <td>Partly Cloudy</td>\n",
              "      <td>rain</td>\n",
              "      <td>24.583333</td>\n",
              "      <td>24.583333</td>\n",
              "      <td>0.48</td>\n",
              "      <td>10.0947</td>\n",
              "      <td>20.0</td>\n",
              "      <td>15.5526</td>\n",
              "      <td>0.0</td>\n",
              "      <td>1015.16</td>\n",
              "      <td>Partly cloudy starting in the morning.</td>\n",
              "    </tr>\n",
              "    <tr>\n",
              "      <th>96450</th>\n",
              "      <td>2016-09-09 21:00:00.000 +0200</td>\n",
              "      <td>Partly Cloudy</td>\n",
              "      <td>rain</td>\n",
              "      <td>22.038889</td>\n",
              "      <td>22.038889</td>\n",
              "      <td>0.56</td>\n",
              "      <td>8.9838</td>\n",
              "      <td>30.0</td>\n",
              "      <td>16.1000</td>\n",
              "      <td>0.0</td>\n",
              "      <td>1015.66</td>\n",
              "      <td>Partly cloudy starting in the morning.</td>\n",
              "    </tr>\n",
              "    <tr>\n",
              "      <th>96451</th>\n",
              "      <td>2016-09-09 22:00:00.000 +0200</td>\n",
              "      <td>Partly Cloudy</td>\n",
              "      <td>rain</td>\n",
              "      <td>21.522222</td>\n",
              "      <td>21.522222</td>\n",
              "      <td>0.60</td>\n",
              "      <td>10.5294</td>\n",
              "      <td>20.0</td>\n",
              "      <td>16.1000</td>\n",
              "      <td>0.0</td>\n",
              "      <td>1015.95</td>\n",
              "      <td>Partly cloudy starting in the morning.</td>\n",
              "    </tr>\n",
              "    <tr>\n",
              "      <th>96452</th>\n",
              "      <td>2016-09-09 23:00:00.000 +0200</td>\n",
              "      <td>Partly Cloudy</td>\n",
              "      <td>rain</td>\n",
              "      <td>20.438889</td>\n",
              "      <td>20.438889</td>\n",
              "      <td>0.61</td>\n",
              "      <td>5.8765</td>\n",
              "      <td>39.0</td>\n",
              "      <td>15.5204</td>\n",
              "      <td>0.0</td>\n",
              "      <td>1016.16</td>\n",
              "      <td>Partly cloudy starting in the morning.</td>\n",
              "    </tr>\n",
              "  </tbody>\n",
              "</table>\n",
              "</div>"
            ],
            "text/plain": [
              "                      Formatted Date        Summary Precip Type  \\\n",
              "96448  2016-09-09 19:00:00.000 +0200  Partly Cloudy        rain   \n",
              "96449  2016-09-09 20:00:00.000 +0200  Partly Cloudy        rain   \n",
              "96450  2016-09-09 21:00:00.000 +0200  Partly Cloudy        rain   \n",
              "96451  2016-09-09 22:00:00.000 +0200  Partly Cloudy        rain   \n",
              "96452  2016-09-09 23:00:00.000 +0200  Partly Cloudy        rain   \n",
              "\n",
              "       Temperature (C)  Apparent Temperature (C)  Humidity  Wind Speed (km/h)  \\\n",
              "96448        26.016667                 26.016667      0.43            10.9963   \n",
              "96449        24.583333                 24.583333      0.48            10.0947   \n",
              "96450        22.038889                 22.038889      0.56             8.9838   \n",
              "96451        21.522222                 21.522222      0.60            10.5294   \n",
              "96452        20.438889                 20.438889      0.61             5.8765   \n",
              "\n",
              "       Wind Bearing (degrees)  Visibility (km)  Loud Cover  \\\n",
              "96448                    31.0          16.1000         0.0   \n",
              "96449                    20.0          15.5526         0.0   \n",
              "96450                    30.0          16.1000         0.0   \n",
              "96451                    20.0          16.1000         0.0   \n",
              "96452                    39.0          15.5204         0.0   \n",
              "\n",
              "       Pressure (millibars)                           Daily Summary  \n",
              "96448               1014.36  Partly cloudy starting in the morning.  \n",
              "96449               1015.16  Partly cloudy starting in the morning.  \n",
              "96450               1015.66  Partly cloudy starting in the morning.  \n",
              "96451               1015.95  Partly cloudy starting in the morning.  \n",
              "96452               1016.16  Partly cloudy starting in the morning.  "
            ]
          },
          "metadata": {
            "tags": []
          },
          "execution_count": 8
        }
      ]
    },
    {
      "cell_type": "code",
      "metadata": {
        "id": "ywLsGm7ObJPy"
      },
      "source": [
        "#Add code"
      ],
      "execution_count": null,
      "outputs": []
    },
    {
      "cell_type": "code",
      "metadata": {
        "id": "4JqIzbLByKPH",
        "outputId": "e0c2d75b-2ed2-4e3c-c25e-1b27a6632893"
      },
      "source": [
        "d.tail(9) # last 9 rows"
      ],
      "execution_count": null,
      "outputs": [
        {
          "output_type": "execute_result",
          "data": {
            "text/html": [
              "<div>\n",
              "<style scoped>\n",
              "    .dataframe tbody tr th:only-of-type {\n",
              "        vertical-align: middle;\n",
              "    }\n",
              "\n",
              "    .dataframe tbody tr th {\n",
              "        vertical-align: top;\n",
              "    }\n",
              "\n",
              "    .dataframe thead th {\n",
              "        text-align: right;\n",
              "    }\n",
              "</style>\n",
              "<table border=\"1\" class=\"dataframe\">\n",
              "  <thead>\n",
              "    <tr style=\"text-align: right;\">\n",
              "      <th></th>\n",
              "      <th>Formatted Date</th>\n",
              "      <th>Summary</th>\n",
              "      <th>Precip Type</th>\n",
              "      <th>Temperature (C)</th>\n",
              "      <th>Apparent Temperature (C)</th>\n",
              "      <th>Humidity</th>\n",
              "      <th>Wind Speed (km/h)</th>\n",
              "      <th>Wind Bearing (degrees)</th>\n",
              "      <th>Visibility (km)</th>\n",
              "      <th>Loud Cover</th>\n",
              "      <th>Pressure (millibars)</th>\n",
              "      <th>Daily Summary</th>\n",
              "    </tr>\n",
              "  </thead>\n",
              "  <tbody>\n",
              "    <tr>\n",
              "      <th>96444</th>\n",
              "      <td>2016-09-09 15:00:00.000 +0200</td>\n",
              "      <td>Partly Cloudy</td>\n",
              "      <td>rain</td>\n",
              "      <td>31.083333</td>\n",
              "      <td>29.616667</td>\n",
              "      <td>0.28</td>\n",
              "      <td>15.5043</td>\n",
              "      <td>40.0</td>\n",
              "      <td>16.1000</td>\n",
              "      <td>0.0</td>\n",
              "      <td>1014.17</td>\n",
              "      <td>Partly cloudy starting in the morning.</td>\n",
              "    </tr>\n",
              "    <tr>\n",
              "      <th>96445</th>\n",
              "      <td>2016-09-09 16:00:00.000 +0200</td>\n",
              "      <td>Partly Cloudy</td>\n",
              "      <td>rain</td>\n",
              "      <td>31.083333</td>\n",
              "      <td>29.611111</td>\n",
              "      <td>0.28</td>\n",
              "      <td>13.8943</td>\n",
              "      <td>40.0</td>\n",
              "      <td>16.1000</td>\n",
              "      <td>0.0</td>\n",
              "      <td>1013.97</td>\n",
              "      <td>Partly cloudy starting in the morning.</td>\n",
              "    </tr>\n",
              "    <tr>\n",
              "      <th>96446</th>\n",
              "      <td>2016-09-09 17:00:00.000 +0200</td>\n",
              "      <td>Partly Cloudy</td>\n",
              "      <td>rain</td>\n",
              "      <td>30.766667</td>\n",
              "      <td>29.311111</td>\n",
              "      <td>0.28</td>\n",
              "      <td>14.2163</td>\n",
              "      <td>24.0</td>\n",
              "      <td>15.5526</td>\n",
              "      <td>0.0</td>\n",
              "      <td>1013.83</td>\n",
              "      <td>Partly cloudy starting in the morning.</td>\n",
              "    </tr>\n",
              "    <tr>\n",
              "      <th>96447</th>\n",
              "      <td>2016-09-09 18:00:00.000 +0200</td>\n",
              "      <td>Partly Cloudy</td>\n",
              "      <td>rain</td>\n",
              "      <td>28.838889</td>\n",
              "      <td>27.850000</td>\n",
              "      <td>0.32</td>\n",
              "      <td>12.2038</td>\n",
              "      <td>21.0</td>\n",
              "      <td>16.1000</td>\n",
              "      <td>0.0</td>\n",
              "      <td>1014.07</td>\n",
              "      <td>Partly cloudy starting in the morning.</td>\n",
              "    </tr>\n",
              "    <tr>\n",
              "      <th>96448</th>\n",
              "      <td>2016-09-09 19:00:00.000 +0200</td>\n",
              "      <td>Partly Cloudy</td>\n",
              "      <td>rain</td>\n",
              "      <td>26.016667</td>\n",
              "      <td>26.016667</td>\n",
              "      <td>0.43</td>\n",
              "      <td>10.9963</td>\n",
              "      <td>31.0</td>\n",
              "      <td>16.1000</td>\n",
              "      <td>0.0</td>\n",
              "      <td>1014.36</td>\n",
              "      <td>Partly cloudy starting in the morning.</td>\n",
              "    </tr>\n",
              "    <tr>\n",
              "      <th>96449</th>\n",
              "      <td>2016-09-09 20:00:00.000 +0200</td>\n",
              "      <td>Partly Cloudy</td>\n",
              "      <td>rain</td>\n",
              "      <td>24.583333</td>\n",
              "      <td>24.583333</td>\n",
              "      <td>0.48</td>\n",
              "      <td>10.0947</td>\n",
              "      <td>20.0</td>\n",
              "      <td>15.5526</td>\n",
              "      <td>0.0</td>\n",
              "      <td>1015.16</td>\n",
              "      <td>Partly cloudy starting in the morning.</td>\n",
              "    </tr>\n",
              "    <tr>\n",
              "      <th>96450</th>\n",
              "      <td>2016-09-09 21:00:00.000 +0200</td>\n",
              "      <td>Partly Cloudy</td>\n",
              "      <td>rain</td>\n",
              "      <td>22.038889</td>\n",
              "      <td>22.038889</td>\n",
              "      <td>0.56</td>\n",
              "      <td>8.9838</td>\n",
              "      <td>30.0</td>\n",
              "      <td>16.1000</td>\n",
              "      <td>0.0</td>\n",
              "      <td>1015.66</td>\n",
              "      <td>Partly cloudy starting in the morning.</td>\n",
              "    </tr>\n",
              "    <tr>\n",
              "      <th>96451</th>\n",
              "      <td>2016-09-09 22:00:00.000 +0200</td>\n",
              "      <td>Partly Cloudy</td>\n",
              "      <td>rain</td>\n",
              "      <td>21.522222</td>\n",
              "      <td>21.522222</td>\n",
              "      <td>0.60</td>\n",
              "      <td>10.5294</td>\n",
              "      <td>20.0</td>\n",
              "      <td>16.1000</td>\n",
              "      <td>0.0</td>\n",
              "      <td>1015.95</td>\n",
              "      <td>Partly cloudy starting in the morning.</td>\n",
              "    </tr>\n",
              "    <tr>\n",
              "      <th>96452</th>\n",
              "      <td>2016-09-09 23:00:00.000 +0200</td>\n",
              "      <td>Partly Cloudy</td>\n",
              "      <td>rain</td>\n",
              "      <td>20.438889</td>\n",
              "      <td>20.438889</td>\n",
              "      <td>0.61</td>\n",
              "      <td>5.8765</td>\n",
              "      <td>39.0</td>\n",
              "      <td>15.5204</td>\n",
              "      <td>0.0</td>\n",
              "      <td>1016.16</td>\n",
              "      <td>Partly cloudy starting in the morning.</td>\n",
              "    </tr>\n",
              "  </tbody>\n",
              "</table>\n",
              "</div>"
            ],
            "text/plain": [
              "                      Formatted Date        Summary Precip Type  \\\n",
              "96444  2016-09-09 15:00:00.000 +0200  Partly Cloudy        rain   \n",
              "96445  2016-09-09 16:00:00.000 +0200  Partly Cloudy        rain   \n",
              "96446  2016-09-09 17:00:00.000 +0200  Partly Cloudy        rain   \n",
              "96447  2016-09-09 18:00:00.000 +0200  Partly Cloudy        rain   \n",
              "96448  2016-09-09 19:00:00.000 +0200  Partly Cloudy        rain   \n",
              "96449  2016-09-09 20:00:00.000 +0200  Partly Cloudy        rain   \n",
              "96450  2016-09-09 21:00:00.000 +0200  Partly Cloudy        rain   \n",
              "96451  2016-09-09 22:00:00.000 +0200  Partly Cloudy        rain   \n",
              "96452  2016-09-09 23:00:00.000 +0200  Partly Cloudy        rain   \n",
              "\n",
              "       Temperature (C)  Apparent Temperature (C)  Humidity  Wind Speed (km/h)  \\\n",
              "96444        31.083333                 29.616667      0.28            15.5043   \n",
              "96445        31.083333                 29.611111      0.28            13.8943   \n",
              "96446        30.766667                 29.311111      0.28            14.2163   \n",
              "96447        28.838889                 27.850000      0.32            12.2038   \n",
              "96448        26.016667                 26.016667      0.43            10.9963   \n",
              "96449        24.583333                 24.583333      0.48            10.0947   \n",
              "96450        22.038889                 22.038889      0.56             8.9838   \n",
              "96451        21.522222                 21.522222      0.60            10.5294   \n",
              "96452        20.438889                 20.438889      0.61             5.8765   \n",
              "\n",
              "       Wind Bearing (degrees)  Visibility (km)  Loud Cover  \\\n",
              "96444                    40.0          16.1000         0.0   \n",
              "96445                    40.0          16.1000         0.0   \n",
              "96446                    24.0          15.5526         0.0   \n",
              "96447                    21.0          16.1000         0.0   \n",
              "96448                    31.0          16.1000         0.0   \n",
              "96449                    20.0          15.5526         0.0   \n",
              "96450                    30.0          16.1000         0.0   \n",
              "96451                    20.0          16.1000         0.0   \n",
              "96452                    39.0          15.5204         0.0   \n",
              "\n",
              "       Pressure (millibars)                           Daily Summary  \n",
              "96444               1014.17  Partly cloudy starting in the morning.  \n",
              "96445               1013.97  Partly cloudy starting in the morning.  \n",
              "96446               1013.83  Partly cloudy starting in the morning.  \n",
              "96447               1014.07  Partly cloudy starting in the morning.  \n",
              "96448               1014.36  Partly cloudy starting in the morning.  \n",
              "96449               1015.16  Partly cloudy starting in the morning.  \n",
              "96450               1015.66  Partly cloudy starting in the morning.  \n",
              "96451               1015.95  Partly cloudy starting in the morning.  \n",
              "96452               1016.16  Partly cloudy starting in the morning.  "
            ]
          },
          "metadata": {
            "tags": []
          },
          "execution_count": 9
        }
      ]
    },
    {
      "cell_type": "markdown",
      "metadata": {
        "id": "0rWgkVkQyKPI"
      },
      "source": [
        "#### Slicing the dataframe\n",
        " * Suppose you want to get 10 rows of the dataframe ranging from row 20 to 30. <br>\n",
        "   <code> d[20<b>:</b>30+1] </code>"
      ]
    },
    {
      "cell_type": "code",
      "metadata": {
        "id": "No9GkUJQ3Lm4"
      },
      "source": [
        "#Add code"
      ],
      "execution_count": null,
      "outputs": []
    },
    {
      "cell_type": "code",
      "metadata": {
        "colab": {
          "base_uri": "https://localhost:8080/",
          "height": 581
        },
        "id": "2FwJKvSByKPI",
        "outputId": "51cf3638-44be-4c77-9e2e-52bdc75b7a0b"
      },
      "source": [
        "d[20:31]"
      ],
      "execution_count": null,
      "outputs": [
        {
          "output_type": "execute_result",
          "data": {
            "text/html": [
              "<div>\n",
              "<style scoped>\n",
              "    .dataframe tbody tr th:only-of-type {\n",
              "        vertical-align: middle;\n",
              "    }\n",
              "\n",
              "    .dataframe tbody tr th {\n",
              "        vertical-align: top;\n",
              "    }\n",
              "\n",
              "    .dataframe thead th {\n",
              "        text-align: right;\n",
              "    }\n",
              "</style>\n",
              "<table border=\"1\" class=\"dataframe\">\n",
              "  <thead>\n",
              "    <tr style=\"text-align: right;\">\n",
              "      <th></th>\n",
              "      <th>Formatted Date</th>\n",
              "      <th>Summary</th>\n",
              "      <th>Precip Type</th>\n",
              "      <th>Temperature (C)</th>\n",
              "      <th>Apparent Temperature (C)</th>\n",
              "      <th>Humidity</th>\n",
              "      <th>Wind Speed (km/h)</th>\n",
              "      <th>Wind Bearing (degrees)</th>\n",
              "      <th>Visibility (km)</th>\n",
              "      <th>Loud Cover</th>\n",
              "      <th>Pressure (millibars)</th>\n",
              "      <th>Daily Summary</th>\n",
              "    </tr>\n",
              "  </thead>\n",
              "  <tbody>\n",
              "    <tr>\n",
              "      <th>20</th>\n",
              "      <td>2006-04-01 20:00:00.000 +0200</td>\n",
              "      <td>Mostly Cloudy</td>\n",
              "      <td>rain</td>\n",
              "      <td>11.550000</td>\n",
              "      <td>11.550000</td>\n",
              "      <td>0.77</td>\n",
              "      <td>7.3899</td>\n",
              "      <td>147.0</td>\n",
              "      <td>11.0285</td>\n",
              "      <td>0.0</td>\n",
              "      <td>1015.85</td>\n",
              "      <td>Partly cloudy throughout the day.</td>\n",
              "    </tr>\n",
              "    <tr>\n",
              "      <th>21</th>\n",
              "      <td>2006-04-01 21:00:00.000 +0200</td>\n",
              "      <td>Mostly Cloudy</td>\n",
              "      <td>rain</td>\n",
              "      <td>11.183333</td>\n",
              "      <td>11.183333</td>\n",
              "      <td>0.76</td>\n",
              "      <td>4.9266</td>\n",
              "      <td>160.0</td>\n",
              "      <td>9.9820</td>\n",
              "      <td>0.0</td>\n",
              "      <td>1015.77</td>\n",
              "      <td>Partly cloudy throughout the day.</td>\n",
              "    </tr>\n",
              "    <tr>\n",
              "      <th>22</th>\n",
              "      <td>2006-04-01 22:00:00.000 +0200</td>\n",
              "      <td>Partly Cloudy</td>\n",
              "      <td>rain</td>\n",
              "      <td>10.116667</td>\n",
              "      <td>10.116667</td>\n",
              "      <td>0.79</td>\n",
              "      <td>6.6493</td>\n",
              "      <td>163.0</td>\n",
              "      <td>15.8263</td>\n",
              "      <td>0.0</td>\n",
              "      <td>1015.40</td>\n",
              "      <td>Partly cloudy throughout the day.</td>\n",
              "    </tr>\n",
              "    <tr>\n",
              "      <th>23</th>\n",
              "      <td>2006-04-01 23:00:00.000 +0200</td>\n",
              "      <td>Mostly Cloudy</td>\n",
              "      <td>rain</td>\n",
              "      <td>10.200000</td>\n",
              "      <td>10.200000</td>\n",
              "      <td>0.77</td>\n",
              "      <td>3.9284</td>\n",
              "      <td>152.0</td>\n",
              "      <td>14.9569</td>\n",
              "      <td>0.0</td>\n",
              "      <td>1015.51</td>\n",
              "      <td>Partly cloudy throughout the day.</td>\n",
              "    </tr>\n",
              "    <tr>\n",
              "      <th>24</th>\n",
              "      <td>2006-04-10 00:00:00.000 +0200</td>\n",
              "      <td>Partly Cloudy</td>\n",
              "      <td>rain</td>\n",
              "      <td>10.422222</td>\n",
              "      <td>10.422222</td>\n",
              "      <td>0.62</td>\n",
              "      <td>16.9855</td>\n",
              "      <td>150.0</td>\n",
              "      <td>15.8263</td>\n",
              "      <td>0.0</td>\n",
              "      <td>1014.40</td>\n",
              "      <td>Mostly cloudy throughout the day.</td>\n",
              "    </tr>\n",
              "    <tr>\n",
              "      <th>25</th>\n",
              "      <td>2006-04-10 01:00:00.000 +0200</td>\n",
              "      <td>Partly Cloudy</td>\n",
              "      <td>rain</td>\n",
              "      <td>9.911111</td>\n",
              "      <td>7.566667</td>\n",
              "      <td>0.66</td>\n",
              "      <td>17.2109</td>\n",
              "      <td>149.0</td>\n",
              "      <td>15.8263</td>\n",
              "      <td>0.0</td>\n",
              "      <td>1014.20</td>\n",
              "      <td>Mostly cloudy throughout the day.</td>\n",
              "    </tr>\n",
              "    <tr>\n",
              "      <th>26</th>\n",
              "      <td>2006-04-10 02:00:00.000 +0200</td>\n",
              "      <td>Mostly Cloudy</td>\n",
              "      <td>rain</td>\n",
              "      <td>11.183333</td>\n",
              "      <td>11.183333</td>\n",
              "      <td>0.80</td>\n",
              "      <td>10.8192</td>\n",
              "      <td>163.0</td>\n",
              "      <td>14.9569</td>\n",
              "      <td>0.0</td>\n",
              "      <td>1008.71</td>\n",
              "      <td>Mostly cloudy throughout the day.</td>\n",
              "    </tr>\n",
              "    <tr>\n",
              "      <th>27</th>\n",
              "      <td>2006-04-10 03:00:00.000 +0200</td>\n",
              "      <td>Partly Cloudy</td>\n",
              "      <td>rain</td>\n",
              "      <td>7.155556</td>\n",
              "      <td>5.044444</td>\n",
              "      <td>0.79</td>\n",
              "      <td>11.0768</td>\n",
              "      <td>180.0</td>\n",
              "      <td>15.8263</td>\n",
              "      <td>0.0</td>\n",
              "      <td>1014.47</td>\n",
              "      <td>Mostly cloudy throughout the day.</td>\n",
              "    </tr>\n",
              "    <tr>\n",
              "      <th>28</th>\n",
              "      <td>2006-04-10 04:00:00.000 +0200</td>\n",
              "      <td>Partly Cloudy</td>\n",
              "      <td>rain</td>\n",
              "      <td>6.111111</td>\n",
              "      <td>4.816667</td>\n",
              "      <td>0.82</td>\n",
              "      <td>6.6493</td>\n",
              "      <td>161.0</td>\n",
              "      <td>15.8263</td>\n",
              "      <td>0.0</td>\n",
              "      <td>1014.45</td>\n",
              "      <td>Mostly cloudy throughout the day.</td>\n",
              "    </tr>\n",
              "    <tr>\n",
              "      <th>29</th>\n",
              "      <td>2006-04-10 05:00:00.000 +0200</td>\n",
              "      <td>Partly Cloudy</td>\n",
              "      <td>rain</td>\n",
              "      <td>6.788889</td>\n",
              "      <td>4.272222</td>\n",
              "      <td>0.83</td>\n",
              "      <td>13.0088</td>\n",
              "      <td>135.0</td>\n",
              "      <td>14.9569</td>\n",
              "      <td>0.0</td>\n",
              "      <td>1014.49</td>\n",
              "      <td>Mostly cloudy throughout the day.</td>\n",
              "    </tr>\n",
              "    <tr>\n",
              "      <th>30</th>\n",
              "      <td>2006-04-10 06:00:00.000 +0200</td>\n",
              "      <td>Mostly Cloudy</td>\n",
              "      <td>rain</td>\n",
              "      <td>7.261111</td>\n",
              "      <td>5.155556</td>\n",
              "      <td>0.85</td>\n",
              "      <td>11.1734</td>\n",
              "      <td>141.0</td>\n",
              "      <td>6.1985</td>\n",
              "      <td>0.0</td>\n",
              "      <td>1014.52</td>\n",
              "      <td>Mostly cloudy throughout the day.</td>\n",
              "    </tr>\n",
              "  </tbody>\n",
              "</table>\n",
              "</div>"
            ],
            "text/plain": [
              "                   Formatted Date  ...                      Daily Summary\n",
              "20  2006-04-01 20:00:00.000 +0200  ...  Partly cloudy throughout the day.\n",
              "21  2006-04-01 21:00:00.000 +0200  ...  Partly cloudy throughout the day.\n",
              "22  2006-04-01 22:00:00.000 +0200  ...  Partly cloudy throughout the day.\n",
              "23  2006-04-01 23:00:00.000 +0200  ...  Partly cloudy throughout the day.\n",
              "24  2006-04-10 00:00:00.000 +0200  ...  Mostly cloudy throughout the day.\n",
              "25  2006-04-10 01:00:00.000 +0200  ...  Mostly cloudy throughout the day.\n",
              "26  2006-04-10 02:00:00.000 +0200  ...  Mostly cloudy throughout the day.\n",
              "27  2006-04-10 03:00:00.000 +0200  ...  Mostly cloudy throughout the day.\n",
              "28  2006-04-10 04:00:00.000 +0200  ...  Mostly cloudy throughout the day.\n",
              "29  2006-04-10 05:00:00.000 +0200  ...  Mostly cloudy throughout the day.\n",
              "30  2006-04-10 06:00:00.000 +0200  ...  Mostly cloudy throughout the day.\n",
              "\n",
              "[11 rows x 12 columns]"
            ]
          },
          "metadata": {
            "tags": []
          },
          "execution_count": 7
        }
      ]
    },
    {
      "cell_type": "markdown",
      "metadata": {
        "id": "aGHI_GKYyKPI"
      },
      "source": [
        "#### Accessing the particular column of dataframe :\n",
        " * You can access the particular column of the dataframe<br>\n",
        "    for example you want to access Humidity column  <br>\n",
        "    \n",
        "    <code> d['Humidity'] </code>"
      ]
    },
    {
      "cell_type": "code",
      "metadata": {
        "id": "lHisfdOm3atv"
      },
      "source": [
        "#Add code"
      ],
      "execution_count": null,
      "outputs": []
    },
    {
      "cell_type": "code",
      "metadata": {
        "colab": {
          "base_uri": "https://localhost:8080/"
        },
        "id": "uU-EOc29yKPI",
        "outputId": "4026fd06-038a-4610-c6ed-14933bf9f1d6"
      },
      "source": [
        "d['Humidity'].head(10) \n",
        "#Here i have applied head() function just to see only first 10 values because humidity \n",
        "#column has too many values"
      ],
      "execution_count": null,
      "outputs": [
        {
          "output_type": "execute_result",
          "data": {
            "text/plain": [
              "0    0.89\n",
              "1    0.86\n",
              "2    0.89\n",
              "3    0.83\n",
              "4    0.83\n",
              "5    0.85\n",
              "6    0.95\n",
              "7    0.89\n",
              "8    0.82\n",
              "9    0.72\n",
              "Name: Humidity, dtype: float64"
            ]
          },
          "metadata": {
            "tags": []
          },
          "execution_count": 8
        }
      ]
    },
    {
      "cell_type": "markdown",
      "metadata": {
        "id": "9A68BfQsyKPI"
      },
      "source": [
        "#### Finding min, max and average of a column:\n",
        "  * <b>min() :</b> To find minimum of a column\n",
        "  * <b>max() :</b> To find maximum of a column <br>\n",
        "  * <b>mean() :</b> To find average of a column <br>\n",
        "  \n",
        "Find minimum and maximum of Humidity column-"
      ]
    },
    {
      "cell_type": "markdown",
      "metadata": {
        "id": "NnYtQ2jq3gww"
      },
      "source": [
        "Find min()\n",
        "\n",
        "d['Humidity'].min() "
      ]
    },
    {
      "cell_type": "code",
      "metadata": {
        "id": "GjxiHRTo3meO"
      },
      "source": [
        "#Add code"
      ],
      "execution_count": null,
      "outputs": []
    },
    {
      "cell_type": "code",
      "metadata": {
        "colab": {
          "base_uri": "https://localhost:8080/"
        },
        "id": "T_8HLXeUyKPJ",
        "outputId": "399746cd-25e2-4a59-93f5-09226bfeda96"
      },
      "source": [
        "d['Humidity'].min() \n",
        "#Printing minimum value of Humidity"
      ],
      "execution_count": null,
      "outputs": [
        {
          "output_type": "execute_result",
          "data": {
            "text/plain": [
              "0.0"
            ]
          },
          "metadata": {
            "tags": []
          },
          "execution_count": 9
        }
      ]
    },
    {
      "cell_type": "markdown",
      "metadata": {
        "id": "UoeaTXsV3qTn"
      },
      "source": [
        "Find max()\n",
        "\n",
        "d['Humidity'].max()"
      ]
    },
    {
      "cell_type": "code",
      "metadata": {
        "id": "iL-qrKd83vZr"
      },
      "source": [
        "#Add code"
      ],
      "execution_count": null,
      "outputs": []
    },
    {
      "cell_type": "code",
      "metadata": {
        "colab": {
          "base_uri": "https://localhost:8080/"
        },
        "id": "fsdzCZrbyKPJ",
        "outputId": "49acac46-931f-4c8f-d27b-6dc0bec19523"
      },
      "source": [
        "d['Humidity'].max()\n",
        "#Print maximum value Humidity"
      ],
      "execution_count": null,
      "outputs": [
        {
          "output_type": "execute_result",
          "data": {
            "text/plain": [
              "1.0"
            ]
          },
          "metadata": {
            "tags": []
          },
          "execution_count": 10
        }
      ]
    },
    {
      "cell_type": "markdown",
      "metadata": {
        "id": "oi1sqfbM3x8S"
      },
      "source": [
        "Find mean()\n",
        "\n",
        "d['Humidity'].mean()"
      ]
    },
    {
      "cell_type": "code",
      "metadata": {
        "id": "LyDs3w1S325v"
      },
      "source": [
        "#Add code"
      ],
      "execution_count": null,
      "outputs": []
    },
    {
      "cell_type": "code",
      "metadata": {
        "colab": {
          "base_uri": "https://localhost:8080/"
        },
        "id": "dcnMy0OQyKPJ",
        "outputId": "3b29f176-65fc-4612-e52d-3ca3daeeef78"
      },
      "source": [
        "d['Humidity'].mean()\n",
        "#Print average value Humidty"
      ],
      "execution_count": null,
      "outputs": [
        {
          "output_type": "execute_result",
          "data": {
            "text/plain": [
              "0.7348989663358906"
            ]
          },
          "metadata": {
            "tags": []
          },
          "execution_count": 11
        }
      ]
    },
    {
      "cell_type": "markdown",
      "metadata": {
        "id": "IMT4z-OQyKPJ"
      },
      "source": [
        "#### Conditional statements\n",
        "  * <code>d[\"your column\"][\"your condition\"] </code> <br>\n",
        "   It will return all the values in which your condition holds true.\n",
        "#### Examples : <br>\n",
        "  * Find temp when Humidity is minimum<br>\n",
        "  \n",
        "    <code> d['Temperature(C)'][d['Humidity']==d['Humidity'].min() ]</code> <br><br>\n",
        "    \n",
        "  * Find temp when Humidity is maximum <br>\n",
        "  \n",
        "    <code> d['Temperature(C)'][d['Humidity']==d['Humidity'].max() ] </code>"
      ]
    },
    {
      "cell_type": "code",
      "metadata": {
        "id": "hN1DQSyD4Kcd"
      },
      "source": [
        "#Add code"
      ],
      "execution_count": null,
      "outputs": []
    },
    {
      "cell_type": "code",
      "metadata": {
        "colab": {
          "base_uri": "https://localhost:8080/"
        },
        "id": "v__CgDdVyKPJ",
        "outputId": "4985e49e-9c47-4318-f2af-1650cc40af4b"
      },
      "source": [
        " d['Temperature (C)'][d['Humidity']==d['Humidity'].min()]"
      ],
      "execution_count": null,
      "outputs": [
        {
          "output_type": "execute_result",
          "data": {
            "text/plain": [
              "19958    -1.111111\n",
              "28101   -15.000000\n",
              "28103   -15.555556\n",
              "28110   -13.888889\n",
              "29627     1.111111\n",
              "54840   -15.555556\n",
              "54858   -15.000000\n",
              "54870   -16.111111\n",
              "54872   -15.000000\n",
              "54873   -13.888889\n",
              "55086   -12.777778\n",
              "55088   -12.777778\n",
              "55349   -12.222222\n",
              "55350   -12.222222\n",
              "55352   -12.222222\n",
              "55412   -17.777778\n",
              "55469   -17.777778\n",
              "55472   -17.777778\n",
              "55473   -16.111111\n",
              "55481   -12.777778\n",
              "55508   -16.111111\n",
              "55511   -17.777778\n",
              "Name: Temperature (C), dtype: float64"
            ]
          },
          "metadata": {
            "tags": []
          },
          "execution_count": 12
        }
      ]
    },
    {
      "cell_type": "code",
      "metadata": {
        "id": "-xRwwRZ24QIr"
      },
      "source": [
        "#Add code"
      ],
      "execution_count": null,
      "outputs": []
    },
    {
      "cell_type": "code",
      "metadata": {
        "colab": {
          "base_uri": "https://localhost:8080/"
        },
        "id": "xe2sdrSgyKPK",
        "outputId": "a5cda248-a416-4fe6-dbc1-b114678865ed"
      },
      "source": [
        " d['Temperature (C)'][d['Humidity']==d['Humidity'].max()]"
      ],
      "execution_count": null,
      "outputs": [
        {
          "output_type": "execute_result",
          "data": {
            "text/plain": [
              "319      11.972222\n",
              "342       7.155556\n",
              "390       7.688889\n",
              "535       5.933333\n",
              "536      10.405556\n",
              "           ...    \n",
              "95907    14.905556\n",
              "96123     7.594444\n",
              "96148     8.838889\n",
              "96363    12.338889\n",
              "96364    12.872222\n",
              "Name: Temperature (C), Length: 2890, dtype: float64"
            ]
          },
          "metadata": {
            "tags": []
          },
          "execution_count": 13
        }
      ]
    },
    {
      "cell_type": "markdown",
      "metadata": {
        "id": "L3mW7O20yKPL"
      },
      "source": [
        "###  4. Statistical Information using dataframe "
      ]
    },
    {
      "cell_type": "markdown",
      "metadata": {
        "id": "eoOufUJqyKPM"
      },
      "source": [
        "#### Shape of the dataframe\n",
        "  * <b>df.shape :</b> It will return a tuple (rows,columns)"
      ]
    },
    {
      "cell_type": "code",
      "metadata": {
        "id": "tONbemfdbgrB"
      },
      "source": [
        "#Add code"
      ],
      "execution_count": null,
      "outputs": []
    },
    {
      "cell_type": "code",
      "metadata": {
        "colab": {
          "base_uri": "https://localhost:8080/"
        },
        "id": "AeOZL0MjyKPM",
        "outputId": "ad229fd4-f4bf-43db-b147-523ca1b1612c"
      },
      "source": [
        "d.shape"
      ],
      "execution_count": null,
      "outputs": [
        {
          "output_type": "execute_result",
          "data": {
            "text/plain": [
              "(96453, 12)"
            ]
          },
          "metadata": {
            "tags": []
          },
          "execution_count": 14
        }
      ]
    },
    {
      "cell_type": "markdown",
      "metadata": {
        "id": "2GAY-hnzyKPM"
      },
      "source": [
        "#### Statistics of your dataframe\n",
        " * You can see the statistics of your dataframe by calling describe() function\n",
        " * It will print count of the columns,mean,SD,min,max etc..\n",
        "\n",
        " d.describe()"
      ]
    },
    {
      "cell_type": "code",
      "metadata": {
        "id": "iE_LXOSf53O2"
      },
      "source": [
        "#Add code"
      ],
      "execution_count": null,
      "outputs": []
    },
    {
      "cell_type": "code",
      "metadata": {
        "colab": {
          "base_uri": "https://localhost:8080/",
          "height": 290
        },
        "id": "_mE-BihhyKPN",
        "outputId": "a71b6cf0-0a32-4b4e-ffcd-f0632504992a"
      },
      "source": [
        "d.describe()"
      ],
      "execution_count": null,
      "outputs": [
        {
          "output_type": "execute_result",
          "data": {
            "text/html": [
              "<div>\n",
              "<style scoped>\n",
              "    .dataframe tbody tr th:only-of-type {\n",
              "        vertical-align: middle;\n",
              "    }\n",
              "\n",
              "    .dataframe tbody tr th {\n",
              "        vertical-align: top;\n",
              "    }\n",
              "\n",
              "    .dataframe thead th {\n",
              "        text-align: right;\n",
              "    }\n",
              "</style>\n",
              "<table border=\"1\" class=\"dataframe\">\n",
              "  <thead>\n",
              "    <tr style=\"text-align: right;\">\n",
              "      <th></th>\n",
              "      <th>Temperature (C)</th>\n",
              "      <th>Apparent Temperature (C)</th>\n",
              "      <th>Humidity</th>\n",
              "      <th>Wind Speed (km/h)</th>\n",
              "      <th>Wind Bearing (degrees)</th>\n",
              "      <th>Visibility (km)</th>\n",
              "      <th>Loud Cover</th>\n",
              "      <th>Pressure (millibars)</th>\n",
              "    </tr>\n",
              "  </thead>\n",
              "  <tbody>\n",
              "    <tr>\n",
              "      <th>count</th>\n",
              "      <td>96453.000000</td>\n",
              "      <td>96453.000000</td>\n",
              "      <td>96453.000000</td>\n",
              "      <td>96453.000000</td>\n",
              "      <td>96453.000000</td>\n",
              "      <td>96453.000000</td>\n",
              "      <td>96453.0</td>\n",
              "      <td>96453.000000</td>\n",
              "    </tr>\n",
              "    <tr>\n",
              "      <th>mean</th>\n",
              "      <td>11.932678</td>\n",
              "      <td>10.855029</td>\n",
              "      <td>0.734899</td>\n",
              "      <td>10.810640</td>\n",
              "      <td>187.509232</td>\n",
              "      <td>10.347325</td>\n",
              "      <td>0.0</td>\n",
              "      <td>1003.235956</td>\n",
              "    </tr>\n",
              "    <tr>\n",
              "      <th>std</th>\n",
              "      <td>9.551546</td>\n",
              "      <td>10.696847</td>\n",
              "      <td>0.195473</td>\n",
              "      <td>6.913571</td>\n",
              "      <td>107.383428</td>\n",
              "      <td>4.192123</td>\n",
              "      <td>0.0</td>\n",
              "      <td>116.969906</td>\n",
              "    </tr>\n",
              "    <tr>\n",
              "      <th>min</th>\n",
              "      <td>-21.822222</td>\n",
              "      <td>-27.716667</td>\n",
              "      <td>0.000000</td>\n",
              "      <td>0.000000</td>\n",
              "      <td>0.000000</td>\n",
              "      <td>0.000000</td>\n",
              "      <td>0.0</td>\n",
              "      <td>0.000000</td>\n",
              "    </tr>\n",
              "    <tr>\n",
              "      <th>25%</th>\n",
              "      <td>4.688889</td>\n",
              "      <td>2.311111</td>\n",
              "      <td>0.600000</td>\n",
              "      <td>5.828200</td>\n",
              "      <td>116.000000</td>\n",
              "      <td>8.339800</td>\n",
              "      <td>0.0</td>\n",
              "      <td>1011.900000</td>\n",
              "    </tr>\n",
              "    <tr>\n",
              "      <th>50%</th>\n",
              "      <td>12.000000</td>\n",
              "      <td>12.000000</td>\n",
              "      <td>0.780000</td>\n",
              "      <td>9.965900</td>\n",
              "      <td>180.000000</td>\n",
              "      <td>10.046400</td>\n",
              "      <td>0.0</td>\n",
              "      <td>1016.450000</td>\n",
              "    </tr>\n",
              "    <tr>\n",
              "      <th>75%</th>\n",
              "      <td>18.838889</td>\n",
              "      <td>18.838889</td>\n",
              "      <td>0.890000</td>\n",
              "      <td>14.135800</td>\n",
              "      <td>290.000000</td>\n",
              "      <td>14.812000</td>\n",
              "      <td>0.0</td>\n",
              "      <td>1021.090000</td>\n",
              "    </tr>\n",
              "    <tr>\n",
              "      <th>max</th>\n",
              "      <td>39.905556</td>\n",
              "      <td>39.344444</td>\n",
              "      <td>1.000000</td>\n",
              "      <td>63.852600</td>\n",
              "      <td>359.000000</td>\n",
              "      <td>16.100000</td>\n",
              "      <td>0.0</td>\n",
              "      <td>1046.380000</td>\n",
              "    </tr>\n",
              "  </tbody>\n",
              "</table>\n",
              "</div>"
            ],
            "text/plain": [
              "       Temperature (C)  ...  Pressure (millibars)\n",
              "count     96453.000000  ...          96453.000000\n",
              "mean         11.932678  ...           1003.235956\n",
              "std           9.551546  ...            116.969906\n",
              "min         -21.822222  ...              0.000000\n",
              "25%           4.688889  ...           1011.900000\n",
              "50%          12.000000  ...           1016.450000\n",
              "75%          18.838889  ...           1021.090000\n",
              "max          39.905556  ...           1046.380000\n",
              "\n",
              "[8 rows x 8 columns]"
            ]
          },
          "metadata": {
            "tags": []
          },
          "execution_count": 15
        }
      ]
    },
    {
      "cell_type": "markdown",
      "metadata": {
        "id": "RrTOmZDMyKPN"
      },
      "source": [
        "#### Get data based on Condition:\n",
        " * To get dataframe where temperature is greater than 9\n",
        "\n",
        "\n",
        "\n",
        "```\n",
        "d1=d[d['Temperature (C)']>9]\n",
        "d1\n",
        "```\n",
        "\n"
      ]
    },
    {
      "cell_type": "code",
      "metadata": {
        "id": "6andsvxY5-eX"
      },
      "source": [
        "#Add code"
      ],
      "execution_count": null,
      "outputs": []
    },
    {
      "cell_type": "code",
      "metadata": {
        "colab": {
          "base_uri": "https://localhost:8080/",
          "height": 406
        },
        "id": "-9t8uSxryKPN",
        "outputId": "b2bb1886-f2f7-4581-e879-699c4b70012f"
      },
      "source": [
        "d1=d[d['Temperature (C)']>9]\n",
        "d1"
      ],
      "execution_count": null,
      "outputs": [
        {
          "output_type": "execute_result",
          "data": {
            "text/html": [
              "<div>\n",
              "<style scoped>\n",
              "    .dataframe tbody tr th:only-of-type {\n",
              "        vertical-align: middle;\n",
              "    }\n",
              "\n",
              "    .dataframe tbody tr th {\n",
              "        vertical-align: top;\n",
              "    }\n",
              "\n",
              "    .dataframe thead th {\n",
              "        text-align: right;\n",
              "    }\n",
              "</style>\n",
              "<table border=\"1\" class=\"dataframe\">\n",
              "  <thead>\n",
              "    <tr style=\"text-align: right;\">\n",
              "      <th></th>\n",
              "      <th>Formatted Date</th>\n",
              "      <th>Summary</th>\n",
              "      <th>Precip Type</th>\n",
              "      <th>Temperature (C)</th>\n",
              "      <th>Apparent Temperature (C)</th>\n",
              "      <th>Humidity</th>\n",
              "      <th>Wind Speed (km/h)</th>\n",
              "      <th>Wind Bearing (degrees)</th>\n",
              "      <th>Visibility (km)</th>\n",
              "      <th>Loud Cover</th>\n",
              "      <th>Pressure (millibars)</th>\n",
              "      <th>Daily Summary</th>\n",
              "    </tr>\n",
              "  </thead>\n",
              "  <tbody>\n",
              "    <tr>\n",
              "      <th>0</th>\n",
              "      <td>2006-04-01 00:00:00.000 +0200</td>\n",
              "      <td>Partly Cloudy</td>\n",
              "      <td>rain</td>\n",
              "      <td>9.472222</td>\n",
              "      <td>7.388889</td>\n",
              "      <td>0.89</td>\n",
              "      <td>14.1197</td>\n",
              "      <td>251.0</td>\n",
              "      <td>15.8263</td>\n",
              "      <td>0.0</td>\n",
              "      <td>1015.13</td>\n",
              "      <td>Partly cloudy throughout the day.</td>\n",
              "    </tr>\n",
              "    <tr>\n",
              "      <th>1</th>\n",
              "      <td>2006-04-01 01:00:00.000 +0200</td>\n",
              "      <td>Partly Cloudy</td>\n",
              "      <td>rain</td>\n",
              "      <td>9.355556</td>\n",
              "      <td>7.227778</td>\n",
              "      <td>0.86</td>\n",
              "      <td>14.2646</td>\n",
              "      <td>259.0</td>\n",
              "      <td>15.8263</td>\n",
              "      <td>0.0</td>\n",
              "      <td>1015.63</td>\n",
              "      <td>Partly cloudy throughout the day.</td>\n",
              "    </tr>\n",
              "    <tr>\n",
              "      <th>2</th>\n",
              "      <td>2006-04-01 02:00:00.000 +0200</td>\n",
              "      <td>Mostly Cloudy</td>\n",
              "      <td>rain</td>\n",
              "      <td>9.377778</td>\n",
              "      <td>9.377778</td>\n",
              "      <td>0.89</td>\n",
              "      <td>3.9284</td>\n",
              "      <td>204.0</td>\n",
              "      <td>14.9569</td>\n",
              "      <td>0.0</td>\n",
              "      <td>1015.94</td>\n",
              "      <td>Partly cloudy throughout the day.</td>\n",
              "    </tr>\n",
              "    <tr>\n",
              "      <th>5</th>\n",
              "      <td>2006-04-01 05:00:00.000 +0200</td>\n",
              "      <td>Partly Cloudy</td>\n",
              "      <td>rain</td>\n",
              "      <td>9.222222</td>\n",
              "      <td>7.111111</td>\n",
              "      <td>0.85</td>\n",
              "      <td>13.9587</td>\n",
              "      <td>258.0</td>\n",
              "      <td>14.9569</td>\n",
              "      <td>0.0</td>\n",
              "      <td>1016.66</td>\n",
              "      <td>Partly cloudy throughout the day.</td>\n",
              "    </tr>\n",
              "    <tr>\n",
              "      <th>8</th>\n",
              "      <td>2006-04-01 08:00:00.000 +0200</td>\n",
              "      <td>Partly Cloudy</td>\n",
              "      <td>rain</td>\n",
              "      <td>10.822222</td>\n",
              "      <td>10.822222</td>\n",
              "      <td>0.82</td>\n",
              "      <td>11.3183</td>\n",
              "      <td>259.0</td>\n",
              "      <td>9.9820</td>\n",
              "      <td>0.0</td>\n",
              "      <td>1017.37</td>\n",
              "      <td>Partly cloudy throughout the day.</td>\n",
              "    </tr>\n",
              "    <tr>\n",
              "      <th>...</th>\n",
              "      <td>...</td>\n",
              "      <td>...</td>\n",
              "      <td>...</td>\n",
              "      <td>...</td>\n",
              "      <td>...</td>\n",
              "      <td>...</td>\n",
              "      <td>...</td>\n",
              "      <td>...</td>\n",
              "      <td>...</td>\n",
              "      <td>...</td>\n",
              "      <td>...</td>\n",
              "      <td>...</td>\n",
              "    </tr>\n",
              "    <tr>\n",
              "      <th>96448</th>\n",
              "      <td>2016-09-09 19:00:00.000 +0200</td>\n",
              "      <td>Partly Cloudy</td>\n",
              "      <td>rain</td>\n",
              "      <td>26.016667</td>\n",
              "      <td>26.016667</td>\n",
              "      <td>0.43</td>\n",
              "      <td>10.9963</td>\n",
              "      <td>31.0</td>\n",
              "      <td>16.1000</td>\n",
              "      <td>0.0</td>\n",
              "      <td>1014.36</td>\n",
              "      <td>Partly cloudy starting in the morning.</td>\n",
              "    </tr>\n",
              "    <tr>\n",
              "      <th>96449</th>\n",
              "      <td>2016-09-09 20:00:00.000 +0200</td>\n",
              "      <td>Partly Cloudy</td>\n",
              "      <td>rain</td>\n",
              "      <td>24.583333</td>\n",
              "      <td>24.583333</td>\n",
              "      <td>0.48</td>\n",
              "      <td>10.0947</td>\n",
              "      <td>20.0</td>\n",
              "      <td>15.5526</td>\n",
              "      <td>0.0</td>\n",
              "      <td>1015.16</td>\n",
              "      <td>Partly cloudy starting in the morning.</td>\n",
              "    </tr>\n",
              "    <tr>\n",
              "      <th>96450</th>\n",
              "      <td>2016-09-09 21:00:00.000 +0200</td>\n",
              "      <td>Partly Cloudy</td>\n",
              "      <td>rain</td>\n",
              "      <td>22.038889</td>\n",
              "      <td>22.038889</td>\n",
              "      <td>0.56</td>\n",
              "      <td>8.9838</td>\n",
              "      <td>30.0</td>\n",
              "      <td>16.1000</td>\n",
              "      <td>0.0</td>\n",
              "      <td>1015.66</td>\n",
              "      <td>Partly cloudy starting in the morning.</td>\n",
              "    </tr>\n",
              "    <tr>\n",
              "      <th>96451</th>\n",
              "      <td>2016-09-09 22:00:00.000 +0200</td>\n",
              "      <td>Partly Cloudy</td>\n",
              "      <td>rain</td>\n",
              "      <td>21.522222</td>\n",
              "      <td>21.522222</td>\n",
              "      <td>0.60</td>\n",
              "      <td>10.5294</td>\n",
              "      <td>20.0</td>\n",
              "      <td>16.1000</td>\n",
              "      <td>0.0</td>\n",
              "      <td>1015.95</td>\n",
              "      <td>Partly cloudy starting in the morning.</td>\n",
              "    </tr>\n",
              "    <tr>\n",
              "      <th>96452</th>\n",
              "      <td>2016-09-09 23:00:00.000 +0200</td>\n",
              "      <td>Partly Cloudy</td>\n",
              "      <td>rain</td>\n",
              "      <td>20.438889</td>\n",
              "      <td>20.438889</td>\n",
              "      <td>0.61</td>\n",
              "      <td>5.8765</td>\n",
              "      <td>39.0</td>\n",
              "      <td>15.5204</td>\n",
              "      <td>0.0</td>\n",
              "      <td>1016.16</td>\n",
              "      <td>Partly cloudy starting in the morning.</td>\n",
              "    </tr>\n",
              "  </tbody>\n",
              "</table>\n",
              "<p>56606 rows × 12 columns</p>\n",
              "</div>"
            ],
            "text/plain": [
              "                      Formatted Date  ...                           Daily Summary\n",
              "0      2006-04-01 00:00:00.000 +0200  ...       Partly cloudy throughout the day.\n",
              "1      2006-04-01 01:00:00.000 +0200  ...       Partly cloudy throughout the day.\n",
              "2      2006-04-01 02:00:00.000 +0200  ...       Partly cloudy throughout the day.\n",
              "5      2006-04-01 05:00:00.000 +0200  ...       Partly cloudy throughout the day.\n",
              "8      2006-04-01 08:00:00.000 +0200  ...       Partly cloudy throughout the day.\n",
              "...                              ...  ...                                     ...\n",
              "96448  2016-09-09 19:00:00.000 +0200  ...  Partly cloudy starting in the morning.\n",
              "96449  2016-09-09 20:00:00.000 +0200  ...  Partly cloudy starting in the morning.\n",
              "96450  2016-09-09 21:00:00.000 +0200  ...  Partly cloudy starting in the morning.\n",
              "96451  2016-09-09 22:00:00.000 +0200  ...  Partly cloudy starting in the morning.\n",
              "96452  2016-09-09 23:00:00.000 +0200  ...  Partly cloudy starting in the morning.\n",
              "\n",
              "[56606 rows x 12 columns]"
            ]
          },
          "metadata": {
            "tags": []
          },
          "execution_count": 17
        }
      ]
    },
    {
      "cell_type": "markdown",
      "metadata": {
        "id": "nWt1f95oyKPZ"
      },
      "source": [
        "### 5. Handling Missing Data \n",
        "\n",
        "* fillna() method \n",
        "* Forward fill method\n",
        "* Backward fill method\n",
        "* dropna() method\n",
        "\n",
        "\n",
        "     \n"
      ]
    },
    {
      "cell_type": "code",
      "metadata": {
        "colab": {
          "base_uri": "https://localhost:8080/",
          "height": 381
        },
        "id": "w-e0sRKNyKPZ",
        "outputId": "1c286919-ce32-4616-f8e7-ba3d01856880"
      },
      "source": [
        "df=pd.read_csv(datadir+'season.csv')\n",
        "df= df.set_index('dates')\n",
        "df"
      ],
      "execution_count": null,
      "outputs": [
        {
          "output_type": "execute_result",
          "data": {
            "text/html": [
              "<div>\n",
              "<style scoped>\n",
              "    .dataframe tbody tr th:only-of-type {\n",
              "        vertical-align: middle;\n",
              "    }\n",
              "\n",
              "    .dataframe tbody tr th {\n",
              "        vertical-align: top;\n",
              "    }\n",
              "\n",
              "    .dataframe thead th {\n",
              "        text-align: right;\n",
              "    }\n",
              "</style>\n",
              "<table border=\"1\" class=\"dataframe\">\n",
              "  <thead>\n",
              "    <tr style=\"text-align: right;\">\n",
              "      <th></th>\n",
              "      <th>day</th>\n",
              "      <th>temp</th>\n",
              "      <th>wind-speed</th>\n",
              "    </tr>\n",
              "    <tr>\n",
              "      <th>dates</th>\n",
              "      <th></th>\n",
              "      <th></th>\n",
              "      <th></th>\n",
              "    </tr>\n",
              "  </thead>\n",
              "  <tbody>\n",
              "    <tr>\n",
              "      <th>2/1/2012</th>\n",
              "      <td>sunny</td>\n",
              "      <td>45.0</td>\n",
              "      <td>12</td>\n",
              "    </tr>\n",
              "    <tr>\n",
              "      <th>3/1/2012</th>\n",
              "      <td>rainy</td>\n",
              "      <td>46.0</td>\n",
              "      <td>34</td>\n",
              "    </tr>\n",
              "    <tr>\n",
              "      <th>4/1/2012</th>\n",
              "      <td>hot</td>\n",
              "      <td>47.0</td>\n",
              "      <td>45</td>\n",
              "    </tr>\n",
              "    <tr>\n",
              "      <th>5/1/2012</th>\n",
              "      <td>NaN</td>\n",
              "      <td>NaN</td>\n",
              "      <td>56</td>\n",
              "    </tr>\n",
              "    <tr>\n",
              "      <th>6/1/2012</th>\n",
              "      <td>hot</td>\n",
              "      <td>49.0</td>\n",
              "      <td>Not available</td>\n",
              "    </tr>\n",
              "    <tr>\n",
              "      <th>7/1/2012</th>\n",
              "      <td>NaN</td>\n",
              "      <td>NaN</td>\n",
              "      <td>Not available</td>\n",
              "    </tr>\n",
              "    <tr>\n",
              "      <th>8/1/2012</th>\n",
              "      <td>hot</td>\n",
              "      <td>12.0</td>\n",
              "      <td>45</td>\n",
              "    </tr>\n",
              "    <tr>\n",
              "      <th>9/1/2012</th>\n",
              "      <td>rainy</td>\n",
              "      <td>23.0</td>\n",
              "      <td>41</td>\n",
              "    </tr>\n",
              "    <tr>\n",
              "      <th>10/1/2012</th>\n",
              "      <td>NaN</td>\n",
              "      <td>NaN</td>\n",
              "      <td>NaN</td>\n",
              "    </tr>\n",
              "    <tr>\n",
              "      <th>11/1/2012</th>\n",
              "      <td>NaN</td>\n",
              "      <td>NaN</td>\n",
              "      <td>NaN</td>\n",
              "    </tr>\n",
              "  </tbody>\n",
              "</table>\n",
              "</div>"
            ],
            "text/plain": [
              "             day  temp     wind-speed\n",
              "dates                                \n",
              "2/1/2012   sunny  45.0             12\n",
              "3/1/2012   rainy  46.0             34\n",
              "4/1/2012     hot  47.0             45\n",
              "5/1/2012     NaN   NaN             56\n",
              "6/1/2012     hot  49.0  Not available\n",
              "7/1/2012     NaN   NaN  Not available\n",
              "8/1/2012     hot  12.0             45\n",
              "9/1/2012   rainy  23.0             41\n",
              "10/1/2012    NaN   NaN            NaN\n",
              "11/1/2012    NaN   NaN            NaN"
            ]
          },
          "metadata": {
            "tags": []
          },
          "execution_count": 16
        }
      ]
    },
    {
      "cell_type": "markdown",
      "metadata": {
        "id": "HvxAyU1-yKPa"
      },
      "source": [
        "#### Filling all the NaN with any number or string"
      ]
    },
    {
      "cell_type": "markdown",
      "metadata": {
        "id": "F0CXPDG0yKPa"
      },
      "source": [
        "If your dataframe contains NaN values then you cannot do any data analysis operation because NaN does not make any sense.Sometimes it is better to fill it with any number or string.\n",
        "* To fill all the cells containing NaN with any number or string we will use \n",
        "   \n",
        "   fillna ( value ) \n",
        "\n",
        "\n",
        "\n",
        "\n",
        "```\n",
        "df2=df.fillna(0)\n",
        "df2\n",
        "```\n",
        "\n"
      ]
    },
    {
      "cell_type": "code",
      "metadata": {
        "colab": {
          "base_uri": "https://localhost:8080/",
          "height": 381
        },
        "id": "femg12u4yKPa",
        "outputId": "9c1717a8-5d03-4e39-9f55-0cae7a73038b"
      },
      "source": [
        "df"
      ],
      "execution_count": null,
      "outputs": [
        {
          "output_type": "execute_result",
          "data": {
            "text/html": [
              "<div>\n",
              "<style scoped>\n",
              "    .dataframe tbody tr th:only-of-type {\n",
              "        vertical-align: middle;\n",
              "    }\n",
              "\n",
              "    .dataframe tbody tr th {\n",
              "        vertical-align: top;\n",
              "    }\n",
              "\n",
              "    .dataframe thead th {\n",
              "        text-align: right;\n",
              "    }\n",
              "</style>\n",
              "<table border=\"1\" class=\"dataframe\">\n",
              "  <thead>\n",
              "    <tr style=\"text-align: right;\">\n",
              "      <th></th>\n",
              "      <th>day</th>\n",
              "      <th>temp</th>\n",
              "      <th>wind-speed</th>\n",
              "    </tr>\n",
              "    <tr>\n",
              "      <th>dates</th>\n",
              "      <th></th>\n",
              "      <th></th>\n",
              "      <th></th>\n",
              "    </tr>\n",
              "  </thead>\n",
              "  <tbody>\n",
              "    <tr>\n",
              "      <th>2/1/2012</th>\n",
              "      <td>sunny</td>\n",
              "      <td>45.0</td>\n",
              "      <td>12</td>\n",
              "    </tr>\n",
              "    <tr>\n",
              "      <th>3/1/2012</th>\n",
              "      <td>rainy</td>\n",
              "      <td>46.0</td>\n",
              "      <td>34</td>\n",
              "    </tr>\n",
              "    <tr>\n",
              "      <th>4/1/2012</th>\n",
              "      <td>hot</td>\n",
              "      <td>47.0</td>\n",
              "      <td>45</td>\n",
              "    </tr>\n",
              "    <tr>\n",
              "      <th>5/1/2012</th>\n",
              "      <td>NaN</td>\n",
              "      <td>NaN</td>\n",
              "      <td>56</td>\n",
              "    </tr>\n",
              "    <tr>\n",
              "      <th>6/1/2012</th>\n",
              "      <td>hot</td>\n",
              "      <td>49.0</td>\n",
              "      <td>Not available</td>\n",
              "    </tr>\n",
              "    <tr>\n",
              "      <th>7/1/2012</th>\n",
              "      <td>NaN</td>\n",
              "      <td>NaN</td>\n",
              "      <td>Not available</td>\n",
              "    </tr>\n",
              "    <tr>\n",
              "      <th>8/1/2012</th>\n",
              "      <td>hot</td>\n",
              "      <td>12.0</td>\n",
              "      <td>45</td>\n",
              "    </tr>\n",
              "    <tr>\n",
              "      <th>9/1/2012</th>\n",
              "      <td>rainy</td>\n",
              "      <td>23.0</td>\n",
              "      <td>41</td>\n",
              "    </tr>\n",
              "    <tr>\n",
              "      <th>10/1/2012</th>\n",
              "      <td>NaN</td>\n",
              "      <td>NaN</td>\n",
              "      <td>NaN</td>\n",
              "    </tr>\n",
              "    <tr>\n",
              "      <th>11/1/2012</th>\n",
              "      <td>NaN</td>\n",
              "      <td>NaN</td>\n",
              "      <td>NaN</td>\n",
              "    </tr>\n",
              "  </tbody>\n",
              "</table>\n",
              "</div>"
            ],
            "text/plain": [
              "             day  temp     wind-speed\n",
              "dates                                \n",
              "2/1/2012   sunny  45.0             12\n",
              "3/1/2012   rainy  46.0             34\n",
              "4/1/2012     hot  47.0             45\n",
              "5/1/2012     NaN   NaN             56\n",
              "6/1/2012     hot  49.0  Not available\n",
              "7/1/2012     NaN   NaN  Not available\n",
              "8/1/2012     hot  12.0             45\n",
              "9/1/2012   rainy  23.0             41\n",
              "10/1/2012    NaN   NaN            NaN\n",
              "11/1/2012    NaN   NaN            NaN"
            ]
          },
          "metadata": {
            "tags": []
          },
          "execution_count": 17
        }
      ]
    },
    {
      "cell_type": "code",
      "metadata": {
        "id": "YNsu4h4GBZaT"
      },
      "source": [
        "#Add code"
      ],
      "execution_count": null,
      "outputs": []
    },
    {
      "cell_type": "code",
      "metadata": {
        "colab": {
          "base_uri": "https://localhost:8080/",
          "height": 381
        },
        "id": "B8ta5Q9byKPa",
        "outputId": "b2c4a409-6a4d-430a-df49-08328e6b918b"
      },
      "source": [
        "df2=df.fillna(0)\n",
        "df2"
      ],
      "execution_count": null,
      "outputs": [
        {
          "output_type": "execute_result",
          "data": {
            "text/html": [
              "<div>\n",
              "<style scoped>\n",
              "    .dataframe tbody tr th:only-of-type {\n",
              "        vertical-align: middle;\n",
              "    }\n",
              "\n",
              "    .dataframe tbody tr th {\n",
              "        vertical-align: top;\n",
              "    }\n",
              "\n",
              "    .dataframe thead th {\n",
              "        text-align: right;\n",
              "    }\n",
              "</style>\n",
              "<table border=\"1\" class=\"dataframe\">\n",
              "  <thead>\n",
              "    <tr style=\"text-align: right;\">\n",
              "      <th></th>\n",
              "      <th>day</th>\n",
              "      <th>temp</th>\n",
              "      <th>wind-speed</th>\n",
              "    </tr>\n",
              "    <tr>\n",
              "      <th>dates</th>\n",
              "      <th></th>\n",
              "      <th></th>\n",
              "      <th></th>\n",
              "    </tr>\n",
              "  </thead>\n",
              "  <tbody>\n",
              "    <tr>\n",
              "      <th>2/1/2012</th>\n",
              "      <td>sunny</td>\n",
              "      <td>45.0</td>\n",
              "      <td>12</td>\n",
              "    </tr>\n",
              "    <tr>\n",
              "      <th>3/1/2012</th>\n",
              "      <td>rainy</td>\n",
              "      <td>46.0</td>\n",
              "      <td>34</td>\n",
              "    </tr>\n",
              "    <tr>\n",
              "      <th>4/1/2012</th>\n",
              "      <td>hot</td>\n",
              "      <td>47.0</td>\n",
              "      <td>45</td>\n",
              "    </tr>\n",
              "    <tr>\n",
              "      <th>5/1/2012</th>\n",
              "      <td>0</td>\n",
              "      <td>0.0</td>\n",
              "      <td>56</td>\n",
              "    </tr>\n",
              "    <tr>\n",
              "      <th>6/1/2012</th>\n",
              "      <td>hot</td>\n",
              "      <td>49.0</td>\n",
              "      <td>Not available</td>\n",
              "    </tr>\n",
              "    <tr>\n",
              "      <th>7/1/2012</th>\n",
              "      <td>0</td>\n",
              "      <td>0.0</td>\n",
              "      <td>Not available</td>\n",
              "    </tr>\n",
              "    <tr>\n",
              "      <th>8/1/2012</th>\n",
              "      <td>hot</td>\n",
              "      <td>12.0</td>\n",
              "      <td>45</td>\n",
              "    </tr>\n",
              "    <tr>\n",
              "      <th>9/1/2012</th>\n",
              "      <td>rainy</td>\n",
              "      <td>23.0</td>\n",
              "      <td>41</td>\n",
              "    </tr>\n",
              "    <tr>\n",
              "      <th>10/1/2012</th>\n",
              "      <td>0</td>\n",
              "      <td>0.0</td>\n",
              "      <td>0</td>\n",
              "    </tr>\n",
              "    <tr>\n",
              "      <th>11/1/2012</th>\n",
              "      <td>0</td>\n",
              "      <td>0.0</td>\n",
              "      <td>0</td>\n",
              "    </tr>\n",
              "  </tbody>\n",
              "</table>\n",
              "</div>"
            ],
            "text/plain": [
              "             day  temp     wind-speed\n",
              "dates                                \n",
              "2/1/2012   sunny  45.0             12\n",
              "3/1/2012   rainy  46.0             34\n",
              "4/1/2012     hot  47.0             45\n",
              "5/1/2012       0   0.0             56\n",
              "6/1/2012     hot  49.0  Not available\n",
              "7/1/2012       0   0.0  Not available\n",
              "8/1/2012     hot  12.0             45\n",
              "9/1/2012   rainy  23.0             41\n",
              "10/1/2012      0   0.0              0\n",
              "11/1/2012      0   0.0              0"
            ]
          },
          "metadata": {
            "tags": []
          },
          "execution_count": 18
        }
      ]
    },
    {
      "cell_type": "markdown",
      "metadata": {
        "id": "57-w6DtGyKPa"
      },
      "source": [
        "#### Forward Fill Method"
      ]
    },
    {
      "cell_type": "markdown",
      "metadata": {
        "id": "rA6SJEeEyKPa"
      },
      "source": [
        "In various cases filling all NaN with same value leads to wrong conclusion. So you want to fill all the NaN of respective columns with data similar to that column. In the previous example we can see that filling zero in \"day\" column is not meaningful because zero does not denote any condition of day.What if we can fill the data similar to the respective columns. <br>\n",
        "\n",
        "In the forward fill method we fill the value of NaN with the previous value of the same column like if we have NaN value in temp column in fourth row then the fourth row NaN value of temp column will be filled with the value of third row value of same column in this method \n",
        " * This method can be implemented by \n",
        "         \n",
        "         fillna ( method =\" ffill \")\n",
        "\n",
        "\n",
        "\n",
        "```\n",
        "df2=df.fillna(method='ffill')\n",
        "df2\n",
        "```\n",
        "\n"
      ]
    },
    {
      "cell_type": "code",
      "metadata": {
        "id": "krMTkDjfXSIo"
      },
      "source": [
        "df"
      ],
      "execution_count": null,
      "outputs": []
    },
    {
      "cell_type": "code",
      "metadata": {
        "id": "ujRzP_AVB3JG"
      },
      "source": [
        "#Add code"
      ],
      "execution_count": null,
      "outputs": []
    },
    {
      "cell_type": "code",
      "metadata": {
        "colab": {
          "base_uri": "https://localhost:8080/",
          "height": 381
        },
        "id": "6IkXZUH5yKPb",
        "outputId": "bdfcb8d4-e2a3-4e7b-93ea-1135346382d9"
      },
      "source": [
        "df2=df.fillna(method='ffill')\n",
        "df2"
      ],
      "execution_count": null,
      "outputs": [
        {
          "output_type": "execute_result",
          "data": {
            "text/html": [
              "<div>\n",
              "<style scoped>\n",
              "    .dataframe tbody tr th:only-of-type {\n",
              "        vertical-align: middle;\n",
              "    }\n",
              "\n",
              "    .dataframe tbody tr th {\n",
              "        vertical-align: top;\n",
              "    }\n",
              "\n",
              "    .dataframe thead th {\n",
              "        text-align: right;\n",
              "    }\n",
              "</style>\n",
              "<table border=\"1\" class=\"dataframe\">\n",
              "  <thead>\n",
              "    <tr style=\"text-align: right;\">\n",
              "      <th></th>\n",
              "      <th>day</th>\n",
              "      <th>temp</th>\n",
              "      <th>wind-speed</th>\n",
              "    </tr>\n",
              "    <tr>\n",
              "      <th>dates</th>\n",
              "      <th></th>\n",
              "      <th></th>\n",
              "      <th></th>\n",
              "    </tr>\n",
              "  </thead>\n",
              "  <tbody>\n",
              "    <tr>\n",
              "      <th>2/1/2012</th>\n",
              "      <td>sunny</td>\n",
              "      <td>45.0</td>\n",
              "      <td>12</td>\n",
              "    </tr>\n",
              "    <tr>\n",
              "      <th>3/1/2012</th>\n",
              "      <td>rainy</td>\n",
              "      <td>46.0</td>\n",
              "      <td>34</td>\n",
              "    </tr>\n",
              "    <tr>\n",
              "      <th>4/1/2012</th>\n",
              "      <td>hot</td>\n",
              "      <td>47.0</td>\n",
              "      <td>45</td>\n",
              "    </tr>\n",
              "    <tr>\n",
              "      <th>5/1/2012</th>\n",
              "      <td>hot</td>\n",
              "      <td>47.0</td>\n",
              "      <td>56</td>\n",
              "    </tr>\n",
              "    <tr>\n",
              "      <th>6/1/2012</th>\n",
              "      <td>hot</td>\n",
              "      <td>49.0</td>\n",
              "      <td>Not available</td>\n",
              "    </tr>\n",
              "    <tr>\n",
              "      <th>7/1/2012</th>\n",
              "      <td>hot</td>\n",
              "      <td>49.0</td>\n",
              "      <td>Not available</td>\n",
              "    </tr>\n",
              "    <tr>\n",
              "      <th>8/1/2012</th>\n",
              "      <td>hot</td>\n",
              "      <td>12.0</td>\n",
              "      <td>45</td>\n",
              "    </tr>\n",
              "    <tr>\n",
              "      <th>9/1/2012</th>\n",
              "      <td>rainy</td>\n",
              "      <td>23.0</td>\n",
              "      <td>41</td>\n",
              "    </tr>\n",
              "    <tr>\n",
              "      <th>10/1/2012</th>\n",
              "      <td>rainy</td>\n",
              "      <td>23.0</td>\n",
              "      <td>41</td>\n",
              "    </tr>\n",
              "    <tr>\n",
              "      <th>11/1/2012</th>\n",
              "      <td>rainy</td>\n",
              "      <td>23.0</td>\n",
              "      <td>41</td>\n",
              "    </tr>\n",
              "  </tbody>\n",
              "</table>\n",
              "</div>"
            ],
            "text/plain": [
              "             day  temp     wind-speed\n",
              "dates                                \n",
              "2/1/2012   sunny  45.0             12\n",
              "3/1/2012   rainy  46.0             34\n",
              "4/1/2012     hot  47.0             45\n",
              "5/1/2012     hot  47.0             56\n",
              "6/1/2012     hot  49.0  Not available\n",
              "7/1/2012     hot  49.0  Not available\n",
              "8/1/2012     hot  12.0             45\n",
              "9/1/2012   rainy  23.0             41\n",
              "10/1/2012  rainy  23.0             41\n",
              "11/1/2012  rainy  23.0             41"
            ]
          },
          "metadata": {
            "tags": []
          },
          "execution_count": 19
        }
      ]
    },
    {
      "cell_type": "markdown",
      "metadata": {
        "id": "Cih3lloRyKPb"
      },
      "source": [
        "You can observe the 4th and 6th column of the temp and day, there is a change"
      ]
    },
    {
      "cell_type": "markdown",
      "metadata": {
        "id": "PmCPx4q4yKPb"
      },
      "source": [
        "#### Backward Fill method "
      ]
    },
    {
      "cell_type": "markdown",
      "metadata": {
        "id": "7WdFem1NyKPb"
      },
      "source": [
        "This is just opposite of forward fill method.In this method we will fill the NaN value of a dataframe with the value in the same column but next row value like if we have NaN in temp column in 4th row then we will fill it with data in 5th row in the same column.\n",
        "* This can be implemented by   \n",
        "\n",
        "       fillna ( method = \"bfill\")"
      ]
    },
    {
      "cell_type": "code",
      "metadata": {
        "colab": {
          "base_uri": "https://localhost:8080/",
          "height": 381
        },
        "id": "ztP2FqVwCUWa",
        "outputId": "e425baf4-2ab4-44be-9d43-73667614e071"
      },
      "source": [
        "df"
      ],
      "execution_count": null,
      "outputs": [
        {
          "output_type": "execute_result",
          "data": {
            "text/html": [
              "<div>\n",
              "<style scoped>\n",
              "    .dataframe tbody tr th:only-of-type {\n",
              "        vertical-align: middle;\n",
              "    }\n",
              "\n",
              "    .dataframe tbody tr th {\n",
              "        vertical-align: top;\n",
              "    }\n",
              "\n",
              "    .dataframe thead th {\n",
              "        text-align: right;\n",
              "    }\n",
              "</style>\n",
              "<table border=\"1\" class=\"dataframe\">\n",
              "  <thead>\n",
              "    <tr style=\"text-align: right;\">\n",
              "      <th></th>\n",
              "      <th>day</th>\n",
              "      <th>temp</th>\n",
              "      <th>wind-speed</th>\n",
              "    </tr>\n",
              "    <tr>\n",
              "      <th>dates</th>\n",
              "      <th></th>\n",
              "      <th></th>\n",
              "      <th></th>\n",
              "    </tr>\n",
              "  </thead>\n",
              "  <tbody>\n",
              "    <tr>\n",
              "      <th>2/1/2012</th>\n",
              "      <td>sunny</td>\n",
              "      <td>45.0</td>\n",
              "      <td>12</td>\n",
              "    </tr>\n",
              "    <tr>\n",
              "      <th>3/1/2012</th>\n",
              "      <td>rainy</td>\n",
              "      <td>46.0</td>\n",
              "      <td>34</td>\n",
              "    </tr>\n",
              "    <tr>\n",
              "      <th>4/1/2012</th>\n",
              "      <td>hot</td>\n",
              "      <td>47.0</td>\n",
              "      <td>45</td>\n",
              "    </tr>\n",
              "    <tr>\n",
              "      <th>5/1/2012</th>\n",
              "      <td>NaN</td>\n",
              "      <td>NaN</td>\n",
              "      <td>56</td>\n",
              "    </tr>\n",
              "    <tr>\n",
              "      <th>6/1/2012</th>\n",
              "      <td>hot</td>\n",
              "      <td>49.0</td>\n",
              "      <td>Not available</td>\n",
              "    </tr>\n",
              "    <tr>\n",
              "      <th>7/1/2012</th>\n",
              "      <td>NaN</td>\n",
              "      <td>NaN</td>\n",
              "      <td>Not available</td>\n",
              "    </tr>\n",
              "    <tr>\n",
              "      <th>8/1/2012</th>\n",
              "      <td>hot</td>\n",
              "      <td>12.0</td>\n",
              "      <td>45</td>\n",
              "    </tr>\n",
              "    <tr>\n",
              "      <th>9/1/2012</th>\n",
              "      <td>rainy</td>\n",
              "      <td>23.0</td>\n",
              "      <td>41</td>\n",
              "    </tr>\n",
              "    <tr>\n",
              "      <th>10/1/2012</th>\n",
              "      <td>NaN</td>\n",
              "      <td>NaN</td>\n",
              "      <td>NaN</td>\n",
              "    </tr>\n",
              "    <tr>\n",
              "      <th>11/1/2012</th>\n",
              "      <td>NaN</td>\n",
              "      <td>NaN</td>\n",
              "      <td>NaN</td>\n",
              "    </tr>\n",
              "  </tbody>\n",
              "</table>\n",
              "</div>"
            ],
            "text/plain": [
              "             day  temp     wind-speed\n",
              "dates                                \n",
              "2/1/2012   sunny  45.0             12\n",
              "3/1/2012   rainy  46.0             34\n",
              "4/1/2012     hot  47.0             45\n",
              "5/1/2012     NaN   NaN             56\n",
              "6/1/2012     hot  49.0  Not available\n",
              "7/1/2012     NaN   NaN  Not available\n",
              "8/1/2012     hot  12.0             45\n",
              "9/1/2012   rainy  23.0             41\n",
              "10/1/2012    NaN   NaN            NaN\n",
              "11/1/2012    NaN   NaN            NaN"
            ]
          },
          "metadata": {
            "tags": []
          },
          "execution_count": 20
        }
      ]
    },
    {
      "cell_type": "code",
      "metadata": {
        "colab": {
          "base_uri": "https://localhost:8080/",
          "height": 381
        },
        "id": "2rSYlkxRyKPb",
        "outputId": "cf212a05-1361-498d-d031-12fced66ff1d"
      },
      "source": [
        "df2=df.fillna(method=\"bfill\")\n",
        "df2"
      ],
      "execution_count": null,
      "outputs": [
        {
          "output_type": "execute_result",
          "data": {
            "text/html": [
              "<div>\n",
              "<style scoped>\n",
              "    .dataframe tbody tr th:only-of-type {\n",
              "        vertical-align: middle;\n",
              "    }\n",
              "\n",
              "    .dataframe tbody tr th {\n",
              "        vertical-align: top;\n",
              "    }\n",
              "\n",
              "    .dataframe thead th {\n",
              "        text-align: right;\n",
              "    }\n",
              "</style>\n",
              "<table border=\"1\" class=\"dataframe\">\n",
              "  <thead>\n",
              "    <tr style=\"text-align: right;\">\n",
              "      <th></th>\n",
              "      <th>day</th>\n",
              "      <th>temp</th>\n",
              "      <th>wind-speed</th>\n",
              "    </tr>\n",
              "    <tr>\n",
              "      <th>dates</th>\n",
              "      <th></th>\n",
              "      <th></th>\n",
              "      <th></th>\n",
              "    </tr>\n",
              "  </thead>\n",
              "  <tbody>\n",
              "    <tr>\n",
              "      <th>2/1/2012</th>\n",
              "      <td>sunny</td>\n",
              "      <td>45.0</td>\n",
              "      <td>12</td>\n",
              "    </tr>\n",
              "    <tr>\n",
              "      <th>3/1/2012</th>\n",
              "      <td>rainy</td>\n",
              "      <td>46.0</td>\n",
              "      <td>34</td>\n",
              "    </tr>\n",
              "    <tr>\n",
              "      <th>4/1/2012</th>\n",
              "      <td>hot</td>\n",
              "      <td>47.0</td>\n",
              "      <td>45</td>\n",
              "    </tr>\n",
              "    <tr>\n",
              "      <th>5/1/2012</th>\n",
              "      <td>hot</td>\n",
              "      <td>49.0</td>\n",
              "      <td>56</td>\n",
              "    </tr>\n",
              "    <tr>\n",
              "      <th>6/1/2012</th>\n",
              "      <td>hot</td>\n",
              "      <td>49.0</td>\n",
              "      <td>Not available</td>\n",
              "    </tr>\n",
              "    <tr>\n",
              "      <th>7/1/2012</th>\n",
              "      <td>hot</td>\n",
              "      <td>12.0</td>\n",
              "      <td>Not available</td>\n",
              "    </tr>\n",
              "    <tr>\n",
              "      <th>8/1/2012</th>\n",
              "      <td>hot</td>\n",
              "      <td>12.0</td>\n",
              "      <td>45</td>\n",
              "    </tr>\n",
              "    <tr>\n",
              "      <th>9/1/2012</th>\n",
              "      <td>rainy</td>\n",
              "      <td>23.0</td>\n",
              "      <td>41</td>\n",
              "    </tr>\n",
              "    <tr>\n",
              "      <th>10/1/2012</th>\n",
              "      <td>NaN</td>\n",
              "      <td>NaN</td>\n",
              "      <td>NaN</td>\n",
              "    </tr>\n",
              "    <tr>\n",
              "      <th>11/1/2012</th>\n",
              "      <td>NaN</td>\n",
              "      <td>NaN</td>\n",
              "      <td>NaN</td>\n",
              "    </tr>\n",
              "  </tbody>\n",
              "</table>\n",
              "</div>"
            ],
            "text/plain": [
              "             day  temp     wind-speed\n",
              "dates                                \n",
              "2/1/2012   sunny  45.0             12\n",
              "3/1/2012   rainy  46.0             34\n",
              "4/1/2012     hot  47.0             45\n",
              "5/1/2012     hot  49.0             56\n",
              "6/1/2012     hot  49.0  Not available\n",
              "7/1/2012     hot  12.0  Not available\n",
              "8/1/2012     hot  12.0             45\n",
              "9/1/2012   rainy  23.0             41\n",
              "10/1/2012    NaN   NaN            NaN\n",
              "11/1/2012    NaN   NaN            NaN"
            ]
          },
          "metadata": {
            "tags": []
          },
          "execution_count": 21
        }
      ]
    },
    {
      "cell_type": "markdown",
      "metadata": {
        "id": "6WYuT_W1yKPc"
      },
      "source": [
        "#### Interpolation Method "
      ]
    },
    {
      "cell_type": "markdown",
      "metadata": {
        "id": "-DmCrTMjyKPc"
      },
      "source": [
        "If you want to fill your dataframe column with the value relative to that column but not copied from previous or next row of the same column. Suppose value in a column in row-2 is 30 ,the same in row-4 is 34 and row-3 is NaN in same column. In this case if you apply interpolation you will get 32 in the row-2 in the same column.This is called linear interpolation.\n",
        "\n",
        "\n",
        "\n",
        "```\n",
        "df2=df.interpolate()\n",
        "df2\n",
        "```\n",
        "\n"
      ]
    },
    {
      "cell_type": "code",
      "metadata": {
        "id": "fuj6xfCxyKPc",
        "outputId": "9345db94-d3b1-4aab-c4b0-ffe40d527cf5"
      },
      "source": [
        "df"
      ],
      "execution_count": null,
      "outputs": [
        {
          "output_type": "execute_result",
          "data": {
            "text/html": [
              "<div>\n",
              "<style scoped>\n",
              "    .dataframe tbody tr th:only-of-type {\n",
              "        vertical-align: middle;\n",
              "    }\n",
              "\n",
              "    .dataframe tbody tr th {\n",
              "        vertical-align: top;\n",
              "    }\n",
              "\n",
              "    .dataframe thead th {\n",
              "        text-align: right;\n",
              "    }\n",
              "</style>\n",
              "<table border=\"1\" class=\"dataframe\">\n",
              "  <thead>\n",
              "    <tr style=\"text-align: right;\">\n",
              "      <th></th>\n",
              "      <th>dates</th>\n",
              "      <th>day</th>\n",
              "      <th>temp</th>\n",
              "      <th>wind-speed</th>\n",
              "    </tr>\n",
              "  </thead>\n",
              "  <tbody>\n",
              "    <tr>\n",
              "      <th>0</th>\n",
              "      <td>2/1/2012</td>\n",
              "      <td>sunny</td>\n",
              "      <td>45.0</td>\n",
              "      <td>12</td>\n",
              "    </tr>\n",
              "    <tr>\n",
              "      <th>1</th>\n",
              "      <td>3/1/2012</td>\n",
              "      <td>rainy</td>\n",
              "      <td>46.0</td>\n",
              "      <td>34</td>\n",
              "    </tr>\n",
              "    <tr>\n",
              "      <th>2</th>\n",
              "      <td>4/1/2012</td>\n",
              "      <td>hot</td>\n",
              "      <td>47.0</td>\n",
              "      <td>45</td>\n",
              "    </tr>\n",
              "    <tr>\n",
              "      <th>3</th>\n",
              "      <td>5/1/2012</td>\n",
              "      <td>NaN</td>\n",
              "      <td>NaN</td>\n",
              "      <td>56</td>\n",
              "    </tr>\n",
              "    <tr>\n",
              "      <th>4</th>\n",
              "      <td>6/1/2012</td>\n",
              "      <td>hot</td>\n",
              "      <td>49.0</td>\n",
              "      <td>Not available</td>\n",
              "    </tr>\n",
              "    <tr>\n",
              "      <th>5</th>\n",
              "      <td>7/1/2012</td>\n",
              "      <td>NaN</td>\n",
              "      <td>NaN</td>\n",
              "      <td>Not available</td>\n",
              "    </tr>\n",
              "    <tr>\n",
              "      <th>6</th>\n",
              "      <td>8/1/2012</td>\n",
              "      <td>hot</td>\n",
              "      <td>12.0</td>\n",
              "      <td>45</td>\n",
              "    </tr>\n",
              "    <tr>\n",
              "      <th>7</th>\n",
              "      <td>9/1/2012</td>\n",
              "      <td>rainy</td>\n",
              "      <td>23.0</td>\n",
              "      <td>41</td>\n",
              "    </tr>\n",
              "    <tr>\n",
              "      <th>8</th>\n",
              "      <td>10/1/2012</td>\n",
              "      <td>NaN</td>\n",
              "      <td>NaN</td>\n",
              "      <td>NaN</td>\n",
              "    </tr>\n",
              "    <tr>\n",
              "      <th>9</th>\n",
              "      <td>11/1/2012</td>\n",
              "      <td>NaN</td>\n",
              "      <td>NaN</td>\n",
              "      <td>NaN</td>\n",
              "    </tr>\n",
              "  </tbody>\n",
              "</table>\n",
              "</div>"
            ],
            "text/plain": [
              "       dates    day  temp     wind-speed\n",
              "0   2/1/2012  sunny  45.0             12\n",
              "1   3/1/2012  rainy  46.0             34\n",
              "2   4/1/2012    hot  47.0             45\n",
              "3   5/1/2012    NaN   NaN             56\n",
              "4   6/1/2012    hot  49.0  Not available\n",
              "5   7/1/2012    NaN   NaN  Not available\n",
              "6   8/1/2012    hot  12.0             45\n",
              "7   9/1/2012  rainy  23.0             41\n",
              "8  10/1/2012    NaN   NaN            NaN\n",
              "9  11/1/2012    NaN   NaN            NaN"
            ]
          },
          "metadata": {
            "tags": []
          },
          "execution_count": 61
        }
      ]
    },
    {
      "cell_type": "code",
      "metadata": {
        "id": "9UDURqbyDmYW"
      },
      "source": [
        "#Add code"
      ],
      "execution_count": null,
      "outputs": []
    },
    {
      "cell_type": "code",
      "metadata": {
        "colab": {
          "base_uri": "https://localhost:8080/",
          "height": 377
        },
        "id": "dHe_KDcGyKPc",
        "outputId": "75fd0ed2-6a2f-456b-8090-453dbbb2112e"
      },
      "source": [
        "#By default it is linear interpolation\n",
        "df2=df.interpolate()\n",
        "df2"
      ],
      "execution_count": null,
      "outputs": [
        {
          "output_type": "execute_result",
          "data": {
            "text/html": [
              "<div>\n",
              "<style scoped>\n",
              "    .dataframe tbody tr th:only-of-type {\n",
              "        vertical-align: middle;\n",
              "    }\n",
              "\n",
              "    .dataframe tbody tr th {\n",
              "        vertical-align: top;\n",
              "    }\n",
              "\n",
              "    .dataframe thead th {\n",
              "        text-align: right;\n",
              "    }\n",
              "</style>\n",
              "<table border=\"1\" class=\"dataframe\">\n",
              "  <thead>\n",
              "    <tr style=\"text-align: right;\">\n",
              "      <th></th>\n",
              "      <th>day</th>\n",
              "      <th>temp</th>\n",
              "      <th>wind-speed</th>\n",
              "    </tr>\n",
              "    <tr>\n",
              "      <th>dates</th>\n",
              "      <th></th>\n",
              "      <th></th>\n",
              "      <th></th>\n",
              "    </tr>\n",
              "  </thead>\n",
              "  <tbody>\n",
              "    <tr>\n",
              "      <th>2/1/2012</th>\n",
              "      <td>sunny</td>\n",
              "      <td>45.0</td>\n",
              "      <td>12</td>\n",
              "    </tr>\n",
              "    <tr>\n",
              "      <th>3/1/2012</th>\n",
              "      <td>rainy</td>\n",
              "      <td>46.0</td>\n",
              "      <td>34</td>\n",
              "    </tr>\n",
              "    <tr>\n",
              "      <th>4/1/2012</th>\n",
              "      <td>hot</td>\n",
              "      <td>47.0</td>\n",
              "      <td>45</td>\n",
              "    </tr>\n",
              "    <tr>\n",
              "      <th>5/1/2012</th>\n",
              "      <td>NaN</td>\n",
              "      <td>48.0</td>\n",
              "      <td>56</td>\n",
              "    </tr>\n",
              "    <tr>\n",
              "      <th>6/1/2012</th>\n",
              "      <td>hot</td>\n",
              "      <td>49.0</td>\n",
              "      <td>Not available</td>\n",
              "    </tr>\n",
              "    <tr>\n",
              "      <th>7/1/2012</th>\n",
              "      <td>NaN</td>\n",
              "      <td>30.5</td>\n",
              "      <td>Not available</td>\n",
              "    </tr>\n",
              "    <tr>\n",
              "      <th>8/1/2012</th>\n",
              "      <td>hot</td>\n",
              "      <td>12.0</td>\n",
              "      <td>45</td>\n",
              "    </tr>\n",
              "    <tr>\n",
              "      <th>9/1/2012</th>\n",
              "      <td>rainy</td>\n",
              "      <td>23.0</td>\n",
              "      <td>41</td>\n",
              "    </tr>\n",
              "    <tr>\n",
              "      <th>10/1/2012</th>\n",
              "      <td>NaN</td>\n",
              "      <td>23.0</td>\n",
              "      <td>NaN</td>\n",
              "    </tr>\n",
              "    <tr>\n",
              "      <th>11/1/2012</th>\n",
              "      <td>NaN</td>\n",
              "      <td>23.0</td>\n",
              "      <td>NaN</td>\n",
              "    </tr>\n",
              "  </tbody>\n",
              "</table>\n",
              "</div>"
            ],
            "text/plain": [
              "             day  temp     wind-speed\n",
              "dates                                \n",
              "2/1/2012   sunny  45.0             12\n",
              "3/1/2012   rainy  46.0             34\n",
              "4/1/2012     hot  47.0             45\n",
              "5/1/2012     NaN  48.0             56\n",
              "6/1/2012     hot  49.0  Not available\n",
              "7/1/2012     NaN  30.5  Not available\n",
              "8/1/2012     hot  12.0             45\n",
              "9/1/2012   rainy  23.0             41\n",
              "10/1/2012    NaN  23.0            NaN\n",
              "11/1/2012    NaN  23.0            NaN"
            ]
          },
          "metadata": {
            "tags": []
          },
          "execution_count": 74
        }
      ]
    },
    {
      "cell_type": "markdown",
      "metadata": {
        "id": "msrHUE8ZyKPd"
      },
      "source": [
        "##### Note\n",
        "* You can see that only temp column get affected because it contains values\n",
        "* Interpolation only applies to columns which contains values not strings."
      ]
    },
    {
      "cell_type": "markdown",
      "metadata": {
        "id": "5YGbXdgiyKPe"
      },
      "source": [
        "#### Droping rows containing NaN will done in following way -"
      ]
    },
    {
      "cell_type": "markdown",
      "metadata": {
        "id": "rO9UIu4zyKPe"
      },
      "source": [
        " *  Droping or deleting all the rows which contains at least one NaN <br>\n",
        " dropna() function will drop all the rows which contains at least one NaN.\n",
        "\n",
        "\n",
        "\n",
        "\n",
        "```\n",
        "df2=df.dropna()\n",
        "df2\n",
        "```\n",
        "\n"
      ]
    },
    {
      "cell_type": "code",
      "metadata": {
        "id": "x_7M8jG3XgV8"
      },
      "source": [
        "df"
      ],
      "execution_count": null,
      "outputs": []
    },
    {
      "cell_type": "code",
      "metadata": {
        "id": "prrZHk7kET2o"
      },
      "source": [
        "#Add code"
      ],
      "execution_count": null,
      "outputs": []
    },
    {
      "cell_type": "code",
      "metadata": {
        "colab": {
          "base_uri": "https://localhost:8080/",
          "height": 257
        },
        "id": "XCHDd_V9yKPe",
        "outputId": "b90cbda8-66cf-4c44-94c7-931f7599230d"
      },
      "source": [
        "df2=df.dropna()\n",
        "df2"
      ],
      "execution_count": null,
      "outputs": [
        {
          "output_type": "execute_result",
          "data": {
            "text/html": [
              "<div>\n",
              "<style scoped>\n",
              "    .dataframe tbody tr th:only-of-type {\n",
              "        vertical-align: middle;\n",
              "    }\n",
              "\n",
              "    .dataframe tbody tr th {\n",
              "        vertical-align: top;\n",
              "    }\n",
              "\n",
              "    .dataframe thead th {\n",
              "        text-align: right;\n",
              "    }\n",
              "</style>\n",
              "<table border=\"1\" class=\"dataframe\">\n",
              "  <thead>\n",
              "    <tr style=\"text-align: right;\">\n",
              "      <th></th>\n",
              "      <th>day</th>\n",
              "      <th>temp</th>\n",
              "      <th>wind-speed</th>\n",
              "    </tr>\n",
              "    <tr>\n",
              "      <th>dates</th>\n",
              "      <th></th>\n",
              "      <th></th>\n",
              "      <th></th>\n",
              "    </tr>\n",
              "  </thead>\n",
              "  <tbody>\n",
              "    <tr>\n",
              "      <th>2/1/2012</th>\n",
              "      <td>sunny</td>\n",
              "      <td>45.0</td>\n",
              "      <td>12</td>\n",
              "    </tr>\n",
              "    <tr>\n",
              "      <th>3/1/2012</th>\n",
              "      <td>rainy</td>\n",
              "      <td>46.0</td>\n",
              "      <td>34</td>\n",
              "    </tr>\n",
              "    <tr>\n",
              "      <th>4/1/2012</th>\n",
              "      <td>hot</td>\n",
              "      <td>47.0</td>\n",
              "      <td>45</td>\n",
              "    </tr>\n",
              "    <tr>\n",
              "      <th>6/1/2012</th>\n",
              "      <td>hot</td>\n",
              "      <td>49.0</td>\n",
              "      <td>Not available</td>\n",
              "    </tr>\n",
              "    <tr>\n",
              "      <th>8/1/2012</th>\n",
              "      <td>hot</td>\n",
              "      <td>12.0</td>\n",
              "      <td>45</td>\n",
              "    </tr>\n",
              "    <tr>\n",
              "      <th>9/1/2012</th>\n",
              "      <td>rainy</td>\n",
              "      <td>23.0</td>\n",
              "      <td>41</td>\n",
              "    </tr>\n",
              "  </tbody>\n",
              "</table>\n",
              "</div>"
            ],
            "text/plain": [
              "            day  temp     wind-speed\n",
              "dates                               \n",
              "2/1/2012  sunny  45.0             12\n",
              "3/1/2012  rainy  46.0             34\n",
              "4/1/2012    hot  47.0             45\n",
              "6/1/2012    hot  49.0  Not available\n",
              "8/1/2012    hot  12.0             45\n",
              "9/1/2012  rainy  23.0             41"
            ]
          },
          "metadata": {
            "tags": []
          },
          "execution_count": 75
        }
      ]
    },
    {
      "cell_type": "markdown",
      "metadata": {
        "id": "P0hWOERByKPe"
      },
      "source": [
        "  *  Droping all the rows which contains all the values NaN <br>\n",
        "To drop all the rows which contains only NaN except index(here date is the index) you need to pass how=\"all\" in dropna() function.\n",
        "\n",
        "\n",
        "\n",
        "```\n",
        "df2=df.dropna(how=\"all\")\n",
        "df2\n",
        "```\n",
        "\n",
        "\n"
      ]
    },
    {
      "cell_type": "code",
      "metadata": {
        "id": "HtNqGJ6CX1-C"
      },
      "source": [
        "df"
      ],
      "execution_count": null,
      "outputs": []
    },
    {
      "cell_type": "code",
      "metadata": {
        "id": "t_4jnBKiEk8t"
      },
      "source": [
        "#Add code"
      ],
      "execution_count": null,
      "outputs": []
    },
    {
      "cell_type": "code",
      "metadata": {
        "colab": {
          "base_uri": "https://localhost:8080/",
          "height": 317
        },
        "id": "Fn0lkgjnyKPe",
        "outputId": "f06bca78-4c43-42ae-d75a-745792c35cb1"
      },
      "source": [
        "df2=df.dropna(how=\"all\")\n",
        "df2"
      ],
      "execution_count": null,
      "outputs": [
        {
          "output_type": "execute_result",
          "data": {
            "text/html": [
              "<div>\n",
              "<style scoped>\n",
              "    .dataframe tbody tr th:only-of-type {\n",
              "        vertical-align: middle;\n",
              "    }\n",
              "\n",
              "    .dataframe tbody tr th {\n",
              "        vertical-align: top;\n",
              "    }\n",
              "\n",
              "    .dataframe thead th {\n",
              "        text-align: right;\n",
              "    }\n",
              "</style>\n",
              "<table border=\"1\" class=\"dataframe\">\n",
              "  <thead>\n",
              "    <tr style=\"text-align: right;\">\n",
              "      <th></th>\n",
              "      <th>day</th>\n",
              "      <th>temp</th>\n",
              "      <th>wind-speed</th>\n",
              "    </tr>\n",
              "    <tr>\n",
              "      <th>dates</th>\n",
              "      <th></th>\n",
              "      <th></th>\n",
              "      <th></th>\n",
              "    </tr>\n",
              "  </thead>\n",
              "  <tbody>\n",
              "    <tr>\n",
              "      <th>2/1/2012</th>\n",
              "      <td>sunny</td>\n",
              "      <td>45.0</td>\n",
              "      <td>12</td>\n",
              "    </tr>\n",
              "    <tr>\n",
              "      <th>3/1/2012</th>\n",
              "      <td>rainy</td>\n",
              "      <td>46.0</td>\n",
              "      <td>34</td>\n",
              "    </tr>\n",
              "    <tr>\n",
              "      <th>4/1/2012</th>\n",
              "      <td>hot</td>\n",
              "      <td>47.0</td>\n",
              "      <td>45</td>\n",
              "    </tr>\n",
              "    <tr>\n",
              "      <th>5/1/2012</th>\n",
              "      <td>NaN</td>\n",
              "      <td>NaN</td>\n",
              "      <td>56</td>\n",
              "    </tr>\n",
              "    <tr>\n",
              "      <th>6/1/2012</th>\n",
              "      <td>hot</td>\n",
              "      <td>49.0</td>\n",
              "      <td>Not available</td>\n",
              "    </tr>\n",
              "    <tr>\n",
              "      <th>7/1/2012</th>\n",
              "      <td>NaN</td>\n",
              "      <td>NaN</td>\n",
              "      <td>Not available</td>\n",
              "    </tr>\n",
              "    <tr>\n",
              "      <th>8/1/2012</th>\n",
              "      <td>hot</td>\n",
              "      <td>12.0</td>\n",
              "      <td>45</td>\n",
              "    </tr>\n",
              "    <tr>\n",
              "      <th>9/1/2012</th>\n",
              "      <td>rainy</td>\n",
              "      <td>23.0</td>\n",
              "      <td>41</td>\n",
              "    </tr>\n",
              "  </tbody>\n",
              "</table>\n",
              "</div>"
            ],
            "text/plain": [
              "            day  temp     wind-speed\n",
              "dates                               \n",
              "2/1/2012  sunny  45.0             12\n",
              "3/1/2012  rainy  46.0             34\n",
              "4/1/2012    hot  47.0             45\n",
              "5/1/2012    NaN   NaN             56\n",
              "6/1/2012    hot  49.0  Not available\n",
              "7/1/2012    NaN   NaN  Not available\n",
              "8/1/2012    hot  12.0             45\n",
              "9/1/2012  rainy  23.0             41"
            ]
          },
          "metadata": {
            "tags": []
          },
          "execution_count": 76
        }
      ]
    },
    {
      "cell_type": "markdown",
      "metadata": {
        "id": "dpsesNNHyKPm"
      },
      "source": [
        "\n",
        "\n",
        "### 6. Groupby for dataframe\n",
        "\n",
        "   Groupby is one of the important operations in data analysis\n",
        "        \n",
        "   Groupby property is grouped the data according the column supplied to the function."
      ]
    },
    {
      "cell_type": "code",
      "metadata": {
        "id": "vrtUfd1_yKPm"
      },
      "source": [
        "import pandas as pd\n",
        "import numpy as np"
      ],
      "execution_count": null,
      "outputs": []
    },
    {
      "cell_type": "code",
      "metadata": {
        "colab": {
          "base_uri": "https://localhost:8080/",
          "height": 411
        },
        "id": "rZdgVe0GyKPm",
        "outputId": "4bc54e3b-b687-4606-dac1-65756f8ac751"
      },
      "source": [
        "d={\n",
        "    'team':[\"India\",\"New zealand\",\"Australia\",\"India\",\n",
        "            \"India\",\"New zealand\",\"Australia\",\"India\",\n",
        "            \"New zealand\",\"Australia\",\"New zealand\",\"Australia\"],\n",
        "     'Run':[330,230,300,180,200,250,190,400,340,290,390,333],\n",
        "     \"Match\":[2,4,2,1,5,6,3,2,5,3,1,1],\n",
        "     \"Year\":['2012','2012','2012','2012','2013','2013','2013','2013','2014','2014','2014','2014']\n",
        "  }\n",
        "df=pd.DataFrame(d)\n",
        "df"
      ],
      "execution_count": null,
      "outputs": [
        {
          "output_type": "execute_result",
          "data": {
            "text/html": [
              "<div>\n",
              "<style scoped>\n",
              "    .dataframe tbody tr th:only-of-type {\n",
              "        vertical-align: middle;\n",
              "    }\n",
              "\n",
              "    .dataframe tbody tr th {\n",
              "        vertical-align: top;\n",
              "    }\n",
              "\n",
              "    .dataframe thead th {\n",
              "        text-align: right;\n",
              "    }\n",
              "</style>\n",
              "<table border=\"1\" class=\"dataframe\">\n",
              "  <thead>\n",
              "    <tr style=\"text-align: right;\">\n",
              "      <th></th>\n",
              "      <th>team</th>\n",
              "      <th>Run</th>\n",
              "      <th>Match</th>\n",
              "      <th>Year</th>\n",
              "    </tr>\n",
              "  </thead>\n",
              "  <tbody>\n",
              "    <tr>\n",
              "      <th>0</th>\n",
              "      <td>India</td>\n",
              "      <td>330</td>\n",
              "      <td>2</td>\n",
              "      <td>2012</td>\n",
              "    </tr>\n",
              "    <tr>\n",
              "      <th>1</th>\n",
              "      <td>New zealand</td>\n",
              "      <td>230</td>\n",
              "      <td>4</td>\n",
              "      <td>2012</td>\n",
              "    </tr>\n",
              "    <tr>\n",
              "      <th>2</th>\n",
              "      <td>Australia</td>\n",
              "      <td>300</td>\n",
              "      <td>2</td>\n",
              "      <td>2012</td>\n",
              "    </tr>\n",
              "    <tr>\n",
              "      <th>3</th>\n",
              "      <td>India</td>\n",
              "      <td>180</td>\n",
              "      <td>1</td>\n",
              "      <td>2012</td>\n",
              "    </tr>\n",
              "    <tr>\n",
              "      <th>4</th>\n",
              "      <td>India</td>\n",
              "      <td>200</td>\n",
              "      <td>5</td>\n",
              "      <td>2013</td>\n",
              "    </tr>\n",
              "    <tr>\n",
              "      <th>5</th>\n",
              "      <td>New zealand</td>\n",
              "      <td>250</td>\n",
              "      <td>6</td>\n",
              "      <td>2013</td>\n",
              "    </tr>\n",
              "    <tr>\n",
              "      <th>6</th>\n",
              "      <td>Australia</td>\n",
              "      <td>190</td>\n",
              "      <td>3</td>\n",
              "      <td>2013</td>\n",
              "    </tr>\n",
              "    <tr>\n",
              "      <th>7</th>\n",
              "      <td>India</td>\n",
              "      <td>400</td>\n",
              "      <td>2</td>\n",
              "      <td>2013</td>\n",
              "    </tr>\n",
              "    <tr>\n",
              "      <th>8</th>\n",
              "      <td>New zealand</td>\n",
              "      <td>340</td>\n",
              "      <td>5</td>\n",
              "      <td>2014</td>\n",
              "    </tr>\n",
              "    <tr>\n",
              "      <th>9</th>\n",
              "      <td>Australia</td>\n",
              "      <td>290</td>\n",
              "      <td>3</td>\n",
              "      <td>2014</td>\n",
              "    </tr>\n",
              "    <tr>\n",
              "      <th>10</th>\n",
              "      <td>New zealand</td>\n",
              "      <td>390</td>\n",
              "      <td>1</td>\n",
              "      <td>2014</td>\n",
              "    </tr>\n",
              "    <tr>\n",
              "      <th>11</th>\n",
              "      <td>Australia</td>\n",
              "      <td>333</td>\n",
              "      <td>1</td>\n",
              "      <td>2014</td>\n",
              "    </tr>\n",
              "  </tbody>\n",
              "</table>\n",
              "</div>"
            ],
            "text/plain": [
              "           team  Run  Match  Year\n",
              "0         India  330      2  2012\n",
              "1   New zealand  230      4  2012\n",
              "2     Australia  300      2  2012\n",
              "3         India  180      1  2012\n",
              "4         India  200      5  2013\n",
              "5   New zealand  250      6  2013\n",
              "6     Australia  190      3  2013\n",
              "7         India  400      2  2013\n",
              "8   New zealand  340      5  2014\n",
              "9     Australia  290      3  2014\n",
              "10  New zealand  390      1  2014\n",
              "11    Australia  333      1  2014"
            ]
          },
          "metadata": {
            "tags": []
          },
          "execution_count": 23
        }
      ]
    },
    {
      "cell_type": "markdown",
      "metadata": {
        "id": "qEZWS_07yKPn"
      },
      "source": [
        "#### groupby\n",
        "    groupby() function will return an object.we can imagine that every group is pointing to its dataframe.\n",
        "\n",
        "\n",
        "\n",
        "```\n",
        "g=df.groupby('team')\n",
        "g\n",
        "```\n",
        "\n",
        "\n",
        "        "
      ]
    },
    {
      "cell_type": "code",
      "metadata": {
        "id": "M2lxa6pbLDhS"
      },
      "source": [
        "#Add code"
      ],
      "execution_count": null,
      "outputs": []
    },
    {
      "cell_type": "code",
      "metadata": {
        "colab": {
          "base_uri": "https://localhost:8080/"
        },
        "id": "XHFzhYpuyKPn",
        "outputId": "914e5601-d200-41bd-a293-7de5cc81367b"
      },
      "source": [
        "g=df.groupby('team')\n",
        "g"
      ],
      "execution_count": null,
      "outputs": [
        {
          "output_type": "execute_result",
          "data": {
            "text/plain": [
              "<pandas.core.groupby.generic.DataFrameGroupBy object at 0x7f4bb8ba4d90>"
            ]
          },
          "metadata": {
            "tags": []
          },
          "execution_count": 24
        }
      ]
    },
    {
      "cell_type": "code",
      "metadata": {
        "colab": {
          "base_uri": "https://localhost:8080/"
        },
        "id": "elFtAd_xyKPn",
        "outputId": "1209af35-8638-4a48-d688-284209756154"
      },
      "source": [
        "#access data after the groupby\n",
        "for team,teamdata in g:\n",
        "    print(team)\n",
        "    print(\"-\"*10)\n",
        "    print(teamdata)\n",
        "    print(\"-\"*35)"
      ],
      "execution_count": null,
      "outputs": [
        {
          "output_type": "stream",
          "text": [
            "Australia\n",
            "----------\n",
            "         team  Run  Match  Year\n",
            "2   Australia  300      2  2012\n",
            "6   Australia  190      3  2013\n",
            "9   Australia  290      3  2014\n",
            "11  Australia  333      1  2014\n",
            "-----------------------------------\n",
            "India\n",
            "----------\n",
            "    team  Run  Match  Year\n",
            "0  India  330      2  2012\n",
            "3  India  180      1  2012\n",
            "4  India  200      5  2013\n",
            "7  India  400      2  2013\n",
            "-----------------------------------\n",
            "New zealand\n",
            "----------\n",
            "           team  Run  Match  Year\n",
            "1   New zealand  230      4  2012\n",
            "5   New zealand  250      6  2013\n",
            "8   New zealand  340      5  2014\n",
            "10  New zealand  390      1  2014\n",
            "-----------------------------------\n"
          ],
          "name": "stdout"
        }
      ]
    },
    {
      "cell_type": "markdown",
      "metadata": {
        "id": "nKZEfjUeyKPn"
      },
      "source": [
        "#### get_group\n",
        " **get_group('group name') :**  <br>\n",
        "  It will return dataframe of particular group\n",
        "\n",
        "\n",
        "\n",
        "```\n",
        "g.get_group('India')\n",
        "```\n",
        "\n"
      ]
    },
    {
      "cell_type": "code",
      "metadata": {
        "id": "FomYlvfqLTDe"
      },
      "source": [
        "#Add code"
      ],
      "execution_count": null,
      "outputs": []
    },
    {
      "cell_type": "code",
      "metadata": {
        "colab": {
          "base_uri": "https://localhost:8080/",
          "height": 169
        },
        "id": "Z_WoZkzbyKPn",
        "outputId": "78f7e38d-eb4a-450d-bb82-c2081ea6a0c0"
      },
      "source": [
        "g.get_group('India')"
      ],
      "execution_count": null,
      "outputs": [
        {
          "output_type": "execute_result",
          "data": {
            "text/html": [
              "<div>\n",
              "<style scoped>\n",
              "    .dataframe tbody tr th:only-of-type {\n",
              "        vertical-align: middle;\n",
              "    }\n",
              "\n",
              "    .dataframe tbody tr th {\n",
              "        vertical-align: top;\n",
              "    }\n",
              "\n",
              "    .dataframe thead th {\n",
              "        text-align: right;\n",
              "    }\n",
              "</style>\n",
              "<table border=\"1\" class=\"dataframe\">\n",
              "  <thead>\n",
              "    <tr style=\"text-align: right;\">\n",
              "      <th></th>\n",
              "      <th>team</th>\n",
              "      <th>Run</th>\n",
              "      <th>Match</th>\n",
              "      <th>Year</th>\n",
              "    </tr>\n",
              "  </thead>\n",
              "  <tbody>\n",
              "    <tr>\n",
              "      <th>0</th>\n",
              "      <td>India</td>\n",
              "      <td>330</td>\n",
              "      <td>2</td>\n",
              "      <td>2012</td>\n",
              "    </tr>\n",
              "    <tr>\n",
              "      <th>3</th>\n",
              "      <td>India</td>\n",
              "      <td>180</td>\n",
              "      <td>1</td>\n",
              "      <td>2012</td>\n",
              "    </tr>\n",
              "    <tr>\n",
              "      <th>4</th>\n",
              "      <td>India</td>\n",
              "      <td>200</td>\n",
              "      <td>5</td>\n",
              "      <td>2013</td>\n",
              "    </tr>\n",
              "    <tr>\n",
              "      <th>7</th>\n",
              "      <td>India</td>\n",
              "      <td>400</td>\n",
              "      <td>2</td>\n",
              "      <td>2013</td>\n",
              "    </tr>\n",
              "  </tbody>\n",
              "</table>\n",
              "</div>"
            ],
            "text/plain": [
              "    team  Run  Match  Year\n",
              "0  India  330      2  2012\n",
              "3  India  180      1  2012\n",
              "4  India  200      5  2013\n",
              "7  India  400      2  2013"
            ]
          },
          "metadata": {
            "tags": []
          },
          "execution_count": 26
        }
      ]
    },
    {
      "cell_type": "code",
      "metadata": {
        "colab": {
          "base_uri": "https://localhost:8080/",
          "height": 167
        },
        "id": "0v9toPnHyKPn",
        "outputId": "2ff33629-763f-4417-89b3-88393253031b"
      },
      "source": [
        "g.get_group('Australia')"
      ],
      "execution_count": null,
      "outputs": [
        {
          "output_type": "execute_result",
          "data": {
            "text/html": [
              "<div>\n",
              "<style scoped>\n",
              "    .dataframe tbody tr th:only-of-type {\n",
              "        vertical-align: middle;\n",
              "    }\n",
              "\n",
              "    .dataframe tbody tr th {\n",
              "        vertical-align: top;\n",
              "    }\n",
              "\n",
              "    .dataframe thead th {\n",
              "        text-align: right;\n",
              "    }\n",
              "</style>\n",
              "<table border=\"1\" class=\"dataframe\">\n",
              "  <thead>\n",
              "    <tr style=\"text-align: right;\">\n",
              "      <th></th>\n",
              "      <th>team</th>\n",
              "      <th>Run</th>\n",
              "      <th>Match</th>\n",
              "      <th>Year</th>\n",
              "    </tr>\n",
              "  </thead>\n",
              "  <tbody>\n",
              "    <tr>\n",
              "      <th>2</th>\n",
              "      <td>Australia</td>\n",
              "      <td>300</td>\n",
              "      <td>2</td>\n",
              "      <td>2012</td>\n",
              "    </tr>\n",
              "    <tr>\n",
              "      <th>6</th>\n",
              "      <td>Australia</td>\n",
              "      <td>190</td>\n",
              "      <td>3</td>\n",
              "      <td>2013</td>\n",
              "    </tr>\n",
              "    <tr>\n",
              "      <th>9</th>\n",
              "      <td>Australia</td>\n",
              "      <td>290</td>\n",
              "      <td>3</td>\n",
              "      <td>2014</td>\n",
              "    </tr>\n",
              "    <tr>\n",
              "      <th>11</th>\n",
              "      <td>Australia</td>\n",
              "      <td>333</td>\n",
              "      <td>1</td>\n",
              "      <td>2014</td>\n",
              "    </tr>\n",
              "  </tbody>\n",
              "</table>\n",
              "</div>"
            ],
            "text/plain": [
              "         team  Run  Match  Year\n",
              "2   Australia  300      2  2012\n",
              "6   Australia  190      3  2013\n",
              "9   Australia  290      3  2014\n",
              "11  Australia  333      1  2014"
            ]
          },
          "metadata": {
            "tags": []
          },
          "execution_count": 86
        }
      ]
    },
    {
      "cell_type": "markdown",
      "metadata": {
        "id": "QXH2pBK5yKPo"
      },
      "source": [
        "\n",
        "#### Get the min and mean from the groupby\n",
        "    \n",
        "\n",
        "```\n",
        "g.min()\n",
        "g.mean()\n",
        "```\n",
        "\n"
      ]
    },
    {
      "cell_type": "code",
      "metadata": {
        "id": "sXYB3449LvJZ"
      },
      "source": [
        "#Add code"
      ],
      "execution_count": null,
      "outputs": []
    },
    {
      "cell_type": "code",
      "metadata": {
        "id": "ns5vDW7eLv2k"
      },
      "source": [
        "#Add code"
      ],
      "execution_count": null,
      "outputs": []
    },
    {
      "cell_type": "code",
      "metadata": {
        "colab": {
          "base_uri": "https://localhost:8080/",
          "height": 169
        },
        "id": "OE4VE17zyKPo",
        "outputId": "d957ab84-7133-4742-cce0-d4f5fd390512"
      },
      "source": [
        "g.min()"
      ],
      "execution_count": null,
      "outputs": [
        {
          "output_type": "execute_result",
          "data": {
            "text/html": [
              "<div>\n",
              "<style scoped>\n",
              "    .dataframe tbody tr th:only-of-type {\n",
              "        vertical-align: middle;\n",
              "    }\n",
              "\n",
              "    .dataframe tbody tr th {\n",
              "        vertical-align: top;\n",
              "    }\n",
              "\n",
              "    .dataframe thead th {\n",
              "        text-align: right;\n",
              "    }\n",
              "</style>\n",
              "<table border=\"1\" class=\"dataframe\">\n",
              "  <thead>\n",
              "    <tr style=\"text-align: right;\">\n",
              "      <th></th>\n",
              "      <th>Run</th>\n",
              "      <th>Match</th>\n",
              "      <th>Year</th>\n",
              "    </tr>\n",
              "    <tr>\n",
              "      <th>team</th>\n",
              "      <th></th>\n",
              "      <th></th>\n",
              "      <th></th>\n",
              "    </tr>\n",
              "  </thead>\n",
              "  <tbody>\n",
              "    <tr>\n",
              "      <th>Australia</th>\n",
              "      <td>190</td>\n",
              "      <td>1</td>\n",
              "      <td>2012</td>\n",
              "    </tr>\n",
              "    <tr>\n",
              "      <th>India</th>\n",
              "      <td>180</td>\n",
              "      <td>1</td>\n",
              "      <td>2012</td>\n",
              "    </tr>\n",
              "    <tr>\n",
              "      <th>New zealand</th>\n",
              "      <td>230</td>\n",
              "      <td>1</td>\n",
              "      <td>2012</td>\n",
              "    </tr>\n",
              "  </tbody>\n",
              "</table>\n",
              "</div>"
            ],
            "text/plain": [
              "             Run  Match  Year\n",
              "team                         \n",
              "Australia    190      1  2012\n",
              "India        180      1  2012\n",
              "New zealand  230      1  2012"
            ]
          },
          "metadata": {
            "tags": []
          },
          "execution_count": 28
        }
      ]
    },
    {
      "cell_type": "code",
      "metadata": {
        "colab": {
          "base_uri": "https://localhost:8080/",
          "height": 167
        },
        "id": "43l63L0vyKPo",
        "outputId": "eb13c60d-3ff5-4f2d-c3c8-843190c8e819"
      },
      "source": [
        "g.mean()"
      ],
      "execution_count": null,
      "outputs": [
        {
          "output_type": "execute_result",
          "data": {
            "text/html": [
              "<div>\n",
              "<style scoped>\n",
              "    .dataframe tbody tr th:only-of-type {\n",
              "        vertical-align: middle;\n",
              "    }\n",
              "\n",
              "    .dataframe tbody tr th {\n",
              "        vertical-align: top;\n",
              "    }\n",
              "\n",
              "    .dataframe thead th {\n",
              "        text-align: right;\n",
              "    }\n",
              "</style>\n",
              "<table border=\"1\" class=\"dataframe\">\n",
              "  <thead>\n",
              "    <tr style=\"text-align: right;\">\n",
              "      <th></th>\n",
              "      <th>Run</th>\n",
              "      <th>Match</th>\n",
              "    </tr>\n",
              "    <tr>\n",
              "      <th>team</th>\n",
              "      <th></th>\n",
              "      <th></th>\n",
              "    </tr>\n",
              "  </thead>\n",
              "  <tbody>\n",
              "    <tr>\n",
              "      <th>Australia</th>\n",
              "      <td>278.25</td>\n",
              "      <td>2.25</td>\n",
              "    </tr>\n",
              "    <tr>\n",
              "      <th>India</th>\n",
              "      <td>277.50</td>\n",
              "      <td>2.50</td>\n",
              "    </tr>\n",
              "    <tr>\n",
              "      <th>New zealand</th>\n",
              "      <td>302.50</td>\n",
              "      <td>4.00</td>\n",
              "    </tr>\n",
              "  </tbody>\n",
              "</table>\n",
              "</div>"
            ],
            "text/plain": [
              "                Run  Match\n",
              "team                      \n",
              "Australia    278.25   2.25\n",
              "India        277.50   2.50\n",
              "New zealand  302.50   4.00"
            ]
          },
          "metadata": {
            "tags": []
          },
          "execution_count": 87
        }
      ]
    },
    {
      "cell_type": "markdown",
      "metadata": {
        "id": "g7syrdARMXIe"
      },
      "source": [
        "#### Aggregation\n",
        "\n",
        "If we want to see statistic(min,max,mean,standard deviation) by years about the match run.\n",
        "\n",
        "\n",
        "\n",
        "```\n",
        "g_yr=df.groupby('Year')\n",
        "g_yr['Run'].agg([np.min,np.max,np.mean,np.sum,np.std])\n",
        "```\n",
        "\n"
      ]
    },
    {
      "cell_type": "code",
      "metadata": {
        "id": "0yRCL_6qNf3r"
      },
      "source": [
        "#Add code"
      ],
      "execution_count": null,
      "outputs": []
    },
    {
      "cell_type": "code",
      "metadata": {
        "colab": {
          "base_uri": "https://localhost:8080/"
        },
        "id": "KWkSnJm2M0m0",
        "outputId": "da9db31b-1b33-47e0-abcc-7bbd41e40a6b"
      },
      "source": [
        "g_yr=df.groupby('Year')\n",
        "for yr,teamdata in g_yr:\n",
        "    print(yr)\n",
        "    print(\"-\"*10)\n",
        "    print(teamdata)\n",
        "    print(\"-\"*35)"
      ],
      "execution_count": null,
      "outputs": [
        {
          "output_type": "stream",
          "text": [
            "2012\n",
            "----------\n",
            "          team  Run  Match  Year\n",
            "0        India  330      2  2012\n",
            "1  New zealand  230      4  2012\n",
            "2    Australia  300      2  2012\n",
            "3        India  180      1  2012\n",
            "-----------------------------------\n",
            "2013\n",
            "----------\n",
            "          team  Run  Match  Year\n",
            "4        India  200      5  2013\n",
            "5  New zealand  250      6  2013\n",
            "6    Australia  190      3  2013\n",
            "7        India  400      2  2013\n",
            "-----------------------------------\n",
            "2014\n",
            "----------\n",
            "           team  Run  Match  Year\n",
            "8   New zealand  340      5  2014\n",
            "9     Australia  290      3  2014\n",
            "10  New zealand  390      1  2014\n",
            "11    Australia  333      1  2014\n",
            "-----------------------------------\n"
          ],
          "name": "stdout"
        }
      ]
    },
    {
      "cell_type": "code",
      "metadata": {
        "colab": {
          "base_uri": "https://localhost:8080/",
          "height": 169
        },
        "id": "3Lyeu1X4NWJF",
        "outputId": "80826c32-eb1c-4a55-d403-b84208deee89"
      },
      "source": [
        "g_yr['Run'].agg([np.min,np.max,np.mean,np.sum,np.std])"
      ],
      "execution_count": null,
      "outputs": [
        {
          "output_type": "execute_result",
          "data": {
            "text/html": [
              "<div>\n",
              "<style scoped>\n",
              "    .dataframe tbody tr th:only-of-type {\n",
              "        vertical-align: middle;\n",
              "    }\n",
              "\n",
              "    .dataframe tbody tr th {\n",
              "        vertical-align: top;\n",
              "    }\n",
              "\n",
              "    .dataframe thead th {\n",
              "        text-align: right;\n",
              "    }\n",
              "</style>\n",
              "<table border=\"1\" class=\"dataframe\">\n",
              "  <thead>\n",
              "    <tr style=\"text-align: right;\">\n",
              "      <th></th>\n",
              "      <th>amin</th>\n",
              "      <th>amax</th>\n",
              "      <th>mean</th>\n",
              "      <th>sum</th>\n",
              "      <th>std</th>\n",
              "    </tr>\n",
              "    <tr>\n",
              "      <th>Year</th>\n",
              "      <th></th>\n",
              "      <th></th>\n",
              "      <th></th>\n",
              "      <th></th>\n",
              "      <th></th>\n",
              "    </tr>\n",
              "  </thead>\n",
              "  <tbody>\n",
              "    <tr>\n",
              "      <th>2012</th>\n",
              "      <td>180</td>\n",
              "      <td>330</td>\n",
              "      <td>260.00</td>\n",
              "      <td>1040</td>\n",
              "      <td>67.823300</td>\n",
              "    </tr>\n",
              "    <tr>\n",
              "      <th>2013</th>\n",
              "      <td>190</td>\n",
              "      <td>400</td>\n",
              "      <td>260.00</td>\n",
              "      <td>1040</td>\n",
              "      <td>96.953597</td>\n",
              "    </tr>\n",
              "    <tr>\n",
              "      <th>2014</th>\n",
              "      <td>290</td>\n",
              "      <td>390</td>\n",
              "      <td>338.25</td>\n",
              "      <td>1353</td>\n",
              "      <td>40.974586</td>\n",
              "    </tr>\n",
              "  </tbody>\n",
              "</table>\n",
              "</div>"
            ],
            "text/plain": [
              "      amin  amax    mean   sum        std\n",
              "Year                                     \n",
              "2012   180   330  260.00  1040  67.823300\n",
              "2013   190   400  260.00  1040  96.953597\n",
              "2014   290   390  338.25  1353  40.974586"
            ]
          },
          "metadata": {
            "tags": []
          },
          "execution_count": 31
        }
      ]
    },
    {
      "cell_type": "markdown",
      "metadata": {
        "id": "5NZ14feGf3ij"
      },
      "source": [
        "### 7. Visualisation of Data\n",
        "\n",
        "We can display some of the common graph using the dataframe plot functions"
      ]
    },
    {
      "cell_type": "code",
      "metadata": {
        "colab": {
          "base_uri": "https://localhost:8080/",
          "height": 257
        },
        "id": "woXnslY7gOpW",
        "outputId": "bc8afde4-627f-4c96-fffa-720b3c067270"
      },
      "source": [
        "import pandas as pd\n",
        "\n",
        "df = pd.DataFrame({\n",
        "    'name':['john','mary','peter','jeff','bill','lisa','jose'],\n",
        "    'age':[23,78,22,19,45,33,20],\n",
        "    'gender':['M','F','M','M','M','F','M'],\n",
        "    'state':['california','dc','california','dc','california','texas','texas'],\n",
        "    'num_children':[2,0,0,3,2,1,4],\n",
        "    'num_pets':[5,1,0,5,2,2,3]\n",
        "})\n",
        "df"
      ],
      "execution_count": null,
      "outputs": [
        {
          "output_type": "execute_result",
          "data": {
            "text/html": [
              "<div>\n",
              "<style scoped>\n",
              "    .dataframe tbody tr th:only-of-type {\n",
              "        vertical-align: middle;\n",
              "    }\n",
              "\n",
              "    .dataframe tbody tr th {\n",
              "        vertical-align: top;\n",
              "    }\n",
              "\n",
              "    .dataframe thead th {\n",
              "        text-align: right;\n",
              "    }\n",
              "</style>\n",
              "<table border=\"1\" class=\"dataframe\">\n",
              "  <thead>\n",
              "    <tr style=\"text-align: right;\">\n",
              "      <th></th>\n",
              "      <th>name</th>\n",
              "      <th>age</th>\n",
              "      <th>gender</th>\n",
              "      <th>state</th>\n",
              "      <th>num_children</th>\n",
              "      <th>num_pets</th>\n",
              "    </tr>\n",
              "  </thead>\n",
              "  <tbody>\n",
              "    <tr>\n",
              "      <th>0</th>\n",
              "      <td>john</td>\n",
              "      <td>23</td>\n",
              "      <td>M</td>\n",
              "      <td>california</td>\n",
              "      <td>2</td>\n",
              "      <td>5</td>\n",
              "    </tr>\n",
              "    <tr>\n",
              "      <th>1</th>\n",
              "      <td>mary</td>\n",
              "      <td>78</td>\n",
              "      <td>F</td>\n",
              "      <td>dc</td>\n",
              "      <td>0</td>\n",
              "      <td>1</td>\n",
              "    </tr>\n",
              "    <tr>\n",
              "      <th>2</th>\n",
              "      <td>peter</td>\n",
              "      <td>22</td>\n",
              "      <td>M</td>\n",
              "      <td>california</td>\n",
              "      <td>0</td>\n",
              "      <td>0</td>\n",
              "    </tr>\n",
              "    <tr>\n",
              "      <th>3</th>\n",
              "      <td>jeff</td>\n",
              "      <td>19</td>\n",
              "      <td>M</td>\n",
              "      <td>dc</td>\n",
              "      <td>3</td>\n",
              "      <td>5</td>\n",
              "    </tr>\n",
              "    <tr>\n",
              "      <th>4</th>\n",
              "      <td>bill</td>\n",
              "      <td>45</td>\n",
              "      <td>M</td>\n",
              "      <td>california</td>\n",
              "      <td>2</td>\n",
              "      <td>2</td>\n",
              "    </tr>\n",
              "    <tr>\n",
              "      <th>5</th>\n",
              "      <td>lisa</td>\n",
              "      <td>33</td>\n",
              "      <td>F</td>\n",
              "      <td>texas</td>\n",
              "      <td>1</td>\n",
              "      <td>2</td>\n",
              "    </tr>\n",
              "    <tr>\n",
              "      <th>6</th>\n",
              "      <td>jose</td>\n",
              "      <td>20</td>\n",
              "      <td>M</td>\n",
              "      <td>texas</td>\n",
              "      <td>4</td>\n",
              "      <td>3</td>\n",
              "    </tr>\n",
              "  </tbody>\n",
              "</table>\n",
              "</div>"
            ],
            "text/plain": [
              "    name  age gender       state  num_children  num_pets\n",
              "0   john   23      M  california             2         5\n",
              "1   mary   78      F          dc             0         1\n",
              "2  peter   22      M  california             0         0\n",
              "3   jeff   19      M          dc             3         5\n",
              "4   bill   45      M  california             2         2\n",
              "5   lisa   33      F       texas             1         2\n",
              "6   jose   20      M       texas             4         3"
            ]
          },
          "metadata": {
            "tags": []
          },
          "execution_count": 1
        }
      ]
    },
    {
      "cell_type": "markdown",
      "metadata": {
        "id": "AuZHiCIngnN9"
      },
      "source": [
        "#### Scatter Plot\n",
        "Display a scatter plot compare 2 columns\n",
        "\n",
        "Dispaly scatter plot comparing num_children and num_pets\n",
        "\n",
        "\n",
        "```\n",
        "df.plot(kind='scatter',x='num_children',y='num_pets',color='red')\n",
        "plt.show()\n",
        "```\n",
        "\n"
      ]
    },
    {
      "cell_type": "code",
      "metadata": {
        "id": "K9HTF2r4g6bZ"
      },
      "source": [
        "import matplotlib.pyplot as plt\n",
        "#Add code"
      ],
      "execution_count": null,
      "outputs": []
    },
    {
      "cell_type": "code",
      "metadata": {
        "colab": {
          "base_uri": "https://localhost:8080/",
          "height": 280
        },
        "id": "6vVPIEP8gXiF",
        "outputId": "57390113-0ad3-4436-80a5-1ad7e732115c"
      },
      "source": [
        "import matplotlib.pyplot as plt\n",
        "\n",
        "\n",
        "# a scatter plot comparing num_children and num_pets\n",
        "df.plot(kind='scatter',x='num_children',y='num_pets',color='red')\n",
        "plt.show()"
      ],
      "execution_count": null,
      "outputs": [
        {
          "output_type": "display_data",
          "data": {
            "image/png": "[encoded data removed]",
            "text/plain": [
              "<Figure size 432x288 with 1 Axes>"
            ]
          },
          "metadata": {
            "tags": [],
            "needs_background": "light"
          }
        }
      ]
    },
    {
      "cell_type": "markdown",
      "metadata": {
        "id": "XrdAqBg5hBff"
      },
      "source": [
        "#### Bar Chart\n",
        "Display a bar chart to show the number of pets each person is owned.\n",
        "\n",
        "\n",
        "\n",
        "```\n",
        "df.plot(kind='bar',x='name',y='num_pets')\n",
        "```\n",
        "\n"
      ]
    },
    {
      "cell_type": "code",
      "metadata": {
        "id": "_TrTTUnJiB88"
      },
      "source": [
        "#Add code"
      ],
      "execution_count": null,
      "outputs": []
    },
    {
      "cell_type": "code",
      "metadata": {
        "colab": {
          "base_uri": "https://localhost:8080/",
          "height": 312
        },
        "id": "CzFJrnABgX9f",
        "outputId": "eeabf1e1-d03f-43f4-ec1a-f25ee97c1125"
      },
      "source": [
        "# a simple line plot\n",
        "df.plot(kind='bar',x='name',y='num_pets')\n"
      ],
      "execution_count": null,
      "outputs": [
        {
          "output_type": "execute_result",
          "data": {
            "text/plain": [
              "<matplotlib.axes._subplots.AxesSubplot at 0x7f6e4f569fd0>"
            ]
          },
          "metadata": {
            "tags": []
          },
          "execution_count": 4
        },
        {
          "output_type": "display_data",
          "data": {
            "image/png": "[encoded data removed]",
            "text/plain": [
              "<Figure size 432x288 with 1 Axes>"
            ]
          },
          "metadata": {
            "tags": [],
            "needs_background": "light"
          }
        }
      ]
    },
    {
      "cell_type": "markdown",
      "metadata": {
        "id": "ILBZOjixmG4o"
      },
      "source": [
        "### 8. map(), apply(), applymap()\n",
        "\n",
        "Fast operation on column of data\n",
        "\n",
        "![apply_map_applymap.jpg](data:image/jpeg;base64,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)"
      ]
    },
    {
      "cell_type": "code",
      "metadata": {
        "colab": {
          "base_uri": "https://localhost:8080/",
          "height": 1000
        },
        "id": "vTlX6Y7rmlV0",
        "outputId": "58435408-73b4-40bc-a516-31b9da8d91a7"
      },
      "source": [
        "df = pd.read_csv(datadir+\"p3_data2.tsv\", \"\\t\")\n",
        "df"
      ],
      "execution_count": 16,
      "outputs": [
        {
          "output_type": "execute_result",
          "data": {
            "text/html": [
              "<div>\n",
              "<style scoped>\n",
              "    .dataframe tbody tr th:only-of-type {\n",
              "        vertical-align: middle;\n",
              "    }\n",
              "\n",
              "    .dataframe tbody tr th {\n",
              "        vertical-align: top;\n",
              "    }\n",
              "\n",
              "    .dataframe thead th {\n",
              "        text-align: right;\n",
              "    }\n",
              "</style>\n",
              "<table border=\"1\" class=\"dataframe\">\n",
              "  <thead>\n",
              "    <tr style=\"text-align: right;\">\n",
              "      <th></th>\n",
              "      <th>ID</th>\n",
              "      <th>Advertising costs</th>\n",
              "      <th>Part-time Labour costs</th>\n",
              "    </tr>\n",
              "  </thead>\n",
              "  <tbody>\n",
              "    <tr>\n",
              "      <th>0</th>\n",
              "      <td>1</td>\n",
              "      <td>362438</td>\n",
              "      <td>8763</td>\n",
              "    </tr>\n",
              "    <tr>\n",
              "      <th>1</th>\n",
              "      <td>2</td>\n",
              "      <td>51725</td>\n",
              "      <td>9258</td>\n",
              "    </tr>\n",
              "    <tr>\n",
              "      <th>2</th>\n",
              "      <td>3</td>\n",
              "      <td>236472</td>\n",
              "      <td>9897</td>\n",
              "    </tr>\n",
              "    <tr>\n",
              "      <th>3</th>\n",
              "      <td>4</td>\n",
              "      <td>232080</td>\n",
              "      <td>5005</td>\n",
              "    </tr>\n",
              "    <tr>\n",
              "      <th>4</th>\n",
              "      <td>5</td>\n",
              "      <td>262733</td>\n",
              "      <td>9918</td>\n",
              "    </tr>\n",
              "    <tr>\n",
              "      <th>5</th>\n",
              "      <td>6</td>\n",
              "      <td>355115</td>\n",
              "      <td>9996</td>\n",
              "    </tr>\n",
              "    <tr>\n",
              "      <th>6</th>\n",
              "      <td>7</td>\n",
              "      <td>237687</td>\n",
              "      <td>7732</td>\n",
              "    </tr>\n",
              "    <tr>\n",
              "      <th>7</th>\n",
              "      <td>8</td>\n",
              "      <td>57348</td>\n",
              "      <td>7378</td>\n",
              "    </tr>\n",
              "    <tr>\n",
              "      <th>8</th>\n",
              "      <td>9</td>\n",
              "      <td>191714</td>\n",
              "      <td>7243</td>\n",
              "    </tr>\n",
              "    <tr>\n",
              "      <th>9</th>\n",
              "      <td>10</td>\n",
              "      <td>190431</td>\n",
              "      <td>5388</td>\n",
              "    </tr>\n",
              "    <tr>\n",
              "      <th>10</th>\n",
              "      <td>11</td>\n",
              "      <td>62646</td>\n",
              "      <td>6965</td>\n",
              "    </tr>\n",
              "    <tr>\n",
              "      <th>11</th>\n",
              "      <td>12</td>\n",
              "      <td>146397</td>\n",
              "      <td>5887</td>\n",
              "    </tr>\n",
              "    <tr>\n",
              "      <th>12</th>\n",
              "      <td>13</td>\n",
              "      <td>257691</td>\n",
              "      <td>6016</td>\n",
              "    </tr>\n",
              "    <tr>\n",
              "      <th>13</th>\n",
              "      <td>14</td>\n",
              "      <td>77524</td>\n",
              "      <td>7558</td>\n",
              "    </tr>\n",
              "    <tr>\n",
              "      <th>14</th>\n",
              "      <td>15</td>\n",
              "      <td>294566</td>\n",
              "      <td>5517</td>\n",
              "    </tr>\n",
              "    <tr>\n",
              "      <th>15</th>\n",
              "      <td>16</td>\n",
              "      <td>149813</td>\n",
              "      <td>6860</td>\n",
              "    </tr>\n",
              "    <tr>\n",
              "      <th>16</th>\n",
              "      <td>17</td>\n",
              "      <td>242242</td>\n",
              "      <td>8382</td>\n",
              "    </tr>\n",
              "    <tr>\n",
              "      <th>17</th>\n",
              "      <td>18</td>\n",
              "      <td>122575</td>\n",
              "      <td>9059</td>\n",
              "    </tr>\n",
              "    <tr>\n",
              "      <th>18</th>\n",
              "      <td>19</td>\n",
              "      <td>63018</td>\n",
              "      <td>6688</td>\n",
              "    </tr>\n",
              "    <tr>\n",
              "      <th>19</th>\n",
              "      <td>20</td>\n",
              "      <td>128750</td>\n",
              "      <td>5879</td>\n",
              "    </tr>\n",
              "    <tr>\n",
              "      <th>20</th>\n",
              "      <td>21</td>\n",
              "      <td>357579</td>\n",
              "      <td>8213</td>\n",
              "    </tr>\n",
              "    <tr>\n",
              "      <th>21</th>\n",
              "      <td>22</td>\n",
              "      <td>251115</td>\n",
              "      <td>7194</td>\n",
              "    </tr>\n",
              "    <tr>\n",
              "      <th>22</th>\n",
              "      <td>23</td>\n",
              "      <td>399124</td>\n",
              "      <td>7279</td>\n",
              "    </tr>\n",
              "    <tr>\n",
              "      <th>23</th>\n",
              "      <td>24</td>\n",
              "      <td>27081</td>\n",
              "      <td>8221</td>\n",
              "    </tr>\n",
              "    <tr>\n",
              "      <th>24</th>\n",
              "      <td>25</td>\n",
              "      <td>60820</td>\n",
              "      <td>8004</td>\n",
              "    </tr>\n",
              "    <tr>\n",
              "      <th>25</th>\n",
              "      <td>26</td>\n",
              "      <td>95173</td>\n",
              "      <td>7460</td>\n",
              "    </tr>\n",
              "    <tr>\n",
              "      <th>26</th>\n",
              "      <td>27</td>\n",
              "      <td>164458</td>\n",
              "      <td>5926</td>\n",
              "    </tr>\n",
              "    <tr>\n",
              "      <th>27</th>\n",
              "      <td>28</td>\n",
              "      <td>113245</td>\n",
              "      <td>5509</td>\n",
              "    </tr>\n",
              "    <tr>\n",
              "      <th>28</th>\n",
              "      <td>29</td>\n",
              "      <td>295642</td>\n",
              "      <td>7870</td>\n",
              "    </tr>\n",
              "    <tr>\n",
              "      <th>29</th>\n",
              "      <td>30</td>\n",
              "      <td>220561</td>\n",
              "      <td>6114</td>\n",
              "    </tr>\n",
              "    <tr>\n",
              "      <th>30</th>\n",
              "      <td>31</td>\n",
              "      <td>61739</td>\n",
              "      <td>6424</td>\n",
              "    </tr>\n",
              "    <tr>\n",
              "      <th>31</th>\n",
              "      <td>32</td>\n",
              "      <td>326408</td>\n",
              "      <td>5296</td>\n",
              "    </tr>\n",
              "    <tr>\n",
              "      <th>32</th>\n",
              "      <td>33</td>\n",
              "      <td>162665</td>\n",
              "      <td>7139</td>\n",
              "    </tr>\n",
              "    <tr>\n",
              "      <th>33</th>\n",
              "      <td>34</td>\n",
              "      <td>188276</td>\n",
              "      <td>9333</td>\n",
              "    </tr>\n",
              "    <tr>\n",
              "      <th>34</th>\n",
              "      <td>35</td>\n",
              "      <td>97618</td>\n",
              "      <td>9651</td>\n",
              "    </tr>\n",
              "    <tr>\n",
              "      <th>35</th>\n",
              "      <td>36</td>\n",
              "      <td>142664</td>\n",
              "      <td>7773</td>\n",
              "    </tr>\n",
              "    <tr>\n",
              "      <th>36</th>\n",
              "      <td>37</td>\n",
              "      <td>100615</td>\n",
              "      <td>8763</td>\n",
              "    </tr>\n",
              "    <tr>\n",
              "      <th>37</th>\n",
              "      <td>38</td>\n",
              "      <td>60314</td>\n",
              "      <td>8749</td>\n",
              "    </tr>\n",
              "    <tr>\n",
              "      <th>38</th>\n",
              "      <td>39</td>\n",
              "      <td>246944</td>\n",
              "      <td>9444</td>\n",
              "    </tr>\n",
              "    <tr>\n",
              "      <th>39</th>\n",
              "      <td>40</td>\n",
              "      <td>363884</td>\n",
              "      <td>6408</td>\n",
              "    </tr>\n",
              "    <tr>\n",
              "      <th>40</th>\n",
              "      <td>41</td>\n",
              "      <td>129481</td>\n",
              "      <td>8913</td>\n",
              "    </tr>\n",
              "    <tr>\n",
              "      <th>41</th>\n",
              "      <td>42</td>\n",
              "      <td>247943</td>\n",
              "      <td>9876</td>\n",
              "    </tr>\n",
              "    <tr>\n",
              "      <th>42</th>\n",
              "      <td>43</td>\n",
              "      <td>273692</td>\n",
              "      <td>5115</td>\n",
              "    </tr>\n",
              "    <tr>\n",
              "      <th>43</th>\n",
              "      <td>44</td>\n",
              "      <td>27551</td>\n",
              "      <td>6820</td>\n",
              "    </tr>\n",
              "  </tbody>\n",
              "</table>\n",
              "</div>"
            ],
            "text/plain": [
              "    ID  Advertising costs  Part-time Labour costs\n",
              "0    1             362438                    8763\n",
              "1    2              51725                    9258\n",
              "2    3             236472                    9897\n",
              "3    4             232080                    5005\n",
              "4    5             262733                    9918\n",
              "5    6             355115                    9996\n",
              "6    7             237687                    7732\n",
              "7    8              57348                    7378\n",
              "8    9             191714                    7243\n",
              "9   10             190431                    5388\n",
              "10  11              62646                    6965\n",
              "11  12             146397                    5887\n",
              "12  13             257691                    6016\n",
              "13  14              77524                    7558\n",
              "14  15             294566                    5517\n",
              "15  16             149813                    6860\n",
              "16  17             242242                    8382\n",
              "17  18             122575                    9059\n",
              "18  19              63018                    6688\n",
              "19  20             128750                    5879\n",
              "20  21             357579                    8213\n",
              "21  22             251115                    7194\n",
              "22  23             399124                    7279\n",
              "23  24              27081                    8221\n",
              "24  25              60820                    8004\n",
              "25  26              95173                    7460\n",
              "26  27             164458                    5926\n",
              "27  28             113245                    5509\n",
              "28  29             295642                    7870\n",
              "29  30             220561                    6114\n",
              "30  31              61739                    6424\n",
              "31  32             326408                    5296\n",
              "32  33             162665                    7139\n",
              "33  34             188276                    9333\n",
              "34  35              97618                    9651\n",
              "35  36             142664                    7773\n",
              "36  37             100615                    8763\n",
              "37  38              60314                    8749\n",
              "38  39             246944                    9444\n",
              "39  40             363884                    6408\n",
              "40  41             129481                    8913\n",
              "41  42             247943                    9876\n",
              "42  43             273692                    5115\n",
              "43  44              27551                    6820"
            ]
          },
          "metadata": {
            "tags": []
          },
          "execution_count": 16
        }
      ]
    },
    {
      "cell_type": "markdown",
      "metadata": {
        "id": "Z5VhNtM3cMWd"
      },
      "source": [
        "#### map() function\n",
        "\n",
        "Find the data in the column 'Advertising costs' > 200000 <br>\n",
        "Store the result as either True or False into a new column \"Is High Cost\" <br>\n",
        "Insert the \"Is High Cost\" column into the dataframe <br>\n",
        "\n",
        "\n",
        "\n",
        "```\n",
        "df_clone = df.copy()\n",
        "df_clone[\"Is Low Cost\"] = df['Advertising costs'].map(lambda x: x>200000)\n",
        "df_clone.head()\n",
        "```\n",
        "\n"
      ]
    },
    {
      "cell_type": "markdown",
      "metadata": {
        "id": "_vxocBrnqArG"
      },
      "source": [
        "To apply a common operation to all values in a Series, we can use the ```.map()``` which is similar to ```map()``` for python lists."
      ]
    },
    {
      "cell_type": "code",
      "metadata": {
        "id": "S-gh9uzxr22n"
      },
      "source": [
        "#Add code"
      ],
      "execution_count": null,
      "outputs": []
    },
    {
      "cell_type": "code",
      "metadata": {
        "colab": {
          "base_uri": "https://localhost:8080/",
          "height": 199
        },
        "id": "OiYOcMI5p_cG",
        "outputId": "56fdf792-1895-4477-a86b-2f1131de53fc"
      },
      "source": [
        "#Add code\n",
        "\n",
        "df[\"Is Low Cost\"] = df['Advertising costs'].map(lambda x: x>200000)\n",
        "df.head()\n"
      ],
      "execution_count": 17,
      "outputs": [
        {
          "output_type": "execute_result",
          "data": {
            "text/html": [
              "<div>\n",
              "<style scoped>\n",
              "    .dataframe tbody tr th:only-of-type {\n",
              "        vertical-align: middle;\n",
              "    }\n",
              "\n",
              "    .dataframe tbody tr th {\n",
              "        vertical-align: top;\n",
              "    }\n",
              "\n",
              "    .dataframe thead th {\n",
              "        text-align: right;\n",
              "    }\n",
              "</style>\n",
              "<table border=\"1\" class=\"dataframe\">\n",
              "  <thead>\n",
              "    <tr style=\"text-align: right;\">\n",
              "      <th></th>\n",
              "      <th>ID</th>\n",
              "      <th>Advertising costs</th>\n",
              "      <th>Part-time Labour costs</th>\n",
              "      <th>Is Low Cost</th>\n",
              "    </tr>\n",
              "  </thead>\n",
              "  <tbody>\n",
              "    <tr>\n",
              "      <th>0</th>\n",
              "      <td>1</td>\n",
              "      <td>362438</td>\n",
              "      <td>8763</td>\n",
              "      <td>True</td>\n",
              "    </tr>\n",
              "    <tr>\n",
              "      <th>1</th>\n",
              "      <td>2</td>\n",
              "      <td>51725</td>\n",
              "      <td>9258</td>\n",
              "      <td>False</td>\n",
              "    </tr>\n",
              "    <tr>\n",
              "      <th>2</th>\n",
              "      <td>3</td>\n",
              "      <td>236472</td>\n",
              "      <td>9897</td>\n",
              "      <td>True</td>\n",
              "    </tr>\n",
              "    <tr>\n",
              "      <th>3</th>\n",
              "      <td>4</td>\n",
              "      <td>232080</td>\n",
              "      <td>5005</td>\n",
              "      <td>True</td>\n",
              "    </tr>\n",
              "    <tr>\n",
              "      <th>4</th>\n",
              "      <td>5</td>\n",
              "      <td>262733</td>\n",
              "      <td>9918</td>\n",
              "      <td>True</td>\n",
              "    </tr>\n",
              "  </tbody>\n",
              "</table>\n",
              "</div>"
            ],
            "text/plain": [
              "   ID  Advertising costs  Part-time Labour costs  Is Low Cost\n",
              "0   1             362438                    8763         True\n",
              "1   2              51725                    9258        False\n",
              "2   3             236472                    9897         True\n",
              "3   4             232080                    5005         True\n",
              "4   5             262733                    9918         True"
            ]
          },
          "metadata": {
            "tags": []
          },
          "execution_count": 17
        }
      ]
    },
    {
      "cell_type": "markdown",
      "metadata": {
        "id": "og0fIsP1qCYm"
      },
      "source": [
        "#### apply function\n",
        "\n",
        "```.apply(f)``` is a method which performs  column-wise aggregation on a dataframe.\n",
        "\n",
        "Get the two column 'Advertising costs','Part-time Labour costs' then apply a normalization by divide the data in the 2 column by 1000.\n",
        "\n",
        "\n",
        "\n",
        "```\n",
        "def normalize(x):\n",
        "  a= x /1000\n",
        "  return a\n",
        "df1=df[['Advertising costs','Part-time Labour costs']].apply(normalize)\n",
        "df1 \n",
        "```\n",
        "\n",
        "\n"
      ]
    },
    {
      "cell_type": "code",
      "metadata": {
        "id": "pt4ROArWvW7T"
      },
      "source": [
        "#Add code"
      ],
      "execution_count": null,
      "outputs": []
    },
    {
      "cell_type": "code",
      "metadata": {
        "colab": {
          "base_uri": "https://localhost:8080/",
          "height": 1000
        },
        "id": "q6nr3crHnSug",
        "outputId": "4296a305-7d68-45f2-999c-20a7dde8b40e"
      },
      "source": [
        "def normalize(x):\n",
        "  a= x /1000\n",
        "  return a\n",
        "df1=df[['Advertising costs','Part-time Labour costs']].apply(normalize)\n",
        "df1 "
      ],
      "execution_count": 20,
      "outputs": [
        {
          "output_type": "execute_result",
          "data": {
            "text/html": [
              "<div>\n",
              "<style scoped>\n",
              "    .dataframe tbody tr th:only-of-type {\n",
              "        vertical-align: middle;\n",
              "    }\n",
              "\n",
              "    .dataframe tbody tr th {\n",
              "        vertical-align: top;\n",
              "    }\n",
              "\n",
              "    .dataframe thead th {\n",
              "        text-align: right;\n",
              "    }\n",
              "</style>\n",
              "<table border=\"1\" class=\"dataframe\">\n",
              "  <thead>\n",
              "    <tr style=\"text-align: right;\">\n",
              "      <th></th>\n",
              "      <th>Advertising costs</th>\n",
              "      <th>Part-time Labour costs</th>\n",
              "    </tr>\n",
              "  </thead>\n",
              "  <tbody>\n",
              "    <tr>\n",
              "      <th>0</th>\n",
              "      <td>362.438</td>\n",
              "      <td>8.763</td>\n",
              "    </tr>\n",
              "    <tr>\n",
              "      <th>1</th>\n",
              "      <td>51.725</td>\n",
              "      <td>9.258</td>\n",
              "    </tr>\n",
              "    <tr>\n",
              "      <th>2</th>\n",
              "      <td>236.472</td>\n",
              "      <td>9.897</td>\n",
              "    </tr>\n",
              "    <tr>\n",
              "      <th>3</th>\n",
              "      <td>232.080</td>\n",
              "      <td>5.005</td>\n",
              "    </tr>\n",
              "    <tr>\n",
              "      <th>4</th>\n",
              "      <td>262.733</td>\n",
              "      <td>9.918</td>\n",
              "    </tr>\n",
              "    <tr>\n",
              "      <th>5</th>\n",
              "      <td>355.115</td>\n",
              "      <td>9.996</td>\n",
              "    </tr>\n",
              "    <tr>\n",
              "      <th>6</th>\n",
              "      <td>237.687</td>\n",
              "      <td>7.732</td>\n",
              "    </tr>\n",
              "    <tr>\n",
              "      <th>7</th>\n",
              "      <td>57.348</td>\n",
              "      <td>7.378</td>\n",
              "    </tr>\n",
              "    <tr>\n",
              "      <th>8</th>\n",
              "      <td>191.714</td>\n",
              "      <td>7.243</td>\n",
              "    </tr>\n",
              "    <tr>\n",
              "      <th>9</th>\n",
              "      <td>190.431</td>\n",
              "      <td>5.388</td>\n",
              "    </tr>\n",
              "    <tr>\n",
              "      <th>10</th>\n",
              "      <td>62.646</td>\n",
              "      <td>6.965</td>\n",
              "    </tr>\n",
              "    <tr>\n",
              "      <th>11</th>\n",
              "      <td>146.397</td>\n",
              "      <td>5.887</td>\n",
              "    </tr>\n",
              "    <tr>\n",
              "      <th>12</th>\n",
              "      <td>257.691</td>\n",
              "      <td>6.016</td>\n",
              "    </tr>\n",
              "    <tr>\n",
              "      <th>13</th>\n",
              "      <td>77.524</td>\n",
              "      <td>7.558</td>\n",
              "    </tr>\n",
              "    <tr>\n",
              "      <th>14</th>\n",
              "      <td>294.566</td>\n",
              "      <td>5.517</td>\n",
              "    </tr>\n",
              "    <tr>\n",
              "      <th>15</th>\n",
              "      <td>149.813</td>\n",
              "      <td>6.860</td>\n",
              "    </tr>\n",
              "    <tr>\n",
              "      <th>16</th>\n",
              "      <td>242.242</td>\n",
              "      <td>8.382</td>\n",
              "    </tr>\n",
              "    <tr>\n",
              "      <th>17</th>\n",
              "      <td>122.575</td>\n",
              "      <td>9.059</td>\n",
              "    </tr>\n",
              "    <tr>\n",
              "      <th>18</th>\n",
              "      <td>63.018</td>\n",
              "      <td>6.688</td>\n",
              "    </tr>\n",
              "    <tr>\n",
              "      <th>19</th>\n",
              "      <td>128.750</td>\n",
              "      <td>5.879</td>\n",
              "    </tr>\n",
              "    <tr>\n",
              "      <th>20</th>\n",
              "      <td>357.579</td>\n",
              "      <td>8.213</td>\n",
              "    </tr>\n",
              "    <tr>\n",
              "      <th>21</th>\n",
              "      <td>251.115</td>\n",
              "      <td>7.194</td>\n",
              "    </tr>\n",
              "    <tr>\n",
              "      <th>22</th>\n",
              "      <td>399.124</td>\n",
              "      <td>7.279</td>\n",
              "    </tr>\n",
              "    <tr>\n",
              "      <th>23</th>\n",
              "      <td>27.081</td>\n",
              "      <td>8.221</td>\n",
              "    </tr>\n",
              "    <tr>\n",
              "      <th>24</th>\n",
              "      <td>60.820</td>\n",
              "      <td>8.004</td>\n",
              "    </tr>\n",
              "    <tr>\n",
              "      <th>25</th>\n",
              "      <td>95.173</td>\n",
              "      <td>7.460</td>\n",
              "    </tr>\n",
              "    <tr>\n",
              "      <th>26</th>\n",
              "      <td>164.458</td>\n",
              "      <td>5.926</td>\n",
              "    </tr>\n",
              "    <tr>\n",
              "      <th>27</th>\n",
              "      <td>113.245</td>\n",
              "      <td>5.509</td>\n",
              "    </tr>\n",
              "    <tr>\n",
              "      <th>28</th>\n",
              "      <td>295.642</td>\n",
              "      <td>7.870</td>\n",
              "    </tr>\n",
              "    <tr>\n",
              "      <th>29</th>\n",
              "      <td>220.561</td>\n",
              "      <td>6.114</td>\n",
              "    </tr>\n",
              "    <tr>\n",
              "      <th>30</th>\n",
              "      <td>61.739</td>\n",
              "      <td>6.424</td>\n",
              "    </tr>\n",
              "    <tr>\n",
              "      <th>31</th>\n",
              "      <td>326.408</td>\n",
              "      <td>5.296</td>\n",
              "    </tr>\n",
              "    <tr>\n",
              "      <th>32</th>\n",
              "      <td>162.665</td>\n",
              "      <td>7.139</td>\n",
              "    </tr>\n",
              "    <tr>\n",
              "      <th>33</th>\n",
              "      <td>188.276</td>\n",
              "      <td>9.333</td>\n",
              "    </tr>\n",
              "    <tr>\n",
              "      <th>34</th>\n",
              "      <td>97.618</td>\n",
              "      <td>9.651</td>\n",
              "    </tr>\n",
              "    <tr>\n",
              "      <th>35</th>\n",
              "      <td>142.664</td>\n",
              "      <td>7.773</td>\n",
              "    </tr>\n",
              "    <tr>\n",
              "      <th>36</th>\n",
              "      <td>100.615</td>\n",
              "      <td>8.763</td>\n",
              "    </tr>\n",
              "    <tr>\n",
              "      <th>37</th>\n",
              "      <td>60.314</td>\n",
              "      <td>8.749</td>\n",
              "    </tr>\n",
              "    <tr>\n",
              "      <th>38</th>\n",
              "      <td>246.944</td>\n",
              "      <td>9.444</td>\n",
              "    </tr>\n",
              "    <tr>\n",
              "      <th>39</th>\n",
              "      <td>363.884</td>\n",
              "      <td>6.408</td>\n",
              "    </tr>\n",
              "    <tr>\n",
              "      <th>40</th>\n",
              "      <td>129.481</td>\n",
              "      <td>8.913</td>\n",
              "    </tr>\n",
              "    <tr>\n",
              "      <th>41</th>\n",
              "      <td>247.943</td>\n",
              "      <td>9.876</td>\n",
              "    </tr>\n",
              "    <tr>\n",
              "      <th>42</th>\n",
              "      <td>273.692</td>\n",
              "      <td>5.115</td>\n",
              "    </tr>\n",
              "    <tr>\n",
              "      <th>43</th>\n",
              "      <td>27.551</td>\n",
              "      <td>6.820</td>\n",
              "    </tr>\n",
              "  </tbody>\n",
              "</table>\n",
              "</div>"
            ],
            "text/plain": [
              "    Advertising costs  Part-time Labour costs\n",
              "0             362.438                   8.763\n",
              "1              51.725                   9.258\n",
              "2             236.472                   9.897\n",
              "3             232.080                   5.005\n",
              "4             262.733                   9.918\n",
              "5             355.115                   9.996\n",
              "6             237.687                   7.732\n",
              "7              57.348                   7.378\n",
              "8             191.714                   7.243\n",
              "9             190.431                   5.388\n",
              "10             62.646                   6.965\n",
              "11            146.397                   5.887\n",
              "12            257.691                   6.016\n",
              "13             77.524                   7.558\n",
              "14            294.566                   5.517\n",
              "15            149.813                   6.860\n",
              "16            242.242                   8.382\n",
              "17            122.575                   9.059\n",
              "18             63.018                   6.688\n",
              "19            128.750                   5.879\n",
              "20            357.579                   8.213\n",
              "21            251.115                   7.194\n",
              "22            399.124                   7.279\n",
              "23             27.081                   8.221\n",
              "24             60.820                   8.004\n",
              "25             95.173                   7.460\n",
              "26            164.458                   5.926\n",
              "27            113.245                   5.509\n",
              "28            295.642                   7.870\n",
              "29            220.561                   6.114\n",
              "30             61.739                   6.424\n",
              "31            326.408                   5.296\n",
              "32            162.665                   7.139\n",
              "33            188.276                   9.333\n",
              "34             97.618                   9.651\n",
              "35            142.664                   7.773\n",
              "36            100.615                   8.763\n",
              "37             60.314                   8.749\n",
              "38            246.944                   9.444\n",
              "39            363.884                   6.408\n",
              "40            129.481                   8.913\n",
              "41            247.943                   9.876\n",
              "42            273.692                   5.115\n",
              "43             27.551                   6.820"
            ]
          },
          "metadata": {
            "tags": []
          },
          "execution_count": 20
        }
      ]
    },
    {
      "cell_type": "markdown",
      "metadata": {
        "id": "ayMoFG0Mdci1"
      },
      "source": [
        "#### applymap function\n",
        "\n",
        "Convert all the data in column 'Advertising costs','Part-time Labour costs' into negative value.\n",
        "\n",
        "\n",
        "\n",
        "```\n",
        "df1.applymap(lambda x:-x).head()\n",
        "```\n",
        "\n"
      ]
    },
    {
      "cell_type": "code",
      "metadata": {
        "id": "mzPnwThsv4F4"
      },
      "source": [
        "#Add code"
      ],
      "execution_count": null,
      "outputs": []
    },
    {
      "cell_type": "code",
      "metadata": {
        "colab": {
          "base_uri": "https://localhost:8080/",
          "height": 199
        },
        "id": "4J9bRxoam4f7",
        "outputId": "d9e4f965-c859-45a1-fe75-2f602752c135"
      },
      "source": [
        "df1.applymap(lambda x:-x).head()"
      ],
      "execution_count": 21,
      "outputs": [
        {
          "output_type": "execute_result",
          "data": {
            "text/html": [
              "<div>\n",
              "<style scoped>\n",
              "    .dataframe tbody tr th:only-of-type {\n",
              "        vertical-align: middle;\n",
              "    }\n",
              "\n",
              "    .dataframe tbody tr th {\n",
              "        vertical-align: top;\n",
              "    }\n",
              "\n",
              "    .dataframe thead th {\n",
              "        text-align: right;\n",
              "    }\n",
              "</style>\n",
              "<table border=\"1\" class=\"dataframe\">\n",
              "  <thead>\n",
              "    <tr style=\"text-align: right;\">\n",
              "      <th></th>\n",
              "      <th>Advertising costs</th>\n",
              "      <th>Part-time Labour costs</th>\n",
              "    </tr>\n",
              "  </thead>\n",
              "  <tbody>\n",
              "    <tr>\n",
              "      <th>0</th>\n",
              "      <td>-362.438</td>\n",
              "      <td>-8.763</td>\n",
              "    </tr>\n",
              "    <tr>\n",
              "      <th>1</th>\n",
              "      <td>-51.725</td>\n",
              "      <td>-9.258</td>\n",
              "    </tr>\n",
              "    <tr>\n",
              "      <th>2</th>\n",
              "      <td>-236.472</td>\n",
              "      <td>-9.897</td>\n",
              "    </tr>\n",
              "    <tr>\n",
              "      <th>3</th>\n",
              "      <td>-232.080</td>\n",
              "      <td>-5.005</td>\n",
              "    </tr>\n",
              "    <tr>\n",
              "      <th>4</th>\n",
              "      <td>-262.733</td>\n",
              "      <td>-9.918</td>\n",
              "    </tr>\n",
              "  </tbody>\n",
              "</table>\n",
              "</div>"
            ],
            "text/plain": [
              "   Advertising costs  Part-time Labour costs\n",
              "0           -362.438                  -8.763\n",
              "1            -51.725                  -9.258\n",
              "2           -236.472                  -9.897\n",
              "3           -232.080                  -5.005\n",
              "4           -262.733                  -9.918"
            ]
          },
          "metadata": {
            "tags": []
          },
          "execution_count": 21
        }
      ]
    }
  ]
}