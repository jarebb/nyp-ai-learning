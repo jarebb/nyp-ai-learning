{
 "cells": [
  {
   "cell_type": "markdown",
   "id": "2a869018-f852-4c90-baf7-41ff4d0d97c5",
   "metadata": {},
   "source": [
    "Machine learning and deep learning all falls under data science\n",
    "\n",
    "Tableau or powerbi all falls under data science\n",
    "\n",
    "\n",
    "## Big Data\n",
    "In big data, Variety and Complexity is the hardest to handle. \n",
    "\n",
    "Volume is easier as we only need larger HDD and higher CPU for processing.\n",
    "Velocity is not that difficult too, just make sure we have the computng power.\n",
    "\n",
    "Data various too much! Which is why its difficult to handle\n",
    "\n",
    "\n",
    "There are 3 factors we need to obvious in big data\n",
    "\n",
    "1. Data Velocity\n",
    "\n",
    "2. Data Volume\n",
    "\n",
    "3. Data variety\n",
    "\n",
    "Its the job as the data sciencst to handle all these 3 factors\n",
    "\n",
    "\n",
    "## Data Science\n",
    "** Need to learn what is data science, and how to best descibe it in simple words, and also with complex example. **\n",
    "\n",
    "For the math, the important is **Regession**! \n",
    "\n",
    "\n",
    "\n",
    "\n"
   ]
  }
 ],
 "metadata": {
  "kernelspec": {
   "display_name": "Python 3",
   "language": "python",
   "name": "python3"
  },
  "language_info": {
   "codemirror_mode": {
    "name": "ipython",
    "version": 3
   },
   "file_extension": ".py",
   "mimetype": "text/x-python",
   "name": "python",
   "nbconvert_exporter": "python",
   "pygments_lexer": "ipython3",
   "version": "3.8.8"
  }
 },
 "nbformat": 4,
 "nbformat_minor": 5
}
