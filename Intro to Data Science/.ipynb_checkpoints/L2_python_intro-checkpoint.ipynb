{
 "cells": [
  {
   "cell_type": "markdown",
   "metadata": {
    "id": "ny3DMhS4-xzR"
   },
   "source": [
    "# L2 Python Introduction"
   ]
  },
  {
   "cell_type": "markdown",
   "metadata": {
    "id": "JUnP45jv-xzV"
   },
   "source": [
    "### 1. Variables and math in Python"
   ]
  },
  {
   "cell_type": "markdown",
   "metadata": {
    "id": "_TA2DRRc-xzV"
   },
   "source": [
    "#### 1.1 Math operators"
   ]
  },
  {
   "cell_type": "code",
   "execution_count": 42,
   "metadata": {
    "colab": {
     "base_uri": "https://localhost:8080/"
    },
    "executionInfo": {
     "elapsed": 6,
     "status": "ok",
     "timestamp": 1649474424463,
     "user": {
      "displayName": "NYP weech",
      "userId": "03211871160483530494"
     },
     "user_tz": -480
    },
    "id": "HOeGPogT-xzW",
    "outputId": "42b98fd3-e3e0-488e-80a3-4172e0281ac5",
    "scrolled": true
   },
   "outputs": [
    {
     "data": {
      "text/plain": [
       "4"
      ]
     },
     "execution_count": 42,
     "metadata": {},
     "output_type": "execute_result"
    }
   ],
   "source": [
    "# add two integers\n",
    "2 + 2"
   ]
  },
  {
   "cell_type": "code",
   "execution_count": 43,
   "metadata": {
    "colab": {
     "base_uri": "https://localhost:8080/"
    },
    "executionInfo": {
     "elapsed": 6,
     "status": "ok",
     "timestamp": 1649474429539,
     "user": {
      "displayName": "NYP weech",
      "userId": "03211871160483530494"
     },
     "user_tz": -480
    },
    "id": "PpdGnUlS-xzX",
    "outputId": "318f34e4-d0bf-4219-e49c-328c9c5fed1f"
   },
   "outputs": [
    {
     "data": {
      "text/plain": [
       "4"
      ]
     },
     "execution_count": 43,
     "metadata": {},
     "output_type": "execute_result"
    }
   ],
   "source": [
    "# multiply two integers\n",
    "2 * 2"
   ]
  },
  {
   "cell_type": "code",
   "execution_count": 44,
   "metadata": {
    "colab": {
     "base_uri": "https://localhost:8080/"
    },
    "executionInfo": {
     "elapsed": 548,
     "status": "ok",
     "timestamp": 1649474430502,
     "user": {
      "displayName": "NYP weech",
      "userId": "03211871160483530494"
     },
     "user_tz": -480
    },
    "id": "n32nV9A9-xzX",
    "outputId": "174455da-c87e-4180-b6bf-f77a6f7eb193"
   },
   "outputs": [
    {
     "data": {
      "text/plain": [
       "16"
      ]
     },
     "execution_count": 44,
     "metadata": {},
     "output_type": "execute_result"
    }
   ],
   "source": [
    "# spaces don't matter here, but keep them consistent (PEP8 good practice)\n",
    "2*3   +   10"
   ]
  },
  {
   "cell_type": "code",
   "execution_count": 45,
   "metadata": {
    "colab": {
     "base_uri": "https://localhost:8080/"
    },
    "executionInfo": {
     "elapsed": 354,
     "status": "ok",
     "timestamp": 1649474432607,
     "user": {
      "displayName": "NYP weech",
      "userId": "03211871160483530494"
     },
     "user_tz": -480
    },
    "id": "iUJ28dIx-xzX",
    "outputId": "cc30dc03-3085-46fc-ecfd-60929a6c947e"
   },
   "outputs": [
    {
     "data": {
      "text/plain": [
       "2.0"
      ]
     },
     "execution_count": 45,
     "metadata": {},
     "output_type": "execute_result"
    }
   ],
   "source": [
    "# divide two integers\n",
    "6 / 3"
   ]
  },
  {
   "cell_type": "code",
   "execution_count": 46,
   "metadata": {
    "colab": {
     "base_uri": "https://localhost:8080/"
    },
    "executionInfo": {
     "elapsed": 323,
     "status": "ok",
     "timestamp": 1649474434584,
     "user": {
      "displayName": "NYP weech",
      "userId": "03211871160483530494"
     },
     "user_tz": -480
    },
    "id": "gWFuuk_4-xzY",
    "outputId": "b7bdcb6d-3d2c-4e37-dbdf-fb47018534fd"
   },
   "outputs": [
    {
     "data": {
      "text/plain": [
       "16"
      ]
     },
     "execution_count": 46,
     "metadata": {},
     "output_type": "execute_result"
    }
   ],
   "source": [
    "# raise 2 to the 4th power\n",
    "2 ** 4"
   ]
  },
  {
   "cell_type": "code",
   "execution_count": 47,
   "metadata": {
    "colab": {
     "base_uri": "https://localhost:8080/"
    },
    "executionInfo": {
     "elapsed": 336,
     "status": "ok",
     "timestamp": 1649474435292,
     "user": {
      "displayName": "NYP weech",
      "userId": "03211871160483530494"
     },
     "user_tz": -480
    },
    "id": "ytXQ9-x8-xzY",
    "outputId": "ab1eeebf-77f2-4e91-ad4f-cc6923c96301"
   },
   "outputs": [
    {
     "data": {
      "text/plain": [
       "1"
      ]
     },
     "execution_count": 47,
     "metadata": {},
     "output_type": "execute_result"
    }
   ],
   "source": [
    "# the mod function returns the remainder after division. Useful to check divisibility.\n",
    "10 % 3"
   ]
  },
  {
   "cell_type": "markdown",
   "metadata": {
    "id": "XdzOFaeH-xzZ"
   },
   "source": [
    "| Symbol | Task Performed |\n",
    "|----|---|\n",
    "| +  | Addition |\n",
    "| -  | Subtraction |\n",
    "| /  | division |\n",
    "| *  | multiplication |\n",
    "| **  | to the power of |\n",
    "| %  | mod |"
   ]
  },
  {
   "cell_type": "markdown",
   "metadata": {
    "id": "ShyevcML-xzZ"
   },
   "source": [
    "#### 1.2 Working with variables"
   ]
  },
  {
   "cell_type": "code",
   "execution_count": 48,
   "metadata": {
    "executionInfo": {
     "elapsed": 941,
     "status": "ok",
     "timestamp": 1649474481042,
     "user": {
      "displayName": "NYP weech",
      "userId": "03211871160483530494"
     },
     "user_tz": -480
    },
    "id": "M5eEIGT2-xzZ"
   },
   "outputs": [],
   "source": [
    "# variables, such as x here, contain values and their values can vary\n",
    "x = 5"
   ]
  },
  {
   "cell_type": "code",
   "execution_count": 49,
   "metadata": {
    "colab": {
     "base_uri": "https://localhost:8080/"
    },
    "executionInfo": {
     "elapsed": 4,
     "status": "ok",
     "timestamp": 1649474481359,
     "user": {
      "displayName": "NYP weech",
      "userId": "03211871160483530494"
     },
     "user_tz": -480
    },
    "id": "pn0tEqsb-xza",
    "outputId": "2efe71ca-907c-4874-8f15-7acc1bfa007a"
   },
   "outputs": [
    {
     "data": {
      "text/plain": [
       "5"
      ]
     },
     "execution_count": 49,
     "metadata": {},
     "output_type": "execute_result"
    }
   ],
   "source": [
    "# to inspect a value, just call it\n",
    "x"
   ]
  },
  {
   "cell_type": "code",
   "execution_count": 50,
   "metadata": {
    "colab": {
     "base_uri": "https://localhost:8080/"
    },
    "executionInfo": {
     "elapsed": 5,
     "status": "ok",
     "timestamp": 1649474484621,
     "user": {
      "displayName": "NYP weech",
      "userId": "03211871160483530494"
     },
     "user_tz": -480
    },
    "id": "fjMWkvG7-xza",
    "outputId": "680aa008-7e73-45a7-cdf5-b2a4adede5d8"
   },
   "outputs": [
    {
     "data": {
      "text/plain": [
       "8"
      ]
     },
     "execution_count": 50,
     "metadata": {},
     "output_type": "execute_result"
    }
   ],
   "source": [
    "# you can perform calculations on variables\n",
    "x + 3"
   ]
  },
  {
   "cell_type": "code",
   "execution_count": 51,
   "metadata": {
    "colab": {
     "base_uri": "https://localhost:8080/"
    },
    "executionInfo": {
     "elapsed": 324,
     "status": "ok",
     "timestamp": 1649474487512,
     "user": {
      "displayName": "NYP weech",
      "userId": "03211871160483530494"
     },
     "user_tz": -480
    },
    "id": "51HQyqQm-xza",
    "outputId": "dadbbffb-47f4-462b-b388-f00b85b859c2"
   },
   "outputs": [
    {
     "data": {
      "text/plain": [
       "5"
      ]
     },
     "execution_count": 51,
     "metadata": {},
     "output_type": "execute_result"
    }
   ],
   "source": [
    "# what's the value of x now?\n",
    "x"
   ]
  },
  {
   "cell_type": "code",
   "execution_count": 52,
   "metadata": {
    "id": "d6lLB2e4-xza"
   },
   "outputs": [],
   "source": [
    "# to update the value of a variable, you have to do assignment again\n",
    "x = x + 3"
   ]
  },
  {
   "cell_type": "code",
   "execution_count": 53,
   "metadata": {
    "id": "S34-r7uJ-xzb"
   },
   "outputs": [
    {
     "data": {
      "text/plain": [
       "8"
      ]
     },
     "execution_count": 53,
     "metadata": {},
     "output_type": "execute_result"
    }
   ],
   "source": [
    "# now what's the value of x?\n",
    "x"
   ]
  },
  {
   "cell_type": "code",
   "execution_count": 54,
   "metadata": {
    "id": "IQHNPQmr-xzb"
   },
   "outputs": [
    {
     "data": {
      "text/plain": [
       "10"
      ]
     },
     "execution_count": 54,
     "metadata": {},
     "output_type": "execute_result"
    }
   ],
   "source": [
    "# create a new variable y from a calculation involving x\n",
    "y = x + 2\n",
    "y"
   ]
  },
  {
   "cell_type": "code",
   "execution_count": 55,
   "metadata": {
    "id": "3WtL6Ba0-xzb"
   },
   "outputs": [
    {
     "data": {
      "text/plain": [
       "10"
      ]
     },
     "execution_count": 55,
     "metadata": {},
     "output_type": "execute_result"
    }
   ],
   "source": [
    "# calling two variables only displays the last one\n",
    "x\n",
    "y"
   ]
  },
  {
   "cell_type": "code",
   "execution_count": 56,
   "metadata": {
    "id": "HvXnDvSY-xzb"
   },
   "outputs": [
    {
     "name": "stdout",
     "output_type": "stream",
     "text": [
      "8\n",
      "10\n"
     ]
    }
   ],
   "source": [
    "# use the print() function to output value(s) to the console\n",
    "print(x)\n",
    "print(y)"
   ]
  },
  {
   "cell_type": "code",
   "execution_count": 57,
   "metadata": {
    "id": "VX3sSG8f-xzc"
   },
   "outputs": [
    {
     "name": "stdout",
     "output_type": "stream",
     "text": [
      "8 10\n"
     ]
    }
   ],
   "source": [
    "# separate two values by commas to output on the same line\n",
    "print(x,y)"
   ]
  },
  {
   "cell_type": "code",
   "execution_count": 58,
   "metadata": {
    "id": "r8YcNWfW-xzc"
   },
   "outputs": [
    {
     "name": "stdout",
     "output_type": "stream",
     "text": [
      "80\n"
     ]
    }
   ],
   "source": [
    "# you can also print the output of an expression\n",
    "print(x * y)"
   ]
  },
  {
   "cell_type": "markdown",
   "metadata": {
    "id": "6Ia78F9b-xzc"
   },
   "source": [
    "NOTE: Use valid variable names!\n",
    "* Variable names can contain letters, numbers, and the underscore character.\n",
    "* You can't begin variable names with a digit, or use any of Python's _reserved words_ (eg. False, list, None, zip, else, class, ...).\n",
    "* Don't use a space in the middle of a variable name.\n",
    "\n",
    "| result | variable name |\n",
    "|----|----|\n",
    "| Valid | my_float, xyz_123, zip_code |\n",
    "| Error! | my float, 123_xyz, zip |"
   ]
  },
  {
   "cell_type": "markdown",
   "metadata": {
    "id": "VrDwW_83-xzc"
   },
   "source": [
    "#### 1.3 Getting help "
   ]
  },
  {
   "cell_type": "code",
   "execution_count": 59,
   "metadata": {
    "executionInfo": {
     "elapsed": 304,
     "status": "ok",
     "timestamp": 1649474638277,
     "user": {
      "displayName": "NYP weech",
      "userId": "03211871160483530494"
     },
     "user_tz": -480
    },
    "id": "itd_afD--xzc"
   },
   "outputs": [
    {
     "data": {
      "text/plain": [
       "\u001b[1;31mSignature:\u001b[0m \u001b[0mlen\u001b[0m\u001b[1;33m(\u001b[0m\u001b[0mobj\u001b[0m\u001b[1;33m,\u001b[0m \u001b[1;33m/\u001b[0m\u001b[1;33m)\u001b[0m\u001b[1;33m\u001b[0m\u001b[1;33m\u001b[0m\u001b[0m\n",
       "\u001b[1;31mDocstring:\u001b[0m Return the number of items in a container.\n",
       "\u001b[1;31mType:\u001b[0m      builtin_function_or_method\n"
      ]
     },
     "metadata": {},
     "output_type": "display_data"
    }
   ],
   "source": [
    "# get iPython help on an expression by putting ? after it\n",
    "len?"
   ]
  },
  {
   "cell_type": "markdown",
   "metadata": {
    "id": "GfyaJPl6-xzd"
   },
   "source": [
    "### 2. Basic data types: int, float, string\n",
    "These object types are the most basic building blocks when handling data in Python. Note that Python is an object-oriented language. Each object has a type, which determines what can be done with it. For instance, an object of type _int_ can be added to another _int_.\n",
    "\n",
    "In compiled languages like C++, the programmer has to declare the type of any variable before using it. By contrast, Python will **infer the type of variable you want** at run-time. It does this based on what characters you pass, whether they are surrounded by quote marks or brackets. This keeps the syntax much more 'natural' - but take care to learn the rules your Python interpreter applies."
   ]
  },
  {
   "cell_type": "code",
   "execution_count": 60,
   "metadata": {
    "colab": {
     "base_uri": "https://localhost:8080/"
    },
    "executionInfo": {
     "elapsed": 343,
     "status": "ok",
     "timestamp": 1649474805015,
     "user": {
      "displayName": "NYP weech",
      "userId": "03211871160483530494"
     },
     "user_tz": -480
    },
    "id": "hqRofLHD-xzd",
    "outputId": "468c7ea8-50d8-4485-f04e-0b58b6165651"
   },
   "outputs": [
    {
     "data": {
      "text/plain": [
       "int"
      ]
     },
     "execution_count": 60,
     "metadata": {},
     "output_type": "execute_result"
    }
   ],
   "source": [
    "# integers are whole numbers\n",
    "x = 10\n",
    "type(x)"
   ]
  },
  {
   "cell_type": "code",
   "execution_count": 61,
   "metadata": {
    "colab": {
     "base_uri": "https://localhost:8080/"
    },
    "executionInfo": {
     "elapsed": 351,
     "status": "ok",
     "timestamp": 1649474807008,
     "user": {
      "displayName": "NYP weech",
      "userId": "03211871160483530494"
     },
     "user_tz": -480
    },
    "id": "rMInjLs1-xzd",
    "outputId": "d56cc439-b0cd-46ee-acaf-d080d493fa9b"
   },
   "outputs": [
    {
     "data": {
      "text/plain": [
       "float"
      ]
     },
     "execution_count": 61,
     "metadata": {},
     "output_type": "execute_result"
    }
   ],
   "source": [
    "# floats are floating point (or decimal) numbers\n",
    "y = 4.25\n",
    "type(y)"
   ]
  },
  {
   "cell_type": "code",
   "execution_count": 62,
   "metadata": {
    "executionInfo": {
     "elapsed": 3,
     "status": "ok",
     "timestamp": 1649474809004,
     "user": {
      "displayName": "NYP weech",
      "userId": "03211871160483530494"
     },
     "user_tz": -480
    },
    "id": "_OIbqgQQ-xzd"
   },
   "outputs": [],
   "source": [
    "# strings are sets of characters in a row, denoted by single or double quotes\n",
    "course_name = 'Python for Data Science'"
   ]
  },
  {
   "cell_type": "code",
   "execution_count": 63,
   "metadata": {
    "colab": {
     "base_uri": "https://localhost:8080/"
    },
    "executionInfo": {
     "elapsed": 321,
     "status": "ok",
     "timestamp": 1649474811855,
     "user": {
      "displayName": "NYP weech",
      "userId": "03211871160483530494"
     },
     "user_tz": -480
    },
    "id": "gqQ0Mexm-xze",
    "outputId": "92f112e7-8b52-4462-dccc-402d6379c65d"
   },
   "outputs": [
    {
     "data": {
      "text/plain": [
       "bool"
      ]
     },
     "execution_count": 63,
     "metadata": {},
     "output_type": "execute_result"
    }
   ],
   "source": [
    "# another data type is a Boolean, which has the possible values True or False\n",
    "\n",
    "my_enrollment_status = True\n",
    "type(my_enrollment_status)"
   ]
  },
  {
   "cell_type": "code",
   "execution_count": 64,
   "metadata": {
    "colab": {
     "base_uri": "https://localhost:8080/"
    },
    "executionInfo": {
     "elapsed": 325,
     "status": "ok",
     "timestamp": 1649474823282,
     "user": {
      "displayName": "NYP weech",
      "userId": "03211871160483530494"
     },
     "user_tz": -480
    },
    "id": "qP9IlT5--xze",
    "outputId": "b0596772-94e6-4332-b892-2b2de8686420"
   },
   "outputs": [
    {
     "data": {
      "text/plain": [
       "False"
      ]
     },
     "execution_count": 64,
     "metadata": {},
     "output_type": "execute_result"
    }
   ],
   "source": [
    "# use isinstance to check an object's type\n",
    "isinstance(course_name, int)"
   ]
  },
  {
   "cell_type": "markdown",
   "metadata": {
    "id": "2pxCKKE9-xze"
   },
   "source": [
    "#### 2.1. Manipulating strings"
   ]
  },
  {
   "cell_type": "code",
   "execution_count": 65,
   "metadata": {
    "executionInfo": {
     "elapsed": 3,
     "status": "ok",
     "timestamp": 1649474840269,
     "user": {
      "displayName": "NYP weech",
      "userId": "03211871160483530494"
     },
     "user_tz": -480
    },
    "id": "KMP2djyb-xze"
   },
   "outputs": [],
   "source": [
    "# this is a string. It can be assigned to a variable. \n",
    "mystring = 'I am a string. Humans can interpret me easily'"
   ]
  },
  {
   "cell_type": "code",
   "execution_count": 66,
   "metadata": {
    "colab": {
     "base_uri": "https://localhost:8080/"
    },
    "executionInfo": {
     "elapsed": 4,
     "status": "ok",
     "timestamp": 1649474841230,
     "user": {
      "displayName": "NYP weech",
      "userId": "03211871160483530494"
     },
     "user_tz": -480
    },
    "id": "2uy_alCQ-xze",
    "outputId": "f470cc31-f7a4-421a-f5b2-e176a0eda1cd"
   },
   "outputs": [
    {
     "name": "stdout",
     "output_type": "stream",
     "text": [
      "I am a string. Humans can interpret me easily\n"
     ]
    }
   ],
   "source": [
    "print(mystring)"
   ]
  },
  {
   "cell_type": "code",
   "execution_count": 67,
   "metadata": {
    "colab": {
     "base_uri": "https://localhost:8080/",
     "height": 37
    },
    "executionInfo": {
     "elapsed": 346,
     "status": "ok",
     "timestamp": 1649474845113,
     "user": {
      "displayName": "NYP weech",
      "userId": "03211871160483530494"
     },
     "user_tz": -480
    },
    "id": "_n_6t_9F-xze",
    "outputId": "cf4ddc7b-0400-40aa-e740-e95d32f9ba03"
   },
   "outputs": [
    {
     "data": {
      "text/plain": [
       "'I am a string. Humans can interpret me easily. I love strings'"
      ]
     },
     "execution_count": 67,
     "metadata": {},
     "output_type": "execute_result"
    }
   ],
   "source": [
    "# strings can added together (concatenated)\n",
    "add_chunk = '. I love strings'\n",
    "mystring + add_chunk"
   ]
  },
  {
   "cell_type": "code",
   "execution_count": 68,
   "metadata": {
    "colab": {
     "base_uri": "https://localhost:8080/",
     "height": 183
    },
    "executionInfo": {
     "elapsed": 440,
     "status": "error",
     "timestamp": 1649474848466,
     "user": {
      "displayName": "NYP weech",
      "userId": "03211871160483530494"
     },
     "user_tz": -480
    },
    "id": "--G2qgNS-xzf",
    "outputId": "46317be1-5388-4cdb-ef07-c190934cb3cf"
   },
   "outputs": [
    {
     "ename": "TypeError",
     "evalue": "unsupported operand type(s) for -: 'str' and 'str'",
     "output_type": "error",
     "traceback": [
      "\u001b[1;31m---------------------------------------------------------------------------\u001b[0m",
      "\u001b[1;31mTypeError\u001b[0m                                 Traceback (most recent call last)",
      "\u001b[1;32m<ipython-input-68-f7baed0c2e92>\u001b[0m in \u001b[0;36m<module>\u001b[1;34m\u001b[0m\n\u001b[0;32m      1\u001b[0m \u001b[1;31m# but they can't be subtracted\u001b[0m\u001b[1;33m\u001b[0m\u001b[1;33m\u001b[0m\u001b[1;33m\u001b[0m\u001b[0m\n\u001b[1;32m----> 2\u001b[1;33m \u001b[0mmystring\u001b[0m \u001b[1;33m-\u001b[0m \u001b[0madd_chunk\u001b[0m\u001b[1;33m\u001b[0m\u001b[1;33m\u001b[0m\u001b[0m\n\u001b[0m",
      "\u001b[1;31mTypeError\u001b[0m: unsupported operand type(s) for -: 'str' and 'str'"
     ]
    }
   ],
   "source": [
    "# but they can't be subtracted\n",
    "mystring - add_chunk"
   ]
  },
  {
   "cell_type": "code",
   "execution_count": 69,
   "metadata": {
    "colab": {
     "base_uri": "https://localhost:8080/",
     "height": 37
    },
    "executionInfo": {
     "elapsed": 310,
     "status": "ok",
     "timestamp": 1649474858486,
     "user": {
      "displayName": "NYP weech",
      "userId": "03211871160483530494"
     },
     "user_tz": -480
    },
    "id": "BFbQnuDH-xzf",
    "outputId": "4137e4a4-16d0-4928-c435-1afa98fd6ef5"
   },
   "outputs": [
    {
     "data": {
      "text/plain": [
       "'. I love strings. I love strings. I love strings'"
      ]
     },
     "execution_count": 69,
     "metadata": {},
     "output_type": "execute_result"
    }
   ],
   "source": [
    "# they can be repeated with *\n",
    "add_chunk * 3"
   ]
  },
  {
   "cell_type": "code",
   "execution_count": 70,
   "metadata": {
    "colab": {
     "base_uri": "https://localhost:8080/"
    },
    "executionInfo": {
     "elapsed": 315,
     "status": "ok",
     "timestamp": 1649474864517,
     "user": {
      "displayName": "NYP weech",
      "userId": "03211871160483530494"
     },
     "user_tz": -480
    },
    "id": "7VZbJs_7-xzf",
    "outputId": "187d378e-5026-42b9-ddd2-2baf314ec905"
   },
   "outputs": [
    {
     "data": {
      "text/plain": [
       "['I am a string', ' Humans can interpret me easily']"
      ]
     },
     "execution_count": 70,
     "metadata": {},
     "output_type": "execute_result"
    }
   ],
   "source": [
    "# Each object type has a set of 'methods' (ie. built-in operations) attached to it. \n",
    "# Access these with dot notation.\n",
    "\n",
    "mystring.split('.')"
   ]
  },
  {
   "cell_type": "code",
   "execution_count": 71,
   "metadata": {
    "colab": {
     "base_uri": "https://localhost:8080/"
    },
    "executionInfo": {
     "elapsed": 329,
     "status": "ok",
     "timestamp": 1649474870449,
     "user": {
      "displayName": "NYP weech",
      "userId": "03211871160483530494"
     },
     "user_tz": -480
    },
    "id": "lLNHPqy4-xzf",
    "outputId": "a88098f5-9db0-489b-a489-cbbcdd3b8106"
   },
   "outputs": [
    {
     "name": "stdout",
     "output_type": "stream",
     "text": [
      "I am a string. Humans can interpret me easily\n",
      "Dharana is a human. Other humans can interpret her easily\n",
      "Nicholas is a human. Other humans can interpret him from time to time\n"
     ]
    }
   ],
   "source": [
    "# the .replace() method is handy too. This operation can be chained for entertainment value:\n",
    "print(mystring)\n",
    "\n",
    "new_string = mystring.replace(\"I am\",\"Dharana is\").replace(\"string\", \"human\").replace(\"Humans\", \"Other humans\").replace(\"me\",\"her\")\n",
    "\n",
    "print(new_string)\n",
    "print(new_string.replace('Dharana', 'Nicholas').replace('easily','from time to time').replace(' her ',' him '))"
   ]
  },
  {
   "cell_type": "code",
   "execution_count": 72,
   "metadata": {
    "colab": {
     "base_uri": "https://localhost:8080/"
    },
    "executionInfo": {
     "elapsed": 306,
     "status": "ok",
     "timestamp": 1649474874257,
     "user": {
      "displayName": "NYP weech",
      "userId": "03211871160483530494"
     },
     "user_tz": -480
    },
    "id": "q6VQQgYR-xzf",
    "outputId": "2a8323e9-8b5c-4c5d-cdf6-307f533e6df3"
   },
   "outputs": [
    {
     "data": {
      "text/plain": [
       "57"
      ]
     },
     "execution_count": 72,
     "metadata": {},
     "output_type": "execute_result"
    }
   ],
   "source": [
    "# the built-in function len() returns the number of characters\n",
    "\n",
    "len(new_string)"
   ]
  },
  {
   "cell_type": "code",
   "execution_count": 73,
   "metadata": {
    "colab": {
     "base_uri": "https://localhost:8080/"
    },
    "executionInfo": {
     "elapsed": 364,
     "status": "ok",
     "timestamp": 1649474946302,
     "user": {
      "displayName": "NYP weech",
      "userId": "03211871160483530494"
     },
     "user_tz": -480
    },
    "id": "oBqO4AqR-xzf",
    "outputId": "564cacd4-9ae2-4347-8496-90850ee0795c"
   },
   "outputs": [
    {
     "name": "stdout",
     "output_type": "stream",
     "text": [
      "My output: 4.123456\n",
      "My output: 4.123\n"
     ]
    }
   ],
   "source": [
    "# use .format() to print variables alongside strings\n",
    "# to keep your outputs neat, you might want to limit the decimal places\n",
    "value_to_print=4.123456\n",
    "print(\"My output: {}\".format(value_to_print))\n",
    "print(\"My output: {:.3f}\".format(value_to_print))"
   ]
  },
  {
   "cell_type": "markdown",
   "metadata": {
    "id": "nohqApl3-xzg"
   },
   "source": [
    "#### 2.2 Converting between types\n",
    "Often you need to convert variables to other types, especially to make them work together. Use the _int()_, _str()_ or _float()_ functions to convert to these data types."
   ]
  },
  {
   "cell_type": "code",
   "execution_count": 77,
   "metadata": {
    "colab": {
     "base_uri": "https://localhost:8080/"
    },
    "executionInfo": {
     "elapsed": 342,
     "status": "ok",
     "timestamp": 1649474953561,
     "user": {
      "displayName": "NYP weech",
      "userId": "03211871160483530494"
     },
     "user_tz": -480
    },
    "id": "fi0becbI-xzg",
    "outputId": "f53f00ca-1cd8-4447-9543-537dce7c8724"
   },
   "outputs": [
    {
     "name": "stdout",
     "output_type": "stream",
     "text": [
      "200000 <class 'int'>\n"
     ]
    }
   ],
   "source": [
    "# sometimes Python will change a variable's data type for you:\n",
    "\n",
    "my_salary = 200000\n",
    "print(my_salary, type(my_salary))"
   ]
  },
  {
   "cell_type": "code",
   "execution_count": 78,
   "metadata": {
    "colab": {
     "base_uri": "https://localhost:8080/"
    },
    "executionInfo": {
     "elapsed": 311,
     "status": "ok",
     "timestamp": 1649474957376,
     "user": {
      "displayName": "NYP weech",
      "userId": "03211871160483530494"
     },
     "user_tz": -480
    },
    "id": "xjr5RLx_-xzg",
    "outputId": "00879063-7b23-493f-97de-006a6852a9ed"
   },
   "outputs": [
    {
     "name": "stdout",
     "output_type": "stream",
     "text": [
      "547.945205479452 <class 'float'>\n"
     ]
    }
   ],
   "source": [
    "# Division always returns a float\n",
    "\n",
    "daily_rate = my_salary / 365\n",
    "print(daily_rate, type(daily_rate))"
   ]
  },
  {
   "cell_type": "code",
   "execution_count": 79,
   "metadata": {
    "colab": {
     "base_uri": "https://localhost:8080/"
    },
    "executionInfo": {
     "elapsed": 319,
     "status": "ok",
     "timestamp": 1649474961959,
     "user": {
      "displayName": "NYP weech",
      "userId": "03211871160483530494"
     },
     "user_tz": -480
    },
    "id": "drfK66Hm-xzg",
    "outputId": "701784c7-8143-4ae1-c987-246a4f6ca560"
   },
   "outputs": [
    {
     "data": {
      "text/plain": [
       "547"
      ]
     },
     "execution_count": 79,
     "metadata": {},
     "output_type": "execute_result"
    }
   ],
   "source": [
    "# be careful, changing a float to an integer lops off everything after the decimal place\n",
    "int(daily_rate)"
   ]
  },
  {
   "cell_type": "code",
   "execution_count": 80,
   "metadata": {
    "colab": {
     "base_uri": "https://localhost:8080/"
    },
    "executionInfo": {
     "elapsed": 309,
     "status": "ok",
     "timestamp": 1649474966625,
     "user": {
      "displayName": "NYP weech",
      "userId": "03211871160483530494"
     },
     "user_tz": -480
    },
    "id": "ZSGbvK3Y-xzg",
    "outputId": "84862bb1-2072-42ad-94d8-0553476d5a99"
   },
   "outputs": [
    {
     "data": {
      "text/plain": [
       "548"
      ]
     },
     "execution_count": 80,
     "metadata": {},
     "output_type": "execute_result"
    }
   ],
   "source": [
    "# you probably want to round up instead\n",
    "round(daily_rate)"
   ]
  },
  {
   "cell_type": "code",
   "execution_count": 81,
   "metadata": {
    "colab": {
     "base_uri": "https://localhost:8080/",
     "height": 200
    },
    "executionInfo": {
     "elapsed": 314,
     "status": "error",
     "timestamp": 1649474999869,
     "user": {
      "displayName": "NYP weech",
      "userId": "03211871160483530494"
     },
     "user_tz": -480
    },
    "id": "mVkFVTpN-xzg",
    "outputId": "a8d0bb35-d58b-4529-c86b-16e522dd1734"
   },
   "outputs": [
    {
     "ename": "TypeError",
     "evalue": "can only concatenate str (not \"int\") to str",
     "output_type": "error",
     "traceback": [
      "\u001b[1;31m---------------------------------------------------------------------------\u001b[0m",
      "\u001b[1;31mTypeError\u001b[0m                                 Traceback (most recent call last)",
      "\u001b[1;32m<ipython-input-81-a5bdc5792cf3>\u001b[0m in \u001b[0;36m<module>\u001b[1;34m\u001b[0m\n\u001b[0;32m      4\u001b[0m \u001b[0mWB_zip\u001b[0m \u001b[1;33m=\u001b[0m \u001b[1;36m20037\u001b[0m\u001b[1;33m\u001b[0m\u001b[1;33m\u001b[0m\u001b[0m\n\u001b[0;32m      5\u001b[0m \u001b[1;33m\u001b[0m\u001b[0m\n\u001b[1;32m----> 6\u001b[1;33m \u001b[0maddress\u001b[0m \u001b[1;33m+\u001b[0m \u001b[1;34m\" \"\u001b[0m \u001b[1;33m+\u001b[0m \u001b[0mWB_zip\u001b[0m\u001b[1;33m\u001b[0m\u001b[1;33m\u001b[0m\u001b[0m\n\u001b[0m",
      "\u001b[1;31mTypeError\u001b[0m: can only concatenate str (not \"int\") to str"
     ]
    }
   ],
   "source": [
    "# you can't concatenate a string and an integer\n",
    "\n",
    "address = \"1808 H ST NW, DC\"\n",
    "WB_zip = 20037\n",
    "\n",
    "address + \" \" + WB_zip"
   ]
  },
  {
   "cell_type": "code",
   "execution_count": 82,
   "metadata": {
    "colab": {
     "base_uri": "https://localhost:8080/"
    },
    "executionInfo": {
     "elapsed": 350,
     "status": "ok",
     "timestamp": 1649475006341,
     "user": {
      "displayName": "NYP weech",
      "userId": "03211871160483530494"
     },
     "user_tz": -480
    },
    "id": "UTYAEKOd-xzh",
    "outputId": "c4e6f622-0e73-42be-a94f-2757fe733aac"
   },
   "outputs": [
    {
     "data": {
      "text/plain": [
       "str"
      ]
     },
     "execution_count": 82,
     "metadata": {},
     "output_type": "execute_result"
    }
   ],
   "source": [
    "# instead, change the integer to a string first\n",
    "WB_zip = str(WB_zip)\n",
    "type(WB_zip)"
   ]
  },
  {
   "cell_type": "code",
   "execution_count": 83,
   "metadata": {
    "id": "vTrH8x1w-xzh"
   },
   "outputs": [
    {
     "data": {
      "text/plain": [
       "'1808 H ST NW, DC 20037'"
      ]
     },
     "execution_count": 83,
     "metadata": {},
     "output_type": "execute_result"
    }
   ],
   "source": [
    "# does it work now?\n",
    "address + \" \" + WB_zip"
   ]
  },
  {
   "cell_type": "markdown",
   "metadata": {
    "id": "a5MJ0c3P-xzh"
   },
   "source": [
    "### 3. Data types: lists\n",
    "Ints, floats and strings are the most basic data structures (think of them as atoms). Next, we'll look at data types that combine those atoms. Lists, tuples and dictionaries are compound data structures that group together other items.\n",
    "\n",
    "|Data structure | Properties| Syntax|\n",
    "|----|----|----|\n",
    "|List | Ordered, mutable sequence | mylist = [1,2,3] |\n",
    "|Tuple | Ordered, immutable sequence | mytuple = (1,2,3) |\n",
    "|Set | Unordered set of unique values | myset = set(1,2,3) |\n",
    "|Dictionary | Mutable set of key, value pairs | mydict = {'first_value':1, 'second_value:2} |\n"
   ]
  },
  {
   "cell_type": "markdown",
   "metadata": {
    "id": "fwD4Cko4-xzh"
   },
   "source": [
    "#### 3.1 Manipulating lists\n",
    "Lists are collections of items. To create one, put a series of items in square brackets, separated by commas. Lists can contain items of different types. They are helpful when your data has an order and may need to be changed in place."
   ]
  },
  {
   "cell_type": "code",
   "execution_count": 84,
   "metadata": {
    "colab": {
     "base_uri": "https://localhost:8080/"
    },
    "executionInfo": {
     "elapsed": 364,
     "status": "ok",
     "timestamp": 1649475015195,
     "user": {
      "displayName": "NYP weech",
      "userId": "03211871160483530494"
     },
     "user_tz": -480
    },
    "id": "pTel769p-xzh",
    "outputId": "3097a12a-46aa-4652-fab2-ebef3a9b2df8"
   },
   "outputs": [
    {
     "data": {
      "text/plain": [
       "['monday', 'tuesday', 'wednesday', 'thursday', 'friday']"
      ]
     },
     "execution_count": 84,
     "metadata": {},
     "output_type": "execute_result"
    }
   ],
   "source": [
    "# create a list of strings\n",
    "weekdays = ['monday','tuesday','wednesday','thursday','friday']\n",
    "weekdays"
   ]
  },
  {
   "cell_type": "code",
   "execution_count": 85,
   "metadata": {
    "colab": {
     "base_uri": "https://localhost:8080/",
     "height": 37
    },
    "executionInfo": {
     "elapsed": 326,
     "status": "ok",
     "timestamp": 1649475019870,
     "user": {
      "displayName": "NYP weech",
      "userId": "03211871160483530494"
     },
     "user_tz": -480
    },
    "id": "qgwmwZJs-xzh",
    "outputId": "8b7135bb-66d4-4956-ff42-1398dc2dc8be"
   },
   "outputs": [
    {
     "data": {
      "text/plain": [
       "'monday'"
      ]
     },
     "execution_count": 85,
     "metadata": {},
     "output_type": "execute_result"
    }
   ],
   "source": [
    "# Lists are ordered collections; they are indexed starting at zero.\n",
    "# To get an individual item, use square brackets and the appropriate index value.\n",
    "weekdays[0]"
   ]
  },
  {
   "cell_type": "code",
   "execution_count": 86,
   "metadata": {
    "colab": {
     "base_uri": "https://localhost:8080/"
    },
    "executionInfo": {
     "elapsed": 6,
     "status": "ok",
     "timestamp": 1649475022087,
     "user": {
      "displayName": "NYP weech",
      "userId": "03211871160483530494"
     },
     "user_tz": -480
    },
    "id": "TqRpkG8j-xzh",
    "outputId": "e8b42b1c-cf1b-42da-ed78-3be51856232e"
   },
   "outputs": [
    {
     "data": {
      "text/plain": [
       "['monday', 'tuesday', 'wednesday']"
      ]
     },
     "execution_count": 86,
     "metadata": {},
     "output_type": "execute_result"
    }
   ],
   "source": [
    "# select slices (eg. the first to the fourth item) with square bracket notation\n",
    "\n",
    "weekdays[0:3]"
   ]
  },
  {
   "cell_type": "code",
   "execution_count": 87,
   "metadata": {
    "colab": {
     "base_uri": "https://localhost:8080/"
    },
    "executionInfo": {
     "elapsed": 338,
     "status": "ok",
     "timestamp": 1649475025209,
     "user": {
      "displayName": "NYP weech",
      "userId": "03211871160483530494"
     },
     "user_tz": -480
    },
    "id": "Kt0z9j1h-xzh",
    "outputId": "1d1b959c-0da1-4950-a584-250c3bb91196"
   },
   "outputs": [
    {
     "data": {
      "text/plain": [
       "str"
      ]
     },
     "execution_count": 87,
     "metadata": {},
     "output_type": "execute_result"
    }
   ],
   "source": [
    "# check the type of items in a list\n",
    "type(weekdays[3])"
   ]
  },
  {
   "cell_type": "code",
   "execution_count": 88,
   "metadata": {
    "colab": {
     "base_uri": "https://localhost:8080/"
    },
    "executionInfo": {
     "elapsed": 2,
     "status": "ok",
     "timestamp": 1649475026421,
     "user": {
      "displayName": "NYP weech",
      "userId": "03211871160483530494"
     },
     "user_tz": -480
    },
    "id": "ZkTdwLQr-xzi",
    "outputId": "c2fa0ef6-f204-431c-ca6e-b8700c46b0a7"
   },
   "outputs": [
    {
     "data": {
      "text/plain": [
       "['monday', 'tuesday', 'wednesday', 'thursday - practice Python!', 'friday']"
      ]
     },
     "execution_count": 88,
     "metadata": {},
     "output_type": "execute_result"
    }
   ],
   "source": [
    "# a list is a mutable, you can change its contents in-place\n",
    "weekdays[3] = 'thursday - practice Python!'\n",
    "weekdays"
   ]
  },
  {
   "cell_type": "code",
   "execution_count": 89,
   "metadata": {
    "colab": {
     "base_uri": "https://localhost:8080/"
    },
    "executionInfo": {
     "elapsed": 3,
     "status": "ok",
     "timestamp": 1649475029756,
     "user": {
      "displayName": "NYP weech",
      "userId": "03211871160483530494"
     },
     "user_tz": -480
    },
    "id": "pIXyyY6O-xzi",
    "outputId": "3b051b77-1b0e-45bc-ff2b-ef73afa2d799"
   },
   "outputs": [
    {
     "data": {
      "text/plain": [
       "['monday',\n",
       " 'tuesday',\n",
       " 'wednesday',\n",
       " 'thursday - practice Python!',\n",
       " 'friday',\n",
       " 'saturday']"
      ]
     },
     "execution_count": 89,
     "metadata": {},
     "output_type": "execute_result"
    }
   ],
   "source": [
    "# add an item to a list with append()\n",
    "weekdays.append('saturday')\n",
    "weekdays"
   ]
  },
  {
   "cell_type": "code",
   "execution_count": 90,
   "metadata": {
    "colab": {
     "base_uri": "https://localhost:8080/"
    },
    "executionInfo": {
     "elapsed": 337,
     "status": "ok",
     "timestamp": 1649475033123,
     "user": {
      "displayName": "NYP weech",
      "userId": "03211871160483530494"
     },
     "user_tz": -480
    },
    "id": "2XNGUVtU-xzi",
    "outputId": "771652e2-a2a6-422c-d082-3323567642f2"
   },
   "outputs": [
    {
     "data": {
      "text/plain": [
       "True"
      ]
     },
     "execution_count": 90,
     "metadata": {},
     "output_type": "execute_result"
    }
   ],
   "source": [
    "# test for a value in your list\n",
    "'saturday' in weekdays"
   ]
  },
  {
   "cell_type": "code",
   "execution_count": 91,
   "metadata": {
    "colab": {
     "base_uri": "https://localhost:8080/"
    },
    "executionInfo": {
     "elapsed": 324,
     "status": "ok",
     "timestamp": 1649475035136,
     "user": {
      "displayName": "NYP weech",
      "userId": "03211871160483530494"
     },
     "user_tz": -480
    },
    "id": "gFT9-Z9w-xzi",
    "outputId": "7a20f970-fcac-41e2-974f-47503fabfd55"
   },
   "outputs": [
    {
     "data": {
      "text/plain": [
       "['monday', 'tuesday', 'wednesday', 'thursday - practice Python!', 'friday']"
      ]
     },
     "execution_count": 91,
     "metadata": {},
     "output_type": "execute_result"
    }
   ],
   "source": [
    "# use .remove() to clean up the weekdays list\n",
    "\n",
    "weekdays.remove('saturday')\n",
    "weekdays"
   ]
  },
  {
   "cell_type": "code",
   "execution_count": 92,
   "metadata": {
    "colab": {
     "base_uri": "https://localhost:8080/"
    },
    "executionInfo": {
     "elapsed": 2,
     "status": "ok",
     "timestamp": 1649475037218,
     "user": {
      "displayName": "NYP weech",
      "userId": "03211871160483530494"
     },
     "user_tz": -480
    },
    "id": "NLYO4BgO-xzi",
    "outputId": "4de67602-6844-436c-a83f-acbd17d0f897"
   },
   "outputs": [
    {
     "data": {
      "text/plain": [
       "[1, 3, 5, 2, 4, 6]"
      ]
     },
     "execution_count": 92,
     "metadata": {},
     "output_type": "execute_result"
    }
   ],
   "source": [
    "# concatenate two lists\n",
    "odds = [1,3,5]\n",
    "evens = [2,4,6]\n",
    "all_nums = odds + evens\n",
    "all_nums"
   ]
  },
  {
   "cell_type": "code",
   "execution_count": null,
   "metadata": {
    "colab": {
     "base_uri": "https://localhost:8080/"
    },
    "executionInfo": {
     "elapsed": 310,
     "status": "ok",
     "timestamp": 1649475046386,
     "user": {
      "displayName": "NYP weech",
      "userId": "03211871160483530494"
     },
     "user_tz": -480
    },
    "id": "cBBzFhyU-xzi",
    "outputId": "948f3b0e-0b61-4d26-91f5-8658c8338ad4"
   },
   "outputs": [],
   "source": [
    "# the built-in function len() also applies to lists\n",
    "len(all_nums)"
   ]
  },
  {
   "cell_type": "markdown",
   "metadata": {
    "id": "ZhsbldVp-xzi"
   },
   "source": [
    "### 4. Logic and control flow - quick intro\n",
    "\n",
    "Definition of **control flow**:\n",
    "* In a simple script, program execution starts at the top and executes each instruction in order. \n",
    "* **Control flow** statements can cause the execution to loop and skip instructions based on conditions."
   ]
  },
  {
   "cell_type": "markdown",
   "metadata": {
    "id": "iDa101Mx-xzj"
   },
   "source": [
    "#### 4.1 Loops and iterables\n",
    "Definition: an **iterable** is an object capable of returning its members one at a time. Strings, lists and dictionaries are all iterables.\n",
    "\n",
    "A **for loop** runs a block of code repeatedly \"for\" each item in an iterable. End the declaration with : and indent the subsidiary code."
   ]
  },
  {
   "cell_type": "code",
   "execution_count": null,
   "metadata": {
    "colab": {
     "base_uri": "https://localhost:8080/"
    },
    "executionInfo": {
     "elapsed": 334,
     "status": "ok",
     "timestamp": 1649475051234,
     "user": {
      "displayName": "NYP weech",
      "userId": "03211871160483530494"
     },
     "user_tz": -480
    },
    "id": "lItQUqEQ-xzj",
    "outputId": "19620c41-4129-4412-da58-0db25f5f8a60"
   },
   "outputs": [],
   "source": [
    "for color in ['red','green','blue']:\n",
    "    print(\"I love \" + color)"
   ]
  },
  {
   "cell_type": "code",
   "execution_count": null,
   "metadata": {
    "colab": {
     "base_uri": "https://localhost:8080/"
    },
    "executionInfo": {
     "elapsed": 2,
     "status": "ok",
     "timestamp": 1649475053692,
     "user": {
      "displayName": "NYP weech",
      "userId": "03211871160483530494"
     },
     "user_tz": -480
    },
    "id": "yJOFlpL9-xzj",
    "outputId": "c3411668-a81e-45e0-840a-60792e303ca7"
   },
   "outputs": [],
   "source": [
    "# or characters in a string\n",
    "for letter in 'abcd':\n",
    "    print(letter.upper())"
   ]
  },
  {
   "cell_type": "code",
   "execution_count": null,
   "metadata": {
    "colab": {
     "base_uri": "https://localhost:8080/"
    },
    "executionInfo": {
     "elapsed": 2,
     "status": "ok",
     "timestamp": 1649475056471,
     "user": {
      "displayName": "NYP weech",
      "userId": "03211871160483530494"
     },
     "user_tz": -480
    },
    "id": "z4zslIQi-xzj",
    "outputId": "ae7f2c23-3d0b-44ed-f2ad-6501e06b81b3"
   },
   "outputs": [],
   "source": [
    "# the range() function produces a helpful iterator\n",
    "for n in range(5):\n",
    "    print(\"I ate {} donuts\".format(n + 1))"
   ]
  },
  {
   "cell_type": "code",
   "execution_count": null,
   "metadata": {
    "colab": {
     "base_uri": "https://localhost:8080/"
    },
    "executionInfo": {
     "elapsed": 492,
     "status": "ok",
     "timestamp": 1649475057468,
     "user": {
      "displayName": "NYP weech",
      "userId": "03211871160483530494"
     },
     "user_tz": -480
    },
    "id": "LQqHkVyW-xzj",
    "outputId": "49a07e8f-7c98-4180-80c1-48293f88250b"
   },
   "outputs": [],
   "source": [
    "# a while loop allows you to move through part of an iterable until a condition is met\n",
    "\n",
    "a = 0\n",
    "while a < 5:\n",
    "    print('I am small {}'.format(a))\n",
    "    a += 1"
   ]
  },
  {
   "cell_type": "markdown",
   "metadata": {
    "id": "m3BGERz_-xzj"
   },
   "source": [
    "#### 4.2 Logic operators\n",
    "\n",
    "We test conditions using logic operators.\n",
    "\n",
    "| Symbol | Task Performed |\n",
    "|----|---|\n",
    "| == | True, if it is equal |\n",
    "| !=  | True, if not equal to |\n",
    "| < | less than |\n",
    "| <= | less than or equal to |\n",
    "| > | greater than |\n",
    "| >= | greater than or equal to |"
   ]
  },
  {
   "cell_type": "code",
   "execution_count": null,
   "metadata": {
    "executionInfo": {
     "elapsed": 323,
     "status": "ok",
     "timestamp": 1649475062515,
     "user": {
      "displayName": "NYP weech",
      "userId": "03211871160483530494"
     },
     "user_tz": -480
    },
    "id": "mt6ny-ec-xzj"
   },
   "outputs": [],
   "source": [
    "# NOTE: We declare variables using '='\n",
    "a = 5\n",
    "b = 7"
   ]
  },
  {
   "cell_type": "code",
   "execution_count": null,
   "metadata": {
    "colab": {
     "base_uri": "https://localhost:8080/"
    },
    "executionInfo": {
     "elapsed": 559,
     "status": "ok",
     "timestamp": 1649475063486,
     "user": {
      "displayName": "NYP weech",
      "userId": "03211871160483530494"
     },
     "user_tz": -480
    },
    "id": "p7cBsxT_-xzj",
    "outputId": "3880c12c-26b5-4f2c-f9a1-a69f151a5d95"
   },
   "outputs": [],
   "source": [
    "# But compare them using '=='\n",
    "a == b"
   ]
  },
  {
   "cell_type": "code",
   "execution_count": null,
   "metadata": {
    "colab": {
     "base_uri": "https://localhost:8080/"
    },
    "executionInfo": {
     "elapsed": 2,
     "status": "ok",
     "timestamp": 1649475063801,
     "user": {
      "displayName": "NYP weech",
      "userId": "03211871160483530494"
     },
     "user_tz": -480
    },
    "id": "DbEniKbM-xzk",
    "outputId": "4386f43b-c37b-48a5-e00f-6d4e3b3c4e66"
   },
   "outputs": [],
   "source": [
    "# Test whether a does not equal b\n",
    "a != b"
   ]
  },
  {
   "cell_type": "code",
   "execution_count": null,
   "metadata": {
    "colab": {
     "base_uri": "https://localhost:8080/"
    },
    "executionInfo": {
     "elapsed": 1,
     "status": "ok",
     "timestamp": 1649475065801,
     "user": {
      "displayName": "NYP weech",
      "userId": "03211871160483530494"
     },
     "user_tz": -480
    },
    "id": "vtpO8P4F-xzk",
    "outputId": "04788fa6-25e8-4c8a-bb86-3e191f337665"
   },
   "outputs": [],
   "source": [
    "# Logic expressions evaluate to True or False (datatype: Boolean)\n",
    "\n",
    "test = b > a\n",
    "\n",
    "test"
   ]
  },
  {
   "cell_type": "code",
   "execution_count": null,
   "metadata": {
    "colab": {
     "base_uri": "https://localhost:8080/"
    },
    "executionInfo": {
     "elapsed": 2,
     "status": "ok",
     "timestamp": 1649475067292,
     "user": {
      "displayName": "NYP weech",
      "userId": "03211871160483530494"
     },
     "user_tz": -480
    },
    "id": "yH-ija6Q-xzk",
    "outputId": "bea19c9c-ac35-492a-e898-78ed08c2711c"
   },
   "outputs": [],
   "source": [
    "type(test)"
   ]
  },
  {
   "cell_type": "markdown",
   "metadata": {
    "id": "7oWaFaAO-xzk"
   },
   "source": [
    "#### 4.3 Conditional statements with if\n",
    "\n",
    "My pet Python is a vegetarian. She will test whether variable 'food' is 'burger', 'chicken' or 'veg', then decide whether to eat.\n",
    "\n",
    "Do this with 'if', 'elif' (else if), and 'else'."
   ]
  },
  {
   "cell_type": "code",
   "execution_count": null,
   "metadata": {
    "executionInfo": {
     "elapsed": 302,
     "status": "ok",
     "timestamp": 1649475070873,
     "user": {
      "displayName": "NYP weech",
      "userId": "03211871160483530494"
     },
     "user_tz": -480
    },
    "id": "a3hAvhn2-xzk"
   },
   "outputs": [],
   "source": [
    "food = 'veg'"
   ]
  },
  {
   "cell_type": "code",
   "execution_count": null,
   "metadata": {
    "colab": {
     "base_uri": "https://localhost:8080/"
    },
    "executionInfo": {
     "elapsed": 5,
     "status": "ok",
     "timestamp": 1649475072958,
     "user": {
      "displayName": "NYP weech",
      "userId": "03211871160483530494"
     },
     "user_tz": -480
    },
    "id": "vKzQjbKs-xzk",
    "outputId": "cf7732f2-4b0e-480e-be60-721a45dc38dd"
   },
   "outputs": [],
   "source": [
    "if food == 'veg':\n",
    "    print ('yum')\n",
    "elif food == 'chicken':\n",
    "    print ('hmm maybe')\n",
    "elif food == 'burger':\n",
    "    print ('no thanks')\n",
    "else:\n",
    "    pass"
   ]
  },
  {
   "cell_type": "markdown",
   "metadata": {
    "id": "KCeX0WYc-xzk"
   },
   "source": [
    "NOTE: Here's how the structure works:\n",
    "* start with an 'if' statement, specifying the logical test to apply\n",
    "* make sure your 'if' statement ends with :\n",
    "* **indent the conditional code block.** Whatever code should be executed if the condition is true, indent it with a tab.\n",
    "* test additional actions using 'elif', and any other actions with 'else'."
   ]
  },
  {
   "cell_type": "markdown",
   "metadata": {
    "id": "LMGasx0M-xzl"
   },
   "source": [
    "#### 4.4 Testing conditions inside a loop\n",
    "Combining loops with logic allows you to build more sophisticated code structures:"
   ]
  },
  {
   "cell_type": "code",
   "execution_count": null,
   "metadata": {
    "colab": {
     "base_uri": "https://localhost:8080/"
    },
    "executionInfo": {
     "elapsed": 348,
     "status": "ok",
     "timestamp": 1649475079190,
     "user": {
      "displayName": "NYP weech",
      "userId": "03211871160483530494"
     },
     "user_tz": -480
    },
    "id": "yC8zDV66-xzl",
    "outputId": "6e0f8604-b33e-42b6-c426-f78502ab0faa"
   },
   "outputs": [],
   "source": [
    "days = ['Mon','Tue','Wed','Thu','Fri','Sat','Sun']\n",
    "\n",
    "for day in days:\n",
    "    if day == 'Sat':\n",
    "        location = '--> Beach!'\n",
    "    elif day == 'Sun':\n",
    "        location = '--> My sofa!'\n",
    "    else:\n",
    "        location = '--> MC5-215B'\n",
    "    print(day, location)"
   ]
  },
  {
   "cell_type": "code",
   "execution_count": null,
   "metadata": {
    "colab": {
     "base_uri": "https://localhost:8080/"
    },
    "executionInfo": {
     "elapsed": 13717,
     "status": "ok",
     "timestamp": 1649475381160,
     "user": {
      "displayName": "NYP weech",
      "userId": "03211871160483530494"
     },
     "user_tz": -480
    },
    "id": "YSda_Dfo-xzl",
    "outputId": "4d5609a8-c179-4b14-ef9a-d9e1f9222b1b"
   },
   "outputs": [],
   "source": [
    "# EXAMPLE 2: is your pet allowed?\n",
    "\n",
    "authorized_pets = ['small dog', 'cat', 'hamster','budgerigar']\n",
    "\n",
    "print(\"Welcome to Nick's Apartment Block.\")\n",
    "my_pet = input(\"Type your pet's breed to see if it's accepted:\")\n",
    "\n",
    "if my_pet in authorized_pets:\n",
    "    print(\"Congratulations, your {} is welcome here!\".format(my_pet))\n",
    "else:\n",
    "    print(\"\\nSorry your {} is NOT ACCEPTED\".format(my_pet))"
   ]
  }
 ],
 "metadata": {
  "colab": {
   "collapsed_sections": [
    "VrDwW_83-xzc",
    "2pxCKKE9-xze",
    "nohqApl3-xzg",
    "fwD4Cko4-xzh",
    "iDa101Mx-xzj",
    "m3BGERz_-xzj",
    "7oWaFaAO-xzk",
    "LMGasx0M-xzl"
   ],
   "name": "L2_python_intro.ipynb",
   "provenance": []
  },
  "kernelspec": {
   "display_name": "Python 3",
   "language": "python",
   "name": "python3"
  },
  "language_info": {
   "codemirror_mode": {
    "name": "ipython",
    "version": 3
   },
   "file_extension": ".py",
   "mimetype": "text/x-python",
   "name": "python",
   "nbconvert_exporter": "python",
   "pygments_lexer": "ipython3",
   "version": "3.8.8"
  }
 },
 "nbformat": 4,
 "nbformat_minor": 4
}
