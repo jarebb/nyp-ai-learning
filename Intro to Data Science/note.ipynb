{
 "cells": [
  {
   "cell_type": "markdown",
   "id": "2a869018-f852-4c90-baf7-41ff4d0d97c5",
   "metadata": {},
   "source": [
    "Machine learning and deep learning all falls under data science\n",
    "\n",
    "Tabule or powerbi all falls under data science\n",
    "\n"
   ]
  }
 ],
 "metadata": {
  "kernelspec": {
   "display_name": "Python 3",
   "language": "python",
   "name": "python3"
  },
  "language_info": {
   "codemirror_mode": {
    "name": "ipython",
    "version": 3
   },
   "file_extension": ".py",
   "mimetype": "text/x-python",
   "name": "python",
   "nbconvert_exporter": "python",
   "pygments_lexer": "ipython3",
   "version": "3.8.8"
  }
 },
 "nbformat": 4,
 "nbformat_minor": 5
}
