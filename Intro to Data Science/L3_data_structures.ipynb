{
 "cells": [
  {
   "cell_type": "markdown",
   "metadata": {
    "id": "DPk1Ac2p-TVt"
   },
   "source": [
    "### L3: Data structures and control flow - towards more data\n",
    "This session goes into more depth on strings, numerical data and compound data types like lists. Building your agility with these structures is crucial for what follows! We'll begin to handle data at scale through loops and list comprehensions. "
   ]
  },
  {
   "cell_type": "markdown",
   "metadata": {
    "id": "LvESuEmu-TVz"
   },
   "source": [
    "### 1: Strings and escape characters\n",
    "Strings can be defined several ways, such as with single quotes or double quotes. Why? Strings themselves may include quotes. The resulting ambiguity can break your code. All programming languages have tricks to get around this issue:"
   ]
  },
  {
   "cell_type": "code",
   "execution_count": 1,
   "metadata": {
    "colab": {
     "base_uri": "https://localhost:8080/"
    },
    "executionInfo": {
     "elapsed": 9,
     "status": "ok",
     "timestamp": 1649475441906,
     "user": {
      "displayName": "NYP weech",
      "userId": "03211871160483530494"
     },
     "user_tz": -480
    },
    "id": "1IqgaDZ4-TV0",
    "outputId": "63397149-d666-48ce-98c0-80ab2ff4f5a7"
   },
   "outputs": [
    {
     "name": "stdout",
     "output_type": "stream",
     "text": [
      "Yes, they said.\n",
      "Yes, they said.\n"
     ]
    }
   ],
   "source": [
    "# One string, two ways\n",
    "\n",
    "print('Yes, they said.')\n",
    "print(\"Yes, they said.\")"
   ]
  },
  {
   "cell_type": "code",
   "execution_count": 5,
   "metadata": {
    "colab": {
     "base_uri": "https://localhost:8080/",
     "height": 131
    },
    "executionInfo": {
     "elapsed": 617,
     "status": "error",
     "timestamp": 1649475484972,
     "user": {
      "displayName": "NYP weech",
      "userId": "03211871160483530494"
     },
     "user_tz": -480
    },
    "id": "7Wpu-hcH-TV2",
    "outputId": "8d2e97ce-eb3d-4491-f017-885b76084421"
   },
   "outputs": [
    {
     "ename": "SyntaxError",
     "evalue": "ignored",
     "output_type": "error",
     "traceback": [
      "\u001b[0;36m  File \u001b[0;32m\"<ipython-input-5-4ab7d24cf427>\"\u001b[0;36m, line \u001b[0;32m3\u001b[0m\n\u001b[0;31m    print(''Yes', they said.')\u001b[0m\n\u001b[0m              ^\u001b[0m\n\u001b[0;31mSyntaxError\u001b[0m\u001b[0;31m:\u001b[0m invalid syntax\n"
     ]
    }
   ],
   "source": [
    "# An easy way to trip up\n",
    "\n",
    "print(''Yes', they said.')"
   ]
  },
  {
   "cell_type": "code",
   "execution_count": 4,
   "metadata": {
    "colab": {
     "base_uri": "https://localhost:8080/"
    },
    "executionInfo": {
     "elapsed": 542,
     "status": "ok",
     "timestamp": 1649475480754,
     "user": {
      "displayName": "NYP weech",
      "userId": "03211871160483530494"
     },
     "user_tz": -480
    },
    "id": "iLBVVaD_-TV2",
    "outputId": "8d2eb295-e121-4a11-fad2-e88088a63a0a"
   },
   "outputs": [
    {
     "name": "stdout",
     "output_type": "stream",
     "text": [
      "'Yes', they said\n"
     ]
    }
   ],
   "source": [
    "# If your string contains one type of quote, define it with the other type\n",
    "\n",
    "print(\"'Yes', they said\")"
   ]
  },
  {
   "cell_type": "code",
   "execution_count": 6,
   "metadata": {
    "colab": {
     "base_uri": "https://localhost:8080/"
    },
    "executionInfo": {
     "elapsed": 490,
     "status": "ok",
     "timestamp": 1649475496674,
     "user": {
      "displayName": "NYP weech",
      "userId": "03211871160483530494"
     },
     "user_tz": -480
    },
    "id": "dS_jHvve-TV3",
    "outputId": "6ff41614-60a9-4b9c-e602-a58f8f507261"
   },
   "outputs": [
    {
     "name": "stdout",
     "output_type": "stream",
     "text": [
      "'Yes', they said\n"
     ]
    }
   ],
   "source": [
    "# backlash is an 'escape character'. It negates any special properties of the character that follows:\n",
    "\n",
    "print('\\'Yes\\', they said')"
   ]
  },
  {
   "cell_type": "code",
   "execution_count": 3,
   "metadata": {
    "colab": {
     "base_uri": "https://localhost:8080/"
    },
    "executionInfo": {
     "elapsed": 544,
     "status": "ok",
     "timestamp": 1649475470578,
     "user": {
      "displayName": "NYP weech",
      "userId": "03211871160483530494"
     },
     "user_tz": -480
    },
    "id": "BLOqI8Zt-TV4",
    "outputId": "130e6c3f-c911-4735-c59c-19312bc7d22e"
   },
   "outputs": [
    {
     "name": "stdout",
     "output_type": "stream",
     "text": [
      "They said:\n",
      "Yes\n"
     ]
    }
   ],
   "source": [
    "# ... if followed by n, it creates a new line\n",
    "print(\"They said:\\nYes\")"
   ]
  },
  {
   "cell_type": "code",
   "execution_count": 7,
   "metadata": {
    "colab": {
     "base_uri": "https://localhost:8080/"
    },
    "executionInfo": {
     "elapsed": 542,
     "status": "ok",
     "timestamp": 1649475502892,
     "user": {
      "displayName": "NYP weech",
      "userId": "03211871160483530494"
     },
     "user_tz": -480
    },
    "id": "hs3aEwzj-TV4",
    "outputId": "a59ddf03-dcc4-4f49-deaa-5bbf42fdd3a4"
   },
   "outputs": [
    {
     "name": "stdout",
     "output_type": "stream",
     "text": [
      "They said:\tYes\n"
     ]
    }
   ],
   "source": [
    "# ... or a tab if followed by t\n",
    "print(\"They said:\\tYes\")"
   ]
  },
  {
   "cell_type": "code",
   "execution_count": 9,
   "metadata": {
    "colab": {
     "base_uri": "https://localhost:8080/",
     "height": 131
    },
    "executionInfo": {
     "elapsed": 4,
     "status": "error",
     "timestamp": 1649475508838,
     "user": {
      "displayName": "NYP weech",
      "userId": "03211871160483530494"
     },
     "user_tz": -480
    },
    "id": "gzeZNXH8-TV5",
    "outputId": "2a5a3416-0daf-4bef-bf59-e1db23801443"
   },
   "outputs": [
    {
     "ename": "SyntaxError",
     "evalue": "ignored",
     "output_type": "error",
     "traceback": [
      "\u001b[0;36m  File \u001b[0;32m\"<ipython-input-9-476b78c05dfe>\"\u001b[0;36m, line \u001b[0;32m3\u001b[0m\n\u001b[0;31m    string_will_fail = 'C:\\Users\\charl\\Documents\\CE\\RAM\\OneDrive_1_3-6-2019\\QXN\\RN'\u001b[0m\n\u001b[0m                      ^\u001b[0m\n\u001b[0;31mSyntaxError\u001b[0m\u001b[0;31m:\u001b[0m (unicode error) 'unicodeescape' codec can't decode bytes in position 2-3: truncated \\UXXXXXXXX escape\n"
     ]
    }
   ],
   "source": [
    "# careful with unintended escape characters in filenames!\n",
    "\n",
    "string_will_fail = 'C:\\Users\\charl\\Documents\\CE\\RAM\\OneDrive_1_3-6-2019\\QXN\\RN'"
   ]
  },
  {
   "cell_type": "code",
   "execution_count": 10,
   "metadata": {
    "executionInfo": {
     "elapsed": 445,
     "status": "ok",
     "timestamp": 1649475519556,
     "user": {
      "displayName": "NYP weech",
      "userId": "03211871160483530494"
     },
     "user_tz": -480
    },
    "id": "5NbN5itX-TV6"
   },
   "outputs": [],
   "source": [
    "# adding r denotes 'raw string'\n",
    "\n",
    "string_will_work = r'C:\\Users\\charl\\Documents\\CE\\RAM\\OneDrive_1_3-6-2019\\QXN\\RN'"
   ]
  },
  {
   "cell_type": "markdown",
   "metadata": {
    "id": "u8KeaCDP-TV7"
   },
   "source": [
    "### 2. Control the `print` statement\n",
    "`print()` is a built-in function that echos objects to the console. When printing strings, use the .format() method. Putting this at the end of a string let's you:\n",
    "* substitute variables into the string;\n",
    "* control how they're formatted (eg. decimal places)."
   ]
  },
  {
   "cell_type": "code",
   "execution_count": 1,
   "metadata": {
    "colab": {
     "base_uri": "https://localhost:8080/"
    },
    "executionInfo": {
     "elapsed": 8,
     "status": "ok",
     "timestamp": 1649479483383,
     "user": {
      "displayName": "NYP weech",
      "userId": "03211871160483530494"
     },
     "user_tz": -480
    },
    "id": "ViWN0xHC-TV7",
    "outputId": "a55adcee-9be5-49f9-a97b-f772bb87d855"
   },
   "outputs": [
    {
     "name": "stdout",
     "output_type": "stream",
     "text": [
      "A string: that was easy\n"
     ]
    }
   ],
   "source": [
    "print(\"A string: that was easy\")"
   ]
  },
  {
   "cell_type": "code",
   "execution_count": 2,
   "metadata": {
    "colab": {
     "base_uri": "https://localhost:8080/"
    },
    "executionInfo": {
     "elapsed": 7,
     "status": "ok",
     "timestamp": 1649479483384,
     "user": {
      "displayName": "NYP weech",
      "userId": "03211871160483530494"
     },
     "user_tz": -480
    },
    "id": "95Nb0_JD-TV9",
    "outputId": "348578a3-7ab9-4210-c40d-50f397e83f52"
   },
   "outputs": [
    {
     "name": "stdout",
     "output_type": "stream",
     "text": [
      "42 that was also easy\n"
     ]
    }
   ],
   "source": [
    "print(42, \"that was also easy\")"
   ]
  },
  {
   "cell_type": "code",
   "execution_count": 3,
   "metadata": {
    "colab": {
     "base_uri": "https://localhost:8080/"
    },
    "executionInfo": {
     "elapsed": 5,
     "status": "ok",
     "timestamp": 1649479483384,
     "user": {
      "displayName": "NYP weech",
      "userId": "03211871160483530494"
     },
     "user_tz": -480
    },
    "id": "F5hTuhjA-TV9",
    "outputId": "39ccbc19-4d23-45a0-b325-a2bccc6340a8"
   },
   "outputs": [
    {
     "name": "stdout",
     "output_type": "stream",
     "text": [
      "54.794520547945204 that's not ideal\n"
     ]
    }
   ],
   "source": [
    "print(20000/365, \"that's not ideal\")"
   ]
  },
  {
   "cell_type": "code",
   "execution_count": 4,
   "metadata": {
    "colab": {
     "base_uri": "https://localhost:8080/"
    },
    "executionInfo": {
     "elapsed": 1181,
     "status": "ok",
     "timestamp": 1649479484562,
     "user": {
      "displayName": "NYP weech",
      "userId": "03211871160483530494"
     },
     "user_tz": -480
    },
    "id": "n2c8Ny48-TV-",
    "outputId": "3e27c290-bda2-4afe-ab84-842cafd95c96"
   },
   "outputs": [
    {
     "name": "stdout",
     "output_type": "stream",
     "text": [
      "Here's a number: 42. It's less than 50\n"
     ]
    }
   ],
   "source": [
    "# include variables inside strings with {}, then (after the string), .format()\n",
    "x = 42\n",
    "\n",
    "print(\"Here's a number: {}. It's less than 50\".format(x))"
   ]
  },
  {
   "cell_type": "code",
   "execution_count": 5,
   "metadata": {
    "colab": {
     "base_uri": "https://localhost:8080/"
    },
    "executionInfo": {
     "elapsed": 9,
     "status": "ok",
     "timestamp": 1649479484563,
     "user": {
      "displayName": "NYP weech",
      "userId": "03211871160483530494"
     },
     "user_tz": -480
    },
    "id": "4gEt1E5I-TV-",
    "outputId": "92edb1c9-feb1-44a3-ebdc-9568c49f8edf"
   },
   "outputs": [
    {
     "name": "stdout",
     "output_type": "stream",
     "text": [
      "Is 42 really less than 50? Answer: True.\n"
     ]
    }
   ],
   "source": [
    "# you can include multiple substitutions, and they don't have to be variables (operations are fine)\n",
    "\n",
    "print(\"Is {} really less than 50? Answer: {}.\".format(x, x<50))"
   ]
  },
  {
   "cell_type": "markdown",
   "metadata": {
    "id": "VpK_Fl-j-TV_"
   },
   "source": [
    "Note: `.format()` actually has a mini-language associated with it, check the documentation [here](https://pyformat.info/)."
   ]
  },
  {
   "cell_type": "code",
   "execution_count": 6,
   "metadata": {
    "colab": {
     "base_uri": "https://localhost:8080/"
    },
    "executionInfo": {
     "elapsed": 8,
     "status": "ok",
     "timestamp": 1649479484564,
     "user": {
      "displayName": "NYP weech",
      "userId": "03211871160483530494"
     },
     "user_tz": -480
    },
    "id": "nQPLOcD4-TV_",
    "outputId": "b2a5d4b3-15ef-444d-845d-c2569573f51f"
   },
   "outputs": [
    {
     "name": "stdout",
     "output_type": "stream",
     "text": [
      "Daily salary is approximately 54.79 (two decimal places)\n"
     ]
    }
   ],
   "source": [
    "# just memorize this one for now:\n",
    "\n",
    "print(\"Daily salary is approximately {:.2f} (two decimal places)\".format(20000/365))"
   ]
  },
  {
   "cell_type": "markdown",
   "metadata": {
    "id": "b4aP6vAM-TWA"
   },
   "source": [
    "### 3. Indexing and slicing\n",
    "Several data types are defined as 'sequences.' They share a common approach to selecting their elements using square bracket notation. This powerful notation works across strings, lists, arrays and DataFrames:"
   ]
  },
  {
   "cell_type": "code",
   "execution_count": 7,
   "metadata": {
    "colab": {
     "base_uri": "https://localhost:8080/",
     "height": 37
    },
    "executionInfo": {
     "elapsed": 6,
     "status": "ok",
     "timestamp": 1649479484564,
     "user": {
      "displayName": "NYP weech",
      "userId": "03211871160483530494"
     },
     "user_tz": -480
    },
    "id": "sUyCUGil-TWA",
    "outputId": "85045661-1f13-4919-c54a-a9967e564525"
   },
   "outputs": [
    {
     "data": {
      "application/vnd.google.colaboratory.intrinsic+json": {
       "type": "string"
      },
      "text/plain": [
       "'P'"
      ]
     },
     "execution_count": 7,
     "metadata": {},
     "output_type": "execute_result"
    }
   ],
   "source": [
    "# to get one character from a string, put the index number in square brackets directly after the variable name\n",
    "language = 'Python'\n",
    "language[0] "
   ]
  },
  {
   "cell_type": "code",
   "execution_count": 8,
   "metadata": {
    "colab": {
     "base_uri": "https://localhost:8080/",
     "height": 37
    },
    "executionInfo": {
     "elapsed": 3,
     "status": "ok",
     "timestamp": 1649479489736,
     "user": {
      "displayName": "NYP weech",
      "userId": "03211871160483530494"
     },
     "user_tz": -480
    },
    "id": "pCxOh3km-TWA",
    "outputId": "7cf15771-4c31-4040-a028-301a8e845bfb"
   },
   "outputs": [
    {
     "data": {
      "application/vnd.google.colaboratory.intrinsic+json": {
       "type": "string"
      },
      "text/plain": [
       "'n'"
      ]
     },
     "execution_count": 8,
     "metadata": {},
     "output_type": "execute_result"
    }
   ],
   "source": [
    "# index values can be negative.\n",
    "language[-1]"
   ]
  },
  {
   "cell_type": "markdown",
   "metadata": {
    "id": "C_UV9jKd-TWB"
   },
   "source": [
    "Index values point between characters. The left edge of the first character is 0. Python has six characters, so the right edge of the last character is index 6."
   ]
  },
  {
   "cell_type": "code",
   "execution_count": 1,
   "metadata": {
    "executionInfo": {
     "elapsed": 2,
     "status": "ok",
     "timestamp": 1649479490412,
     "user": {
      "displayName": "NYP weech",
      "userId": "03211871160483530494"
     },
     "user_tz": -480
    },
    "id": "u8TApKrf-TWB"
   },
   "outputs": [],
   "source": [
    "#       +---+---+---+---+---+---+\n",
    "#       | P | y | t | h | o | n |\n",
    "#       +---+---+---+---+---+---+\n",
    "#       0   1   2   3   4   5   6\n",
    "#          -6  -5  -4  -3  -2  -1\n",
    "\n",
    "# credit: www.python.org/3/tutorial"
   ]
  },
  {
   "cell_type": "markdown",
   "metadata": {
    "id": "7sBQrkv8-TWB"
   },
   "source": [
    "You can 'slice' strings and other sequences, using the start and end index"
   ]
  },
  {
   "cell_type": "code",
   "execution_count": 10,
   "metadata": {
    "colab": {
     "base_uri": "https://localhost:8080/",
     "height": 37
    },
    "executionInfo": {
     "elapsed": 4,
     "status": "ok",
     "timestamp": 1649479492680,
     "user": {
      "displayName": "NYP weech",
      "userId": "03211871160483530494"
     },
     "user_tz": -480
    },
    "id": "P9nwOpYT-TWC",
    "outputId": "4e7eb3e7-5493-4d66-b237-7371bd01aaa8"
   },
   "outputs": [
    {
     "data": {
      "application/vnd.google.colaboratory.intrinsic+json": {
       "type": "string"
      },
      "text/plain": [
       "'Pyth'"
      ]
     },
     "execution_count": 10,
     "metadata": {},
     "output_type": "execute_result"
    }
   ],
   "source": [
    "# slices give you all elements from the start index, up to (but not including) the end index\n",
    "\n",
    "language[0:4]"
   ]
  },
  {
   "cell_type": "markdown",
   "metadata": {
    "id": "T1Vx0JBC-TWC"
   },
   "source": [
    "What happens if you leave out the start or end index while slicing? Python will use default values instead. Take a sequence of length `n`. For start position, it will default to 0. For end position, it will default to `n`."
   ]
  },
  {
   "cell_type": "code",
   "execution_count": 11,
   "metadata": {
    "colab": {
     "base_uri": "https://localhost:8080/",
     "height": 37
    },
    "executionInfo": {
     "elapsed": 4,
     "status": "ok",
     "timestamp": 1649479494224,
     "user": {
      "displayName": "NYP weech",
      "userId": "03211871160483530494"
     },
     "user_tz": -480
    },
    "id": "6RH-VZVJ-TWC",
    "outputId": "11e427ac-1d5e-4b3f-f9af-d31fa0828ff6"
   },
   "outputs": [
    {
     "data": {
      "application/vnd.google.colaboratory.intrinsic+json": {
       "type": "string"
      },
      "text/plain": [
       "'Pyth'"
      ]
     },
     "execution_count": 11,
     "metadata": {},
     "output_type": "execute_result"
    }
   ],
   "source": [
    "# everything up to fourth index\n",
    "language[:4]"
   ]
  },
  {
   "cell_type": "code",
   "execution_count": 12,
   "metadata": {
    "colab": {
     "base_uri": "https://localhost:8080/",
     "height": 37
    },
    "executionInfo": {
     "elapsed": 3,
     "status": "ok",
     "timestamp": 1649479495323,
     "user": {
      "displayName": "NYP weech",
      "userId": "03211871160483530494"
     },
     "user_tz": -480
    },
    "id": "T1xJUxm1-TWC",
    "outputId": "b13ec11a-d71f-4f8c-8400-1d91023f1120"
   },
   "outputs": [
    {
     "data": {
      "application/vnd.google.colaboratory.intrinsic+json": {
       "type": "string"
      },
      "text/plain": [
       "'on'"
      ]
     },
     "execution_count": 12,
     "metadata": {},
     "output_type": "execute_result"
    }
   ],
   "source": [
    "# fourth position onwards\n",
    "language[4:]"
   ]
  },
  {
   "cell_type": "code",
   "execution_count": 13,
   "metadata": {
    "colab": {
     "base_uri": "https://localhost:8080/",
     "height": 37
    },
    "executionInfo": {
     "elapsed": 2,
     "status": "ok",
     "timestamp": 1649479496385,
     "user": {
      "displayName": "NYP weech",
      "userId": "03211871160483530494"
     },
     "user_tz": -480
    },
    "id": "wrSQ6Lnq-TWD",
    "outputId": "28eb8714-a32a-4cf9-d1e2-d4e3ee0e3c5c"
   },
   "outputs": [
    {
     "data": {
      "application/vnd.google.colaboratory.intrinsic+json": {
       "type": "string"
      },
      "text/plain": [
       "'thon'"
      ]
     },
     "execution_count": 13,
     "metadata": {},
     "output_type": "execute_result"
    }
   ],
   "source": [
    "# fourth from last, up to end of string\n",
    "language[-4:]"
   ]
  },
  {
   "cell_type": "markdown",
   "metadata": {
    "id": "WTOg4cK--TWD"
   },
   "source": [
    "Sneak preview: You can use the same index notation with higher dimensional datastructures, eg. a 3D array (eg. a stack of rasters: latitude, longitude, time, temperature)."
   ]
  },
  {
   "cell_type": "markdown",
   "metadata": {
    "id": "RFXUt-kn-TWD"
   },
   "source": [
    "### 3. An aside: extracting data from messy strings"
   ]
  },
  {
   "cell_type": "code",
   "execution_count": 14,
   "metadata": {
    "executionInfo": {
     "elapsed": 309,
     "status": "ok",
     "timestamp": 1649479507041,
     "user": {
      "displayName": "NYP weech",
      "userId": "03211871160483530494"
     },
     "user_tz": -480
    },
    "id": "ThJFGaJv-TWD"
   },
   "outputs": [],
   "source": [
    "# say you get a large column of ZIP codes, but in a messy format like this\n",
    "zip_code1 = \"Fred: ZIP 20022-0049\"\n",
    "zip_code2 = \"Margaret: ZIP 20009-0132\""
   ]
  },
  {
   "cell_type": "code",
   "execution_count": 15,
   "metadata": {
    "colab": {
     "base_uri": "https://localhost:8080/",
     "height": 37
    },
    "executionInfo": {
     "elapsed": 308,
     "status": "ok",
     "timestamp": 1649479507760,
     "user": {
      "displayName": "NYP weech",
      "userId": "03211871160483530494"
     },
     "user_tz": -480
    },
    "id": "7qeDK2d0-TWE",
    "outputId": "6aadf53c-13a1-492d-bb43-897997a9c820"
   },
   "outputs": [
    {
     "data": {
      "application/vnd.google.colaboratory.intrinsic+json": {
       "type": "string"
      },
      "text/plain": [
       "'20022'"
      ]
     },
     "execution_count": 15,
     "metadata": {},
     "output_type": "execute_result"
    }
   ],
   "source": [
    "# we're interested in this part:\n",
    "zip_code1[10:15]"
   ]
  },
  {
   "cell_type": "code",
   "execution_count": 16,
   "metadata": {
    "executionInfo": {
     "elapsed": 528,
     "status": "ok",
     "timestamp": 1649479554550,
     "user": {
      "displayName": "NYP weech",
      "userId": "03211871160483530494"
     },
     "user_tz": -480
    },
    "id": "EHpfhD-S-TWE",
    "scrolled": true
   },
   "outputs": [],
   "source": [
    "# how could we systematicaly pull out the key 5 digits, to create a clean list of zips?"
   ]
  },
  {
   "cell_type": "markdown",
   "metadata": {
    "id": "wc_msatF-TWE"
   },
   "source": [
    "To crack a problem like this, you could:\n",
    "* Use tab completion to list available string methods\n",
    "* Ask StackOverflow\n",
    "* Check the [documentation](https://docs.python.org/2/library/stdtypes.html#string-methods)"
   ]
  },
  {
   "cell_type": "code",
   "execution_count": 17,
   "metadata": {
    "executionInfo": {
     "elapsed": 5,
     "status": "ok",
     "timestamp": 1649479556382,
     "user": {
      "displayName": "NYP weech",
      "userId": "03211871160483530494"
     },
     "user_tz": -480
    },
    "id": "UnMBPoXP-TWF"
   },
   "outputs": [],
   "source": [
    "# Get help on the .split() method\n",
    "\n",
    "zip_code1.split?"
   ]
  },
  {
   "cell_type": "code",
   "execution_count": 18,
   "metadata": {
    "executionInfo": {
     "elapsed": 289,
     "status": "ok",
     "timestamp": 1649479559611,
     "user": {
      "displayName": "NYP weech",
      "userId": "03211871160483530494"
     },
     "user_tz": -480
    },
    "id": "0Xcf-s_v-TWF"
   },
   "outputs": [],
   "source": [
    "# a quick solution: split each string twice (using a different separator):\n",
    "\n",
    "answer = zip_code1.split()[2].split('-')[0]"
   ]
  },
  {
   "cell_type": "code",
   "execution_count": 19,
   "metadata": {
    "colab": {
     "base_uri": "https://localhost:8080/"
    },
    "executionInfo": {
     "elapsed": 324,
     "status": "ok",
     "timestamp": 1649479561989,
     "user": {
      "displayName": "NYP weech",
      "userId": "03211871160483530494"
     },
     "user_tz": -480
    },
    "id": "ETdUAYZZ-TWF",
    "outputId": "e00954d7-5d09-444f-b87f-1ba4cfc530f4"
   },
   "outputs": [
    {
     "data": {
      "text/plain": [
       "20022"
      ]
     },
     "execution_count": 19,
     "metadata": {},
     "output_type": "execute_result"
    }
   ],
   "source": [
    "# then make it an integer:\n",
    "\n",
    "int(answer)"
   ]
  },
  {
   "cell_type": "markdown",
   "metadata": {
    "id": "h1vQFHem-TWG"
   },
   "source": [
    "Operating on data at scale requires more firepower: eg. list comprehensions and functions."
   ]
  },
  {
   "cell_type": "markdown",
   "metadata": {
    "id": "z6aSBjzw-TWG"
   },
   "source": [
    "### 4: Test conditions with Boolean logic\n",
    "To build up operations on larger datasets, more control flow tricks are helpful: including Boolean logic.\n",
    "\n",
    "The statement `a == b` asks Python to evaluate whether variable a equals variable b; the interpreter will return True or False.\n",
    "\n",
    "Similar statements would be `a > b`, `a >= b`, or `a != b`. "
   ]
  },
  {
   "cell_type": "code",
   "execution_count": 20,
   "metadata": {
    "colab": {
     "base_uri": "https://localhost:8080/"
    },
    "executionInfo": {
     "elapsed": 332,
     "status": "ok",
     "timestamp": 1649479572043,
     "user": {
      "displayName": "NYP weech",
      "userId": "03211871160483530494"
     },
     "user_tz": -480
    },
    "id": "SqtTWxa--TWH",
    "outputId": "d4389569-d499-444c-ce36-8ec08489503f"
   },
   "outputs": [
    {
     "name": "stdout",
     "output_type": "stream",
     "text": [
      "Dear Python, please evaluate the statement 'a > b' for me.\n",
      "YOUR ANSWER: [drum roll ...] True\n"
     ]
    }
   ],
   "source": [
    "a = 6\n",
    "b = 4\n",
    "\n",
    "print(\"Dear Python, please evaluate the statement 'a > b' for me.\")\n",
    "\n",
    "print(\"YOUR ANSWER: [drum roll ...]\", a > b)"
   ]
  },
  {
   "cell_type": "markdown",
   "metadata": {
    "id": "etxlm-_o-TWH"
   },
   "source": [
    "The `and`, `or` and `not` operators check whether combinations of statements are true at the same time."
   ]
  },
  {
   "cell_type": "code",
   "execution_count": 21,
   "metadata": {
    "executionInfo": {
     "elapsed": 294,
     "status": "ok",
     "timestamp": 1649479577976,
     "user": {
      "displayName": "NYP weech",
      "userId": "03211871160483530494"
     },
     "user_tz": -480
    },
    "id": "BfKkoA0u-TWH"
   },
   "outputs": [],
   "source": [
    "month = 'July'\n",
    "hour = 14"
   ]
  },
  {
   "cell_type": "code",
   "execution_count": 22,
   "metadata": {
    "colab": {
     "base_uri": "https://localhost:8080/"
    },
    "executionInfo": {
     "elapsed": 22,
     "status": "ok",
     "timestamp": 1649479578752,
     "user": {
      "displayName": "NYP weech",
      "userId": "03211871160483530494"
     },
     "user_tz": -480
    },
    "id": "SHpTFBg5-TWH",
    "outputId": "88edc404-61f4-4f19-8c41-b55618dc7ca1"
   },
   "outputs": [
    {
     "data": {
      "text/plain": [
       "False"
      ]
     },
     "execution_count": 22,
     "metadata": {},
     "output_type": "execute_result"
    }
   ],
   "source": [
    "(month == 'July') and (hour < 12)         # is it a morning in July?"
   ]
  },
  {
   "cell_type": "code",
   "execution_count": 23,
   "metadata": {
    "colab": {
     "base_uri": "https://localhost:8080/"
    },
    "executionInfo": {
     "elapsed": 2,
     "status": "ok",
     "timestamp": 1649479580391,
     "user": {
      "displayName": "NYP weech",
      "userId": "03211871160483530494"
     },
     "user_tz": -480
    },
    "id": "_U_FLoSu-TWI",
    "outputId": "686d8b88-ced4-46d1-a4e0-c4be1874910e"
   },
   "outputs": [
    {
     "data": {
      "text/plain": [
       "True"
      ]
     },
     "execution_count": 23,
     "metadata": {},
     "output_type": "execute_result"
    }
   ],
   "source": [
    "(month == 'July') or (hour < 12)          # is it either a morning, or in July?"
   ]
  },
  {
   "cell_type": "code",
   "execution_count": 24,
   "metadata": {
    "colab": {
     "base_uri": "https://localhost:8080/"
    },
    "executionInfo": {
     "elapsed": 2,
     "status": "ok",
     "timestamp": 1649479581038,
     "user": {
      "displayName": "NYP weech",
      "userId": "03211871160483530494"
     },
     "user_tz": -480
    },
    "id": "H3lH9qme-TWI",
    "outputId": "682497a3-36ab-41d7-a798-c690578f370e"
   },
   "outputs": [
    {
     "data": {
      "text/plain": [
       "True"
      ]
     },
     "execution_count": 24,
     "metadata": {},
     "output_type": "execute_result"
    }
   ],
   "source": [
    "not(hour < 12) and (month == 'July')     # is it not a morning, and in July?"
   ]
  },
  {
   "cell_type": "markdown",
   "metadata": {
    "id": "CFoRE3uY-TWI"
   },
   "source": [
    "You can apply Boolean logic to lists. This is the idea of Boolean masking (we'll return to this later - useful to filter datasets based on conditions, or when handling raster data)."
   ]
  },
  {
   "cell_type": "code",
   "execution_count": 25,
   "metadata": {
    "executionInfo": {
     "elapsed": 467,
     "status": "ok",
     "timestamp": 1649479584388,
     "user": {
      "displayName": "NYP weech",
      "userId": "03211871160483530494"
     },
     "user_tz": -480
    },
    "id": "sECS2Dy2-TWI"
   },
   "outputs": [],
   "source": [
    "some_values = [3, 5, 6, 8, 9, 11, 14, 16]       # Let's get only even numbers"
   ]
  },
  {
   "cell_type": "code",
   "execution_count": 26,
   "metadata": {
    "executionInfo": {
     "elapsed": 1,
     "status": "ok",
     "timestamp": 1649479584701,
     "user": {
      "displayName": "NYP weech",
      "userId": "03211871160483530494"
     },
     "user_tz": -480
    },
    "id": "tQq62NDy-TWJ"
   },
   "outputs": [],
   "source": [
    "mask = []\n",
    "\n",
    "for value in some_values:\n",
    "    mask.append(value % 2 == 0)                 # is the number divisible by two?"
   ]
  },
  {
   "cell_type": "code",
   "execution_count": 27,
   "metadata": {
    "colab": {
     "base_uri": "https://localhost:8080/"
    },
    "executionInfo": {
     "elapsed": 2,
     "status": "ok",
     "timestamp": 1649479585440,
     "user": {
      "displayName": "NYP weech",
      "userId": "03211871160483530494"
     },
     "user_tz": -480
    },
    "id": "c155r7rC-TWJ",
    "outputId": "954061c0-6ed8-4658-9d88-8e18e940c256"
   },
   "outputs": [
    {
     "data": {
      "text/plain": [
       "[False, False, True, True, False, False, True, True]"
      ]
     },
     "execution_count": 27,
     "metadata": {},
     "output_type": "execute_result"
    }
   ],
   "source": [
    "mask"
   ]
  },
  {
   "cell_type": "code",
   "execution_count": 28,
   "metadata": {
    "colab": {
     "base_uri": "https://localhost:8080/"
    },
    "executionInfo": {
     "elapsed": 3,
     "status": "ok",
     "timestamp": 1649479587258,
     "user": {
      "displayName": "NYP weech",
      "userId": "03211871160483530494"
     },
     "user_tz": -480
    },
    "id": "AN_r7yVn-TWJ",
    "outputId": "9fb69802-16e5-4328-a245-56ed09dea7c2"
   },
   "outputs": [
    {
     "name": "stdout",
     "output_type": "stream",
     "text": [
      "6\n",
      "8\n",
      "14\n",
      "16\n"
     ]
    }
   ],
   "source": [
    "for i in range(len(some_values)):\n",
    "    if mask[i]:\n",
    "        print(some_values[i])"
   ]
  },
  {
   "cell_type": "markdown",
   "metadata": {
    "id": "cw1s-gl3-TWK"
   },
   "source": [
    "### 5. Building programs with `if`, `elif` and `else`\n",
    "\n",
    "We already met `if` constructions. Get the indentation right, and build more sophisticated rules that test multiple conditions."
   ]
  },
  {
   "cell_type": "code",
   "execution_count": null,
   "metadata": {
    "id": "W0JKOfjZ-TWK"
   },
   "outputs": [],
   "source": [
    "# an if statement executes the indented code only if some condition is true\n",
    "\n",
    "my_value = 11\n",
    "\n",
    "if my_value > 10:\n",
    "    print(\"Number is greater than 10\")"
   ]
  },
  {
   "cell_type": "code",
   "execution_count": 31,
   "metadata": {
    "colab": {
     "base_uri": "https://localhost:8080/"
    },
    "executionInfo": {
     "elapsed": 2,
     "status": "ok",
     "timestamp": 1649479595315,
     "user": {
      "displayName": "NYP weech",
      "userId": "03211871160483530494"
     },
     "user_tz": -480
    },
    "id": "SqO_-5ZQ-TWK",
    "outputId": "72c97984-3747-47d4-e2be-4641498bcd21"
   },
   "outputs": [
    {
     "name": "stdout",
     "output_type": "stream",
     "text": [
      "Number is between 10 and 15\n"
     ]
    }
   ],
   "source": [
    "# use Boolean operators to test multiple conditions\n",
    "\n",
    "if (my_value > 10) and (my_value < 15):\n",
    "    print(\"Number is between 10 and 15\")"
   ]
  },
  {
   "cell_type": "code",
   "execution_count": 30,
   "metadata": {
    "colab": {
     "base_uri": "https://localhost:8080/"
    },
    "executionInfo": {
     "elapsed": 1008,
     "status": "ok",
     "timestamp": 1649479594980,
     "user": {
      "displayName": "NYP weech",
      "userId": "03211871160483530494"
     },
     "user_tz": -480
    },
    "id": "O4xsts9G-TWK",
    "outputId": "da425783-cda0-4206-d1ff-8a62e83ef3e5"
   },
   "outputs": [
    {
     "name": "stdout",
     "output_type": "stream",
     "text": [
      "Number is greater than 10\n"
     ]
    }
   ],
   "source": [
    "# if the first if statement evaluates to false, elif executes a code block if its condition is true\n",
    "# else executes a code block if no preceding if or elif evaluated to true\n",
    "\n",
    "if (my_value > 0) and (my_value < 10):\n",
    "    print(\"Number is positive and less than 10\")\n",
    "    \n",
    "elif my_value > 10:\n",
    "    print(\"Number is greater than 10\")\n",
    "        \n",
    "else:\n",
    "    print(\"Must be negative or not a number.\")"
   ]
  },
  {
   "cell_type": "markdown",
   "metadata": {
    "id": "6c63U-Gl-TWL"
   },
   "source": [
    "### 6. Error handling"
   ]
  },
  {
   "cell_type": "code",
   "execution_count": null,
   "metadata": {
    "id": "R1dovUOf-TWL"
   },
   "outputs": [],
   "source": [
    "# What happens if we run the cell above with 'penguin' instead of a number?\n"
   ]
  },
  {
   "cell_type": "code",
   "execution_count": 33,
   "metadata": {
    "colab": {
     "base_uri": "https://localhost:8080/"
    },
    "executionInfo": {
     "elapsed": 309,
     "status": "ok",
     "timestamp": 1649479636488,
     "user": {
      "displayName": "NYP weech",
      "userId": "03211871160483530494"
     },
     "user_tz": -480
    },
    "id": "4gwKhK-4-TWL",
    "outputId": "993c56aa-5eee-4d04-d7c1-84fe8b85a8ee"
   },
   "outputs": [
    {
     "name": "stdout",
     "output_type": "stream",
     "text": [
      "6\n",
      "7\n",
      "I am not a number, I am a  woman name!\n",
      "11\n"
     ]
    }
   ],
   "source": [
    "# try-except is one method to catch and handle errors\n",
    "\n",
    "my_list = [5,6,'Sally',10]\n",
    "\n",
    "for obj in my_list:\n",
    "    try:\n",
    "        print('{}'.format(obj + 1))\n",
    "    except:\n",
    "        print(\"I am not a number, I am a  woman name!\")"
   ]
  },
  {
   "cell_type": "markdown",
   "metadata": {
    "id": "OByH3HdA-TWL"
   },
   "source": [
    "### 7. Iterables and range()"
   ]
  },
  {
   "cell_type": "code",
   "execution_count": 34,
   "metadata": {
    "colab": {
     "base_uri": "https://localhost:8080/"
    },
    "executionInfo": {
     "elapsed": 282,
     "status": "ok",
     "timestamp": 1649479642749,
     "user": {
      "displayName": "NYP weech",
      "userId": "03211871160483530494"
     },
     "user_tz": -480
    },
    "id": "nYj1auYH-TWM",
    "outputId": "034aa2ae-8346-4e3a-c9b2-693a6a13a9cd"
   },
   "outputs": [
    {
     "name": "stdout",
     "output_type": "stream",
     "text": [
      "Breakfast has 9 letters\n",
      "Snack has 5 letters\n",
      "Dinner has 6 letters\n"
     ]
    }
   ],
   "source": [
    "# strings and lists are examples of iterables: they can return their members one-by-one.\n",
    "\n",
    "for meal in ['Breakfast', 'Snack', 'Dinner']:\n",
    "    print(\"{} has {} letters\".format(meal, len(meal)))"
   ]
  },
  {
   "cell_type": "code",
   "execution_count": 35,
   "metadata": {
    "colab": {
     "base_uri": "https://localhost:8080/"
    },
    "executionInfo": {
     "elapsed": 288,
     "status": "ok",
     "timestamp": 1649479643499,
     "user": {
      "displayName": "NYP weech",
      "userId": "03211871160483530494"
     },
     "user_tz": -480
    },
    "id": "e6cJCk_L-TWM",
    "outputId": "54e450d2-aed6-4879-f960-b17b2ef4c617"
   },
   "outputs": [
    {
     "name": "stdout",
     "output_type": "stream",
     "text": [
      "NUMBERS AND THEIR CUBES\n",
      "0 0\n",
      "1 1\n",
      "2 8\n",
      "3 27\n",
      "4 64\n"
     ]
    }
   ],
   "source": [
    "# range() is another way to generate iterables; it returns an arithmetic series\n",
    "\n",
    "print(\"NUMBERS AND THEIR CUBES\")\n",
    "for i in range(5):\n",
    "    print(i, i**3)"
   ]
  },
  {
   "cell_type": "code",
   "execution_count": 36,
   "metadata": {
    "colab": {
     "base_uri": "https://localhost:8080/"
    },
    "executionInfo": {
     "elapsed": 518,
     "status": "ok",
     "timestamp": 1649479646566,
     "user": {
      "displayName": "NYP weech",
      "userId": "03211871160483530494"
     },
     "user_tz": -480
    },
    "id": "rfoa41_B-TWM",
    "outputId": "0bc22d39-03f5-45b5-aba3-37c519a1242b"
   },
   "outputs": [
    {
     "name": "stdout",
     "output_type": "stream",
     "text": [
      "NUMBERS AND THEIR CUBES\n",
      "-5 -125\n",
      "-4 -64\n",
      "-3 -27\n",
      "-2 -8\n",
      "-1 -1\n",
      "0 0\n",
      "1 1\n",
      "2 8\n",
      "3 27\n",
      "4 64\n"
     ]
    }
   ],
   "source": [
    "# as usual, you get all numbers from start point (included) to end point (not included)\n",
    "\n",
    "print(\"NUMBERS AND THEIR CUBES\")\n",
    "for i in range(-5, 5):\n",
    "    print(i, i**3)"
   ]
  },
  {
   "cell_type": "code",
   "execution_count": 37,
   "metadata": {
    "colab": {
     "base_uri": "https://localhost:8080/"
    },
    "executionInfo": {
     "elapsed": 307,
     "status": "ok",
     "timestamp": 1649479649835,
     "user": {
      "displayName": "NYP weech",
      "userId": "03211871160483530494"
     },
     "user_tz": -480
    },
    "id": "h18PoDKI-TWM",
    "outputId": "08592279-e74d-4400-81d7-207197972b5c",
    "scrolled": true
   },
   "outputs": [
    {
     "name": "stdout",
     "output_type": "stream",
     "text": [
      "Give me numbers up to n, where n = 3\n",
      "0\n",
      "1\n",
      "2\n",
      "3\n"
     ]
    }
   ],
   "source": [
    "# using range(n+1) often makes sense\n",
    "\n",
    "print('Give me numbers up to n, where n = 3')\n",
    "\n",
    "n = 3\n",
    "for i in range(n+1):\n",
    "    print(i)"
   ]
  },
  {
   "cell_type": "code",
   "execution_count": 2,
   "metadata": {
    "colab": {
     "base_uri": "https://localhost:8080/"
    },
    "executionInfo": {
     "elapsed": 307,
     "status": "ok",
     "timestamp": 1649479652594,
     "user": {
      "displayName": "NYP weech",
      "userId": "03211871160483530494"
     },
     "user_tz": -480
    },
    "id": "r85Cr4Br-TWN",
    "outputId": "ebfe540f-2847-4a87-eac4-afac834fe9e2"
   },
   "outputs": [
    {
     "data": {
      "text/plain": [
       "range(0, 5)"
      ]
     },
     "execution_count": 2,
     "metadata": {},
     "output_type": "execute_result"
    }
   ],
   "source": [
    "# what happens when you print a range() item?\n",
    "range(5)"
   ]
  },
  {
   "cell_type": "code",
   "execution_count": 3,
   "metadata": {
    "id": "neBJPTLY-TWN"
   },
   "outputs": [
    {
     "data": {
      "text/plain": [
       "[0, 1, 2, 3, 4]"
      ]
     },
     "execution_count": 3,
     "metadata": {},
     "output_type": "execute_result"
    }
   ],
   "source": [
    "# the list() function turns any iterable into a list.   (not ideal if you're counting to 1 million!)\n",
    "list(range(5))"
   ]
  },
  {
   "cell_type": "code",
   "execution_count": 4,
   "metadata": {
    "id": "0AtePPQc-TWN"
   },
   "outputs": [
    {
     "name": "stdout",
     "output_type": "stream",
     "text": [
      "Meal 1 today: Breakfast\n",
      "Meal 2 today: Post-Breakfast Snack\n",
      "Meal 3 today: Elevenses\n",
      "Meal 4 today: Lunch\n",
      "Meal 5 today: Tea\n",
      "Meal 6 today: Dinner\n",
      "Meal 7 today: Bedtime snack\n"
     ]
    }
   ],
   "source": [
    "# enumerate() lets you loop through an iterable,  keeping track of where you are\n",
    "\n",
    "meals = ['Breakfast', 'Post-Breakfast Snack','Elevenses', 'Lunch','Tea','Dinner','Bedtime snack']\n",
    "\n",
    "for n, meal in enumerate(meals):\n",
    "    print(\"Meal {} today: {}\".format(n + 1, meal))"
   ]
  },
  {
   "cell_type": "markdown",
   "metadata": {
    "id": "flIEyER8-TWN"
   },
   "source": [
    "### 8. Classes and methods (applied to lists)"
   ]
  },
  {
   "cell_type": "markdown",
   "metadata": {
    "id": "y1gmqRyM-TWO"
   },
   "source": [
    "__Sneak preview of classes:__ Python (as an object oriented language) lets you define __classes__ of objects. A class of objects has in-built functions that can be summoned up quickly (these are called __methods__).\n",
    "    \n",
    "Example:\n",
    "* I define a class `road_network`.\n",
    "* Each time I type `my_network = road_network(parameter1, parameter 2...)`, I create a new instance of the class.\n",
    "* Helpful functionality might be (i) calculate total length of roads; (ii) calculate shortest path between two points.\n",
    "* I write a method `find_shortest_path(start_point, end_point`. This could be accessed from any instance of class `road_network` in future.\n",
    "* Like this: `my_network.find_shortest_path(my_start_point, my_end_point)`"
   ]
  },
  {
   "cell_type": "code",
   "execution_count": 21,
   "metadata": {},
   "outputs": [
    {
     "name": "stdout",
     "output_type": "stream",
     "text": [
      "MyParameter 1 2\n"
     ]
    }
   ],
   "source": [
    "class Road_Network:\n",
    "    def __init__(self, arg):\n",
    "        self.parameters = arg\n",
    "    \n",
    "    def find_shortest_path(self, start_point, end_point):\n",
    "        print('{} {} {}'.format(self.parameters, start_point, end_point))\n",
    "    \n",
    "\n",
    "my_network = Road_Network('MyParameter')\n",
    "my_network.find_shortest_path(1, 2)\n"
   ]
  },
  {
   "cell_type": "markdown",
   "metadata": {
    "id": "LzluTMdB-TWO"
   },
   "source": [
    "__List methods.__ Lists (and other data types) are implemented as classes. So check out the helpful methods that are at your disposal."
   ]
  },
  {
   "cell_type": "code",
   "execution_count": 22,
   "metadata": {
    "id": "LRThsy-l-TWO"
   },
   "outputs": [
    {
     "data": {
      "text/plain": [
       "[1, 8, 27]"
      ]
     },
     "execution_count": 22,
     "metadata": {},
     "output_type": "execute_result"
    }
   ],
   "source": [
    "cubes = [1, 8, 27]\n",
    "cubes"
   ]
  },
  {
   "cell_type": "code",
   "execution_count": 25,
   "metadata": {
    "id": "PJSJemD2-TWO"
   },
   "outputs": [],
   "source": [
    "cubes.insert(0,0)    # insert element at given index"
   ]
  },
  {
   "cell_type": "code",
   "execution_count": 27,
   "metadata": {
    "id": "sXE7jwLK-TWP"
   },
   "outputs": [],
   "source": [
    "cubes.append(65)     # add element to end of list"
   ]
  },
  {
   "cell_type": "code",
   "execution_count": 29,
   "metadata": {
    "id": "r4Msj_-A-TWP"
   },
   "outputs": [],
   "source": [
    "cubes.remove(65)    # remove element if it exists"
   ]
  },
  {
   "cell_type": "code",
   "execution_count": 33,
   "metadata": {
    "id": "37ryK8Wz-TWP"
   },
   "outputs": [],
   "source": [
    "cubes.extend([64,125,216])   # add all the elements of an iterable "
   ]
  },
  {
   "cell_type": "code",
   "execution_count": 36,
   "metadata": {},
   "outputs": [],
   "source": [
    "cubes.remove(0)"
   ]
  },
  {
   "cell_type": "code",
   "execution_count": 44,
   "metadata": {
    "id": "3a1hmIkK-TWP"
   },
   "outputs": [
    {
     "data": {
      "text/plain": [
       "[1, 8, 27, 64, 125, 216, 64]"
      ]
     },
     "execution_count": 44,
     "metadata": {},
     "output_type": "execute_result"
    }
   ],
   "source": [
    "cubes"
   ]
  },
  {
   "cell_type": "code",
   "execution_count": 43,
   "metadata": {
    "id": "1N3zi0p8-TWQ"
   },
   "outputs": [
    {
     "data": {
      "text/plain": [
       "125"
      ]
     },
     "execution_count": 43,
     "metadata": {},
     "output_type": "execute_result"
    }
   ],
   "source": [
    "cubes.pop()         # return the last element (and remove it)"
   ]
  },
  {
   "cell_type": "code",
   "execution_count": 45,
   "metadata": {
    "id": "NU5GObyG-TWQ"
   },
   "outputs": [
    {
     "data": {
      "text/plain": [
       "2"
      ]
     },
     "execution_count": 45,
     "metadata": {},
     "output_type": "execute_result"
    }
   ],
   "source": [
    "cubes.count(64)    # count how many times an element appears"
   ]
  },
  {
   "cell_type": "code",
   "execution_count": 46,
   "metadata": {
    "id": "xsM2LtP9-TWQ"
   },
   "outputs": [
    {
     "name": "stdout",
     "output_type": "stream",
     "text": [
      "[1, 8, 27, 64, 125, 216, 64]\n",
      "[]\n"
     ]
    }
   ],
   "source": [
    "print(cubes)\n",
    "cubes.clear()       # delete all elements\n",
    "print(cubes)"
   ]
  },
  {
   "cell_type": "markdown",
   "metadata": {
    "id": "vxS1gLvj-TWR"
   },
   "source": [
    "Remember tab complete or question mark to list available methods of a object. Other object types that we'll use extensively: NumPy arrays, Pandas Series, Pandas DataFrames. Each has its own (pretty amazing) set of methods."
   ]
  },
  {
   "cell_type": "markdown",
   "metadata": {
    "id": "CtQmihYI-TWR"
   },
   "source": [
    "### 9. List comprehensions\n",
    "Return to our zip code example. We have seen many ways to operate on strings or numbers. But how to scale these operations across several hundred (or thousand) examples?\n",
    "\n",
    "List comprehensions are a concise way to build lists using rules. They apply an operation to a series of items, and package the result in a list."
   ]
  },
  {
   "cell_type": "code",
   "execution_count": 52,
   "metadata": {
    "id": "3np_qd5D-TWR"
   },
   "outputs": [
    {
     "data": {
      "text/plain": [
       "[0, 1, 4, 9, 16, 25, 36, 49, 64, 81]"
      ]
     },
     "execution_count": 52,
     "metadata": {},
     "output_type": "execute_result"
    }
   ],
   "source": [
    "# first a squares example\n",
    "[x**2 for x in range(10)]"
   ]
  },
  {
   "cell_type": "markdown",
   "metadata": {
    "id": "oQVqx_2a-TWR"
   },
   "source": [
    "Steps:\n",
    "* First write the expression to evaluate.\n",
    "* Then add a `for` statement\n",
    "* And the sequence to perform the operation on."
   ]
  },
  {
   "cell_type": "code",
   "execution_count": 53,
   "metadata": {
    "id": "1qjd0t4I-TWS"
   },
   "outputs": [],
   "source": [
    "# re-write the following as a list comprehension\n",
    "\n",
    "absolute_cubes = []\n",
    "for n in range(-100, 101):\n",
    "    absolute_cubes.append((n**3))"
   ]
  },
  {
   "cell_type": "code",
   "execution_count": 54,
   "metadata": {
    "id": "xCYiKNpa-TWS"
   },
   "outputs": [
    {
     "data": {
      "text/plain": [
       "[-1000000,\n",
       " -970299,\n",
       " -941192,\n",
       " -912673,\n",
       " -884736,\n",
       " -857375,\n",
       " -830584,\n",
       " -804357,\n",
       " -778688,\n",
       " -753571,\n",
       " -729000,\n",
       " -704969,\n",
       " -681472,\n",
       " -658503,\n",
       " -636056,\n",
       " -614125,\n",
       " -592704,\n",
       " -571787,\n",
       " -551368,\n",
       " -531441,\n",
       " -512000,\n",
       " -493039,\n",
       " -474552,\n",
       " -456533,\n",
       " -438976,\n",
       " -421875,\n",
       " -405224,\n",
       " -389017,\n",
       " -373248,\n",
       " -357911,\n",
       " -343000,\n",
       " -328509,\n",
       " -314432,\n",
       " -300763,\n",
       " -287496,\n",
       " -274625,\n",
       " -262144,\n",
       " -250047,\n",
       " -238328,\n",
       " -226981,\n",
       " -216000,\n",
       " -205379,\n",
       " -195112,\n",
       " -185193,\n",
       " -175616,\n",
       " -166375,\n",
       " -157464,\n",
       " -148877,\n",
       " -140608,\n",
       " -132651,\n",
       " -125000,\n",
       " -117649,\n",
       " -110592,\n",
       " -103823,\n",
       " -97336,\n",
       " -91125,\n",
       " -85184,\n",
       " -79507,\n",
       " -74088,\n",
       " -68921,\n",
       " -64000,\n",
       " -59319,\n",
       " -54872,\n",
       " -50653,\n",
       " -46656,\n",
       " -42875,\n",
       " -39304,\n",
       " -35937,\n",
       " -32768,\n",
       " -29791,\n",
       " -27000,\n",
       " -24389,\n",
       " -21952,\n",
       " -19683,\n",
       " -17576,\n",
       " -15625,\n",
       " -13824,\n",
       " -12167,\n",
       " -10648,\n",
       " -9261,\n",
       " -8000,\n",
       " -6859,\n",
       " -5832,\n",
       " -4913,\n",
       " -4096,\n",
       " -3375,\n",
       " -2744,\n",
       " -2197,\n",
       " -1728,\n",
       " -1331,\n",
       " -1000,\n",
       " -729,\n",
       " -512,\n",
       " -343,\n",
       " -216,\n",
       " -125,\n",
       " -64,\n",
       " -27,\n",
       " -8,\n",
       " -1,\n",
       " 0,\n",
       " 1,\n",
       " 8,\n",
       " 27,\n",
       " 64,\n",
       " 125,\n",
       " 216,\n",
       " 343,\n",
       " 512,\n",
       " 729,\n",
       " 1000,\n",
       " 1331,\n",
       " 1728,\n",
       " 2197,\n",
       " 2744,\n",
       " 3375,\n",
       " 4096,\n",
       " 4913,\n",
       " 5832,\n",
       " 6859,\n",
       " 8000,\n",
       " 9261,\n",
       " 10648,\n",
       " 12167,\n",
       " 13824,\n",
       " 15625,\n",
       " 17576,\n",
       " 19683,\n",
       " 21952,\n",
       " 24389,\n",
       " 27000,\n",
       " 29791,\n",
       " 32768,\n",
       " 35937,\n",
       " 39304,\n",
       " 42875,\n",
       " 46656,\n",
       " 50653,\n",
       " 54872,\n",
       " 59319,\n",
       " 64000,\n",
       " 68921,\n",
       " 74088,\n",
       " 79507,\n",
       " 85184,\n",
       " 91125,\n",
       " 97336,\n",
       " 103823,\n",
       " 110592,\n",
       " 117649,\n",
       " 125000,\n",
       " 132651,\n",
       " 140608,\n",
       " 148877,\n",
       " 157464,\n",
       " 166375,\n",
       " 175616,\n",
       " 185193,\n",
       " 195112,\n",
       " 205379,\n",
       " 216000,\n",
       " 226981,\n",
       " 238328,\n",
       " 250047,\n",
       " 262144,\n",
       " 274625,\n",
       " 287496,\n",
       " 300763,\n",
       " 314432,\n",
       " 328509,\n",
       " 343000,\n",
       " 357911,\n",
       " 373248,\n",
       " 389017,\n",
       " 405224,\n",
       " 421875,\n",
       " 438976,\n",
       " 456533,\n",
       " 474552,\n",
       " 493039,\n",
       " 512000,\n",
       " 531441,\n",
       " 551368,\n",
       " 571787,\n",
       " 592704,\n",
       " 614125,\n",
       " 636056,\n",
       " 658503,\n",
       " 681472,\n",
       " 704969,\n",
       " 729000,\n",
       " 753571,\n",
       " 778688,\n",
       " 804357,\n",
       " 830584,\n",
       " 857375,\n",
       " 884736,\n",
       " 912673,\n",
       " 941192,\n",
       " 970299,\n",
       " 1000000]"
      ]
     },
     "execution_count": 54,
     "metadata": {},
     "output_type": "execute_result"
    }
   ],
   "source": [
    "# code here:\n",
    "\n",
    "[n**3 for n in range(-100, 101)]\n"
   ]
  },
  {
   "cell_type": "markdown",
   "metadata": {
    "id": "TvbdR-c7-TWS"
   },
   "source": [
    "__Data wrangling example__"
   ]
  },
  {
   "cell_type": "code",
   "execution_count": 55,
   "metadata": {
    "id": "WTnfBThu-TWS"
   },
   "outputs": [],
   "source": [
    "# here's our messy input data\n",
    "input_data = [\"Alex: ZIP 20022-0049\", \"Margaret: ZIP 20009-0132\", \"Hermione: ZIP 10009-3214\"]"
   ]
  },
  {
   "cell_type": "code",
   "execution_count": 56,
   "metadata": {
    "id": "N_wXqZTO-TWT"
   },
   "outputs": [],
   "source": [
    "# as a for loop\n",
    "\n",
    "clean_list = []\n",
    "for i in input_data:\n",
    "    clean_list.append(i.split()[2].split('-')[0])"
   ]
  },
  {
   "cell_type": "code",
   "execution_count": 58,
   "metadata": {
    "id": "RxSsrhln-TWT"
   },
   "outputs": [
    {
     "data": {
      "text/plain": [
       "['20022', '20009', '10009']"
      ]
     },
     "execution_count": 58,
     "metadata": {},
     "output_type": "execute_result"
    }
   ],
   "source": [
    "[x.split()[2].split('-')[0] for x in input_data]"
   ]
  },
  {
   "cell_type": "code",
   "execution_count": 60,
   "metadata": {},
   "outputs": [
    {
     "data": {
      "text/plain": [
       "[-1000,\n",
       " -729,\n",
       " -512,\n",
       " -343,\n",
       " -216,\n",
       " -125,\n",
       " -64,\n",
       " -27,\n",
       " -8,\n",
       " -1,\n",
       " 0,\n",
       " 1,\n",
       " 8,\n",
       " 27,\n",
       " 64,\n",
       " 125,\n",
       " 216,\n",
       " 343,\n",
       " 512,\n",
       " 729]"
      ]
     },
     "execution_count": 60,
     "metadata": {},
     "output_type": "execute_result"
    }
   ],
   "source": [
    "def test_expo(x):\n",
    "    return x**3\n",
    "\n",
    "[test_expo(x) for x in range(-10, 10)]"
   ]
  }
 ],
 "metadata": {
  "colab": {
   "collapsed_sections": [
    "b4aP6vAM-TWA",
    "RFXUt-kn-TWD",
    "z6aSBjzw-TWG",
    "cw1s-gl3-TWK",
    "6c63U-Gl-TWL",
    "OByH3HdA-TWL",
    "flIEyER8-TWN",
    "CtQmihYI-TWR"
   ],
   "name": "L3_data_structures.ipynb",
   "provenance": []
  },
  "kernelspec": {
   "display_name": "Python 3",
   "language": "python",
   "name": "python3"
  },
  "language_info": {
   "codemirror_mode": {
    "name": "ipython",
    "version": 3
   },
   "file_extension": ".py",
   "mimetype": "text/x-python",
   "name": "python",
   "nbconvert_exporter": "python",
   "pygments_lexer": "ipython3",
   "version": "3.8.8"
  }
 },
 "nbformat": 4,
 "nbformat_minor": 4
}
