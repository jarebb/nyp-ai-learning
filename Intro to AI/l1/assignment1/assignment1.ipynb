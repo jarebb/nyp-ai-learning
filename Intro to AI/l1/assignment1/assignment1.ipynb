{
 "cells": [
  {
   "cell_type": "markdown",
   "id": "5181320d-20bc-4f3f-b6a7-fa5183f605fd",
   "metadata": {},
   "source": [
    "# Assignment 1"
   ]
  },
  {
   "cell_type": "markdown",
   "id": "e5e66ae5-cf7a-461b-8605-eb9bf67eb51c",
   "metadata": {},
   "source": [
    "|admin no|name|email contact|\n",
    "|---|---|---|\n",
    "|22A208Z|Ng Jarebb|22a208z@mymail.nyp.edu.sg|"
   ]
  },
  {
   "cell_type": "markdown",
   "id": "cb7ac41b-3608-4e16-bc21-413d0b62dd0a",
   "metadata": {},
   "source": [
    "## Experience"
   ]
  },
  {
   "cell_type": "markdown",
   "id": "c9dd91b1-3ed9-461f-a0c3-90ff031ccbdd",
   "metadata": {},
   "source": [
    "My progamming experience\n",
    "- NodeJs\n",
    "- C#"
   ]
  },
  {
   "cell_type": "markdown",
   "id": "f1e62686-06da-467a-bd8a-66ab39a7d53f",
   "metadata": {},
   "source": [
    "### Code"
   ]
  },
  {
   "cell_type": "markdown",
   "id": "a6d131ab-7c23-4aab-9cdd-ba7f3e5fdcff",
   "metadata": {},
   "source": [
    "`str = \"Hello\"`\n",
    "\n",
    "`print (str)`"
   ]
  },
  {
   "cell_type": "markdown",
   "id": "663e9cda-96ba-4f47-97ae-7eafb6ef58ab",
   "metadata": {},
   "source": [
    "#### Equation"
   ]
  },
  {
   "cell_type": "markdown",
   "id": "ce26740c-b8e5-4b16-8130-092934c415fe",
   "metadata": {},
   "source": [
    "$$\\sqrt{4} \\neq 1$$"
   ]
  },
  {
   "cell_type": "markdown",
   "id": "2446bcd5-66f6-426f-b940-879ce05ff2ea",
   "metadata": {},
   "source": [
    "## Python Part 1"
   ]
  },
  {
   "cell_type": "code",
   "execution_count": 57,
   "id": "0c334adf-4f99-426f-a7ef-c4dafe0e77c9",
   "metadata": {},
   "outputs": [],
   "source": [
    "import random\n",
    "def throwDice():\n",
    "    return random.randint(1, 6)"
   ]
  },
  {
   "cell_type": "code",
   "execution_count": 438,
   "id": "b35312e6-ab44-4fce-961e-55cc1c15d0ad",
   "metadata": {},
   "outputs": [
    {
     "name": "stdout",
     "output_type": "stream",
     "text": [
      "[ 1  4 -3 -2  1]\n"
     ]
    },
    {
     "data": {
      "text/plain": [
       "5"
      ]
     },
     "execution_count": 438,
     "metadata": {},
     "output_type": "execute_result"
    }
   ],
   "source": [
    "import numpy as np\n",
    "np.random.seed(0)\n",
    "\n",
    "def playGame():\n",
    "    player1_result = np.random.randint(1, high=7, size=5)\n",
    "    player2_result = np.random.randint(1, high=7, size=5)\n",
    "    return player1_result, player2_result\n",
    "\n",
    "player1_result ,player2_result = playGame()\n",
    "result = player1_result - player2_result\n",
    "\n",
    "print(result)\n",
    "np.count_nonzero(result)"
   ]
  },
  {
   "cell_type": "code",
   "execution_count": 127,
   "id": "6ffa9fd9-98ed-483f-b435-e0c6025182af",
   "metadata": {},
   "outputs": [
    {
     "name": "stdout",
     "output_type": "stream",
     "text": [
      "[6 4 4 1]\n",
      "[6 6 1 4]\n",
      "[ 0 -2  3 -3]\n"
     ]
    }
   ],
   "source": []
  }
 ],
 "metadata": {
  "kernelspec": {
   "display_name": "Python 3",
   "language": "python",
   "name": "python3"
  },
  "language_info": {
   "codemirror_mode": {
    "name": "ipython",
    "version": 3
   },
   "file_extension": ".py",
   "mimetype": "text/x-python",
   "name": "python",
   "nbconvert_exporter": "python",
   "pygments_lexer": "ipython3",
   "version": "3.8.8"
  }
 },
 "nbformat": 4,
 "nbformat_minor": 5
}
