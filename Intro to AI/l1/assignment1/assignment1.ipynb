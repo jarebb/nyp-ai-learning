{
 "cells": [
  {
   "cell_type": "markdown",
   "id": "5181320d-20bc-4f3f-b6a7-fa5183f605fd",
   "metadata": {},
   "source": [
    "# Assignment 1"
   ]
  },
  {
   "cell_type": "markdown",
   "id": "e5e66ae5-cf7a-461b-8605-eb9bf67eb51c",
   "metadata": {},
   "source": [
    "|admin no|name|email contact|\n",
    "|---|---|---|\n",
    "|22A208Z|Ng Jarebb|22a208z@mymail.nyp.edu.sg|"
   ]
  },
  {
   "cell_type": "markdown",
   "id": "cb7ac41b-3608-4e16-bc21-413d0b62dd0a",
   "metadata": {},
   "source": [
    "## Experience"
   ]
  },
  {
   "cell_type": "markdown",
   "id": "c9dd91b1-3ed9-461f-a0c3-90ff031ccbdd",
   "metadata": {},
   "source": [
    "My progamming experience\n",
    "- NodeJs\n",
    "- C#\n",
    "- Java\n",
    "- Go"
   ]
  },
  {
   "cell_type": "markdown",
   "id": "f1e62686-06da-467a-bd8a-66ab39a7d53f",
   "metadata": {},
   "source": [
    "### Code"
   ]
  },
  {
   "cell_type": "markdown",
   "id": "a6d131ab-7c23-4aab-9cdd-ba7f3e5fdcff",
   "metadata": {},
   "source": [
    "`str = \"Hello\"`\n",
    "\n",
    "`print (str)`"
   ]
  },
  {
   "cell_type": "markdown",
   "id": "663e9cda-96ba-4f47-97ae-7eafb6ef58ab",
   "metadata": {},
   "source": [
    "#### Equation"
   ]
  },
  {
   "cell_type": "markdown",
   "id": "ce26740c-b8e5-4b16-8130-092934c415fe",
   "metadata": {},
   "source": [
    "$$\\sqrt{4} \\neq 1$$"
   ]
  },
  {
   "cell_type": "markdown",
   "id": "2446bcd5-66f6-426f-b940-879ce05ff2ea",
   "metadata": {},
   "source": [
    "## Python Part 1"
   ]
  },
  {
   "cell_type": "code",
   "execution_count": 175,
   "id": "b35312e6-ab44-4fce-961e-55cc1c15d0ad",
   "metadata": {},
   "outputs": [
    {
     "name": "stdout",
     "output_type": "stream",
     "text": [
      "Player 1\n",
      " [6 1 2 5 4]\n",
      "Player 2\n",
      " [5 3 3 6 2]\n",
      "P1=2 P2=3 Draw=0\n",
      "Player 2 wins by 1 game \n",
      "\n",
      "\n"
     ]
    }
   ],
   "source": [
    "import numpy as np\n",
    "#np.random.seed(1)\n",
    "\n",
    "# Function to simulate player 1 & 2 throwing of dice\n",
    "def playersThrowDice():\n",
    "    player1_result = np.random.randint(1, high=7, size=5)\n",
    "    player2_result = np.random.randint(1, high=7, size=5)\n",
    "    print('Player 1\\n', player1_result)\n",
    "    print('Player 2\\n', player2_result)\n",
    "    return player1_result, player2_result\n",
    "\n",
    "# Function to print the game result using players result\n",
    "def printResult(player2_result, player1_result):\n",
    "    result = player2_result - player1_result\n",
    "    \n",
    "    # Using the expression (result < 0) or (result > 0), we can get back an array of true or false.\n",
    "    # In Python, boolean can be express using int value 1 or 0\n",
    "    # Using sum() function will add all the 1 together, giving a total count on how many won games for either player 1 or 2.\n",
    "    totalPlayer1GameWon = (result < 0).sum()\n",
    "    totalPlayer2GameWon = (result > 0).sum()\n",
    "    totalDrawGame = (result == 0).sum()\n",
    "\n",
    "    print('P1=%d P2=%d Draw=%d' % (totalPlayer1GameWon, totalPlayer2GameWon, totalDrawGame))\n",
    "\n",
    "    if (totalPlayer1GameWon > totalPlayer2GameWon):\n",
    "        print('Player 1 wins by %d game' % (totalPlayer1GameWon - totalPlayer2GameWon), '\\n\\n')\n",
    "    elif (totalPlayer2GameWon > totalPlayer1GameWon):\n",
    "        print('Player 2 wins by %d game' % (totalPlayer2GameWon - totalPlayer1GameWon), '\\n\\n')\n",
    "    else:\n",
    "        print('It is a draw with %d win each' % totalPlayer1GameWon, '\\n\\n')\n",
    "\n",
    "# Function to simulate playing of games. By default, a total of 5 games will be played if numOfTimes is not provided.\n",
    "def playGames(numOfTimes = 5):\n",
    "    for i in range(0, numOfTimes):\n",
    "        player1_result ,player2_result = playersThrowDice()\n",
    "        printResult(player2_result, player1_result)\n",
    "\n",
    "playGames()"
   ]
  },
  {
   "cell_type": "code",
   "execution_count": null,
   "id": "f6d85637",
   "metadata": {},
   "outputs": [],
   "source": []
  }
 ],
 "metadata": {
  "kernelspec": {
   "display_name": "Python 3",
   "language": "python",
   "name": "python3"
  },
  "language_info": {
   "codemirror_mode": {
    "name": "ipython",
    "version": 3
   },
   "file_extension": ".py",
   "mimetype": "text/x-python",
   "name": "python",
   "nbconvert_exporter": "python",
   "pygments_lexer": "ipython3",
   "version": "3.8.8"
  }
 },
 "nbformat": 4,
 "nbformat_minor": 5
}
