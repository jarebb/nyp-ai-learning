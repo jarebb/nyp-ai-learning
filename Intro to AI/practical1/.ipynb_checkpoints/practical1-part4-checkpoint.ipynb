{
 "cells": [
  {
   "cell_type": "code",
   "execution_count": 2,
   "id": "1e031e8b-6b15-4fe6-adb3-4a118918f41c",
   "metadata": {},
   "outputs": [],
   "source": [
    "import time;"
   ]
  },
  {
   "cell_type": "code",
   "execution_count": 6,
   "id": "4cd8fa27-ac1e-42a9-b36e-85badce0b3a2",
   "metadata": {},
   "outputs": [
    {
     "name": "stdout",
     "output_type": "stream",
     "text": [
      "Wall time: 5 s\n"
     ]
    }
   ],
   "source": [
    "%time time.sleep(5)"
   ]
  },
  {
   "cell_type": "code",
   "execution_count": 7,
   "id": "3bcc0d70-70f6-4502-9973-1f9fde16d845",
   "metadata": {},
   "outputs": [],
   "source": [
    "time.sleep(2)"
   ]
  }
 ],
 "metadata": {
  "kernelspec": {
   "display_name": "Python 3",
   "language": "python",
   "name": "python3"
  },
  "language_info": {
   "codemirror_mode": {
    "name": "ipython",
    "version": 3
   },
   "file_extension": ".py",
   "mimetype": "text/x-python",
   "name": "python",
   "nbconvert_exporter": "python",
   "pygments_lexer": "ipython3",
   "version": "3.8.8"
  }
 },
 "nbformat": 4,
 "nbformat_minor": 5
}
