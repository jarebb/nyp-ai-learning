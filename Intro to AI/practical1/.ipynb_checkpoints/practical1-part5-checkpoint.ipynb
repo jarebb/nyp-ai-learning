{
 "cells": [
  {
   "cell_type": "code",
   "execution_count": 46,
   "id": "17ca41b9-f96b-4f3e-95c2-2d900fa83b1a",
   "metadata": {},
   "outputs": [
    {
     "name": "stdout",
     "output_type": "stream",
     "text": [
      "0\n",
      "1\n",
      "2\n",
      "3\n",
      "Wall time: 0 ns\n"
     ]
    }
   ],
   "source": [
    "%%time\n",
    "\n",
    "for i in range(0, 4) :\n",
    "    print(i)\n",
    "    "
   ]
  },
  {
   "cell_type": "markdown",
   "id": "e5d5bcf4-6c97-4a60-9c5c-4d31cfbbc6ff",
   "metadata": {},
   "source": [
    "# Hello\n",
    "## Part 1"
   ]
  },
  {
   "cell_type": "code",
   "execution_count": 47,
   "id": "d699edb4-89cb-45ee-ab60-a8de3d7f90dd",
   "metadata": {},
   "outputs": [
    {
     "name": "stdout",
     "output_type": "stream",
     "text": [
      "hello world\n"
     ]
    }
   ],
   "source": [
    "print(\"hello world\")"
   ]
  },
  {
   "cell_type": "code",
   "execution_count": 48,
   "id": "d5f7f390-903d-4b30-a1f3-0ddb1363f271",
   "metadata": {},
   "outputs": [],
   "source": [
    "myName = 'HelloWorld'"
   ]
  },
  {
   "cell_type": "code",
   "execution_count": 49,
   "id": "9814a77e-e736-476b-a7eb-aaa2ea2f3e6e",
   "metadata": {},
   "outputs": [
    {
     "name": "stdout",
     "output_type": "stream",
     "text": [
      "HelloWorld\n"
     ]
    }
   ],
   "source": [
    "print(myName)"
   ]
  },
  {
   "cell_type": "code",
   "execution_count": 50,
   "id": "c94cf268-f3b8-49ba-bdc6-7df41d6b9163",
   "metadata": {},
   "outputs": [
    {
     "name": "stdout",
     "output_type": "stream",
     "text": [
      "13.2 ns ± 1.95 ns per loop (mean ± std. dev. of 7 runs, 100000000 loops each)\n"
     ]
    }
   ],
   "source": [
    "%timeit '1+1'"
   ]
  },
  {
   "cell_type": "code",
   "execution_count": 52,
   "id": "83a4558a-1beb-46a8-9af1-3bbd7522a55f",
   "metadata": {},
   "outputs": [
    {
     "name": "stdout",
     "output_type": "stream",
     "text": [
      "11.8 ns ± 1.18 ns per loop (mean ± std. dev. of 7 runs, 100000000 loops each)\n"
     ]
    }
   ],
   "source": [
    "%timeit '\"-\".join(str(n) for n in range(100))'"
   ]
  },
  {
   "cell_type": "code",
   "execution_count": null,
   "id": "6fb8b8a6-2f41-4730-a3cd-4475b6b5ba72",
   "metadata": {},
   "outputs": [],
   "source": []
  }
 ],
 "metadata": {
  "kernelspec": {
   "display_name": "Python 3",
   "language": "python",
   "name": "python3"
  },
  "language_info": {
   "codemirror_mode": {
    "name": "ipython",
    "version": 3
   },
   "file_extension": ".py",
   "mimetype": "text/x-python",
   "name": "python",
   "nbconvert_exporter": "python",
   "pygments_lexer": "ipython3",
   "version": "3.8.8"
  }
 },
 "nbformat": 4,
 "nbformat_minor": 5
}
