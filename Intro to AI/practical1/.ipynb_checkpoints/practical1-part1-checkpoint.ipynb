{
 "cells": [
  {
   "cell_type": "code",
   "execution_count": 71,
   "id": "65e6b67a-5ea2-4bfd-883a-e0d794ac8929",
   "metadata": {},
   "outputs": [],
   "source": [
    "import numpy as np\n",
    "import sklearn.preprocessing"
   ]
  },
  {
   "cell_type": "code",
   "execution_count": 72,
   "id": "7b09252b-f732-4795-affd-760d3b89095a",
   "metadata": {},
   "outputs": [],
   "source": [
    "input_data = np.array([[1.5, -2.0, 5.5],\n",
    "[-2.5, 2.4, 4.5],\n",
    "[0.5, -8.0, 5.0],\n",
    "[6.9, 2.0, -5.2]])"
   ]
  },
  {
   "cell_type": "code",
   "execution_count": 73,
   "id": "51fd44ec-2006-4383-acb4-428d44e85737",
   "metadata": {},
   "outputs": [],
   "source": [
    "binarizer = sklearn.preprocessing.Binarizer(threshold = 0.5)"
   ]
  },
  {
   "cell_type": "code",
   "execution_count": 74,
   "id": "3d39bf62-930c-43d0-90c7-acd09dae5348",
   "metadata": {},
   "outputs": [],
   "source": [
    "data_binarized = binarizer.transform(input_data)"
   ]
  },
  {
   "cell_type": "code",
   "execution_count": 75,
   "id": "e948e950-12a7-44ef-920a-331310e57746",
   "metadata": {},
   "outputs": [
    {
     "name": "stdout",
     "output_type": "stream",
     "text": [
      "\n",
      "Binarized data:\n",
      " [[1. 0. 1.]\n",
      " [0. 1. 1.]\n",
      " [0. 0. 1.]\n",
      " [1. 1. 0.]]\n"
     ]
    }
   ],
   "source": [
    "print(\"\\nBinarized data:\\n\", data_binarized)"
   ]
  },
  {
   "cell_type": "code",
   "execution_count": null,
   "id": "6a2b9d99-ebf1-444a-8a7c-8f47dc25e664",
   "metadata": {},
   "outputs": [],
   "source": []
  }
 ],
 "metadata": {
  "kernelspec": {
   "display_name": "Python 3",
   "language": "python",
   "name": "python3"
  },
  "language_info": {
   "codemirror_mode": {
    "name": "ipython",
    "version": 3
   },
   "file_extension": ".py",
   "mimetype": "text/x-python",
   "name": "python",
   "nbconvert_exporter": "python",
   "pygments_lexer": "ipython3",
   "version": "3.8.8"
  }
 },
 "nbformat": 4,
 "nbformat_minor": 5
}
