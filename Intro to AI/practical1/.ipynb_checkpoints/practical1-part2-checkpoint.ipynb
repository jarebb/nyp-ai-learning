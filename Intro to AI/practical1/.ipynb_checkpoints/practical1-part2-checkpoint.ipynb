{
 "cells": [
  {
   "cell_type": "code",
   "execution_count": 12,
   "id": "372c47ae-d3af-4528-9409-878edc4bf268",
   "metadata": {},
   "outputs": [
    {
     "name": "stdout",
     "output_type": "stream",
     "text": [
      "\n",
      "Binarized data:\n",
      " [[1. 0. 1.]\n",
      " [0. 1. 1.]\n",
      " [0. 0. 1.]\n",
      " [1. 1. 0.]]\n"
     ]
    }
   ],
   "source": [
    "# %load data.py\n",
    "import numpy as np\n",
    "import sklearn.preprocessing\n",
    "\n",
    "input_data = np.array([[1.5, -2.0, 5.5],\n",
    "[-2.5, 2.4, 4.5],\n",
    "[0.5, -8.0, 5.0],\n",
    "[6.9, 2.0, -5.2]])\n",
    "\n",
    "binarizer = sklearn.preprocessing.Binarizer(threshold = 0.5)\n",
    "data_binarized = binarizer.transform(input_data)\n",
    "print(\"\\nBinarized data:\\n\", data_binarized)\n"
   ]
  }
 ],
 "metadata": {
  "kernelspec": {
   "display_name": "Python 3",
   "language": "python",
   "name": "python3"
  },
  "language_info": {
   "codemirror_mode": {
    "name": "ipython",
    "version": 3
   },
   "file_extension": ".py",
   "mimetype": "text/x-python",
   "name": "python",
   "nbconvert_exporter": "python",
   "pygments_lexer": "ipython3",
   "version": "3.8.8"
  }
 },
 "nbformat": 4,
 "nbformat_minor": 5
}
