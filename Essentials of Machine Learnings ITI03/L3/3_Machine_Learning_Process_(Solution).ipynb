{
  "cells": [
    {
      "cell_type": "markdown",
      "metadata": {
        "colab_type": "text",
        "id": "view-in-github"
      },
      "source": [
        "<a href=\"https://colab.research.google.com/github/veronicalimpooikhoon/ITI103/blob/main/3_Machine_Learning_Process_(Solution).ipynb\" target=\"_parent\"><img src=\"https://colab.research.google.com/assets/colab-badge.svg\" alt=\"Open In Colab\"/></a>"
      ]
    },
    {
      "cell_type": "markdown",
      "metadata": {
        "id": "mlcN8ctTgVbP"
      },
      "source": [
        "# California Housing Dataset\n",
        "## Getting the data\n",
        "We will be using the California housing Prices dataset.  This dataset was based on data from the 1990 California census.  \n",
        "\n",
        "https://raw.githubusercontent.com/ageron/handson-ml/master/datasets/housing/housing.csv \n",
        "\n"
      ]
    },
    {
      "cell_type": "markdown",
      "metadata": {
        "id": "GzNmjWJsib_P"
      },
      "source": [
        "## Basic Data Analysis\n",
        "Q1  Let's load the data from the url and perform basic data analysis.\n",
        "\n",
        "*   Check the Sample size (Hint: shape)\n",
        "*   Check the features (Hint: describe method)\n",
        "*   Check for missing values using info method\n",
        "\n"
      ]
    },
    {
      "cell_type": "code",
      "execution_count": 1,
      "metadata": {
        "colab": {
          "base_uri": "https://localhost:8080/"
        },
        "id": "xWU_gij3yrfJ",
        "outputId": "22df0bc5-624e-42ce-af97-99e8f877fd45"
      },
      "outputs": [
        {
          "name": "stdout",
          "output_type": "stream",
          "text": [
            "   longitude  latitude  housing_median_age  total_rooms  total_bedrooms  \\\n",
            "0    -122.23     37.88                41.0        880.0           129.0   \n",
            "1    -122.22     37.86                21.0       7099.0          1106.0   \n",
            "2    -122.24     37.85                52.0       1467.0           190.0   \n",
            "3    -122.25     37.85                52.0       1274.0           235.0   \n",
            "4    -122.25     37.85                52.0       1627.0           280.0   \n",
            "\n",
            "   population  households  median_income  median_house_value ocean_proximity  \n",
            "0       322.0       126.0         8.3252            452600.0        NEAR BAY  \n",
            "1      2401.0      1138.0         8.3014            358500.0        NEAR BAY  \n",
            "2       496.0       177.0         7.2574            352100.0        NEAR BAY  \n",
            "3       558.0       219.0         5.6431            341300.0        NEAR BAY  \n",
            "4       565.0       259.0         3.8462            342200.0        NEAR BAY  \n",
            ">>> Check the sample size:\n",
            ">>> Check for the features: \n",
            ">>> Check for missing values\n"
          ]
        }
      ],
      "source": [
        "import pandas as pd\n",
        "url = 'https://raw.githubusercontent.com/ageron/handson-ml/master/datasets/housing/housing.csv'\n",
        "df = pd.read_csv(url)\n",
        "print(df.head())\n",
        "print('>>> Check the sample size:')\n",
        "# use shape\n",
        "\n",
        "print('>>> Check for the features: ')\n",
        "# use describe\n",
        "\n",
        "print('>>> Check for missing values')\n",
        "# use info\n"
      ]
    },
    {
      "cell_type": "code",
      "execution_count": 3,
      "metadata": {
        "colab": {
          "base_uri": "https://localhost:8080/"
        },
        "id": "J8iwY8Jxg9Rj",
        "outputId": "8dace53d-e5f0-4742-9e5d-0ac89452d035"
      },
      "outputs": [
        {
          "name": "stdout",
          "output_type": "stream",
          "text": [
            "   longitude  latitude  housing_median_age  total_rooms  total_bedrooms  \\\n",
            "0    -122.23     37.88                41.0        880.0           129.0   \n",
            "1    -122.22     37.86                21.0       7099.0          1106.0   \n",
            "2    -122.24     37.85                52.0       1467.0           190.0   \n",
            "3    -122.25     37.85                52.0       1274.0           235.0   \n",
            "4    -122.25     37.85                52.0       1627.0           280.0   \n",
            "\n",
            "   population  households  median_income  median_house_value ocean_proximity  \n",
            "0       322.0       126.0         8.3252            452600.0        NEAR BAY  \n",
            "1      2401.0      1138.0         8.3014            358500.0        NEAR BAY  \n",
            "2       496.0       177.0         7.2574            352100.0        NEAR BAY  \n",
            "3       558.0       219.0         5.6431            341300.0        NEAR BAY  \n",
            "4       565.0       259.0         3.8462            342200.0        NEAR BAY  \n",
            ">>> Check the sample size:\n",
            "(20640, 10)\n",
            ">>> Check for the features: \n",
            "          longitude      latitude  housing_median_age   total_rooms  \\\n",
            "count  20640.000000  20640.000000        20640.000000  20640.000000   \n",
            "mean    -119.569704     35.631861           28.639486   2635.763081   \n",
            "std        2.003532      2.135952           12.585558   2181.615252   \n",
            "min     -124.350000     32.540000            1.000000      2.000000   \n",
            "25%     -121.800000     33.930000           18.000000   1447.750000   \n",
            "50%     -118.490000     34.260000           29.000000   2127.000000   \n",
            "75%     -118.010000     37.710000           37.000000   3148.000000   \n",
            "max     -114.310000     41.950000           52.000000  39320.000000   \n",
            "\n",
            "       total_bedrooms    population    households  median_income  \\\n",
            "count    20433.000000  20640.000000  20640.000000   20640.000000   \n",
            "mean       537.870553   1425.476744    499.539680       3.870671   \n",
            "std        421.385070   1132.462122    382.329753       1.899822   \n",
            "min          1.000000      3.000000      1.000000       0.499900   \n",
            "25%        296.000000    787.000000    280.000000       2.563400   \n",
            "50%        435.000000   1166.000000    409.000000       3.534800   \n",
            "75%        647.000000   1725.000000    605.000000       4.743250   \n",
            "max       6445.000000  35682.000000   6082.000000      15.000100   \n",
            "\n",
            "       median_house_value  \n",
            "count        20640.000000  \n",
            "mean        206855.816909  \n",
            "std         115395.615874  \n",
            "min          14999.000000  \n",
            "25%         119600.000000  \n",
            "50%         179700.000000  \n",
            "75%         264725.000000  \n",
            "max         500001.000000  \n",
            ">>> Check for missing values\n",
            "<class 'pandas.core.frame.DataFrame'>\n",
            "RangeIndex: 20640 entries, 0 to 20639\n",
            "Data columns (total 10 columns):\n",
            " #   Column              Non-Null Count  Dtype  \n",
            "---  ------              --------------  -----  \n",
            " 0   longitude           20640 non-null  float64\n",
            " 1   latitude            20640 non-null  float64\n",
            " 2   housing_median_age  20640 non-null  float64\n",
            " 3   total_rooms         20640 non-null  float64\n",
            " 4   total_bedrooms      20433 non-null  float64\n",
            " 5   population          20640 non-null  float64\n",
            " 6   households          20640 non-null  float64\n",
            " 7   median_income       20640 non-null  float64\n",
            " 8   median_house_value  20640 non-null  float64\n",
            " 9   ocean_proximity     20640 non-null  object \n",
            "dtypes: float64(9), object(1)\n",
            "memory usage: 1.6+ MB\n",
            "None\n"
          ]
        }
      ],
      "source": [
        "#@title\n",
        "import pandas as pd\n",
        "url = 'https://raw.githubusercontent.com/ageron/handson-ml/master/datasets/housing/housing.csv'\n",
        "df = pd.read_csv(url)\n",
        "print(df.head())\n",
        "print('>>> Check the sample size:')\n",
        "print(df.shape)\n",
        "print('>>> Check for the features: ')\n",
        "print(df.describe())\n",
        "print('>>> Check for missing values')\n",
        "print(df.info())"
      ]
    },
    {
      "cell_type": "markdown",
      "metadata": {
        "id": "cor4QuVt01wu"
      },
      "source": [
        "Q2. Creates a histogram and inspect the attributes distribution to look for insights\n",
        "\n"
      ]
    },
    {
      "cell_type": "code",
      "execution_count": 4,
      "metadata": {
        "id": "a1Xy59zyyqcP"
      },
      "outputs": [],
      "source": [
        "import matplotlib.pyplot as plt\n",
        "# Creates a histogram"
      ]
    },
    {
      "cell_type": "code",
      "execution_count": 5,
      "metadata": {
        "colab": {
          "base_uri": "https://localhost:8080/",
          "height": 481
        },
        "id": "ywG7VZISkuG7",
        "outputId": "7c3b4019-9962-4435-8db1-9ebea38745d2"
      },
      "outputs": [
        {
          "data": {
            "image/png": "[encoded data removed]",
            "text/plain": [
              "<Figure size 1440x1080 with 9 Axes>"
            ]
          },
          "metadata": {
            "needs_background": "light"
          },
          "output_type": "display_data"
        }
      ],
      "source": [
        "#@title\n",
        "import matplotlib.pyplot as plt\n",
        "df.hist(bins=50, figsize=(20,15))\n",
        "plt.show()"
      ]
    },
    {
      "cell_type": "markdown",
      "metadata": {
        "id": "ILWn9BwNOMFp"
      },
      "source": [
        "## Create a Test Set\n",
        "## Simple Random Sampling"
      ]
    },
    {
      "cell_type": "markdown",
      "metadata": {
        "id": "Ty3mxijKytVh"
      },
      "source": [
        "Q3.  Split the training set to 80/20 using random sampling technique"
      ]
    },
    {
      "cell_type": "code",
      "execution_count": 6,
      "metadata": {
        "id": "gLxWrsW2IoaG"
      },
      "outputs": [],
      "source": [
        "import numpy as np\n",
        "# random sampling, 80/20 split\n"
      ]
    },
    {
      "cell_type": "code",
      "execution_count": 7,
      "metadata": {
        "colab": {
          "base_uri": "https://localhost:8080/"
        },
        "id": "-DUvCrLUzIA-",
        "outputId": "439ecf2f-2ee2-4502-c156-647f476b8f8b"
      },
      "outputs": [
        {
          "name": "stdout",
          "output_type": "stream",
          "text": [
            "16512 train 4128 test\n"
          ]
        }
      ],
      "source": [
        "#@title\n",
        "import numpy as np\n",
        "def split_train_test(data, test_ratio):\n",
        "  shuffled_indices = np.random.permutation(len(data))\n",
        "  test_set_size = int(len(data) * test_ratio)\n",
        "  test_indices = shuffled_indices[:test_set_size]\n",
        "  train_indices = shuffled_indices[test_set_size:]\n",
        "  return data.iloc[train_indices], data.iloc[test_indices]\n",
        "\n",
        "train_set, test_set = split_train_test(df, 0.2)\n",
        "print(len(train_set), 'train', len(test_set), 'test')"
      ]
    },
    {
      "cell_type": "markdown",
      "metadata": {
        "id": "7LcggVHYU3YB"
      },
      "source": [
        "## Using Stratified Sampling "
      ]
    },
    {
      "cell_type": "markdown",
      "metadata": {
        "id": "gGTP6MCwJYxi"
      },
      "source": [
        "Stratified random sampling is a method of sampling that involves the division of a population into smaller sub-groups known as strata. In stratified random sampling, the strata are formed based on members' shared attributes or characteristics such as income or educational attainment.  The following source shows you how you could use Stratified Sampling to split the data into training and testing set. We use the pd.cut() to bin the median income into 5 categories (e.g. 0 to 1.5 is cat 1, 1.5 to 3.0 is cat 2, 3.0 to 4.5 is cat 3, 4.5 to 6 is cat 4, and 6 to infinity is cat 5)."
      ]
    },
    {
      "cell_type": "code",
      "execution_count": 8,
      "metadata": {
        "colab": {
          "base_uri": "https://localhost:8080/"
        },
        "id": "5VPh_Rs2VAOP",
        "outputId": "66b4372d-2b13-4d83-c386-9538d675cf4c"
      },
      "outputs": [
        {
          "name": "stdout",
          "output_type": "stream",
          "text": [
            "0        5\n",
            "1        5\n",
            "2        5\n",
            "3        4\n",
            "4        3\n",
            "        ..\n",
            "20635    2\n",
            "20636    2\n",
            "20637    2\n",
            "20638    2\n",
            "20639    2\n",
            "Name: income_cat, Length: 20640, dtype: category\n",
            "Categories (5, int64): [1 < 2 < 3 < 4 < 5]\n"
          ]
        },
        {
          "data": {
            "text/plain": [
              "1     822\n",
              "2    6581\n",
              "3    7236\n",
              "4    3639\n",
              "5    2362\n",
              "Name: income_cat, dtype: int64"
            ]
          },
          "execution_count": 8,
          "metadata": {},
          "output_type": "execute_result"
        }
      ],
      "source": [
        "from sklearn.model_selection import StratifiedShuffleSplit, train_test_split\n",
        "\n",
        "df[\"income_cat\"] = pd.cut(df[\"median_income\"],\n",
        "                               bins=[0., 1.5, 3.0, 4.5, 6., np.inf],\n",
        "                               labels=[1, 2, 3, 4, 5])\n",
        "print(df[\"income_cat\"])\n",
        "df.income_cat.value_counts().sort_index()\n"
      ]
    },
    {
      "cell_type": "code",
      "execution_count": 5,
      "metadata": {
        "colab": {
          "base_uri": "https://localhost:8080/"
        },
        "id": "WQ0c3Q3W_bD5",
        "outputId": "4147f1a3-37e9-4b6a-b17c-ffd485c1d602"
      },
      "outputs": [],
      "source": [
        "from sklearn.model_selection import train_test_split\n",
        "\n",
        "strat_train_set, strat_test_set = train_test_split(df, shuffle=True, stratify=df['income_cat'])"
      ]
    },
    {
      "cell_type": "code",
      "execution_count": 6,
      "metadata": {
        "colab": {
          "base_uri": "https://localhost:8080/"
        },
        "id": "PYTKQXwA_bD5",
        "outputId": "3f201617-65af-4d12-8393-e3d9a2fa2a8d"
      },
      "outputs": [
        {
          "name": "stdout",
          "output_type": "stream",
          "text": [
            "16512 train 4128 test\n"
          ]
        }
      ],
      "source": [
        "split = StratifiedShuffleSplit(n_splits=1, test_size=0.2, random_state=42)\n",
        "#df['income_cat'].value_counts() / len(df)\n",
        "for train_index, test_index in split.split(df, df['income_cat']):\n",
        "  strat_train_set = df.loc[train_index]\n",
        "  strat_test_set = df.loc[test_index]\n",
        "\n",
        "print(len(strat_train_set), 'train', len(strat_test_set), 'test')"
      ]
    },
    {
      "cell_type": "markdown",
      "metadata": {
        "id": "1B2imo9FZouN"
      },
      "source": [
        "Measure the income category proportions in the test set generated with random sampling and stratified sampling.  The test set generated using stratified sampling has income category proportions almost identical to those in the full dataset, whereas the test set generated using purely random sampling is quite skewed."
      ]
    },
    {
      "cell_type": "code",
      "execution_count": 7,
      "metadata": {
        "colab": {
          "base_uri": "https://localhost:8080/",
          "height": 206
        },
        "id": "rAmYzNZcrV-z",
        "outputId": "50536d61-0431-43a3-9cfd-083f9efddf63"
      },
      "outputs": [
        {
          "data": {
            "text/html": [
              "<div>\n",
              "<style scoped>\n",
              "    .dataframe tbody tr th:only-of-type {\n",
              "        vertical-align: middle;\n",
              "    }\n",
              "\n",
              "    .dataframe tbody tr th {\n",
              "        vertical-align: top;\n",
              "    }\n",
              "\n",
              "    .dataframe thead th {\n",
              "        text-align: right;\n",
              "    }\n",
              "</style>\n",
              "<table border=\"1\" class=\"dataframe\">\n",
              "  <thead>\n",
              "    <tr style=\"text-align: right;\">\n",
              "      <th></th>\n",
              "      <th>Overall</th>\n",
              "      <th>Stratified</th>\n",
              "      <th>Random</th>\n",
              "      <th>Rand. %error</th>\n",
              "      <th>Strat. %error</th>\n",
              "    </tr>\n",
              "  </thead>\n",
              "  <tbody>\n",
              "    <tr>\n",
              "      <th>1</th>\n",
              "      <td>0.039826</td>\n",
              "      <td>0.039729</td>\n",
              "      <td>0.040213</td>\n",
              "      <td>0.973236</td>\n",
              "      <td>-0.243309</td>\n",
              "    </tr>\n",
              "    <tr>\n",
              "      <th>2</th>\n",
              "      <td>0.318847</td>\n",
              "      <td>0.318798</td>\n",
              "      <td>0.324370</td>\n",
              "      <td>1.732260</td>\n",
              "      <td>-0.015195</td>\n",
              "    </tr>\n",
              "    <tr>\n",
              "      <th>3</th>\n",
              "      <td>0.350581</td>\n",
              "      <td>0.350533</td>\n",
              "      <td>0.358527</td>\n",
              "      <td>2.266446</td>\n",
              "      <td>-0.013820</td>\n",
              "    </tr>\n",
              "    <tr>\n",
              "      <th>4</th>\n",
              "      <td>0.176308</td>\n",
              "      <td>0.176357</td>\n",
              "      <td>0.167393</td>\n",
              "      <td>-5.056334</td>\n",
              "      <td>0.027480</td>\n",
              "    </tr>\n",
              "    <tr>\n",
              "      <th>5</th>\n",
              "      <td>0.114438</td>\n",
              "      <td>0.114583</td>\n",
              "      <td>0.109496</td>\n",
              "      <td>-4.318374</td>\n",
              "      <td>0.127011</td>\n",
              "    </tr>\n",
              "  </tbody>\n",
              "</table>\n",
              "</div>"
            ],
            "text/plain": [
              "    Overall  Stratified    Random  Rand. %error  Strat. %error\n",
              "1  0.039826    0.039729  0.040213      0.973236      -0.243309\n",
              "2  0.318847    0.318798  0.324370      1.732260      -0.015195\n",
              "3  0.350581    0.350533  0.358527      2.266446      -0.013820\n",
              "4  0.176308    0.176357  0.167393     -5.056334       0.027480\n",
              "5  0.114438    0.114583  0.109496     -4.318374       0.127011"
            ]
          },
          "execution_count": 7,
          "metadata": {},
          "output_type": "execute_result"
        }
      ],
      "source": [
        "def income_cat_props(data):\n",
        "  return data['income_cat'].value_counts()/len(data)\n",
        "\n",
        "train_set, test_set = train_test_split(df, test_size=0.2, random_state=42)\n",
        "\n",
        "compare_props = pd.DataFrame({\n",
        "    'Overall': income_cat_props(df),\n",
        "    'Stratified': income_cat_props(strat_test_set),\n",
        "    'Random': income_cat_props(test_set)\n",
        "}).sort_index()\n",
        "\n",
        "compare_props['Rand. %error'] = 100 * compare_props['Random'] / compare_props['Overall'] - 100\n",
        "compare_props['Strat. %error'] = 100 * compare_props['Stratified'] / compare_props['Overall'] - 100\n",
        "\n",
        "compare_props"
      ]
    },
    {
      "cell_type": "markdown",
      "metadata": {
        "id": "AazWTvU7UxLw"
      },
      "source": [
        "## Discover and Visualize the Data to Gain Insights"
      ]
    },
    {
      "cell_type": "markdown",
      "metadata": {
        "id": "Tv6HI_TL0gjW"
      },
      "source": [
        "Q4. We shall discover and visualize the Data to gain more insights.   Let's create a copy of the housing data so that we can experiment with it without affecting the training set.  Use the copy method to create a new copy of the stratified training data set and creates a scatter plot of all the districts to visualize poppulation density with respect to the longitude and latitude data."
      ]
    },
    {
      "cell_type": "code",
      "execution_count": null,
      "metadata": {
        "id": "86ea5QL6XpnE"
      },
      "outputs": [],
      "source": [
        "# scatter plot of all districts"
      ]
    },
    {
      "cell_type": "code",
      "execution_count": 8,
      "metadata": {
        "colab": {
          "base_uri": "https://localhost:8080/",
          "height": 297
        },
        "id": "9a5kwNDuvcp3",
        "outputId": "6dfbb592-f393-4441-f07f-6fd9b9a1a789"
      },
      "outputs": [
        {
          "data": {
            "text/plain": [
              "<AxesSubplot:xlabel='longitude', ylabel='latitude'>"
            ]
          },
          "execution_count": 8,
          "metadata": {},
          "output_type": "execute_result"
        },
        {
          "data": {
            "image/png": "[encoded data removed]",
            "text/plain": [
              "<Figure size 432x288 with 1 Axes>"
            ]
          },
          "metadata": {
            "needs_background": "light"
          },
          "output_type": "display_data"
        }
      ],
      "source": [
        "#@title\n",
        "housing = strat_train_set.copy()\n",
        "housing.plot(kind='scatter',  x='longitude', y='latitude', alpha=0.1)"
      ]
    },
    {
      "cell_type": "markdown",
      "metadata": {
        "id": "Y5ALI2ccPFFL"
      },
      "source": [
        "In this scatter plot, we examine the housing prices with the radius of each circle representing the district's poulation (option s) and the color represents the price (option c).  The predefined color map (option cmap) called jet, ranges from blue for low values to red for high values."
      ]
    },
    {
      "cell_type": "code",
      "execution_count": null,
      "metadata": {
        "id": "mNsB3-KRX-YA"
      },
      "outputs": [],
      "source": [
        "# scatter plot with color map"
      ]
    },
    {
      "cell_type": "code",
      "execution_count": 9,
      "metadata": {
        "colab": {
          "base_uri": "https://localhost:8080/",
          "height": 274
        },
        "id": "w-HA5Zd40cJt",
        "outputId": "d3a335d0-8da8-45f3-8eec-8de3d4c765bd"
      },
      "outputs": [
        {
          "data": {
            "text/plain": [
              "<matplotlib.legend.Legend at 0x7f95b4dd64f0>"
            ]
          },
          "execution_count": 9,
          "metadata": {},
          "output_type": "execute_result"
        },
        {
          "data": {
            "image/png": "[encoded data removed]",
            "text/plain": [
              "<Figure size 432x288 with 2 Axes>"
            ]
          },
          "metadata": {
            "needs_background": "light"
          },
          "output_type": "display_data"
        }
      ],
      "source": [
        "#@title\n",
        "import matplotlib.pyplot as plt\n",
        "housing.plot(kind='scatter', x='longitude', y='latitude', alpha=0.4,\n",
        "             s=housing['population'] / 100, label='population',\n",
        "             c='median_house_value', cmap=plt.get_cmap('jet'), colorbar=True)\n",
        "plt.legend()\n"
      ]
    },
    {
      "cell_type": "markdown",
      "metadata": {
        "id": "slBdVYQRY8CZ"
      },
      "source": [
        "### Looking for Correlations\n",
        "\n",
        "Q5.  Compute the standard correlation coefficient between every pair of attributes using the corr() method, and examine how much each attribute with the median house value"
      ]
    },
    {
      "cell_type": "code",
      "execution_count": null,
      "metadata": {
        "id": "92ZPpJGJYR-T"
      },
      "outputs": [],
      "source": [
        "# compute the standard correlation coefficient\n"
      ]
    },
    {
      "cell_type": "code",
      "execution_count": null,
      "metadata": {
        "colab": {
          "base_uri": "https://localhost:8080/"
        },
        "id": "bBECn0Eb2Mpn",
        "outputId": "59f3ac27-2555-4815-8058-dc309aa37026"
      },
      "outputs": [
        {
          "data": {
            "text/plain": [
              "median_house_value    1.000000\n",
              "median_income         0.687151\n",
              "total_rooms           0.135140\n",
              "housing_median_age    0.114146\n",
              "households            0.064590\n",
              "total_bedrooms        0.047781\n",
              "population           -0.026882\n",
              "longitude            -0.047466\n",
              "latitude             -0.142673\n",
              "Name: median_house_value, dtype: float64"
            ]
          },
          "execution_count": 16,
          "metadata": {},
          "output_type": "execute_result"
        }
      ],
      "source": [
        "#@title\n",
        "corr_matrix = housing.corr()\n",
        "corr_matrix['median_house_value'].sort_values(ascending=False)"
      ]
    },
    {
      "cell_type": "markdown",
      "metadata": {
        "id": "RDmlOm_ZZhoN"
      },
      "source": [
        "Another way to check for correlation between attributes is to use scatter_matrix function which plots every numerical attribute against every other numerical attribute.  The most promising attribute the predict the median house value seems to be the median income.  "
      ]
    },
    {
      "cell_type": "code",
      "execution_count": null,
      "metadata": {
        "id": "eFZGa130YnJd"
      },
      "outputs": [],
      "source": [
        "# scatter matrix\n"
      ]
    },
    {
      "cell_type": "code",
      "execution_count": null,
      "metadata": {
        "colab": {
          "base_uri": "https://localhost:8080/",
          "height": 752
        },
        "id": "aMcC1Yhd261q",
        "outputId": "50039b00-3f98-4184-b8b4-56b257cb87af"
      },
      "outputs": [
        {
          "data": {
            "text/plain": [
              "array([[<matplotlib.axes._subplots.AxesSubplot object at 0x7fcf12061210>,\n",
              "        <matplotlib.axes._subplots.AxesSubplot object at 0x7fcf1083f1d0>,\n",
              "        <matplotlib.axes._subplots.AxesSubplot object at 0x7fcf107e87d0>,\n",
              "        <matplotlib.axes._subplots.AxesSubplot object at 0x7fcf10812dd0>],\n",
              "       [<matplotlib.axes._subplots.AxesSubplot object at 0x7fcf107ca410>,\n",
              "        <matplotlib.axes._subplots.AxesSubplot object at 0x7fcf10776a10>,\n",
              "        <matplotlib.axes._subplots.AxesSubplot object at 0x7fcf10723fd0>,\n",
              "        <matplotlib.axes._subplots.AxesSubplot object at 0x7fcf10759610>],\n",
              "       [<matplotlib.axes._subplots.AxesSubplot object at 0x7fcf10759650>,\n",
              "        <matplotlib.axes._subplots.AxesSubplot object at 0x7fcf10711d50>,\n",
              "        <matplotlib.axes._subplots.AxesSubplot object at 0x7fcf1068b890>,\n",
              "        <matplotlib.axes._subplots.AxesSubplot object at 0x7fcf10642e90>],\n",
              "       [<matplotlib.axes._subplots.AxesSubplot object at 0x7fcf106064d0>,\n",
              "        <matplotlib.axes._subplots.AxesSubplot object at 0x7fcf105bcad0>,\n",
              "        <matplotlib.axes._subplots.AxesSubplot object at 0x7fcf1057f110>,\n",
              "        <matplotlib.axes._subplots.AxesSubplot object at 0x7fcf10536710>]],\n",
              "      dtype=object)"
            ]
          },
          "execution_count": 18,
          "metadata": {},
          "output_type": "execute_result"
        },
        {
          "data": {
            "image/png": "[encoded data removed]",
            "text/plain": [
              "<Figure size 864x576 with 16 Axes>"
            ]
          },
          "metadata": {
            "needs_background": "light"
          },
          "output_type": "display_data"
        }
      ],
      "source": [
        "#@title\n",
        "from pandas.plotting import scatter_matrix\n",
        "\n",
        "attributes = ['median_house_value', 'median_income', 'total_rooms', 'housing_median_age']\n",
        "scatter_matrix(housing[attributes], figsize=(12,8))"
      ]
    },
    {
      "cell_type": "markdown",
      "metadata": {
        "id": "yjWe62VAb6vG"
      },
      "source": [
        "Q6.  Creates the scatter plot to show the  correlation of medina_income and median_housing_value, ane examine the visualisation."
      ]
    },
    {
      "cell_type": "code",
      "execution_count": null,
      "metadata": {
        "id": "oL6ivLnQY5v8"
      },
      "outputs": [],
      "source": [
        "# scatter plot\n"
      ]
    },
    {
      "cell_type": "code",
      "execution_count": null,
      "metadata": {
        "colab": {
          "base_uri": "https://localhost:8080/",
          "height": 298
        },
        "id": "dtqUFuB_4n8Q",
        "outputId": "3ae26a89-9134-415b-a238-32d19ba510b8"
      },
      "outputs": [
        {
          "data": {
            "text/plain": [
              "<matplotlib.axes._subplots.AxesSubplot at 0x7fcf1031dd50>"
            ]
          },
          "execution_count": 20,
          "metadata": {},
          "output_type": "execute_result"
        },
        {
          "data": {
            "image/png": "[encoded data removed]",
            "text/plain": [
              "<Figure size 432x288 with 1 Axes>"
            ]
          },
          "metadata": {
            "needs_background": "light"
          },
          "output_type": "display_data"
        }
      ],
      "source": [
        "#@title\n",
        "housing.plot(kind='scatter', x='median_income', y='median_house_value', alpha=0.1)"
      ]
    },
    {
      "cell_type": "code",
      "execution_count": null,
      "metadata": {
        "colab": {
          "base_uri": "https://localhost:8080/",
          "height": 443
        },
        "id": "0O17nh_b_bD9",
        "outputId": "8f4e5e92-9f0a-4dcd-cc28-a6912d88f106"
      },
      "outputs": [
        {
          "data": {
            "text/html": [
              "<div>\n",
              "<style scoped>\n",
              "    .dataframe tbody tr th:only-of-type {\n",
              "        vertical-align: middle;\n",
              "    }\n",
              "\n",
              "    .dataframe tbody tr th {\n",
              "        vertical-align: top;\n",
              "    }\n",
              "\n",
              "    .dataframe thead th {\n",
              "        text-align: right;\n",
              "    }\n",
              "</style>\n",
              "<table border=\"1\" class=\"dataframe\">\n",
              "  <thead>\n",
              "    <tr style=\"text-align: right;\">\n",
              "      <th></th>\n",
              "      <th>longitude</th>\n",
              "      <th>latitude</th>\n",
              "      <th>housing_median_age</th>\n",
              "      <th>total_rooms</th>\n",
              "      <th>total_bedrooms</th>\n",
              "      <th>population</th>\n",
              "      <th>households</th>\n",
              "      <th>median_income</th>\n",
              "      <th>median_house_value</th>\n",
              "      <th>ocean_proximity</th>\n",
              "      <th>income_cat</th>\n",
              "    </tr>\n",
              "  </thead>\n",
              "  <tbody>\n",
              "    <tr>\n",
              "      <th>5830</th>\n",
              "      <td>-118.31</td>\n",
              "      <td>34.20</td>\n",
              "      <td>36.0</td>\n",
              "      <td>1692.0</td>\n",
              "      <td>263.0</td>\n",
              "      <td>778.0</td>\n",
              "      <td>278.0</td>\n",
              "      <td>5.0865</td>\n",
              "      <td>349600.0</td>\n",
              "      <td>&lt;1H OCEAN</td>\n",
              "      <td>4</td>\n",
              "    </tr>\n",
              "    <tr>\n",
              "      <th>11493</th>\n",
              "      <td>-117.99</td>\n",
              "      <td>33.69</td>\n",
              "      <td>12.0</td>\n",
              "      <td>2480.0</td>\n",
              "      <td>858.0</td>\n",
              "      <td>1441.0</td>\n",
              "      <td>788.0</td>\n",
              "      <td>1.6705</td>\n",
              "      <td>350000.0</td>\n",
              "      <td>&lt;1H OCEAN</td>\n",
              "      <td>2</td>\n",
              "    </tr>\n",
              "    <tr>\n",
              "      <th>14359</th>\n",
              "      <td>-117.22</td>\n",
              "      <td>32.74</td>\n",
              "      <td>52.0</td>\n",
              "      <td>1260.0</td>\n",
              "      <td>202.0</td>\n",
              "      <td>555.0</td>\n",
              "      <td>209.0</td>\n",
              "      <td>7.2758</td>\n",
              "      <td>345200.0</td>\n",
              "      <td>NEAR OCEAN</td>\n",
              "      <td>5</td>\n",
              "    </tr>\n",
              "    <tr>\n",
              "      <th>8617</th>\n",
              "      <td>-118.39</td>\n",
              "      <td>33.87</td>\n",
              "      <td>19.0</td>\n",
              "      <td>3303.0</td>\n",
              "      <td>584.0</td>\n",
              "      <td>1329.0</td>\n",
              "      <td>569.0</td>\n",
              "      <td>7.5210</td>\n",
              "      <td>340400.0</td>\n",
              "      <td>&lt;1H OCEAN</td>\n",
              "      <td>5</td>\n",
              "    </tr>\n",
              "    <tr>\n",
              "      <th>5448</th>\n",
              "      <td>-118.42</td>\n",
              "      <td>34.01</td>\n",
              "      <td>29.0</td>\n",
              "      <td>1996.0</td>\n",
              "      <td>489.0</td>\n",
              "      <td>960.0</td>\n",
              "      <td>449.0</td>\n",
              "      <td>3.6611</td>\n",
              "      <td>344200.0</td>\n",
              "      <td>&lt;1H OCEAN</td>\n",
              "      <td>3</td>\n",
              "    </tr>\n",
              "    <tr>\n",
              "      <th>...</th>\n",
              "      <td>...</td>\n",
              "      <td>...</td>\n",
              "      <td>...</td>\n",
              "      <td>...</td>\n",
              "      <td>...</td>\n",
              "      <td>...</td>\n",
              "      <td>...</td>\n",
              "      <td>...</td>\n",
              "      <td>...</td>\n",
              "      <td>...</td>\n",
              "      <td>...</td>\n",
              "    </tr>\n",
              "    <tr>\n",
              "      <th>10622</th>\n",
              "      <td>-117.82</td>\n",
              "      <td>33.68</td>\n",
              "      <td>3.0</td>\n",
              "      <td>7105.0</td>\n",
              "      <td>1459.0</td>\n",
              "      <td>3068.0</td>\n",
              "      <td>1241.0</td>\n",
              "      <td>6.1395</td>\n",
              "      <td>358000.0</td>\n",
              "      <td>&lt;1H OCEAN</td>\n",
              "      <td>5</td>\n",
              "    </tr>\n",
              "    <tr>\n",
              "      <th>11463</th>\n",
              "      <td>-117.99</td>\n",
              "      <td>33.67</td>\n",
              "      <td>12.0</td>\n",
              "      <td>2228.0</td>\n",
              "      <td>479.0</td>\n",
              "      <td>1122.0</td>\n",
              "      <td>488.0</td>\n",
              "      <td>4.0385</td>\n",
              "      <td>350000.0</td>\n",
              "      <td>&lt;1H OCEAN</td>\n",
              "      <td>3</td>\n",
              "    </tr>\n",
              "    <tr>\n",
              "      <th>1016</th>\n",
              "      <td>-121.76</td>\n",
              "      <td>37.67</td>\n",
              "      <td>6.0</td>\n",
              "      <td>3023.0</td>\n",
              "      <td>518.0</td>\n",
              "      <td>1225.0</td>\n",
              "      <td>468.0</td>\n",
              "      <td>6.3705</td>\n",
              "      <td>350000.0</td>\n",
              "      <td>INLAND</td>\n",
              "      <td>5</td>\n",
              "    </tr>\n",
              "    <tr>\n",
              "      <th>11180</th>\n",
              "      <td>-117.94</td>\n",
              "      <td>33.83</td>\n",
              "      <td>20.0</td>\n",
              "      <td>812.0</td>\n",
              "      <td>192.0</td>\n",
              "      <td>494.0</td>\n",
              "      <td>172.0</td>\n",
              "      <td>3.2500</td>\n",
              "      <td>350000.0</td>\n",
              "      <td>&lt;1H OCEAN</td>\n",
              "      <td>3</td>\n",
              "    </tr>\n",
              "    <tr>\n",
              "      <th>5521</th>\n",
              "      <td>-118.39</td>\n",
              "      <td>33.96</td>\n",
              "      <td>45.0</td>\n",
              "      <td>1361.0</td>\n",
              "      <td>252.0</td>\n",
              "      <td>581.0</td>\n",
              "      <td>263.0</td>\n",
              "      <td>5.8143</td>\n",
              "      <td>340700.0</td>\n",
              "      <td>&lt;1H OCEAN</td>\n",
              "      <td>4</td>\n",
              "    </tr>\n",
              "  </tbody>\n",
              "</table>\n",
              "<p>427 rows × 11 columns</p>\n",
              "</div>"
            ],
            "text/plain": [
              "       longitude  latitude  housing_median_age  total_rooms  total_bedrooms  \\\n",
              "5830     -118.31     34.20                36.0       1692.0           263.0   \n",
              "11493    -117.99     33.69                12.0       2480.0           858.0   \n",
              "14359    -117.22     32.74                52.0       1260.0           202.0   \n",
              "8617     -118.39     33.87                19.0       3303.0           584.0   \n",
              "5448     -118.42     34.01                29.0       1996.0           489.0   \n",
              "...          ...       ...                 ...          ...             ...   \n",
              "10622    -117.82     33.68                 3.0       7105.0          1459.0   \n",
              "11463    -117.99     33.67                12.0       2228.0           479.0   \n",
              "1016     -121.76     37.67                 6.0       3023.0           518.0   \n",
              "11180    -117.94     33.83                20.0        812.0           192.0   \n",
              "5521     -118.39     33.96                45.0       1361.0           252.0   \n",
              "\n",
              "       population  households  median_income  median_house_value  \\\n",
              "5830        778.0       278.0         5.0865            349600.0   \n",
              "11493      1441.0       788.0         1.6705            350000.0   \n",
              "14359       555.0       209.0         7.2758            345200.0   \n",
              "8617       1329.0       569.0         7.5210            340400.0   \n",
              "5448        960.0       449.0         3.6611            344200.0   \n",
              "...           ...         ...            ...                 ...   \n",
              "10622      3068.0      1241.0         6.1395            358000.0   \n",
              "11463      1122.0       488.0         4.0385            350000.0   \n",
              "1016       1225.0       468.0         6.3705            350000.0   \n",
              "11180       494.0       172.0         3.2500            350000.0   \n",
              "5521        581.0       263.0         5.8143            340700.0   \n",
              "\n",
              "      ocean_proximity income_cat  \n",
              "5830        <1H OCEAN          4  \n",
              "11493       <1H OCEAN          2  \n",
              "14359      NEAR OCEAN          5  \n",
              "8617        <1H OCEAN          5  \n",
              "5448        <1H OCEAN          3  \n",
              "...               ...        ...  \n",
              "10622       <1H OCEAN          5  \n",
              "11463       <1H OCEAN          3  \n",
              "1016           INLAND          5  \n",
              "11180       <1H OCEAN          3  \n",
              "5521        <1H OCEAN          4  \n",
              "\n",
              "[427 rows x 11 columns]"
            ]
          },
          "execution_count": 21,
          "metadata": {},
          "output_type": "execute_result"
        }
      ],
      "source": [
        "housing[ (housing['median_house_value'] < 360000) & (housing['median_house_value'] > 340000) ]"
      ]
    },
    {
      "cell_type": "markdown",
      "metadata": {
        "id": "9Lw6jHtJduUL"
      },
      "source": [
        "### Experimenting with Attribute Combinations\n",
        "Q7.  Try out various attribute combinations before actually preparing the data for Machine Learning.  Creates these 3 new attributes:\n",
        "\n",
        "\n",
        "*   rooms per household ( total rooms / households )\n",
        "*   bedrooms per room (total bedrooms / total rooms)\n",
        "*   population per house hold (population / households)\n",
        "\n",
        "And compute the correlation matrix again to examine the correlation between median house values and all the other attributes, including these 3 new attributes."
      ]
    },
    {
      "cell_type": "code",
      "execution_count": null,
      "metadata": {
        "id": "9jBryg58ZClh"
      },
      "outputs": [],
      "source": [
        "# Creates new attributes and compute the correlation matrix\n",
        "\n"
      ]
    },
    {
      "cell_type": "code",
      "execution_count": null,
      "metadata": {
        "colab": {
          "base_uri": "https://localhost:8080/"
        },
        "id": "WtW3XHnP7u0c",
        "outputId": "06c0a299-932f-4b2d-a052-b53c36c5be1f"
      },
      "outputs": [
        {
          "data": {
            "text/plain": [
              "median_house_value          1.000000\n",
              "median_income               0.687151\n",
              "rooms_per_household         0.146255\n",
              "total_rooms                 0.135140\n",
              "housing_median_age          0.114146\n",
              "households                  0.064590\n",
              "total_bedrooms              0.047781\n",
              "population_per_household   -0.021991\n",
              "population                 -0.026882\n",
              "longitude                  -0.047466\n",
              "latitude                   -0.142673\n",
              "bedrooms_per_room          -0.259952\n",
              "Name: median_house_value, dtype: float64"
            ]
          },
          "execution_count": 23,
          "metadata": {},
          "output_type": "execute_result"
        }
      ],
      "source": [
        "#@title\n",
        "housing['rooms_per_household'] = housing['total_rooms']/housing['households']\n",
        "housing['bedrooms_per_room'] = housing['total_bedrooms']/housing['total_rooms']\n",
        "housing['population_per_household'] = housing['population']/housing['households']\n",
        "corr_matrix = housing.corr()\n",
        "corr_matrix['median_house_value'].sort_values(ascending=False)"
      ]
    },
    {
      "cell_type": "markdown",
      "metadata": {
        "id": "gnTMPaRg_9Vh"
      },
      "source": [
        "## Data Cleaning\n",
        "Q8 There are some missing values within the data set for total_bedroom attribute, fix it by\n",
        "\n",
        "\n",
        "*   Get rid of the corresponding districts\n",
        "*   Get rid of the whole attribute\n",
        "*   Set the values to some value, such as zero, mean or median\n",
        "\n"
      ]
    },
    {
      "cell_type": "code",
      "execution_count": null,
      "metadata": {
        "id": "UqhKVK1RZTa-"
      },
      "outputs": [],
      "source": [
        "# Data cleaning\n"
      ]
    },
    {
      "cell_type": "code",
      "execution_count": null,
      "metadata": {
        "colab": {
          "base_uri": "https://localhost:8080/"
        },
        "id": "1dsdxhQUAF5F",
        "outputId": "55f2aa61-0d7a-4aee-e240-1b9a79d1ca89"
      },
      "outputs": [
        {
          "name": "stdout",
          "output_type": "stream",
          "text": [
            "<class 'pandas.core.frame.DataFrame'>\n",
            "Int64Index: 16512 entries, 12655 to 19773\n",
            "Data columns (total 10 columns):\n",
            " #   Column              Non-Null Count  Dtype   \n",
            "---  ------              --------------  -----   \n",
            " 0   longitude           16512 non-null  float64 \n",
            " 1   latitude            16512 non-null  float64 \n",
            " 2   housing_median_age  16512 non-null  float64 \n",
            " 3   total_rooms         16512 non-null  float64 \n",
            " 4   total_bedrooms      16354 non-null  float64 \n",
            " 5   population          16512 non-null  float64 \n",
            " 6   households          16512 non-null  float64 \n",
            " 7   median_income       16512 non-null  float64 \n",
            " 8   ocean_proximity     16512 non-null  object  \n",
            " 9   income_cat          16512 non-null  category\n",
            "dtypes: category(1), float64(8), object(1)\n",
            "memory usage: 1.3+ MB\n",
            "None\n"
          ]
        }
      ],
      "source": [
        "#@title\n",
        "housing = strat_train_set.drop('median_house_value', axis=1)\n",
        "housing_labels=strat_train_set['median_house_value'].copy()\n",
        "# Get rid of districts with missing values\n",
        "housing.dropna(subset=['total_bedrooms'])\n",
        "# Get rid of the attribute\n",
        "housing.drop('total_bedrooms', axis = 1)\n",
        "median = housing['total_bedrooms'].median()\n",
        "# Set the missing values to median \n",
        "housing['total_bedrooms'].fillna(median)\n",
        "print(housing.info())"
      ]
    },
    {
      "cell_type": "code",
      "execution_count": null,
      "metadata": {
        "colab": {
          "base_uri": "https://localhost:8080/",
          "height": 226
        },
        "id": "4gk09UzdaruI",
        "outputId": "35b10901-6d08-4a36-d36b-e0fa803de563"
      },
      "outputs": [
        {
          "data": {
            "text/html": [
              "<div>\n",
              "<style scoped>\n",
              "    .dataframe tbody tr th:only-of-type {\n",
              "        vertical-align: middle;\n",
              "    }\n",
              "\n",
              "    .dataframe tbody tr th {\n",
              "        vertical-align: top;\n",
              "    }\n",
              "\n",
              "    .dataframe thead th {\n",
              "        text-align: right;\n",
              "    }\n",
              "</style>\n",
              "<table border=\"1\" class=\"dataframe\">\n",
              "  <thead>\n",
              "    <tr style=\"text-align: right;\">\n",
              "      <th></th>\n",
              "      <th>longitude</th>\n",
              "      <th>latitude</th>\n",
              "      <th>housing_median_age</th>\n",
              "      <th>total_rooms</th>\n",
              "      <th>total_bedrooms</th>\n",
              "      <th>population</th>\n",
              "      <th>households</th>\n",
              "      <th>median_income</th>\n",
              "      <th>ocean_proximity</th>\n",
              "      <th>income_cat</th>\n",
              "    </tr>\n",
              "  </thead>\n",
              "  <tbody>\n",
              "    <tr>\n",
              "      <th>1606</th>\n",
              "      <td>-122.08</td>\n",
              "      <td>37.88</td>\n",
              "      <td>26.0</td>\n",
              "      <td>2947.0</td>\n",
              "      <td>NaN</td>\n",
              "      <td>825.0</td>\n",
              "      <td>626.0</td>\n",
              "      <td>2.9330</td>\n",
              "      <td>NEAR BAY</td>\n",
              "      <td>2</td>\n",
              "    </tr>\n",
              "    <tr>\n",
              "      <th>10915</th>\n",
              "      <td>-117.87</td>\n",
              "      <td>33.73</td>\n",
              "      <td>45.0</td>\n",
              "      <td>2264.0</td>\n",
              "      <td>NaN</td>\n",
              "      <td>1970.0</td>\n",
              "      <td>499.0</td>\n",
              "      <td>3.4193</td>\n",
              "      <td>&lt;1H OCEAN</td>\n",
              "      <td>3</td>\n",
              "    </tr>\n",
              "    <tr>\n",
              "      <th>19150</th>\n",
              "      <td>-122.70</td>\n",
              "      <td>38.35</td>\n",
              "      <td>14.0</td>\n",
              "      <td>2313.0</td>\n",
              "      <td>NaN</td>\n",
              "      <td>954.0</td>\n",
              "      <td>397.0</td>\n",
              "      <td>3.7813</td>\n",
              "      <td>&lt;1H OCEAN</td>\n",
              "      <td>3</td>\n",
              "    </tr>\n",
              "    <tr>\n",
              "      <th>4186</th>\n",
              "      <td>-118.23</td>\n",
              "      <td>34.13</td>\n",
              "      <td>48.0</td>\n",
              "      <td>1308.0</td>\n",
              "      <td>NaN</td>\n",
              "      <td>835.0</td>\n",
              "      <td>294.0</td>\n",
              "      <td>4.2891</td>\n",
              "      <td>&lt;1H OCEAN</td>\n",
              "      <td>3</td>\n",
              "    </tr>\n",
              "    <tr>\n",
              "      <th>16885</th>\n",
              "      <td>-122.40</td>\n",
              "      <td>37.58</td>\n",
              "      <td>26.0</td>\n",
              "      <td>3281.0</td>\n",
              "      <td>NaN</td>\n",
              "      <td>1145.0</td>\n",
              "      <td>480.0</td>\n",
              "      <td>6.3580</td>\n",
              "      <td>NEAR OCEAN</td>\n",
              "      <td>5</td>\n",
              "    </tr>\n",
              "  </tbody>\n",
              "</table>\n",
              "</div>"
            ],
            "text/plain": [
              "       longitude  latitude  housing_median_age  total_rooms  total_bedrooms  \\\n",
              "1606     -122.08     37.88                26.0       2947.0             NaN   \n",
              "10915    -117.87     33.73                45.0       2264.0             NaN   \n",
              "19150    -122.70     38.35                14.0       2313.0             NaN   \n",
              "4186     -118.23     34.13                48.0       1308.0             NaN   \n",
              "16885    -122.40     37.58                26.0       3281.0             NaN   \n",
              "\n",
              "       population  households  median_income ocean_proximity income_cat  \n",
              "1606        825.0       626.0         2.9330        NEAR BAY          2  \n",
              "10915      1970.0       499.0         3.4193       <1H OCEAN          3  \n",
              "19150       954.0       397.0         3.7813       <1H OCEAN          3  \n",
              "4186        835.0       294.0         4.2891       <1H OCEAN          3  \n",
              "16885      1145.0       480.0         6.3580      NEAR OCEAN          5  "
            ]
          },
          "execution_count": 26,
          "metadata": {},
          "output_type": "execute_result"
        }
      ],
      "source": [
        "sample_incomplete_rows = housing[housing.isnull().any(axis=1)].head()\n",
        "sample_incomplete_rows"
      ]
    },
    {
      "cell_type": "markdown",
      "metadata": {
        "id": "pAaPNnuPxKdu"
      },
      "source": [
        "Scikit Learn provides a handy class to take care of missing values: Imputer. \n",
        "* Creates an Imputer instance, specifying that you want to replace the missing attribute's missing values with the median of that attribute.   \n",
        "* Creates a copy of the data without the text attribute ocean_proximity\n",
        "*  Fit the imputer instance to the training data using the fit() method:\n",
        "*  Display the statistics_ instance variable of the imputer object."
      ]
    },
    {
      "cell_type": "code",
      "execution_count": null,
      "metadata": {
        "colab": {
          "base_uri": "https://localhost:8080/"
        },
        "id": "KoUnWjzEWDGA",
        "outputId": "0cbc16ef-f9e5-4fa5-dbaf-1ae259d7ec05"
      },
      "outputs": [
        {
          "data": {
            "text/plain": [
              "array([-118.51   ,   34.26   ,   29.     , 2119.     ,  433.     ,\n",
              "       1164.     ,  408.     ,    3.54155,    3.     ])"
            ]
          },
          "execution_count": 27,
          "metadata": {},
          "output_type": "execute_result"
        }
      ],
      "source": [
        "#@title\n",
        "from sklearn.impute import SimpleImputer\n",
        "imputer = SimpleImputer(strategy='median')\n",
        "housing_num = housing.drop('ocean_proximity', axis = 1)\n",
        "imputer.fit(housing_num)\n",
        "imputer.statistics_"
      ]
    },
    {
      "cell_type": "code",
      "execution_count": null,
      "metadata": {
        "colab": {
          "base_uri": "https://localhost:8080/",
          "height": 226
        },
        "id": "qpgsSEEQYVs3",
        "outputId": "e32de791-35ee-4b26-8724-3fc451d82463"
      },
      "outputs": [
        {
          "data": {
            "text/html": [
              "<div>\n",
              "<style scoped>\n",
              "    .dataframe tbody tr th:only-of-type {\n",
              "        vertical-align: middle;\n",
              "    }\n",
              "\n",
              "    .dataframe tbody tr th {\n",
              "        vertical-align: top;\n",
              "    }\n",
              "\n",
              "    .dataframe thead th {\n",
              "        text-align: right;\n",
              "    }\n",
              "</style>\n",
              "<table border=\"1\" class=\"dataframe\">\n",
              "  <thead>\n",
              "    <tr style=\"text-align: right;\">\n",
              "      <th></th>\n",
              "      <th>longitude</th>\n",
              "      <th>latitude</th>\n",
              "      <th>housing_median_age</th>\n",
              "      <th>total_rooms</th>\n",
              "      <th>total_bedrooms</th>\n",
              "      <th>population</th>\n",
              "      <th>households</th>\n",
              "      <th>median_income</th>\n",
              "      <th>income_cat</th>\n",
              "    </tr>\n",
              "  </thead>\n",
              "  <tbody>\n",
              "    <tr>\n",
              "      <th>1606</th>\n",
              "      <td>-122.08</td>\n",
              "      <td>37.88</td>\n",
              "      <td>26.0</td>\n",
              "      <td>2947.0</td>\n",
              "      <td>433.0</td>\n",
              "      <td>825.0</td>\n",
              "      <td>626.0</td>\n",
              "      <td>2.9330</td>\n",
              "      <td>2.0</td>\n",
              "    </tr>\n",
              "    <tr>\n",
              "      <th>10915</th>\n",
              "      <td>-117.87</td>\n",
              "      <td>33.73</td>\n",
              "      <td>45.0</td>\n",
              "      <td>2264.0</td>\n",
              "      <td>433.0</td>\n",
              "      <td>1970.0</td>\n",
              "      <td>499.0</td>\n",
              "      <td>3.4193</td>\n",
              "      <td>3.0</td>\n",
              "    </tr>\n",
              "    <tr>\n",
              "      <th>19150</th>\n",
              "      <td>-122.70</td>\n",
              "      <td>38.35</td>\n",
              "      <td>14.0</td>\n",
              "      <td>2313.0</td>\n",
              "      <td>433.0</td>\n",
              "      <td>954.0</td>\n",
              "      <td>397.0</td>\n",
              "      <td>3.7813</td>\n",
              "      <td>3.0</td>\n",
              "    </tr>\n",
              "    <tr>\n",
              "      <th>4186</th>\n",
              "      <td>-118.23</td>\n",
              "      <td>34.13</td>\n",
              "      <td>48.0</td>\n",
              "      <td>1308.0</td>\n",
              "      <td>433.0</td>\n",
              "      <td>835.0</td>\n",
              "      <td>294.0</td>\n",
              "      <td>4.2891</td>\n",
              "      <td>3.0</td>\n",
              "    </tr>\n",
              "    <tr>\n",
              "      <th>16885</th>\n",
              "      <td>-122.40</td>\n",
              "      <td>37.58</td>\n",
              "      <td>26.0</td>\n",
              "      <td>3281.0</td>\n",
              "      <td>433.0</td>\n",
              "      <td>1145.0</td>\n",
              "      <td>480.0</td>\n",
              "      <td>6.3580</td>\n",
              "      <td>5.0</td>\n",
              "    </tr>\n",
              "  </tbody>\n",
              "</table>\n",
              "</div>"
            ],
            "text/plain": [
              "       longitude  latitude  housing_median_age  total_rooms  total_bedrooms  \\\n",
              "1606     -122.08     37.88                26.0       2947.0           433.0   \n",
              "10915    -117.87     33.73                45.0       2264.0           433.0   \n",
              "19150    -122.70     38.35                14.0       2313.0           433.0   \n",
              "4186     -118.23     34.13                48.0       1308.0           433.0   \n",
              "16885    -122.40     37.58                26.0       3281.0           433.0   \n",
              "\n",
              "       population  households  median_income  income_cat  \n",
              "1606        825.0       626.0         2.9330         2.0  \n",
              "10915      1970.0       499.0         3.4193         3.0  \n",
              "19150       954.0       397.0         3.7813         3.0  \n",
              "4186        835.0       294.0         4.2891         3.0  \n",
              "16885      1145.0       480.0         6.3580         5.0  "
            ]
          },
          "execution_count": 28,
          "metadata": {},
          "output_type": "execute_result"
        }
      ],
      "source": [
        "#@title\n",
        "X = imputer.transform(housing_num)\n",
        "housing_tr = pd.DataFrame(X, columns=housing_num.columns, index = list(housing.index.values))\n",
        "housing_tr.loc[sample_incomplete_rows.index.values]"
      ]
    },
    {
      "cell_type": "code",
      "execution_count": null,
      "metadata": {
        "colab": {
          "base_uri": "https://localhost:8080/",
          "height": 206
        },
        "id": "55tKSTaYYWnq",
        "outputId": "6514d586-3f28-48bc-8a7c-80c34cfbd759"
      },
      "outputs": [
        {
          "data": {
            "text/html": [
              "<div>\n",
              "<style scoped>\n",
              "    .dataframe tbody tr th:only-of-type {\n",
              "        vertical-align: middle;\n",
              "    }\n",
              "\n",
              "    .dataframe tbody tr th {\n",
              "        vertical-align: top;\n",
              "    }\n",
              "\n",
              "    .dataframe thead th {\n",
              "        text-align: right;\n",
              "    }\n",
              "</style>\n",
              "<table border=\"1\" class=\"dataframe\">\n",
              "  <thead>\n",
              "    <tr style=\"text-align: right;\">\n",
              "      <th></th>\n",
              "      <th>ocean_proximity</th>\n",
              "    </tr>\n",
              "  </thead>\n",
              "  <tbody>\n",
              "    <tr>\n",
              "      <th>12655</th>\n",
              "      <td>INLAND</td>\n",
              "    </tr>\n",
              "    <tr>\n",
              "      <th>15502</th>\n",
              "      <td>NEAR OCEAN</td>\n",
              "    </tr>\n",
              "    <tr>\n",
              "      <th>2908</th>\n",
              "      <td>INLAND</td>\n",
              "    </tr>\n",
              "    <tr>\n",
              "      <th>14053</th>\n",
              "      <td>NEAR OCEAN</td>\n",
              "    </tr>\n",
              "    <tr>\n",
              "      <th>20496</th>\n",
              "      <td>&lt;1H OCEAN</td>\n",
              "    </tr>\n",
              "  </tbody>\n",
              "</table>\n",
              "</div>"
            ],
            "text/plain": [
              "      ocean_proximity\n",
              "12655          INLAND\n",
              "15502      NEAR OCEAN\n",
              "2908           INLAND\n",
              "14053      NEAR OCEAN\n",
              "20496       <1H OCEAN"
            ]
          },
          "execution_count": 29,
          "metadata": {},
          "output_type": "execute_result"
        }
      ],
      "source": [
        "housing_cat = housing[['ocean_proximity']]\n",
        "housing_cat.head()"
      ]
    },
    {
      "cell_type": "markdown",
      "metadata": {
        "id": "LbqXK2nDPQRi"
      },
      "source": [
        "## Handling Text and Categorical Attributes"
      ]
    },
    {
      "cell_type": "code",
      "execution_count": null,
      "metadata": {
        "colab": {
          "base_uri": "https://localhost:8080/"
        },
        "id": "SGoNrCDqZl8g",
        "outputId": "4cdef25c-b722-4c5b-9eba-c8329dc55335"
      },
      "outputs": [
        {
          "data": {
            "text/plain": [
              "array([[1.],\n",
              "       [4.],\n",
              "       [1.],\n",
              "       [4.],\n",
              "       [0.],\n",
              "       [3.],\n",
              "       [0.],\n",
              "       [0.],\n",
              "       [0.],\n",
              "       [0.]])"
            ]
          },
          "execution_count": 30,
          "metadata": {},
          "output_type": "execute_result"
        }
      ],
      "source": [
        "from sklearn.preprocessing import OrdinalEncoder\n",
        "ordinal_encoder = OrdinalEncoder()\n",
        "housing_cat_encoded = ordinal_encoder.fit_transform(housing_cat)\n",
        "housing_cat_encoded[:10]"
      ]
    },
    {
      "cell_type": "code",
      "execution_count": null,
      "metadata": {
        "colab": {
          "base_uri": "https://localhost:8080/"
        },
        "id": "OnULAWsBaXx4",
        "outputId": "343f2aca-3373-464d-cb97-86a2ea54d994"
      },
      "outputs": [
        {
          "name": "stderr",
          "output_type": "stream",
          "text": [
            "/usr/local/lib/python3.7/dist-packages/sklearn/preprocessing/_label.py:115: DataConversionWarning: A column-vector y was passed when a 1d array was expected. Please change the shape of y to (n_samples, ), for example using ravel().\n",
            "  y = column_or_1d(y, warn=True)\n"
          ]
        },
        {
          "data": {
            "text/plain": [
              "array([1, 4, 1, 4, 0, 3, 0, 0, 0, 0])"
            ]
          },
          "execution_count": 31,
          "metadata": {},
          "output_type": "execute_result"
        }
      ],
      "source": [
        "from sklearn.preprocessing import LabelEncoder\n",
        "encoder = LabelEncoder()\n",
        "housing_cat_encoded = encoder.fit_transform(housing_cat)\n",
        "housing_cat_encoded[:10]"
      ]
    },
    {
      "cell_type": "code",
      "execution_count": null,
      "metadata": {
        "colab": {
          "base_uri": "https://localhost:8080/"
        },
        "id": "3YvhDaJlbRmM",
        "outputId": "bd298986-7349-4031-ba46-ce8da78d0545"
      },
      "outputs": [
        {
          "data": {
            "text/plain": [
              "array(['<1H OCEAN', 'INLAND', 'ISLAND', 'NEAR BAY', 'NEAR OCEAN'],\n",
              "      dtype=object)"
            ]
          },
          "execution_count": 32,
          "metadata": {},
          "output_type": "execute_result"
        }
      ],
      "source": [
        "encoder.classes_"
      ]
    },
    {
      "cell_type": "code",
      "execution_count": null,
      "metadata": {
        "colab": {
          "base_uri": "https://localhost:8080/"
        },
        "id": "xha0axhObrq2",
        "outputId": "0532d8fe-88fd-4997-ceec-7254542fc042"
      },
      "outputs": [
        {
          "data": {
            "text/plain": [
              "<16512x5 sparse matrix of type '<class 'numpy.float64'>'\n",
              "\twith 16512 stored elements in Compressed Sparse Row format>"
            ]
          },
          "execution_count": 65,
          "metadata": {},
          "output_type": "execute_result"
        }
      ],
      "source": [
        "from sklearn.preprocessing import OneHotEncoder\n",
        "encoder = OneHotEncoder()\n",
        "housing_cat_1hot = encoder.fit_transform(housing_cat_encoded.reshape(-1,1))\n",
        "housing_cat_1hot"
      ]
    },
    {
      "cell_type": "code",
      "execution_count": null,
      "metadata": {
        "colab": {
          "base_uri": "https://localhost:8080/"
        },
        "id": "CxclZdbddKjq",
        "outputId": "372604bd-8cf1-4c92-9dc3-55337a04fe7f"
      },
      "outputs": [
        {
          "data": {
            "text/plain": [
              "array([[0., 1., 0., 0., 0.],\n",
              "       [0., 0., 0., 0., 1.],\n",
              "       [0., 1., 0., 0., 0.],\n",
              "       ...,\n",
              "       [1., 0., 0., 0., 0.],\n",
              "       [1., 0., 0., 0., 0.],\n",
              "       [0., 1., 0., 0., 0.]])"
            ]
          },
          "execution_count": 34,
          "metadata": {},
          "output_type": "execute_result"
        }
      ],
      "source": [
        "housing_cat_1hot.toarray()"
      ]
    },
    {
      "cell_type": "markdown",
      "metadata": {
        "id": "5o0-MCdn5OvB"
      },
      "source": [
        "The categorical attribute ocean_proximity was left out because it is a text attribute so we cannot compute its median.  Transform the text categories to integer categories, then from integer categories to one-hot vectors in one shot using the LabelBinarizer class."
      ]
    },
    {
      "cell_type": "code",
      "execution_count": null,
      "metadata": {
        "colab": {
          "base_uri": "https://localhost:8080/"
        },
        "id": "pFcSpFlEjPHP",
        "outputId": "7353a253-9b45-4d95-bb52-33ea5ce43bc8"
      },
      "outputs": [
        {
          "data": {
            "text/plain": [
              "array([[0, 1, 0, 0, 0],\n",
              "       [0, 0, 0, 0, 1],\n",
              "       [0, 1, 0, 0, 0],\n",
              "       ...,\n",
              "       [1, 0, 0, 0, 0],\n",
              "       [1, 0, 0, 0, 0],\n",
              "       [0, 1, 0, 0, 0]])"
            ]
          },
          "execution_count": 35,
          "metadata": {},
          "output_type": "execute_result"
        }
      ],
      "source": [
        "from sklearn.preprocessing import LabelBinarizer\n",
        "encoder = LabelBinarizer()\n",
        "housing_cat_1hot = encoder.fit_transform(housing_cat)\n",
        "housing_cat_1hot"
      ]
    },
    {
      "cell_type": "markdown",
      "metadata": {
        "id": "W6mMMTvN8oie"
      },
      "source": [
        "Creates custom transformers to create taks such as combining specific attributes, such as rooms per household, population per household and bedrooms per room.  "
      ]
    },
    {
      "cell_type": "code",
      "execution_count": null,
      "metadata": {
        "id": "0KtmZ-qmpXmL"
      },
      "outputs": [],
      "source": [
        "from sklearn.base import BaseEstimator, TransformerMixin\n",
        "\n",
        "# column index\n",
        "rooms_ix, bedrooms_ix, population_ix, households_ix = 3, 4, 5, 6\n",
        "\n",
        "class CombinedAttributesAdder(BaseEstimator, TransformerMixin):\n",
        "    def __init__(self, add_bedrooms_per_room = True): # no *args or **kargs\n",
        "        self.add_bedrooms_per_room = add_bedrooms_per_room\n",
        "    def fit(self, X, y=None):\n",
        "        return self  # nothing else to do\n",
        "    def transform(self, X, y=None):\n",
        "        rooms_per_household = X[:, rooms_ix] / X[:, households_ix]\n",
        "        population_per_household = X[:, population_ix] / X[:, households_ix]\n",
        "        if self.add_bedrooms_per_room:\n",
        "            bedrooms_per_room = X[:, bedrooms_ix] / X[:, rooms_ix]\n",
        "            return np.c_[X, rooms_per_household, population_per_household, bedrooms_per_room]\n",
        "        else:\n",
        "            return np.c_[X, rooms_per_household, population_per_household]\n",
        "\n",
        "attr_adder = CombinedAttributesAdder(add_bedrooms_per_room=False)\n",
        "housing_extra_attribs = attr_adder.transform(housing.values)"
      ]
    },
    {
      "cell_type": "code",
      "execution_count": null,
      "metadata": {
        "colab": {
          "base_uri": "https://localhost:8080/",
          "height": 443
        },
        "id": "3zNZMIxWputS",
        "outputId": "461eef20-deb7-473c-d46f-5deaaea8235e"
      },
      "outputs": [
        {
          "data": {
            "text/html": [
              "<div>\n",
              "<style scoped>\n",
              "    .dataframe tbody tr th:only-of-type {\n",
              "        vertical-align: middle;\n",
              "    }\n",
              "\n",
              "    .dataframe tbody tr th {\n",
              "        vertical-align: top;\n",
              "    }\n",
              "\n",
              "    .dataframe thead th {\n",
              "        text-align: right;\n",
              "    }\n",
              "</style>\n",
              "<table border=\"1\" class=\"dataframe\">\n",
              "  <thead>\n",
              "    <tr style=\"text-align: right;\">\n",
              "      <th></th>\n",
              "      <th>longitude</th>\n",
              "      <th>latitude</th>\n",
              "      <th>housing_median_age</th>\n",
              "      <th>total_rooms</th>\n",
              "      <th>total_bedrooms</th>\n",
              "      <th>population</th>\n",
              "      <th>households</th>\n",
              "      <th>median_income</th>\n",
              "      <th>ocean_proximity</th>\n",
              "      <th>income_cat</th>\n",
              "      <th>rooms_per_household</th>\n",
              "      <th>population_per_household</th>\n",
              "    </tr>\n",
              "  </thead>\n",
              "  <tbody>\n",
              "    <tr>\n",
              "      <th>0</th>\n",
              "      <td>-121.46</td>\n",
              "      <td>38.52</td>\n",
              "      <td>29.0</td>\n",
              "      <td>3873.0</td>\n",
              "      <td>797.0</td>\n",
              "      <td>2237.0</td>\n",
              "      <td>706.0</td>\n",
              "      <td>2.1736</td>\n",
              "      <td>INLAND</td>\n",
              "      <td>2</td>\n",
              "      <td>5.485836</td>\n",
              "      <td>3.168555</td>\n",
              "    </tr>\n",
              "    <tr>\n",
              "      <th>1</th>\n",
              "      <td>-117.23</td>\n",
              "      <td>33.09</td>\n",
              "      <td>7.0</td>\n",
              "      <td>5320.0</td>\n",
              "      <td>855.0</td>\n",
              "      <td>2015.0</td>\n",
              "      <td>768.0</td>\n",
              "      <td>6.3373</td>\n",
              "      <td>NEAR OCEAN</td>\n",
              "      <td>5</td>\n",
              "      <td>6.927083</td>\n",
              "      <td>2.623698</td>\n",
              "    </tr>\n",
              "    <tr>\n",
              "      <th>2</th>\n",
              "      <td>-119.04</td>\n",
              "      <td>35.37</td>\n",
              "      <td>44.0</td>\n",
              "      <td>1618.0</td>\n",
              "      <td>310.0</td>\n",
              "      <td>667.0</td>\n",
              "      <td>300.0</td>\n",
              "      <td>2.875</td>\n",
              "      <td>INLAND</td>\n",
              "      <td>2</td>\n",
              "      <td>5.393333</td>\n",
              "      <td>2.223333</td>\n",
              "    </tr>\n",
              "    <tr>\n",
              "      <th>3</th>\n",
              "      <td>-117.13</td>\n",
              "      <td>32.75</td>\n",
              "      <td>24.0</td>\n",
              "      <td>1877.0</td>\n",
              "      <td>519.0</td>\n",
              "      <td>898.0</td>\n",
              "      <td>483.0</td>\n",
              "      <td>2.2264</td>\n",
              "      <td>NEAR OCEAN</td>\n",
              "      <td>2</td>\n",
              "      <td>3.886128</td>\n",
              "      <td>1.859213</td>\n",
              "    </tr>\n",
              "    <tr>\n",
              "      <th>4</th>\n",
              "      <td>-118.7</td>\n",
              "      <td>34.28</td>\n",
              "      <td>27.0</td>\n",
              "      <td>3536.0</td>\n",
              "      <td>646.0</td>\n",
              "      <td>1837.0</td>\n",
              "      <td>580.0</td>\n",
              "      <td>4.4964</td>\n",
              "      <td>&lt;1H OCEAN</td>\n",
              "      <td>3</td>\n",
              "      <td>6.096552</td>\n",
              "      <td>3.167241</td>\n",
              "    </tr>\n",
              "    <tr>\n",
              "      <th>...</th>\n",
              "      <td>...</td>\n",
              "      <td>...</td>\n",
              "      <td>...</td>\n",
              "      <td>...</td>\n",
              "      <td>...</td>\n",
              "      <td>...</td>\n",
              "      <td>...</td>\n",
              "      <td>...</td>\n",
              "      <td>...</td>\n",
              "      <td>...</td>\n",
              "      <td>...</td>\n",
              "      <td>...</td>\n",
              "    </tr>\n",
              "    <tr>\n",
              "      <th>16507</th>\n",
              "      <td>-117.07</td>\n",
              "      <td>33.03</td>\n",
              "      <td>14.0</td>\n",
              "      <td>6665.0</td>\n",
              "      <td>1231.0</td>\n",
              "      <td>2026.0</td>\n",
              "      <td>1001.0</td>\n",
              "      <td>5.09</td>\n",
              "      <td>&lt;1H OCEAN</td>\n",
              "      <td>4</td>\n",
              "      <td>6.658342</td>\n",
              "      <td>2.023976</td>\n",
              "    </tr>\n",
              "    <tr>\n",
              "      <th>16508</th>\n",
              "      <td>-121.42</td>\n",
              "      <td>38.51</td>\n",
              "      <td>15.0</td>\n",
              "      <td>7901.0</td>\n",
              "      <td>1422.0</td>\n",
              "      <td>4769.0</td>\n",
              "      <td>1418.0</td>\n",
              "      <td>2.8139</td>\n",
              "      <td>INLAND</td>\n",
              "      <td>2</td>\n",
              "      <td>5.571932</td>\n",
              "      <td>3.363188</td>\n",
              "    </tr>\n",
              "    <tr>\n",
              "      <th>16509</th>\n",
              "      <td>-122.72</td>\n",
              "      <td>38.44</td>\n",
              "      <td>48.0</td>\n",
              "      <td>707.0</td>\n",
              "      <td>166.0</td>\n",
              "      <td>458.0</td>\n",
              "      <td>172.0</td>\n",
              "      <td>3.1797</td>\n",
              "      <td>&lt;1H OCEAN</td>\n",
              "      <td>3</td>\n",
              "      <td>4.110465</td>\n",
              "      <td>2.662791</td>\n",
              "    </tr>\n",
              "    <tr>\n",
              "      <th>16510</th>\n",
              "      <td>-122.7</td>\n",
              "      <td>38.31</td>\n",
              "      <td>14.0</td>\n",
              "      <td>3155.0</td>\n",
              "      <td>580.0</td>\n",
              "      <td>1208.0</td>\n",
              "      <td>501.0</td>\n",
              "      <td>4.1964</td>\n",
              "      <td>&lt;1H OCEAN</td>\n",
              "      <td>3</td>\n",
              "      <td>6.297405</td>\n",
              "      <td>2.411178</td>\n",
              "    </tr>\n",
              "    <tr>\n",
              "      <th>16511</th>\n",
              "      <td>-122.14</td>\n",
              "      <td>39.97</td>\n",
              "      <td>27.0</td>\n",
              "      <td>1079.0</td>\n",
              "      <td>222.0</td>\n",
              "      <td>625.0</td>\n",
              "      <td>197.0</td>\n",
              "      <td>3.1319</td>\n",
              "      <td>INLAND</td>\n",
              "      <td>3</td>\n",
              "      <td>5.477157</td>\n",
              "      <td>3.172589</td>\n",
              "    </tr>\n",
              "  </tbody>\n",
              "</table>\n",
              "<p>16512 rows × 12 columns</p>\n",
              "</div>"
            ],
            "text/plain": [
              "      longitude latitude housing_median_age total_rooms total_bedrooms  \\\n",
              "0       -121.46    38.52               29.0      3873.0          797.0   \n",
              "1       -117.23    33.09                7.0      5320.0          855.0   \n",
              "2       -119.04    35.37               44.0      1618.0          310.0   \n",
              "3       -117.13    32.75               24.0      1877.0          519.0   \n",
              "4        -118.7    34.28               27.0      3536.0          646.0   \n",
              "...         ...      ...                ...         ...            ...   \n",
              "16507   -117.07    33.03               14.0      6665.0         1231.0   \n",
              "16508   -121.42    38.51               15.0      7901.0         1422.0   \n",
              "16509   -122.72    38.44               48.0       707.0          166.0   \n",
              "16510    -122.7    38.31               14.0      3155.0          580.0   \n",
              "16511   -122.14    39.97               27.0      1079.0          222.0   \n",
              "\n",
              "      population households median_income ocean_proximity income_cat  \\\n",
              "0         2237.0      706.0        2.1736          INLAND          2   \n",
              "1         2015.0      768.0        6.3373      NEAR OCEAN          5   \n",
              "2          667.0      300.0         2.875          INLAND          2   \n",
              "3          898.0      483.0        2.2264      NEAR OCEAN          2   \n",
              "4         1837.0      580.0        4.4964       <1H OCEAN          3   \n",
              "...          ...        ...           ...             ...        ...   \n",
              "16507     2026.0     1001.0          5.09       <1H OCEAN          4   \n",
              "16508     4769.0     1418.0        2.8139          INLAND          2   \n",
              "16509      458.0      172.0        3.1797       <1H OCEAN          3   \n",
              "16510     1208.0      501.0        4.1964       <1H OCEAN          3   \n",
              "16511      625.0      197.0        3.1319          INLAND          3   \n",
              "\n",
              "      rooms_per_household population_per_household  \n",
              "0                5.485836                 3.168555  \n",
              "1                6.927083                 2.623698  \n",
              "2                5.393333                 2.223333  \n",
              "3                3.886128                 1.859213  \n",
              "4                6.096552                 3.167241  \n",
              "...                   ...                      ...  \n",
              "16507            6.658342                 2.023976  \n",
              "16508            5.571932                 3.363188  \n",
              "16509            4.110465                 2.662791  \n",
              "16510            6.297405                 2.411178  \n",
              "16511            5.477157                 3.172589  \n",
              "\n",
              "[16512 rows x 12 columns]"
            ]
          },
          "execution_count": 37,
          "metadata": {},
          "output_type": "execute_result"
        }
      ],
      "source": [
        "housing_extra_attribs = pd.DataFrame(\n",
        "    housing_extra_attribs,\n",
        "    columns=list(housing.columns)+[\"rooms_per_household\", \"population_per_household\"])\n",
        "housing_extra_attribs"
      ]
    },
    {
      "cell_type": "markdown",
      "metadata": {
        "id": "7r7_M0BzPglS"
      },
      "source": [
        "## Automate with Pipelines"
      ]
    },
    {
      "cell_type": "markdown",
      "metadata": {
        "id": "XOR74bdOD2cH"
      },
      "source": [
        "Scikit-Learn provides the Pipeline class to help with data transformation steps that need to be executed in the right order.  A full pipeline handling both numerical and categorical attributes may look like this:"
      ]
    },
    {
      "cell_type": "code",
      "execution_count": null,
      "metadata": {
        "id": "dhMzHsLFkZZ5"
      },
      "outputs": [],
      "source": [
        "from sklearn.pipeline import Pipeline\n",
        "from sklearn.preprocessing import StandardScaler\n",
        "\n",
        "num_pipeline = Pipeline([\n",
        "        ('imputer', SimpleImputer(strategy=\"median\")),\n",
        "        ('attribs_adder', CombinedAttributesAdder()),\n",
        "        ('std_scaler', StandardScaler()),\n",
        "    ])\n",
        "\n",
        "housing_num_tr = num_pipeline.fit_transform(housing_num)"
      ]
    },
    {
      "cell_type": "code",
      "execution_count": null,
      "metadata": {
        "id": "RjfGlEZskzYU"
      },
      "outputs": [],
      "source": [
        "from sklearn.compose import ColumnTransformer\n",
        "\n",
        "num_attribs = list(housing_num)\n",
        "cat_attribs = [\"ocean_proximity\"]\n",
        "\n",
        "full_pipeline = ColumnTransformer([\n",
        "        (\"num\", num_pipeline, num_attribs),\n",
        "        (\"cat\", OneHotEncoder(), cat_attribs),\n",
        "    ])\n",
        "\n",
        "housing_prepared = full_pipeline.fit_transform(housing)"
      ]
    },
    {
      "cell_type": "code",
      "execution_count": null,
      "metadata": {
        "colab": {
          "base_uri": "https://localhost:8080/"
        },
        "id": "HgYXLq-yk-fl",
        "outputId": "98a05b8e-35c0-4bc1-8cd5-751d04a458e5"
      },
      "outputs": [
        {
          "data": {
            "text/plain": [
              "array([[-0.94135046,  1.34743822,  0.02756357, ...,  0.        ,\n",
              "         0.        ,  0.        ],\n",
              "       [ 1.17178212, -1.19243966, -1.72201763, ...,  0.        ,\n",
              "         0.        ,  1.        ],\n",
              "       [ 0.26758118, -0.1259716 ,  1.22045984, ...,  0.        ,\n",
              "         0.        ,  0.        ],\n",
              "       ...,\n",
              "       [-1.5707942 ,  1.31001828,  1.53856552, ...,  0.        ,\n",
              "         0.        ,  0.        ],\n",
              "       [-1.56080303,  1.2492109 , -1.1653327 , ...,  0.        ,\n",
              "         0.        ,  0.        ],\n",
              "       [-1.28105026,  2.02567448, -0.13148926, ...,  0.        ,\n",
              "         0.        ,  0.        ]])"
            ]
          },
          "execution_count": 40,
          "metadata": {},
          "output_type": "execute_result"
        }
      ],
      "source": [
        "housing_prepared"
      ]
    },
    {
      "cell_type": "code",
      "execution_count": null,
      "metadata": {
        "colab": {
          "base_uri": "https://localhost:8080/"
        },
        "id": "d9AoRtELlHGJ",
        "outputId": "8f23a748-4626-4725-ff34-e333dd53591c"
      },
      "outputs": [
        {
          "data": {
            "text/plain": [
              "(16512, 17)"
            ]
          },
          "execution_count": 67,
          "metadata": {},
          "output_type": "execute_result"
        }
      ],
      "source": [
        "housing_prepared.shape"
      ]
    },
    {
      "cell_type": "markdown",
      "metadata": {
        "id": "-qz0qSxvFa1G"
      },
      "source": [
        "## Select and Train a Model\n",
        "## Evaluating the model"
      ]
    },
    {
      "cell_type": "markdown",
      "metadata": {
        "id": "qSE5BDyrFeLl"
      },
      "source": [
        "Q9. Train a Linear Regression model with the prepared data."
      ]
    },
    {
      "cell_type": "code",
      "execution_count": null,
      "metadata": {
        "id": "zflGnMOLbsMm"
      },
      "outputs": [],
      "source": [
        "# Linear Regression model\n"
      ]
    },
    {
      "cell_type": "code",
      "execution_count": null,
      "metadata": {
        "colab": {
          "base_uri": "https://localhost:8080/"
        },
        "id": "7r6rrl73lafo",
        "outputId": "e5515419-d7ac-48b6-f475-b75611ac5046"
      },
      "outputs": [
        {
          "data": {
            "text/plain": [
              "LinearRegression()"
            ]
          },
          "execution_count": 43,
          "metadata": {},
          "output_type": "execute_result"
        }
      ],
      "source": [
        "#@title\n",
        "from sklearn.linear_model import LinearRegression\n",
        "\n",
        "lin_reg = LinearRegression()\n",
        "lin_reg.fit(housing_prepared, housing_labels)"
      ]
    },
    {
      "cell_type": "markdown",
      "metadata": {
        "id": "yBSW0oTfGKHk"
      },
      "source": [
        "Try it out on a few instances from the training set.  It works, but the predictions are not exactly accurate."
      ]
    },
    {
      "cell_type": "code",
      "execution_count": null,
      "metadata": {
        "colab": {
          "base_uri": "https://localhost:8080/"
        },
        "id": "LXKuMBsJT4Ey",
        "outputId": "1a8e0239-82f3-4470-be2b-175988cc323a"
      },
      "outputs": [
        {
          "name": "stdout",
          "output_type": "stream",
          "text": [
            "Predictions: [ 83811.08312039 314388.27147935 145641.85902864 183704.64921202\n",
            " 238729.66725745]\n",
            "Labels: [72100.0, 279600.0, 82700.0, 112500.0, 238300.0]\n"
          ]
        }
      ],
      "source": [
        "some_data = housing.iloc[:5]\n",
        "some_labels = housing_labels.iloc[:5]\n",
        "some_data_prepared = full_pipeline.transform(some_data)\n",
        "\n",
        "print(\"Predictions:\", lin_reg.predict(some_data_prepared))\n",
        "print(\"Labels:\", list(some_labels))"
      ]
    },
    {
      "cell_type": "code",
      "execution_count": null,
      "metadata": {
        "colab": {
          "base_uri": "https://localhost:8080/"
        },
        "id": "Arqord_TUuOj",
        "outputId": "c9348b7f-e251-4c2c-a9b4-e3d3c445d2e0"
      },
      "outputs": [
        {
          "data": {
            "text/plain": [
              "array([[-0.94135046,  1.34743822,  0.02756357,  0.58477745,  0.64037127,\n",
              "         0.73260236,  0.55628602, -0.8936472 , -0.95468705,  0.01739526,\n",
              "         0.00622264, -0.12112176,  0.        ,  1.        ,  0.        ,\n",
              "         0.        ,  0.        ],\n",
              "       [ 1.17178212, -1.19243966, -1.72201763,  1.26146668,  0.78156132,\n",
              "         0.53361152,  0.72131799,  1.292168  ,  1.89007821,  0.56925554,\n",
              "        -0.04081077, -0.81086696,  0.        ,  0.        ,  0.        ,\n",
              "         0.        ,  1.        ],\n",
              "       [ 0.26758118, -0.1259716 ,  1.22045984, -0.46977281, -0.54513828,\n",
              "        -0.67467519, -0.52440722, -0.52543365, -0.95468705, -0.01802432,\n",
              "        -0.07537122, -0.33827252,  0.        ,  1.        ,  0.        ,\n",
              "         0.        ,  0.        ],\n",
              "       [ 1.22173797, -1.35147437, -0.37006852, -0.34865152, -0.03636724,\n",
              "        -0.46761716, -0.03729672, -0.86592882, -0.95468705, -0.59513997,\n",
              "        -0.10680295,  0.96120521,  0.        ,  0.        ,  0.        ,\n",
              "         0.        ,  1.        ],\n",
              "       [ 0.43743108, -0.63581817, -0.13148926,  0.42717947,  0.27279028,\n",
              "         0.37406031,  0.22089846,  0.32575178, -0.00643196,  0.2512412 ,\n",
              "         0.00610923, -0.47451338,  1.        ,  0.        ,  0.        ,\n",
              "         0.        ,  0.        ]])"
            ]
          },
          "execution_count": 45,
          "metadata": {},
          "output_type": "execute_result"
        }
      ],
      "source": [
        "some_data_prepared"
      ]
    },
    {
      "cell_type": "markdown",
      "metadata": {
        "id": "fN1RVyJkP9nB"
      },
      "source": [
        "##Root Mean Square error (RMSE)"
      ]
    },
    {
      "cell_type": "markdown",
      "metadata": {
        "id": "j8zv8V11Gell"
      },
      "source": [
        "Q10.  Measure the regression model RMSE on the whole training set using Scikit-Learn's mean_squared_error functions."
      ]
    },
    {
      "cell_type": "code",
      "execution_count": null,
      "metadata": {
        "id": "L2xYGQh9qKer"
      },
      "outputs": [],
      "source": [
        "from sklearn.metrics import mean_squared_error\n",
        "\n"
      ]
    },
    {
      "cell_type": "code",
      "execution_count": null,
      "metadata": {
        "colab": {
          "base_uri": "https://localhost:8080/"
        },
        "id": "XkQT3b-rUzVD",
        "outputId": "538a0d4d-6989-496b-9b76-46302267a69d"
      },
      "outputs": [
        {
          "data": {
            "text/plain": [
              "68376.51254853733"
            ]
          },
          "execution_count": 47,
          "metadata": {},
          "output_type": "execute_result"
        }
      ],
      "source": [
        "#@title\n",
        "from sklearn.metrics import mean_squared_error\n",
        "\n",
        "housing_predictions = lin_reg.predict(housing_prepared)\n",
        "lin_mse = mean_squared_error(housing_labels, housing_predictions)\n",
        "lin_rmse = np.sqrt(lin_mse)\n",
        "lin_rmse"
      ]
    },
    {
      "cell_type": "markdown",
      "metadata": {
        "id": "ms8mpc-XQPEn"
      },
      "source": [
        "## Linear Regression"
      ]
    },
    {
      "cell_type": "markdown",
      "metadata": {
        "id": "VIYvYwpTGwfM"
      },
      "source": [
        "Q11.  Measure the regression model MAE on the whole training set using Scikit-Learn's mean_absolute_error functions"
      ]
    },
    {
      "cell_type": "code",
      "execution_count": null,
      "metadata": {
        "id": "I5a0l1LvU3-b"
      },
      "outputs": [],
      "source": [
        "from sklearn.metrics import mean_absolute_error\n",
        "\n"
      ]
    },
    {
      "cell_type": "code",
      "execution_count": null,
      "metadata": {
        "colab": {
          "base_uri": "https://localhost:8080/"
        },
        "id": "zTze-yjQ7-hE",
        "outputId": "2fe0e638-a439-4fd0-d939-31a1ed4f2a2c"
      },
      "outputs": [
        {
          "data": {
            "text/plain": [
              "49507.34233776102"
            ]
          },
          "execution_count": 49,
          "metadata": {},
          "output_type": "execute_result"
        }
      ],
      "source": [
        "#@title\n",
        "from sklearn.metrics import mean_absolute_error\n",
        "\n",
        "housing_predictions = lin_reg.predict(housing_prepared)\n",
        "lin_mae = mean_absolute_error(housing_labels, housing_predictions)\n",
        "lin_mae"
      ]
    },
    {
      "cell_type": "markdown",
      "metadata": {
        "id": "Y5uavHr6QRoP"
      },
      "source": [
        "## Decision Tree"
      ]
    },
    {
      "cell_type": "markdown",
      "metadata": {
        "id": "szF92KA2HTyz"
      },
      "source": [
        "Let's try to use a DecisionTreeRegressor to train the model for comparison purpose.  The model seemed to have badly overfit the data.  "
      ]
    },
    {
      "cell_type": "code",
      "execution_count": null,
      "metadata": {
        "colab": {
          "base_uri": "https://localhost:8080/"
        },
        "id": "MIw2dHHoU9kd",
        "outputId": "5c06a480-e33a-46af-df55-79a62922f2aa"
      },
      "outputs": [
        {
          "data": {
            "text/plain": [
              "DecisionTreeRegressor(random_state=42)"
            ]
          },
          "execution_count": 50,
          "metadata": {},
          "output_type": "execute_result"
        }
      ],
      "source": [
        "from sklearn.tree import DecisionTreeRegressor\n",
        "\n",
        "tree_reg = DecisionTreeRegressor(random_state=42)\n",
        "tree_reg.fit(housing_prepared, housing_labels)"
      ]
    },
    {
      "cell_type": "code",
      "execution_count": null,
      "metadata": {
        "colab": {
          "base_uri": "https://localhost:8080/"
        },
        "id": "bolmVLY4VCsy",
        "outputId": "2ba17821-b832-4658-d12b-acf739c8194b"
      },
      "outputs": [
        {
          "data": {
            "text/plain": [
              "0.0"
            ]
          },
          "execution_count": 51,
          "metadata": {},
          "output_type": "execute_result"
        }
      ],
      "source": [
        "\n",
        "housing_predictions = tree_reg.predict(housing_prepared)\n",
        "tree_mse = mean_squared_error(housing_labels, housing_predictions)\n",
        "tree_rmse = np.sqrt(tree_mse)\n",
        "tree_rmse"
      ]
    },
    {
      "cell_type": "markdown",
      "metadata": {
        "id": "5Wpd7ygJHIxc"
      },
      "source": [
        "## Evaluation using Cross-Validation"
      ]
    },
    {
      "cell_type": "markdown",
      "metadata": {
        "id": "yn4LzAS1HMNE"
      },
      "source": [
        "Q12.  Use the cross validation feature to splits the training set into 10 distinct folds, then trains and evaluates the Decision Tree model 10 times, picking a different fold for evaluation every time.  Display the scores using the display_scores function given above."
      ]
    },
    {
      "cell_type": "code",
      "execution_count": null,
      "metadata": {
        "id": "GFSnNa6DWfRU"
      },
      "outputs": [],
      "source": [
        "def display_scores(scores):\n",
        "    print(\"Scores:\", scores)\n",
        "    print(\"Mean:\", scores.mean())\n",
        "    print(\"Standard deviation:\", scores.std())\n"
      ]
    },
    {
      "cell_type": "code",
      "execution_count": null,
      "metadata": {
        "id": "sIDm6U-5vI2w"
      },
      "outputs": [],
      "source": [
        "from sklearn.model_selection import cross_val_score\n",
        "\n"
      ]
    },
    {
      "cell_type": "code",
      "execution_count": null,
      "metadata": {
        "colab": {
          "base_uri": "https://localhost:8080/"
        },
        "id": "jngqjKSgW5BZ",
        "outputId": "067dd96a-98b6-4a04-e4da-48ad67610aa9"
      },
      "outputs": [
        {
          "name": "stdout",
          "output_type": "stream",
          "text": [
            "[-5.21824932e+09 -4.78982076e+09 -4.80056583e+09 -4.98607380e+09\n",
            " -4.98115556e+09 -5.90453481e+09 -5.15866296e+09 -5.28677684e+09\n",
            " -4.59423295e+09 -5.13776120e+09]\n",
            "[72237.45096271 69208.53094621 69286.11573206 70612.13634405\n",
            " 70577.30202088 76840.97092314 71823.83279699 72710.22512908\n",
            " 67780.77127665 71678.17802175]\n",
            "Scores: [72237.45096271 69208.53094621 69286.11573206 70612.13634405\n",
            " 70577.30202088 76840.97092314 71823.83279699 72710.22512908\n",
            " 67780.77127665 71678.17802175]\n",
            "Mean: 71275.55141535088\n",
            "Standard deviation: 2362.02756776275\n"
          ]
        }
      ],
      "source": [
        "#@title\n",
        "from sklearn.model_selection import cross_val_score\n",
        "scores = cross_val_score(tree_reg, housing_prepared, housing_labels, scoring=\"neg_mean_squared_error\", cv=10)\n",
        "print(scores)\n",
        "tree_rmse_scores = np.sqrt(-scores)\n",
        "print(tree_rmse_scores)\n",
        "display_scores(tree_rmse_scores)"
      ]
    },
    {
      "cell_type": "markdown",
      "metadata": {
        "id": "BUY3COkXJWCo"
      },
      "source": [
        "Q13. Compute the same scores for the LInear Regression model"
      ]
    },
    {
      "cell_type": "code",
      "execution_count": null,
      "metadata": {
        "cellView": "both",
        "id": "0Oe4HnDVvP9V"
      },
      "outputs": [],
      "source": [
        "\n"
      ]
    },
    {
      "cell_type": "code",
      "execution_count": null,
      "metadata": {
        "colab": {
          "base_uri": "https://localhost:8080/"
        },
        "id": "d_T_ocsvXA2h",
        "outputId": "b8e63666-a460-4d94-b1e1-53f09539cce8"
      },
      "outputs": [
        {
          "name": "stdout",
          "output_type": "stream",
          "text": [
            "[-5.11565158e+09 -4.10169385e+09 -4.55017415e+09 -4.69418209e+09\n",
            " -4.39617073e+09 -5.20802307e+09 -5.54490046e+09 -4.70186109e+09\n",
            " -4.36440476e+09 -4.88193735e+09]\n",
            "Scores: [71523.78333874 64044.46774989 67454.97869698 68514.10137273\n",
            " 66303.62531226 72166.63405138 74464.08841381 68570.11804395\n",
            " 66063.64175868 69870.86192291]\n",
            "Mean: 68897.63006613276\n",
            "Standard deviation: 3002.746127534861\n"
          ]
        }
      ],
      "source": [
        "#@title\n",
        "\n",
        "lin_scores = cross_val_score(lin_reg, housing_prepared, housing_labels, scoring=\"neg_mean_squared_error\", cv=10)\n",
        "print(lin_scores)\n",
        "lin_rmse_scores = np.sqrt(-lin_scores)\n",
        "display_scores(lin_rmse_scores)"
      ]
    },
    {
      "cell_type": "markdown",
      "metadata": {
        "id": "aziQXl2JJ6oF"
      },
      "source": [
        "## Fine Tune your model\n",
        "## Hyperparameter Tuning"
      ]
    },
    {
      "cell_type": "markdown",
      "metadata": {
        "id": "6D-gk857J_jL"
      },
      "source": [
        "One way to fine tune the model is to use Scikit-Learn's GridSearch CV to evaluate all the possible combiniations of hyperparameter values that you want it to experiment with. "
      ]
    },
    {
      "cell_type": "code",
      "execution_count": null,
      "metadata": {
        "colab": {
          "base_uri": "https://localhost:8080/"
        },
        "id": "Pb4Vpmo2bFIG",
        "outputId": "171ae23c-7f74-4188-bc30-c684f5e69a35"
      },
      "outputs": [
        {
          "data": {
            "text/plain": [
              "GridSearchCV(cv=5, estimator=RandomForestRegressor(random_state=42),\n",
              "             param_grid=[{'max_features': [2, 4, 6, 8],\n",
              "                          'n_estimators': [3, 10, 30]},\n",
              "                         {'bootstrap': [False], 'max_features': [2, 3, 4],\n",
              "                          'n_estimators': [3, 10]}],\n",
              "             return_train_score=True, scoring='neg_mean_squared_error')"
            ]
          },
          "execution_count": 56,
          "metadata": {},
          "output_type": "execute_result"
        }
      ],
      "source": [
        "from sklearn.model_selection import GridSearchCV\n",
        "from sklearn.ensemble import RandomForestRegressor\n",
        "\n",
        "param_grid = [\n",
        "    # try 12 (3×4) combinations of hyperparameters\n",
        "    {'n_estimators': [3, 10, 30], 'max_features': [2, 4, 6, 8]},\n",
        "    # then try 6 (2×3) combinations with bootstrap set as False\n",
        "    {'bootstrap': [False], 'n_estimators': [3, 10], 'max_features': [2, 3, 4]},\n",
        "  ]\n",
        "\n",
        "forest_reg = RandomForestRegressor(random_state=42)\n",
        "# train across 5 folds, that's a total of (12+6)*5=90 rounds of training \n",
        "grid_search = GridSearchCV(forest_reg, param_grid, cv=5,\n",
        "                           scoring='neg_mean_squared_error',\n",
        "                           return_train_score=True)\n",
        "grid_search.fit(housing_prepared, housing_labels)"
      ]
    },
    {
      "cell_type": "code",
      "execution_count": null,
      "metadata": {
        "colab": {
          "base_uri": "https://localhost:8080/"
        },
        "id": "31fEXNO3bINI",
        "outputId": "d8e580f5-9d91-4377-d81c-2e483111700f"
      },
      "outputs": [
        {
          "data": {
            "text/plain": [
              "{'max_features': 6, 'n_estimators': 30}"
            ]
          },
          "execution_count": 57,
          "metadata": {},
          "output_type": "execute_result"
        }
      ],
      "source": [
        "grid_search.best_params_"
      ]
    },
    {
      "cell_type": "code",
      "execution_count": null,
      "metadata": {
        "colab": {
          "base_uri": "https://localhost:8080/"
        },
        "id": "XElKJxFgbPgJ",
        "outputId": "a23c9452-bce2-4b2a-90db-e12ff1130a0c"
      },
      "outputs": [
        {
          "data": {
            "text/plain": [
              "RandomForestRegressor(max_features=6, n_estimators=30, random_state=42)"
            ]
          },
          "execution_count": 58,
          "metadata": {},
          "output_type": "execute_result"
        }
      ],
      "source": [
        "grid_search.best_estimator_"
      ]
    },
    {
      "cell_type": "code",
      "execution_count": null,
      "metadata": {
        "colab": {
          "base_uri": "https://localhost:8080/"
        },
        "id": "r6llsxYmbTyN",
        "outputId": "79be1739-d4d1-419d-b277-408bc0225098"
      },
      "outputs": [
        {
          "name": "stdout",
          "output_type": "stream",
          "text": [
            "64794.30269596007 {'max_features': 2, 'n_estimators': 3}\n",
            "56170.628706376316 {'max_features': 2, 'n_estimators': 10}\n",
            "53112.07892952066 {'max_features': 2, 'n_estimators': 30}\n",
            "61836.14128922096 {'max_features': 4, 'n_estimators': 3}\n",
            "54015.050600771814 {'max_features': 4, 'n_estimators': 10}\n",
            "51501.312925751794 {'max_features': 4, 'n_estimators': 30}\n",
            "59654.781331729675 {'max_features': 6, 'n_estimators': 3}\n",
            "52654.921131020776 {'max_features': 6, 'n_estimators': 10}\n",
            "50743.74265388978 {'max_features': 6, 'n_estimators': 30}\n",
            "60051.26348940765 {'max_features': 8, 'n_estimators': 3}\n",
            "52909.31100796091 {'max_features': 8, 'n_estimators': 10}\n",
            "50800.78516244517 {'max_features': 8, 'n_estimators': 30}\n",
            "63176.30025923348 {'bootstrap': False, 'max_features': 2, 'n_estimators': 3}\n",
            "54596.210174483705 {'bootstrap': False, 'max_features': 2, 'n_estimators': 10}\n",
            "60999.682580275425 {'bootstrap': False, 'max_features': 3, 'n_estimators': 3}\n",
            "53236.2602917408 {'bootstrap': False, 'max_features': 3, 'n_estimators': 10}\n",
            "60376.15876878502 {'bootstrap': False, 'max_features': 4, 'n_estimators': 3}\n",
            "53060.99451893582 {'bootstrap': False, 'max_features': 4, 'n_estimators': 10}\n"
          ]
        }
      ],
      "source": [
        "cvres = grid_search.cv_results_\n",
        "for mean_score, params in zip(cvres[\"mean_test_score\"], cvres[\"params\"]):\n",
        "    print(np.sqrt(-mean_score), params)"
      ]
    },
    {
      "cell_type": "code",
      "execution_count": null,
      "metadata": {
        "colab": {
          "base_uri": "https://localhost:8080/",
          "height": 1000
        },
        "id": "glIMkIplboty",
        "outputId": "e28b95c6-249c-4bac-b699-19c73c90d43e"
      },
      "outputs": [
        {
          "data": {
            "text/html": [
              "<div>\n",
              "<style scoped>\n",
              "    .dataframe tbody tr th:only-of-type {\n",
              "        vertical-align: middle;\n",
              "    }\n",
              "\n",
              "    .dataframe tbody tr th {\n",
              "        vertical-align: top;\n",
              "    }\n",
              "\n",
              "    .dataframe thead th {\n",
              "        text-align: right;\n",
              "    }\n",
              "</style>\n",
              "<table border=\"1\" class=\"dataframe\">\n",
              "  <thead>\n",
              "    <tr style=\"text-align: right;\">\n",
              "      <th></th>\n",
              "      <th>mean_fit_time</th>\n",
              "      <th>std_fit_time</th>\n",
              "      <th>mean_score_time</th>\n",
              "      <th>std_score_time</th>\n",
              "      <th>param_max_features</th>\n",
              "      <th>param_n_estimators</th>\n",
              "      <th>param_bootstrap</th>\n",
              "      <th>params</th>\n",
              "      <th>split0_test_score</th>\n",
              "      <th>split1_test_score</th>\n",
              "      <th>...</th>\n",
              "      <th>mean_test_score</th>\n",
              "      <th>std_test_score</th>\n",
              "      <th>rank_test_score</th>\n",
              "      <th>split0_train_score</th>\n",
              "      <th>split1_train_score</th>\n",
              "      <th>split2_train_score</th>\n",
              "      <th>split3_train_score</th>\n",
              "      <th>split4_train_score</th>\n",
              "      <th>mean_train_score</th>\n",
              "      <th>std_train_score</th>\n",
              "    </tr>\n",
              "  </thead>\n",
              "  <tbody>\n",
              "    <tr>\n",
              "      <th>0</th>\n",
              "      <td>0.073796</td>\n",
              "      <td>0.001042</td>\n",
              "      <td>0.005722</td>\n",
              "      <td>0.000083</td>\n",
              "      <td>2</td>\n",
              "      <td>3</td>\n",
              "      <td>NaN</td>\n",
              "      <td>{'max_features': 2, 'n_estimators': 3}</td>\n",
              "      <td>-4.616700e+09</td>\n",
              "      <td>-4.049986e+09</td>\n",
              "      <td>...</td>\n",
              "      <td>-4.198302e+09</td>\n",
              "      <td>2.739559e+08</td>\n",
              "      <td>18</td>\n",
              "      <td>-1.147583e+09</td>\n",
              "      <td>-1.111860e+09</td>\n",
              "      <td>-1.059853e+09</td>\n",
              "      <td>-1.109081e+09</td>\n",
              "      <td>-1.104156e+09</td>\n",
              "      <td>-1.106506e+09</td>\n",
              "      <td>2.794527e+07</td>\n",
              "    </tr>\n",
              "    <tr>\n",
              "      <th>1</th>\n",
              "      <td>0.240667</td>\n",
              "      <td>0.003534</td>\n",
              "      <td>0.015468</td>\n",
              "      <td>0.000233</td>\n",
              "      <td>2</td>\n",
              "      <td>10</td>\n",
              "      <td>NaN</td>\n",
              "      <td>{'max_features': 2, 'n_estimators': 10}</td>\n",
              "      <td>-3.271460e+09</td>\n",
              "      <td>-3.107334e+09</td>\n",
              "      <td>...</td>\n",
              "      <td>-3.155140e+09</td>\n",
              "      <td>8.332363e+07</td>\n",
              "      <td>11</td>\n",
              "      <td>-5.918480e+08</td>\n",
              "      <td>-6.150453e+08</td>\n",
              "      <td>-5.802888e+08</td>\n",
              "      <td>-5.858708e+08</td>\n",
              "      <td>-5.965316e+08</td>\n",
              "      <td>-5.939169e+08</td>\n",
              "      <td>1.189952e+07</td>\n",
              "    </tr>\n",
              "    <tr>\n",
              "      <th>2</th>\n",
              "      <td>0.714326</td>\n",
              "      <td>0.008646</td>\n",
              "      <td>0.044885</td>\n",
              "      <td>0.001897</td>\n",
              "      <td>2</td>\n",
              "      <td>30</td>\n",
              "      <td>NaN</td>\n",
              "      <td>{'max_features': 2, 'n_estimators': 30}</td>\n",
              "      <td>-2.885223e+09</td>\n",
              "      <td>-2.744545e+09</td>\n",
              "      <td>...</td>\n",
              "      <td>-2.820893e+09</td>\n",
              "      <td>7.956371e+07</td>\n",
              "      <td>7</td>\n",
              "      <td>-4.407479e+08</td>\n",
              "      <td>-4.485076e+08</td>\n",
              "      <td>-4.274198e+08</td>\n",
              "      <td>-4.330326e+08</td>\n",
              "      <td>-4.400991e+08</td>\n",
              "      <td>-4.379614e+08</td>\n",
              "      <td>7.196884e+06</td>\n",
              "    </tr>\n",
              "    <tr>\n",
              "      <th>3</th>\n",
              "      <td>0.121367</td>\n",
              "      <td>0.004582</td>\n",
              "      <td>0.006461</td>\n",
              "      <td>0.000413</td>\n",
              "      <td>4</td>\n",
              "      <td>3</td>\n",
              "      <td>NaN</td>\n",
              "      <td>{'max_features': 4, 'n_estimators': 3}</td>\n",
              "      <td>-3.865135e+09</td>\n",
              "      <td>-3.546138e+09</td>\n",
              "      <td>...</td>\n",
              "      <td>-3.823708e+09</td>\n",
              "      <td>1.468076e+08</td>\n",
              "      <td>16</td>\n",
              "      <td>-9.607795e+08</td>\n",
              "      <td>-9.762355e+08</td>\n",
              "      <td>-1.035352e+09</td>\n",
              "      <td>-9.762027e+08</td>\n",
              "      <td>-9.836223e+08</td>\n",
              "      <td>-9.864383e+08</td>\n",
              "      <td>2.556439e+07</td>\n",
              "    </tr>\n",
              "    <tr>\n",
              "      <th>4</th>\n",
              "      <td>0.383877</td>\n",
              "      <td>0.003264</td>\n",
              "      <td>0.016042</td>\n",
              "      <td>0.000358</td>\n",
              "      <td>4</td>\n",
              "      <td>10</td>\n",
              "      <td>NaN</td>\n",
              "      <td>{'max_features': 4, 'n_estimators': 10}</td>\n",
              "      <td>-2.955943e+09</td>\n",
              "      <td>-2.749010e+09</td>\n",
              "      <td>...</td>\n",
              "      <td>-2.917626e+09</td>\n",
              "      <td>1.028496e+08</td>\n",
              "      <td>9</td>\n",
              "      <td>-5.448858e+08</td>\n",
              "      <td>-5.289823e+08</td>\n",
              "      <td>-5.515266e+08</td>\n",
              "      <td>-5.443395e+08</td>\n",
              "      <td>-5.539910e+08</td>\n",
              "      <td>-5.447450e+08</td>\n",
              "      <td>8.719253e+06</td>\n",
              "    </tr>\n",
              "    <tr>\n",
              "      <th>5</th>\n",
              "      <td>1.144999</td>\n",
              "      <td>0.005065</td>\n",
              "      <td>0.044389</td>\n",
              "      <td>0.000895</td>\n",
              "      <td>4</td>\n",
              "      <td>30</td>\n",
              "      <td>NaN</td>\n",
              "      <td>{'max_features': 4, 'n_estimators': 30}</td>\n",
              "      <td>-2.666077e+09</td>\n",
              "      <td>-2.580170e+09</td>\n",
              "      <td>...</td>\n",
              "      <td>-2.652385e+09</td>\n",
              "      <td>7.718822e+07</td>\n",
              "      <td>3</td>\n",
              "      <td>-4.089623e+08</td>\n",
              "      <td>-4.082798e+08</td>\n",
              "      <td>-4.041550e+08</td>\n",
              "      <td>-4.026503e+08</td>\n",
              "      <td>-4.022739e+08</td>\n",
              "      <td>-4.052642e+08</td>\n",
              "      <td>2.820450e+06</td>\n",
              "    </tr>\n",
              "    <tr>\n",
              "      <th>6</th>\n",
              "      <td>0.168751</td>\n",
              "      <td>0.004267</td>\n",
              "      <td>0.006067</td>\n",
              "      <td>0.000408</td>\n",
              "      <td>6</td>\n",
              "      <td>3</td>\n",
              "      <td>NaN</td>\n",
              "      <td>{'max_features': 6, 'n_estimators': 3}</td>\n",
              "      <td>-3.650551e+09</td>\n",
              "      <td>-3.377520e+09</td>\n",
              "      <td>...</td>\n",
              "      <td>-3.558693e+09</td>\n",
              "      <td>9.894715e+07</td>\n",
              "      <td>12</td>\n",
              "      <td>-9.410203e+08</td>\n",
              "      <td>-8.931984e+08</td>\n",
              "      <td>-9.589777e+08</td>\n",
              "      <td>-9.040364e+08</td>\n",
              "      <td>-9.473308e+08</td>\n",
              "      <td>-9.289127e+08</td>\n",
              "      <td>2.562836e+07</td>\n",
              "    </tr>\n",
              "    <tr>\n",
              "      <th>7</th>\n",
              "      <td>0.534875</td>\n",
              "      <td>0.007594</td>\n",
              "      <td>0.015749</td>\n",
              "      <td>0.000262</td>\n",
              "      <td>6</td>\n",
              "      <td>10</td>\n",
              "      <td>NaN</td>\n",
              "      <td>{'max_features': 6, 'n_estimators': 10}</td>\n",
              "      <td>-2.805520e+09</td>\n",
              "      <td>-2.699655e+09</td>\n",
              "      <td>...</td>\n",
              "      <td>-2.772541e+09</td>\n",
              "      <td>6.846963e+07</td>\n",
              "      <td>4</td>\n",
              "      <td>-5.186058e+08</td>\n",
              "      <td>-5.257059e+08</td>\n",
              "      <td>-5.054664e+08</td>\n",
              "      <td>-5.052791e+08</td>\n",
              "      <td>-5.226145e+08</td>\n",
              "      <td>-5.155343e+08</td>\n",
              "      <td>8.597169e+06</td>\n",
              "    </tr>\n",
              "    <tr>\n",
              "      <th>8</th>\n",
              "      <td>1.588426</td>\n",
              "      <td>0.013831</td>\n",
              "      <td>0.046293</td>\n",
              "      <td>0.002550</td>\n",
              "      <td>6</td>\n",
              "      <td>30</td>\n",
              "      <td>NaN</td>\n",
              "      <td>{'max_features': 6, 'n_estimators': 30}</td>\n",
              "      <td>-2.528142e+09</td>\n",
              "      <td>-2.504607e+09</td>\n",
              "      <td>...</td>\n",
              "      <td>-2.574927e+09</td>\n",
              "      <td>7.398975e+07</td>\n",
              "      <td>1</td>\n",
              "      <td>-3.849785e+08</td>\n",
              "      <td>-3.973515e+08</td>\n",
              "      <td>-3.995660e+08</td>\n",
              "      <td>-3.859890e+08</td>\n",
              "      <td>-3.942660e+08</td>\n",
              "      <td>-3.924302e+08</td>\n",
              "      <td>5.924927e+06</td>\n",
              "    </tr>\n",
              "    <tr>\n",
              "      <th>9</th>\n",
              "      <td>0.209378</td>\n",
              "      <td>0.004502</td>\n",
              "      <td>0.006566</td>\n",
              "      <td>0.000651</td>\n",
              "      <td>8</td>\n",
              "      <td>3</td>\n",
              "      <td>NaN</td>\n",
              "      <td>{'max_features': 8, 'n_estimators': 3}</td>\n",
              "      <td>-3.599094e+09</td>\n",
              "      <td>-3.601186e+09</td>\n",
              "      <td>...</td>\n",
              "      <td>-3.606154e+09</td>\n",
              "      <td>1.761019e+07</td>\n",
              "      <td>13</td>\n",
              "      <td>-9.441703e+08</td>\n",
              "      <td>-9.690923e+08</td>\n",
              "      <td>-9.663018e+08</td>\n",
              "      <td>-9.963560e+08</td>\n",
              "      <td>-9.430556e+08</td>\n",
              "      <td>-9.637952e+08</td>\n",
              "      <td>1.954387e+07</td>\n",
              "    </tr>\n",
              "    <tr>\n",
              "      <th>10</th>\n",
              "      <td>0.681937</td>\n",
              "      <td>0.005435</td>\n",
              "      <td>0.015844</td>\n",
              "      <td>0.000659</td>\n",
              "      <td>8</td>\n",
              "      <td>10</td>\n",
              "      <td>NaN</td>\n",
              "      <td>{'max_features': 8, 'n_estimators': 10}</td>\n",
              "      <td>-2.839321e+09</td>\n",
              "      <td>-2.705787e+09</td>\n",
              "      <td>...</td>\n",
              "      <td>-2.799395e+09</td>\n",
              "      <td>8.866616e+07</td>\n",
              "      <td>5</td>\n",
              "      <td>-5.176438e+08</td>\n",
              "      <td>-5.216437e+08</td>\n",
              "      <td>-5.116768e+08</td>\n",
              "      <td>-5.247355e+08</td>\n",
              "      <td>-5.283108e+08</td>\n",
              "      <td>-5.208022e+08</td>\n",
              "      <td>5.758588e+06</td>\n",
              "    </tr>\n",
              "    <tr>\n",
              "      <th>11</th>\n",
              "      <td>2.046292</td>\n",
              "      <td>0.008487</td>\n",
              "      <td>0.043329</td>\n",
              "      <td>0.000775</td>\n",
              "      <td>8</td>\n",
              "      <td>30</td>\n",
              "      <td>NaN</td>\n",
              "      <td>{'max_features': 8, 'n_estimators': 30}</td>\n",
              "      <td>-2.568526e+09</td>\n",
              "      <td>-2.491826e+09</td>\n",
              "      <td>...</td>\n",
              "      <td>-2.580720e+09</td>\n",
              "      <td>8.105903e+07</td>\n",
              "      <td>2</td>\n",
              "      <td>-3.933325e+08</td>\n",
              "      <td>-3.943829e+08</td>\n",
              "      <td>-4.016713e+08</td>\n",
              "      <td>-3.853389e+08</td>\n",
              "      <td>-3.919993e+08</td>\n",
              "      <td>-3.933450e+08</td>\n",
              "      <td>5.221373e+06</td>\n",
              "    </tr>\n",
              "    <tr>\n",
              "      <th>12</th>\n",
              "      <td>0.117465</td>\n",
              "      <td>0.005088</td>\n",
              "      <td>0.007240</td>\n",
              "      <td>0.000162</td>\n",
              "      <td>2</td>\n",
              "      <td>3</td>\n",
              "      <td>False</td>\n",
              "      <td>{'bootstrap': False, 'max_features': 2, 'n_est...</td>\n",
              "      <td>-4.064042e+09</td>\n",
              "      <td>-3.936038e+09</td>\n",
              "      <td>...</td>\n",
              "      <td>-3.991245e+09</td>\n",
              "      <td>9.854939e+07</td>\n",
              "      <td>17</td>\n",
              "      <td>-0.000000e+00</td>\n",
              "      <td>-9.717280e+02</td>\n",
              "      <td>-7.595761e+03</td>\n",
              "      <td>-0.000000e+00</td>\n",
              "      <td>-0.000000e+00</td>\n",
              "      <td>-1.713498e+03</td>\n",
              "      <td>2.965113e+03</td>\n",
              "    </tr>\n",
              "    <tr>\n",
              "      <th>13</th>\n",
              "      <td>0.377961</td>\n",
              "      <td>0.002933</td>\n",
              "      <td>0.020534</td>\n",
              "      <td>0.001236</td>\n",
              "      <td>2</td>\n",
              "      <td>10</td>\n",
              "      <td>False</td>\n",
              "      <td>{'bootstrap': False, 'max_features': 2, 'n_est...</td>\n",
              "      <td>-3.012518e+09</td>\n",
              "      <td>-2.893381e+09</td>\n",
              "      <td>...</td>\n",
              "      <td>-2.980746e+09</td>\n",
              "      <td>5.106915e+07</td>\n",
              "      <td>10</td>\n",
              "      <td>-0.000000e+00</td>\n",
              "      <td>-8.819744e+01</td>\n",
              "      <td>-6.839970e+02</td>\n",
              "      <td>-5.465556e+00</td>\n",
              "      <td>-0.000000e+00</td>\n",
              "      <td>-1.555320e+02</td>\n",
              "      <td>2.663492e+02</td>\n",
              "    </tr>\n",
              "    <tr>\n",
              "      <th>14</th>\n",
              "      <td>0.148425</td>\n",
              "      <td>0.002054</td>\n",
              "      <td>0.007391</td>\n",
              "      <td>0.000144</td>\n",
              "      <td>3</td>\n",
              "      <td>3</td>\n",
              "      <td>False</td>\n",
              "      <td>{'bootstrap': False, 'max_features': 3, 'n_est...</td>\n",
              "      <td>-3.810135e+09</td>\n",
              "      <td>-3.780156e+09</td>\n",
              "      <td>...</td>\n",
              "      <td>-3.720961e+09</td>\n",
              "      <td>1.078280e+08</td>\n",
              "      <td>15</td>\n",
              "      <td>-0.000000e+00</td>\n",
              "      <td>-0.000000e+00</td>\n",
              "      <td>-0.000000e+00</td>\n",
              "      <td>-0.000000e+00</td>\n",
              "      <td>-0.000000e+00</td>\n",
              "      <td>0.000000e+00</td>\n",
              "      <td>0.000000e+00</td>\n",
              "    </tr>\n",
              "    <tr>\n",
              "      <th>15</th>\n",
              "      <td>0.499164</td>\n",
              "      <td>0.006978</td>\n",
              "      <td>0.020375</td>\n",
              "      <td>0.000693</td>\n",
              "      <td>3</td>\n",
              "      <td>10</td>\n",
              "      <td>False</td>\n",
              "      <td>{'bootstrap': False, 'max_features': 3, 'n_est...</td>\n",
              "      <td>-2.862739e+09</td>\n",
              "      <td>-2.765802e+09</td>\n",
              "      <td>...</td>\n",
              "      <td>-2.834099e+09</td>\n",
              "      <td>6.536414e+07</td>\n",
              "      <td>8</td>\n",
              "      <td>-0.000000e+00</td>\n",
              "      <td>-0.000000e+00</td>\n",
              "      <td>-0.000000e+00</td>\n",
              "      <td>-0.000000e+00</td>\n",
              "      <td>-0.000000e+00</td>\n",
              "      <td>0.000000e+00</td>\n",
              "      <td>0.000000e+00</td>\n",
              "    </tr>\n",
              "    <tr>\n",
              "      <th>16</th>\n",
              "      <td>0.193626</td>\n",
              "      <td>0.005532</td>\n",
              "      <td>0.007132</td>\n",
              "      <td>0.000164</td>\n",
              "      <td>4</td>\n",
              "      <td>3</td>\n",
              "      <td>False</td>\n",
              "      <td>{'bootstrap': False, 'max_features': 4, 'n_est...</td>\n",
              "      <td>-3.680908e+09</td>\n",
              "      <td>-3.516566e+09</td>\n",
              "      <td>...</td>\n",
              "      <td>-3.645281e+09</td>\n",
              "      <td>9.308470e+07</td>\n",
              "      <td>14</td>\n",
              "      <td>-0.000000e+00</td>\n",
              "      <td>-0.000000e+00</td>\n",
              "      <td>-0.000000e+00</td>\n",
              "      <td>-0.000000e+00</td>\n",
              "      <td>-0.000000e+00</td>\n",
              "      <td>0.000000e+00</td>\n",
              "      <td>0.000000e+00</td>\n",
              "    </tr>\n",
              "    <tr>\n",
              "      <th>17</th>\n",
              "      <td>0.618979</td>\n",
              "      <td>0.008354</td>\n",
              "      <td>0.020146</td>\n",
              "      <td>0.000739</td>\n",
              "      <td>4</td>\n",
              "      <td>10</td>\n",
              "      <td>False</td>\n",
              "      <td>{'bootstrap': False, 'max_features': 4, 'n_est...</td>\n",
              "      <td>-2.851489e+09</td>\n",
              "      <td>-2.753213e+09</td>\n",
              "      <td>...</td>\n",
              "      <td>-2.815469e+09</td>\n",
              "      <td>5.508357e+07</td>\n",
              "      <td>6</td>\n",
              "      <td>-0.000000e+00</td>\n",
              "      <td>-0.000000e+00</td>\n",
              "      <td>-0.000000e+00</td>\n",
              "      <td>-0.000000e+00</td>\n",
              "      <td>-0.000000e+00</td>\n",
              "      <td>0.000000e+00</td>\n",
              "      <td>0.000000e+00</td>\n",
              "    </tr>\n",
              "  </tbody>\n",
              "</table>\n",
              "<p>18 rows × 23 columns</p>\n",
              "</div>"
            ],
            "text/plain": [
              "    mean_fit_time  std_fit_time  mean_score_time  std_score_time  \\\n",
              "0        0.073796      0.001042         0.005722        0.000083   \n",
              "1        0.240667      0.003534         0.015468        0.000233   \n",
              "2        0.714326      0.008646         0.044885        0.001897   \n",
              "3        0.121367      0.004582         0.006461        0.000413   \n",
              "4        0.383877      0.003264         0.016042        0.000358   \n",
              "5        1.144999      0.005065         0.044389        0.000895   \n",
              "6        0.168751      0.004267         0.006067        0.000408   \n",
              "7        0.534875      0.007594         0.015749        0.000262   \n",
              "8        1.588426      0.013831         0.046293        0.002550   \n",
              "9        0.209378      0.004502         0.006566        0.000651   \n",
              "10       0.681937      0.005435         0.015844        0.000659   \n",
              "11       2.046292      0.008487         0.043329        0.000775   \n",
              "12       0.117465      0.005088         0.007240        0.000162   \n",
              "13       0.377961      0.002933         0.020534        0.001236   \n",
              "14       0.148425      0.002054         0.007391        0.000144   \n",
              "15       0.499164      0.006978         0.020375        0.000693   \n",
              "16       0.193626      0.005532         0.007132        0.000164   \n",
              "17       0.618979      0.008354         0.020146        0.000739   \n",
              "\n",
              "   param_max_features param_n_estimators param_bootstrap  \\\n",
              "0                   2                  3             NaN   \n",
              "1                   2                 10             NaN   \n",
              "2                   2                 30             NaN   \n",
              "3                   4                  3             NaN   \n",
              "4                   4                 10             NaN   \n",
              "5                   4                 30             NaN   \n",
              "6                   6                  3             NaN   \n",
              "7                   6                 10             NaN   \n",
              "8                   6                 30             NaN   \n",
              "9                   8                  3             NaN   \n",
              "10                  8                 10             NaN   \n",
              "11                  8                 30             NaN   \n",
              "12                  2                  3           False   \n",
              "13                  2                 10           False   \n",
              "14                  3                  3           False   \n",
              "15                  3                 10           False   \n",
              "16                  4                  3           False   \n",
              "17                  4                 10           False   \n",
              "\n",
              "                                               params  split0_test_score  \\\n",
              "0              {'max_features': 2, 'n_estimators': 3}      -4.616700e+09   \n",
              "1             {'max_features': 2, 'n_estimators': 10}      -3.271460e+09   \n",
              "2             {'max_features': 2, 'n_estimators': 30}      -2.885223e+09   \n",
              "3              {'max_features': 4, 'n_estimators': 3}      -3.865135e+09   \n",
              "4             {'max_features': 4, 'n_estimators': 10}      -2.955943e+09   \n",
              "5             {'max_features': 4, 'n_estimators': 30}      -2.666077e+09   \n",
              "6              {'max_features': 6, 'n_estimators': 3}      -3.650551e+09   \n",
              "7             {'max_features': 6, 'n_estimators': 10}      -2.805520e+09   \n",
              "8             {'max_features': 6, 'n_estimators': 30}      -2.528142e+09   \n",
              "9              {'max_features': 8, 'n_estimators': 3}      -3.599094e+09   \n",
              "10            {'max_features': 8, 'n_estimators': 10}      -2.839321e+09   \n",
              "11            {'max_features': 8, 'n_estimators': 30}      -2.568526e+09   \n",
              "12  {'bootstrap': False, 'max_features': 2, 'n_est...      -4.064042e+09   \n",
              "13  {'bootstrap': False, 'max_features': 2, 'n_est...      -3.012518e+09   \n",
              "14  {'bootstrap': False, 'max_features': 3, 'n_est...      -3.810135e+09   \n",
              "15  {'bootstrap': False, 'max_features': 3, 'n_est...      -2.862739e+09   \n",
              "16  {'bootstrap': False, 'max_features': 4, 'n_est...      -3.680908e+09   \n",
              "17  {'bootstrap': False, 'max_features': 4, 'n_est...      -2.851489e+09   \n",
              "\n",
              "    split1_test_score  ...  mean_test_score  std_test_score  rank_test_score  \\\n",
              "0       -4.049986e+09  ...    -4.198302e+09    2.739559e+08               18   \n",
              "1       -3.107334e+09  ...    -3.155140e+09    8.332363e+07               11   \n",
              "2       -2.744545e+09  ...    -2.820893e+09    7.956371e+07                7   \n",
              "3       -3.546138e+09  ...    -3.823708e+09    1.468076e+08               16   \n",
              "4       -2.749010e+09  ...    -2.917626e+09    1.028496e+08                9   \n",
              "5       -2.580170e+09  ...    -2.652385e+09    7.718822e+07                3   \n",
              "6       -3.377520e+09  ...    -3.558693e+09    9.894715e+07               12   \n",
              "7       -2.699655e+09  ...    -2.772541e+09    6.846963e+07                4   \n",
              "8       -2.504607e+09  ...    -2.574927e+09    7.398975e+07                1   \n",
              "9       -3.601186e+09  ...    -3.606154e+09    1.761019e+07               13   \n",
              "10      -2.705787e+09  ...    -2.799395e+09    8.866616e+07                5   \n",
              "11      -2.491826e+09  ...    -2.580720e+09    8.105903e+07                2   \n",
              "12      -3.936038e+09  ...    -3.991245e+09    9.854939e+07               17   \n",
              "13      -2.893381e+09  ...    -2.980746e+09    5.106915e+07               10   \n",
              "14      -3.780156e+09  ...    -3.720961e+09    1.078280e+08               15   \n",
              "15      -2.765802e+09  ...    -2.834099e+09    6.536414e+07                8   \n",
              "16      -3.516566e+09  ...    -3.645281e+09    9.308470e+07               14   \n",
              "17      -2.753213e+09  ...    -2.815469e+09    5.508357e+07                6   \n",
              "\n",
              "    split0_train_score  split1_train_score  split2_train_score  \\\n",
              "0        -1.147583e+09       -1.111860e+09       -1.059853e+09   \n",
              "1        -5.918480e+08       -6.150453e+08       -5.802888e+08   \n",
              "2        -4.407479e+08       -4.485076e+08       -4.274198e+08   \n",
              "3        -9.607795e+08       -9.762355e+08       -1.035352e+09   \n",
              "4        -5.448858e+08       -5.289823e+08       -5.515266e+08   \n",
              "5        -4.089623e+08       -4.082798e+08       -4.041550e+08   \n",
              "6        -9.410203e+08       -8.931984e+08       -9.589777e+08   \n",
              "7        -5.186058e+08       -5.257059e+08       -5.054664e+08   \n",
              "8        -3.849785e+08       -3.973515e+08       -3.995660e+08   \n",
              "9        -9.441703e+08       -9.690923e+08       -9.663018e+08   \n",
              "10       -5.176438e+08       -5.216437e+08       -5.116768e+08   \n",
              "11       -3.933325e+08       -3.943829e+08       -4.016713e+08   \n",
              "12       -0.000000e+00       -9.717280e+02       -7.595761e+03   \n",
              "13       -0.000000e+00       -8.819744e+01       -6.839970e+02   \n",
              "14       -0.000000e+00       -0.000000e+00       -0.000000e+00   \n",
              "15       -0.000000e+00       -0.000000e+00       -0.000000e+00   \n",
              "16       -0.000000e+00       -0.000000e+00       -0.000000e+00   \n",
              "17       -0.000000e+00       -0.000000e+00       -0.000000e+00   \n",
              "\n",
              "    split3_train_score  split4_train_score  mean_train_score  std_train_score  \n",
              "0        -1.109081e+09       -1.104156e+09     -1.106506e+09     2.794527e+07  \n",
              "1        -5.858708e+08       -5.965316e+08     -5.939169e+08     1.189952e+07  \n",
              "2        -4.330326e+08       -4.400991e+08     -4.379614e+08     7.196884e+06  \n",
              "3        -9.762027e+08       -9.836223e+08     -9.864383e+08     2.556439e+07  \n",
              "4        -5.443395e+08       -5.539910e+08     -5.447450e+08     8.719253e+06  \n",
              "5        -4.026503e+08       -4.022739e+08     -4.052642e+08     2.820450e+06  \n",
              "6        -9.040364e+08       -9.473308e+08     -9.289127e+08     2.562836e+07  \n",
              "7        -5.052791e+08       -5.226145e+08     -5.155343e+08     8.597169e+06  \n",
              "8        -3.859890e+08       -3.942660e+08     -3.924302e+08     5.924927e+06  \n",
              "9        -9.963560e+08       -9.430556e+08     -9.637952e+08     1.954387e+07  \n",
              "10       -5.247355e+08       -5.283108e+08     -5.208022e+08     5.758588e+06  \n",
              "11       -3.853389e+08       -3.919993e+08     -3.933450e+08     5.221373e+06  \n",
              "12       -0.000000e+00       -0.000000e+00     -1.713498e+03     2.965113e+03  \n",
              "13       -5.465556e+00       -0.000000e+00     -1.555320e+02     2.663492e+02  \n",
              "14       -0.000000e+00       -0.000000e+00      0.000000e+00     0.000000e+00  \n",
              "15       -0.000000e+00       -0.000000e+00      0.000000e+00     0.000000e+00  \n",
              "16       -0.000000e+00       -0.000000e+00      0.000000e+00     0.000000e+00  \n",
              "17       -0.000000e+00       -0.000000e+00      0.000000e+00     0.000000e+00  \n",
              "\n",
              "[18 rows x 23 columns]"
            ]
          },
          "execution_count": 60,
          "metadata": {},
          "output_type": "execute_result"
        }
      ],
      "source": [
        "\n",
        "pd.DataFrame(grid_search.cv_results_)"
      ]
    },
    {
      "cell_type": "code",
      "execution_count": null,
      "metadata": {
        "colab": {
          "base_uri": "https://localhost:8080/"
        },
        "id": "1-xQ3hGA2Eug",
        "outputId": "b73bf33b-e497-49ba-f093-7e7bc2688646"
      },
      "outputs": [
        {
          "data": {
            "text/plain": [
              "48557.33618531538"
            ]
          },
          "execution_count": 61,
          "metadata": {},
          "output_type": "execute_result"
        }
      ],
      "source": [
        "final_model = grid_search.best_estimator_\n",
        "\n",
        "X_test = strat_test_set.drop(\"median_house_value\", axis=1)\n",
        "y_test = strat_test_set[\"median_house_value\"].copy()\n",
        "\n",
        "X_test_prepared = full_pipeline.transform(X_test)\n",
        "final_predictions = final_model.predict(X_test_prepared)\n",
        "\n",
        "final_mse = mean_squared_error(y_test, final_predictions)\n",
        "final_rmse = np.sqrt(final_mse)\n",
        "final_rmse"
      ]
    },
    {
      "cell_type": "markdown",
      "metadata": {
        "id": "GEhQAYXQNcM5"
      },
      "source": [
        "## Evaluate System on the Test Set"
      ]
    },
    {
      "cell_type": "markdown",
      "metadata": {
        "id": "J0YBImjeNhuJ"
      },
      "source": [
        "Q14  Evaluate the final model on the test set.  Use the Linear Regression model for the final testing."
      ]
    },
    {
      "cell_type": "code",
      "execution_count": null,
      "metadata": {
        "id": "7hPyYHOkwITQ"
      },
      "outputs": [],
      "source": []
    },
    {
      "cell_type": "code",
      "execution_count": null,
      "metadata": {
        "colab": {
          "base_uri": "https://localhost:8080/"
        },
        "id": "V8T7TFrY9eRM",
        "outputId": "67d5b137-e62a-4edf-ec49-d2b11ddda8e6"
      },
      "outputs": [
        {
          "data": {
            "text/plain": [
              "66741.94508693433"
            ]
          },
          "execution_count": 62,
          "metadata": {},
          "output_type": "execute_result"
        }
      ],
      "source": [
        "#@title\n",
        "final_model = lin_reg\n",
        "\n",
        "X_test = strat_test_set.drop(\"median_house_value\", axis=1)\n",
        "y_test = strat_test_set[\"median_house_value\"].copy()\n",
        "\n",
        "X_test_prepared = full_pipeline.transform(X_test)\n",
        "final_predictions = final_model.predict(X_test_prepared)\n",
        "\n",
        "final_mse = mean_squared_error(y_test, final_predictions)\n",
        "final_rmse = np.sqrt(final_mse)\n",
        "final_rmse"
      ]
    }
  ],
  "metadata": {
    "colab": {
      "collapsed_sections": [],
      "include_colab_link": true,
      "name": "3_Machine_Learning_Process_(Solution).ipynb",
      "provenance": [],
      "toc_visible": true
    },
    "interpreter": {
      "hash": "40d3a090f54c6569ab1632332b64b2c03c39dcf918b08424e98f38b5ae0af88f"
    },
    "kernelspec": {
      "display_name": "Python 3.8.8 ('base')",
      "language": "python",
      "name": "python3"
    },
    "language_info": {
      "codemirror_mode": {
        "name": "ipython",
        "version": 3
      },
      "file_extension": ".py",
      "mimetype": "text/x-python",
      "name": "python",
      "nbconvert_exporter": "python",
      "pygments_lexer": "ipython3",
      "version": "3.8.8"
    }
  },
  "nbformat": 4,
  "nbformat_minor": 0
}
