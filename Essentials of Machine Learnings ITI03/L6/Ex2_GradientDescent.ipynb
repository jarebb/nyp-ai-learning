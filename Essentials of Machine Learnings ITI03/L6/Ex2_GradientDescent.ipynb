{
  "cells": [
    {
      "cell_type": "markdown",
      "metadata": {
        "colab_type": "text",
        "id": "view-in-github"
      },
      "source": [
        "<a href=\"https://colab.research.google.com/github/nyp-sit/sdaai-iti103/blob/master/session-6/Ex2_GradientDescent.ipynb\" target=\"_parent\"><img src=\"https://colab.research.google.com/assets/colab-badge.svg\" alt=\"Open In Colab\"/></a>"
      ]
    },
    {
      "cell_type": "markdown",
      "metadata": {
        "id": "kuagyp6xQFGO"
      },
      "source": [
        "# Gradient Descent\n",
        "\n",
        "Welcome to the hands-on lab. This is part of the series of exercises to help you acquire skills in different techniques to fine-tune your model.\n",
        "\n",
        "In this lab, you will learn:\n",
        "- how to use SGD Regressor to train your model \n",
        "- how learning rate and features scaling impact the performance of gradient descent-based algorithms\n",
        "\n",
        "\n"
      ]
    },
    {
      "cell_type": "markdown",
      "metadata": {
        "id": "gTBk1cViQFGR"
      },
      "source": [
        "## Import required libraries"
      ]
    },
    {
      "cell_type": "code",
      "execution_count": 1,
      "metadata": {
        "id": "iEWHxkLSQFGR"
      },
      "outputs": [],
      "source": [
        "from __future__ import print_function\n",
        "\n",
        "import warnings\n",
        "warnings.filterwarnings('ignore', module='sklearn')\n",
        "\n",
        "import numpy as np\n",
        "import pandas as pd\n",
        "from sklearn.datasets import load_boston\n",
        "from sklearn.preprocessing import MinMaxScaler\n",
        "from sklearn.model_selection import train_test_split\n",
        "from sklearn.datasets import load_boston\n",
        "from sklearn.linear_model import LinearRegression, RidgeCV, LassoCV, ElasticNetCV"
      ]
    },
    {
      "cell_type": "markdown",
      "metadata": {
        "id": "PjrKSbZiQFGS"
      },
      "source": [
        "Here we will load the boston housing prices. The dataset is not scaled and we train models using different regression: Linear regression, Ridge, Lasso and ElasticNet and compare their RMSE.  We then compare the RMSEs with a SGDRegressor. "
      ]
    },
    {
      "cell_type": "code",
      "execution_count": 3,
      "metadata": {
        "id": "oSoqTFvnQFGS"
      },
      "outputs": [],
      "source": [
        "boston = load_boston()\n",
        "X = boston['data']\n",
        "y = boston['target']\n",
        "\n",
        "# Split the data into train and test set\n",
        "X_train, X_test, y_train, y_test = train_test_split(X, y, random_state=42)\n"
      ]
    },
    {
      "cell_type": "markdown",
      "metadata": {
        "id": "xPM5ZUT8QFGS"
      },
      "source": [
        "We define a function to calculate RMSE:"
      ]
    },
    {
      "cell_type": "code",
      "execution_count": 5,
      "metadata": {
        "id": "Js9kILQWQFGT"
      },
      "outputs": [],
      "source": [
        "from sklearn.metrics import mean_squared_error\n",
        "\n",
        "def rmse(ytrue, ypredicted):\n",
        "    return np.sqrt(mean_squared_error(ytrue, ypredicted))\n",
        "    "
      ]
    },
    {
      "cell_type": "markdown",
      "metadata": {
        "id": "QNXLJwuJQFGT"
      },
      "source": [
        "We train a plain vanilla **Linear Regression** and calcuate the RMSE."
      ]
    },
    {
      "cell_type": "code",
      "execution_count": 6,
      "metadata": {
        "id": "bap8yngiQFGT"
      },
      "outputs": [
        {
          "name": "stdout",
          "output_type": "stream",
          "text": [
            "4.700924890603766\n"
          ]
        }
      ],
      "source": [
        "linearRegression = LinearRegression().fit(X_train, y_train)\n",
        "\n",
        "linearRegression_rmse = rmse(y_test, linearRegression.predict(X_test))\n",
        "\n",
        "print(linearRegression_rmse)"
      ]
    },
    {
      "cell_type": "markdown",
      "metadata": {
        "id": "uywFa62GQFGT"
      },
      "source": [
        "We then train a model using **Ridge Regression**, and find the best alpha and the best RMSE."
      ]
    },
    {
      "cell_type": "code",
      "execution_count": 7,
      "metadata": {
        "id": "LeeYV4TrQFGU"
      },
      "outputs": [
        {
          "name": "stdout",
          "output_type": "stream",
          "text": [
            "0.005 4.701149847530966\n"
          ]
        }
      ],
      "source": [
        "alphas = [0.005, 0.05, 0.1, 0.3, 1, 3, 5]\n",
        "\n",
        "ridgeCV = RidgeCV(alphas=alphas, \n",
        "                  cv=5).fit(X_train, y_train)\n",
        "\n",
        "ridgeCV_rmse = rmse(y_test, ridgeCV.predict(X_test))\n",
        "\n",
        "print(ridgeCV.alpha_, ridgeCV_rmse)"
      ]
    },
    {
      "cell_type": "markdown",
      "metadata": {
        "id": "r9ywHUA1QFGU"
      },
      "source": [
        "We then train a model using **Lasso Regression**, and find the best alpha and the best RMSE."
      ]
    },
    {
      "cell_type": "code",
      "execution_count": 8,
      "metadata": {
        "id": "IhSh2rRLQFGU"
      },
      "outputs": [
        {
          "name": "stdout",
          "output_type": "stream",
          "text": [
            "1e-05 4.700932738511096\n"
          ]
        }
      ],
      "source": [
        "lasso_alphas = np.array([1e-5, 5e-5, 0.0001, 0.0005])\n",
        "\n",
        "lassoCV = LassoCV(alphas=lasso_alphas,\n",
        "                  max_iter=5e4,\n",
        "                  cv=5).fit(X_train, y_train)\n",
        "\n",
        "lassoCV_rmse = rmse(y_test, lassoCV.predict(X_test))\n",
        "\n",
        "print(lassoCV.alpha_, lassoCV_rmse)  # Lasso is slower"
      ]
    },
    {
      "cell_type": "markdown",
      "metadata": {
        "id": "KeeAKvGtQFGU"
      },
      "source": [
        "We then train a model using **ElasticNet Regression**, and find the best alpha, L1-ratio and the best RMSE."
      ]
    },
    {
      "cell_type": "code",
      "execution_count": 9,
      "metadata": {
        "id": "v_RmurwhQFGV"
      },
      "outputs": [
        {
          "name": "stdout",
          "output_type": "stream",
          "text": [
            "1e-05 0.9 4.7009489794236226\n"
          ]
        }
      ],
      "source": [
        "l1_ratios = np.linspace(0.1, 0.9, 9)\n",
        "\n",
        "elasticNetCV = ElasticNetCV(alphas=lasso_alphas, \n",
        "                            l1_ratio=l1_ratios,\n",
        "                            max_iter=1e4, cv=5).fit(X_train, y_train)\n",
        "elasticNetCV_rmse = rmse(y_test, elasticNetCV.predict(X_test))\n",
        "\n",
        "print(elasticNetCV.alpha_, elasticNetCV.l1_ratio_, elasticNetCV_rmse)"
      ]
    },
    {
      "cell_type": "markdown",
      "metadata": {
        "id": "sCn1KcQ-QFGV"
      },
      "source": [
        "Now we will put all the best RMSEs of various models in a dataframe for comparison"
      ]
    },
    {
      "cell_type": "code",
      "execution_count": 10,
      "metadata": {
        "id": "Ut4Cnf-sQFGV"
      },
      "outputs": [
        {
          "data": {
            "text/html": [
              "<div>\n",
              "<style scoped>\n",
              "    .dataframe tbody tr th:only-of-type {\n",
              "        vertical-align: middle;\n",
              "    }\n",
              "\n",
              "    .dataframe tbody tr th {\n",
              "        vertical-align: top;\n",
              "    }\n",
              "\n",
              "    .dataframe thead th {\n",
              "        text-align: right;\n",
              "    }\n",
              "</style>\n",
              "<table border=\"1\" class=\"dataframe\">\n",
              "  <thead>\n",
              "    <tr style=\"text-align: right;\">\n",
              "      <th></th>\n",
              "      <th>RMSE</th>\n",
              "    </tr>\n",
              "  </thead>\n",
              "  <tbody>\n",
              "    <tr>\n",
              "      <th>Linear</th>\n",
              "      <td>4.700925</td>\n",
              "    </tr>\n",
              "    <tr>\n",
              "      <th>Ridge</th>\n",
              "      <td>4.701150</td>\n",
              "    </tr>\n",
              "    <tr>\n",
              "      <th>Lasso</th>\n",
              "      <td>4.700933</td>\n",
              "    </tr>\n",
              "    <tr>\n",
              "      <th>ElasticNet</th>\n",
              "      <td>4.700949</td>\n",
              "    </tr>\n",
              "  </tbody>\n",
              "</table>\n",
              "</div>"
            ],
            "text/plain": [
              "                RMSE\n",
              "Linear      4.700925\n",
              "Ridge       4.701150\n",
              "Lasso       4.700933\n",
              "ElasticNet  4.700949"
            ]
          },
          "execution_count": 10,
          "metadata": {},
          "output_type": "execute_result"
        }
      ],
      "source": [
        "rmse_vals = [linearRegression_rmse, ridgeCV_rmse, lassoCV_rmse, elasticNetCV_rmse]\n",
        "\n",
        "labels = ['Linear', 'Ridge', 'Lasso', 'ElasticNet']\n",
        "\n",
        "rmse_df = pd.Series(rmse_vals, index=labels).to_frame()\n",
        "rmse_df.rename(columns={0: 'RMSE'}, inplace=1)\n",
        "rmse_df\n",
        "\n",
        "# the lower the better! in this case, the linear rmse seems to be the lowest, and hence the best is linear.\n",
        "# this is interesting as the guideline mentioned we should use reduction, but just in this case linear is better.\n",
        "# in other example it may not be. Just take note too that all values are very close together.\n"
      ]
    },
    {
      "cell_type": "markdown",
      "metadata": {
        "id": "bj4vS__rQFGV"
      },
      "source": [
        "Now let's try to use the [**SGDRegressor**](https://scikit-learn.org/stable/modules/generated/sklearn.linear_model.SGDRegressor.html), and using same best hyper-parameters for ridge, lasso and elasticNet but uses the default starting learning rate (eta0) of 0.01 and the learning rate adjustment strategy of 'invscaling' i.e. eta = eta0 / pow(t, power_t)."
      ]
    },
    {
      "cell_type": "code",
      "execution_count": 11,
      "metadata": {
        "id": "hXHhhTFaQFGV"
      },
      "outputs": [
        {
          "data": {
            "text/html": [
              "<div>\n",
              "<style scoped>\n",
              "    .dataframe tbody tr th:only-of-type {\n",
              "        vertical-align: middle;\n",
              "    }\n",
              "\n",
              "    .dataframe tbody tr th {\n",
              "        vertical-align: top;\n",
              "    }\n",
              "\n",
              "    .dataframe thead th {\n",
              "        text-align: right;\n",
              "    }\n",
              "</style>\n",
              "<table border=\"1\" class=\"dataframe\">\n",
              "  <thead>\n",
              "    <tr style=\"text-align: right;\">\n",
              "      <th></th>\n",
              "      <th>RMSE</th>\n",
              "      <th>RMSE-SGD</th>\n",
              "    </tr>\n",
              "  </thead>\n",
              "  <tbody>\n",
              "    <tr>\n",
              "      <th>Linear</th>\n",
              "      <td>4.700925</td>\n",
              "      <td>1.027752e+14</td>\n",
              "    </tr>\n",
              "    <tr>\n",
              "      <th>Ridge</th>\n",
              "      <td>4.701150</td>\n",
              "      <td>1.863400e+14</td>\n",
              "    </tr>\n",
              "    <tr>\n",
              "      <th>Lasso</th>\n",
              "      <td>4.700933</td>\n",
              "      <td>1.865286e+14</td>\n",
              "    </tr>\n",
              "    <tr>\n",
              "      <th>ElasticNet</th>\n",
              "      <td>4.700949</td>\n",
              "      <td>9.322145e+13</td>\n",
              "    </tr>\n",
              "  </tbody>\n",
              "</table>\n",
              "</div>"
            ],
            "text/plain": [
              "                RMSE      RMSE-SGD\n",
              "Linear      4.700925  1.027752e+14\n",
              "Ridge       4.701150  1.863400e+14\n",
              "Lasso       4.700933  1.865286e+14\n",
              "ElasticNet  4.700949  9.322145e+13"
            ]
          },
          "execution_count": 11,
          "metadata": {},
          "output_type": "execute_result"
        }
      ],
      "source": [
        "from sklearn.linear_model import SGDRegressor\n",
        "\n",
        "\n",
        "model_parameters_dict = {\n",
        "    'Linear': {'penalty': 'none'},\n",
        "    'Lasso': {'penalty': 'l2',\n",
        "           'alpha': lassoCV.alpha_},\n",
        "    'Ridge': {'penalty': 'l1',\n",
        "           'alpha': ridgeCV.alpha_},\n",
        "    'ElasticNet': {'penalty': 'elasticnet', \n",
        "                   'alpha': elasticNetCV.alpha_ ,\n",
        "                   'l1_ratio': elasticNetCV.l1_ratio_}\n",
        "}\n",
        "\n",
        "new_rmses = {}\n",
        "for modellabel, parameters in model_parameters_dict.items():\n",
        "    # following notation passes the dict items as arguments\n",
        "    SGD = SGDRegressor(**parameters)\n",
        "    SGD.fit(X_train, y_train)\n",
        "    new_rmses[modellabel] = rmse(y_test, SGD.predict(X_test))\n",
        "\n",
        "    \n",
        "rmse_df['RMSE-SGD'] = pd.Series(new_rmses).to_frame()\n",
        "rmse_df"
      ]
    },
    {
      "cell_type": "markdown",
      "metadata": {
        "id": "chiRgx6xQFGW"
      },
      "source": [
        "**Exercise**\n",
        "\n",
        "What do you observe about the RMSE? What do you think is the reason for the observed RMSE? \n",
        "\n",
        "_Type your answer here_\n",
        "    \n",
        "<details><summary>Click here for answer</summary>\n",
        "    \n",
        "Notice how high the error values are! The algorithm is diverging. This can be due to scaling and/or learning rate being too high. Let's adjust the learning rate and see what happens.\n",
        "    \n",
        "</details>"
      ]
    },
    {
      "cell_type": "markdown",
      "metadata": {
        "id": "t3MkYXxZQFGW"
      },
      "source": [
        "**Exercise**\n",
        "\n",
        "Now let's try using a smaller learning rate of 1e-7 (i.e. 0.0000001) and apply the same version of SGD and compare the new RMSE of SGD with the new learning rate. \n",
        "\n",
        "Complete the codes in the following code cell.\n",
        "\n",
        "<details><summary>Click here for answer</summary>\n",
        "    \n",
        "```python\n",
        "\n",
        "for modellabel, parameters in model_parameters_dict.items():\n",
        "    # following notation passes the dict items as arguments\n",
        "    SGD = SGDRegressor(eta0=1e-7, **parameters)\n",
        "    SGD.fit(X_train, y_train)\n",
        "    new_rmses[modellabel] = rmse(y_test, SGD.predict(X_test))\n",
        "```\n",
        "</details>"
      ]
    },
    {
      "cell_type": "code",
      "execution_count": 13,
      "metadata": {
        "id": "C0hV4roEQFGX"
      },
      "outputs": [
        {
          "data": {
            "text/html": [
              "<div>\n",
              "<style scoped>\n",
              "    .dataframe tbody tr th:only-of-type {\n",
              "        vertical-align: middle;\n",
              "    }\n",
              "\n",
              "    .dataframe tbody tr th {\n",
              "        vertical-align: top;\n",
              "    }\n",
              "\n",
              "    .dataframe thead th {\n",
              "        text-align: right;\n",
              "    }\n",
              "</style>\n",
              "<table border=\"1\" class=\"dataframe\">\n",
              "  <thead>\n",
              "    <tr style=\"text-align: right;\">\n",
              "      <th></th>\n",
              "      <th>RMSE</th>\n",
              "      <th>RMSE-SGD</th>\n",
              "      <th>RMSE-SGD-learningrate</th>\n",
              "    </tr>\n",
              "  </thead>\n",
              "  <tbody>\n",
              "    <tr>\n",
              "      <th>Linear</th>\n",
              "      <td>4.700925</td>\n",
              "      <td>1.027752e+14</td>\n",
              "      <td>8.120181</td>\n",
              "    </tr>\n",
              "    <tr>\n",
              "      <th>Ridge</th>\n",
              "      <td>4.701150</td>\n",
              "      <td>1.863400e+14</td>\n",
              "      <td>8.180721</td>\n",
              "    </tr>\n",
              "    <tr>\n",
              "      <th>Lasso</th>\n",
              "      <td>4.700933</td>\n",
              "      <td>1.865286e+14</td>\n",
              "      <td>8.261415</td>\n",
              "    </tr>\n",
              "    <tr>\n",
              "      <th>ElasticNet</th>\n",
              "      <td>4.700949</td>\n",
              "      <td>9.322145e+13</td>\n",
              "      <td>8.310778</td>\n",
              "    </tr>\n",
              "  </tbody>\n",
              "</table>\n",
              "</div>"
            ],
            "text/plain": [
              "                RMSE      RMSE-SGD  RMSE-SGD-learningrate\n",
              "Linear      4.700925  1.027752e+14               8.120181\n",
              "Ridge       4.701150  1.863400e+14               8.180721\n",
              "Lasso       4.700933  1.865286e+14               8.261415\n",
              "ElasticNet  4.700949  9.322145e+13               8.310778"
            ]
          },
          "execution_count": 13,
          "metadata": {},
          "output_type": "execute_result"
        }
      ],
      "source": [
        "new_rmses = {}\n",
        "\n",
        "## START YOUR CODE HERE \n",
        "\n",
        "for modellabel, parameters in model_parameters_dict.items():\n",
        "    # following notation passes the dict items as arguments\n",
        "    SGD = SGDRegressor(eta0=1e-7, **parameters)\n",
        "    SGD.fit(X_train, y_train)\n",
        "    new_rmses[modellabel] = rmse(y_test, SGD.predict(X_test))\n",
        "## END YOUR CODE HERE\n",
        "\n",
        "rmse_df['RMSE-SGD-learningrate'] = pd.Series(new_rmses)\n",
        "rmse_df\n",
        "\n",
        "# If learning rate is set too high, it becomes unstable.\n",
        "# learning rate is how many steps we take at a time. The bigger the number, the bigger the step.\n",
        "# High learning rate may cause issues like oxilation.\n",
        "# Low learning rate may take forever to train."
      ]
    },
    {
      "cell_type": "markdown",
      "metadata": {
        "id": "nYl1jCmAQFGX"
      },
      "source": [
        "**Exercise**\n",
        "\n",
        "Now let's scale our training data and try again.\n",
        "\n",
        "* Fit a `MinMaxScaler` to `X_train` create a variable `X_train_scaled`.\n",
        "* Using the scaler, transform `X_test` and create a variable `X_test_scaled`. \n",
        "* Apply the same versions of SGD to them and compare the results. Don't pass in a eta0 this time.\n",
        "\n",
        "Complete the code in the following code cell.\n",
        "\n",
        "<details><summary>Click here for answer</summary>\n",
        "    \n",
        "```python\n",
        "    \n",
        "scaler = MinMaxScaler()\n",
        "X_train_scaled = scaler.fit_transform(X_train)\n",
        "X_test_scaled = scaler.transform(X_test)\n",
        "\n",
        "for modellabel, parameters in model_parameters_dict.items():\n",
        "    # following notation passes the dict items as arguments\n",
        "    SGD = SGDRegressor(**parameters)\n",
        "    SGD.fit(X_train_scaled, y_train)\n",
        "    new_rmses[modellabel] = rmse(y_test, SGD.predict(X_test_scaled))\n",
        "\n",
        "rmse_df['RMSE-SGD-scaled'] = pd.Series(new_rmses)\n",
        "rmse_df\n",
        "\n",
        "```\n",
        "</details>"
      ]
    },
    {
      "cell_type": "code",
      "execution_count": 19,
      "metadata": {
        "id": "aUYMC8wHQFGX"
      },
      "outputs": [
        {
          "data": {
            "text/html": [
              "<div>\n",
              "<style scoped>\n",
              "    .dataframe tbody tr th:only-of-type {\n",
              "        vertical-align: middle;\n",
              "    }\n",
              "\n",
              "    .dataframe tbody tr th {\n",
              "        vertical-align: top;\n",
              "    }\n",
              "\n",
              "    .dataframe thead th {\n",
              "        text-align: right;\n",
              "    }\n",
              "</style>\n",
              "<table border=\"1\" class=\"dataframe\">\n",
              "  <thead>\n",
              "    <tr style=\"text-align: right;\">\n",
              "      <th></th>\n",
              "      <th>RMSE</th>\n",
              "      <th>RMSE-SGD</th>\n",
              "      <th>RMSE-SGD-learningrate</th>\n",
              "      <th>RMSE-SGD-scaled</th>\n",
              "      <th>RMSE-SGD-scaled-learning-rate</th>\n",
              "    </tr>\n",
              "  </thead>\n",
              "  <tbody>\n",
              "    <tr>\n",
              "      <th>Linear</th>\n",
              "      <td>4.700925</td>\n",
              "      <td>1.027752e+14</td>\n",
              "      <td>8.120181</td>\n",
              "      <td>4.940382</td>\n",
              "      <td>22.840746</td>\n",
              "    </tr>\n",
              "    <tr>\n",
              "      <th>Ridge</th>\n",
              "      <td>4.701150</td>\n",
              "      <td>1.863400e+14</td>\n",
              "      <td>8.180721</td>\n",
              "      <td>4.980410</td>\n",
              "      <td>22.840776</td>\n",
              "    </tr>\n",
              "    <tr>\n",
              "      <th>Lasso</th>\n",
              "      <td>4.700933</td>\n",
              "      <td>1.865286e+14</td>\n",
              "      <td>8.261415</td>\n",
              "      <td>4.937145</td>\n",
              "      <td>22.840740</td>\n",
              "    </tr>\n",
              "    <tr>\n",
              "      <th>ElasticNet</th>\n",
              "      <td>4.700949</td>\n",
              "      <td>9.322145e+13</td>\n",
              "      <td>8.310778</td>\n",
              "      <td>4.937315</td>\n",
              "      <td>22.840743</td>\n",
              "    </tr>\n",
              "  </tbody>\n",
              "</table>\n",
              "</div>"
            ],
            "text/plain": [
              "                RMSE      RMSE-SGD  RMSE-SGD-learningrate  RMSE-SGD-scaled  \\\n",
              "Linear      4.700925  1.027752e+14               8.120181         4.940382   \n",
              "Ridge       4.701150  1.863400e+14               8.180721         4.980410   \n",
              "Lasso       4.700933  1.865286e+14               8.261415         4.937145   \n",
              "ElasticNet  4.700949  9.322145e+13               8.310778         4.937315   \n",
              "\n",
              "            RMSE-SGD-scaled-learning-rate  \n",
              "Linear                          22.840746  \n",
              "Ridge                           22.840776  \n",
              "Lasso                           22.840740  \n",
              "ElasticNet                      22.840743  "
            ]
          },
          "execution_count": 19,
          "metadata": {},
          "output_type": "execute_result"
        }
      ],
      "source": [
        "from sklearn.preprocessing import MinMaxScaler\n",
        "\n",
        "new_rmses = {}\n",
        "\n",
        "## START YOUR CODE HERE ###\n",
        "scaler = MinMaxScaler()\n",
        "X_train_scaled = scaler.fit_transform(X_train)\n",
        "X_test_scaled = scaler.transform(X_test)\n",
        "\n",
        "for modellabel, parameters in model_parameters_dict.items():\n",
        "    # following notation passes the dict items as arguments\n",
        "    SGD = SGDRegressor(**parameters)\n",
        "    SGD.fit(X_train_scaled, y_train)\n",
        "    new_rmses[modellabel] = rmse(y_test, SGD.predict(X_test_scaled))\n",
        "\n",
        "rmse_df['RMSE-SGD-scaled'] = pd.Series(new_rmses)\n",
        "rmse_df\n",
        "\n",
        "\n",
        "### END YOUR CODE HERE "
      ]
    },
    {
      "cell_type": "markdown",
      "metadata": {
        "id": "PkDgCGIIQFGX"
      },
      "source": [
        "**Exercise**\n",
        "\n",
        "What do you observe the values of RMSE? Does the scaling help? \n",
        "\n",
        "_Type your answer here_\n",
        "\n",
        "<details><summary>Click here for answer</summary>\n",
        "    \n",
        "We can see a smaller RMSEs. Scaling has a large impact on the performance of SGD and it helps the SGD to learn better. \n",
        "    \n",
        "</details>"
      ]
    },
    {
      "cell_type": "code",
      "execution_count": 28,
      "metadata": {
        "id": "tr9VH-sWQFGY"
      },
      "outputs": [
        {
          "data": {
            "text/html": [
              "<div>\n",
              "<style scoped>\n",
              "    .dataframe tbody tr th:only-of-type {\n",
              "        vertical-align: middle;\n",
              "    }\n",
              "\n",
              "    .dataframe tbody tr th {\n",
              "        vertical-align: top;\n",
              "    }\n",
              "\n",
              "    .dataframe thead th {\n",
              "        text-align: right;\n",
              "    }\n",
              "</style>\n",
              "<table border=\"1\" class=\"dataframe\">\n",
              "  <thead>\n",
              "    <tr style=\"text-align: right;\">\n",
              "      <th></th>\n",
              "      <th>RMSE</th>\n",
              "      <th>RMSE-SGD</th>\n",
              "      <th>RMSE-SGD-learningrate</th>\n",
              "      <th>RMSE-SGD-scaled</th>\n",
              "      <th>RMSE-SGD-scaled-learning-rate</th>\n",
              "    </tr>\n",
              "  </thead>\n",
              "  <tbody>\n",
              "    <tr>\n",
              "      <th>Linear</th>\n",
              "      <td>4.700925</td>\n",
              "      <td>1.027752e+14</td>\n",
              "      <td>8.120181</td>\n",
              "      <td>4.940382</td>\n",
              "      <td>4.925896</td>\n",
              "    </tr>\n",
              "    <tr>\n",
              "      <th>Ridge</th>\n",
              "      <td>4.701150</td>\n",
              "      <td>1.863400e+14</td>\n",
              "      <td>8.180721</td>\n",
              "      <td>4.980410</td>\n",
              "      <td>4.804287</td>\n",
              "    </tr>\n",
              "    <tr>\n",
              "      <th>Lasso</th>\n",
              "      <td>4.700933</td>\n",
              "      <td>1.865286e+14</td>\n",
              "      <td>8.261415</td>\n",
              "      <td>4.937145</td>\n",
              "      <td>4.799595</td>\n",
              "    </tr>\n",
              "    <tr>\n",
              "      <th>ElasticNet</th>\n",
              "      <td>4.700949</td>\n",
              "      <td>9.322145e+13</td>\n",
              "      <td>8.310778</td>\n",
              "      <td>4.937315</td>\n",
              "      <td>4.943014</td>\n",
              "    </tr>\n",
              "  </tbody>\n",
              "</table>\n",
              "</div>"
            ],
            "text/plain": [
              "                RMSE      RMSE-SGD  RMSE-SGD-learningrate  RMSE-SGD-scaled  \\\n",
              "Linear      4.700925  1.027752e+14               8.120181         4.940382   \n",
              "Ridge       4.701150  1.863400e+14               8.180721         4.980410   \n",
              "Lasso       4.700933  1.865286e+14               8.261415         4.937145   \n",
              "ElasticNet  4.700949  9.322145e+13               8.310778         4.937315   \n",
              "\n",
              "            RMSE-SGD-scaled-learning-rate  \n",
              "Linear                           4.925896  \n",
              "Ridge                            4.804287  \n",
              "Lasso                            4.799595  \n",
              "ElasticNet                       4.943014  "
            ]
          },
          "execution_count": 28,
          "metadata": {},
          "output_type": "execute_result"
        }
      ],
      "source": [
        "from sklearn.preprocessing import MinMaxScaler\n",
        "\n",
        "new_rmses = {}\n",
        "\n",
        "## START YOUR CODE HERE ###\n",
        "scaler = MinMaxScaler()\n",
        "X_train_scaled = scaler.fit_transform(X_train)\n",
        "X_test_scaled = scaler.transform(X_test)\n",
        "\n",
        "for modellabel, parameters in model_parameters_dict.items():\n",
        "    # following notation passes the dict items as arguments\n",
        "    SGD = SGDRegressor(eta0=0.2, **parameters)\n",
        "    SGD.fit(X_train_scaled, y_train)\n",
        "    new_rmses[modellabel] = rmse(y_test, SGD.predict(X_test_scaled))\n",
        "\n",
        "rmse_df['RMSE-SGD-scaled-learning-rate'] = pd.Series(new_rmses)\n",
        "rmse_df\n",
        "\n",
        "### END YOUR CODE HERE \n"
      ]
    }
  ],
  "metadata": {
    "colab": {
      "include_colab_link": true,
      "name": "Ex2_GradientDescent.ipynb",
      "provenance": []
    },
    "interpreter": {
      "hash": "40d3a090f54c6569ab1632332b64b2c03c39dcf918b08424e98f38b5ae0af88f"
    },
    "kernelspec": {
      "display_name": "Python 3.8.8 ('base')",
      "language": "python",
      "name": "python3"
    },
    "language_info": {
      "codemirror_mode": {
        "name": "ipython",
        "version": 3
      },
      "file_extension": ".py",
      "mimetype": "text/x-python",
      "name": "python",
      "nbconvert_exporter": "python",
      "pygments_lexer": "ipython3",
      "version": "3.8.8"
    }
  },
  "nbformat": 4,
  "nbformat_minor": 0
}
