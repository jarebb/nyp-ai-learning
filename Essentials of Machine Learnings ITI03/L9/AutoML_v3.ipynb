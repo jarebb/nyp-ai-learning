{
  "cells": [
    {
      "cell_type": "markdown",
      "metadata": {
        "colab_type": "text",
        "id": "view-in-github"
      },
      "source": [
        "<a href=\"https://colab.research.google.com/github/veronicalimpooikhoon/ITI103/blob/main/AutoML_v3.ipynb\" target=\"_parent\"><img src=\"https://colab.research.google.com/assets/colab-badge.svg\" alt=\"Open In Colab\"/></a>"
      ]
    },
    {
      "cell_type": "markdown",
      "metadata": {
        "id": "5JobbWBO6eXy"
      },
      "source": [
        "# **Automated machine learning (AutoML)**"
      ]
    },
    {
      "cell_type": "markdown",
      "metadata": {
        "id": "FpZ_UXdd6Z8E"
      },
      "source": [
        "Automated machine learning algorithms can be a huge time saver especially if the data is huge or the algorithm to be used is a simple classification or regression type problem. One such open-source automation in AutoML was the development of AutoSklearn. We know that the popular sklearn library is very rampantly used for building machine learning models. But with sklearn, it is up to the user to decide the algorithm that has to be used and do the hyperparameter tuning. With autosklearn, all the processes are automated for the benefit of the user. The benefit of this is that along with data preparation and model building, it also learns from models that have been used on similar datasets and can create automatic ensemble models for better accuracy. In this *session*, we will see how to make use of autosklearn for classification and regression problems. "
      ]
    },
    {
      "cell_type": "markdown",
      "metadata": {
        "id": "zqCLxBFNhYG5"
      },
      "source": [
        "**Install libraries- Auto-Sklearn and Pipeline Profiler**"
      ]
    },
    {
      "cell_type": "code",
      "execution_count": null,
      "metadata": {
        "id": "fT-fA_qgZAfQ"
      },
      "outputs": [],
      "source": [
        "!pip install auto-sklearn\n",
        "!pip install PipelineProfiler\n",
        "!pip install --upgrade scipy\n",
        "#import scipy\n",
        "#print(scipy.__version__)\n",
        "\n",
        "# You may start to restart runtime after the installation"
      ]
    },
    {
      "cell_type": "markdown",
      "metadata": {
        "id": "fQtsV1kh7cap"
      },
      "source": [
        "# **Import all the libraries**"
      ]
    },
    {
      "cell_type": "markdown",
      "metadata": {
        "id": "39Fe8bXp7GoG"
      },
      "source": [
        "Note: You may need to click on the \"restart runtime\" if the following error occurs.\n",
        "- IncorrectPackageVersionError: found 'scipy' version 1.4.1 but requires scipy version >=1.7.0\n",
        "- Auto-sklearn not found"
      ]
    },
    {
      "cell_type": "code",
      "execution_count": 1,
      "metadata": {
        "id": "1w6QgNrRY6UA"
      },
      "outputs": [],
      "source": [
        "import sklearn\n",
        "from pprint import pprint\n",
        "\n",
        "import sklearn.datasets\n",
        "import sklearn.metrics\n",
        "\n",
        "import autosklearn.classification"
      ]
    },
    {
      "cell_type": "markdown",
      "metadata": {
        "id": "QDxdO87LiJHt"
      },
      "source": [
        "# **AutoML- Classifier**"
      ]
    },
    {
      "cell_type": "markdown",
      "metadata": {
        "id": "WwuL-fEd7hMw"
      },
      "source": [
        "1. Split the dataset into train, test set, features and label. Breast Cancer dataset will be used. "
      ]
    },
    {
      "cell_type": "code",
      "execution_count": 6,
      "metadata": {
        "id": "1U7Nu2lFY_85"
      },
      "outputs": [],
      "source": [
        "X, y = sklearn.datasets.load_breast_cancer(return_X_y=True)\n",
        "X_train, X_test, y_train, y_test = sklearn.model_selection.train_test_split(X, y, random_state=1)"
      ]
    },
    {
      "cell_type": "markdown",
      "metadata": {
        "id": "OaKHheLg8Cih"
      },
      "source": [
        "2. Building the classification model\n",
        "\n",
        "Time_left_for_this_task is the amount of time the user specifies for searching all the right models. I have allowed the search to take place for two minutes but you can choose any amount of time as you wish. \n",
        "\n",
        "Notes: Since we are using auto-sklearn, we need not specify the name of the algorithm or the parameters."
      ]
    },
    {
      "cell_type": "code",
      "execution_count": 9,
      "metadata": {
        "id": "II5Jct01ZK67"
      },
      "outputs": [
        {
          "name": "stdout",
          "output_type": "stream",
          "text": [
            "[ERROR] [2022-07-04 19:21:35,583:Client-AutoML(1):breast_cancer] Dummy prediction failed with run state StatusType.CRASHED and additional output: {'error': 'Result queue is empty', 'exit_status': \"<class 'pynisher.limit_function_call.AnythingException'>\", 'subprocess_stdout': '', 'subprocess_stderr': 'Process pynisher function call:\\nTraceback (most recent call last):\\n  File \"/usr/local/Cellar/python@3.9/3.9.7_1/Frameworks/Python.framework/Versions/3.9/lib/python3.9/multiprocessing/process.py\", line 315, in _bootstrap\\n    self.run()\\n  File \"/usr/local/Cellar/python@3.9/3.9.7_1/Frameworks/Python.framework/Versions/3.9/lib/python3.9/multiprocessing/process.py\", line 108, in run\\n    self._target(*self._args, **self._kwargs)\\n  File \"/usr/local/lib/python3.9/site-packages/pynisher/limit_function_call.py\", line 108, in subprocess_func\\n    resource.setrlimit(resource.RLIMIT_AS, (mem_in_b, mem_in_b))\\nValueError: current limit exceeds maximum limit\\n', 'exitcode': 1, 'configuration_origin': 'DUMMY'}.\n"
          ]
        },
        {
          "ename": "ValueError",
          "evalue": "Dummy prediction failed with run state StatusType.CRASHED and additional output: {'error': 'Result queue is empty', 'exit_status': \"<class 'pynisher.limit_function_call.AnythingException'>\", 'subprocess_stdout': '', 'subprocess_stderr': 'Process pynisher function call:\\nTraceback (most recent call last):\\n  File \"/usr/local/Cellar/python@3.9/3.9.7_1/Frameworks/Python.framework/Versions/3.9/lib/python3.9/multiprocessing/process.py\", line 315, in _bootstrap\\n    self.run()\\n  File \"/usr/local/Cellar/python@3.9/3.9.7_1/Frameworks/Python.framework/Versions/3.9/lib/python3.9/multiprocessing/process.py\", line 108, in run\\n    self._target(*self._args, **self._kwargs)\\n  File \"/usr/local/lib/python3.9/site-packages/pynisher/limit_function_call.py\", line 108, in subprocess_func\\n    resource.setrlimit(resource.RLIMIT_AS, (mem_in_b, mem_in_b))\\nValueError: current limit exceeds maximum limit\\n', 'exitcode': 1, 'configuration_origin': 'DUMMY'}.",
          "output_type": "error",
          "traceback": [
            "\u001b[0;31m---------------------------------------------------------------------------\u001b[0m",
            "\u001b[0;31mValueError\u001b[0m                                Traceback (most recent call last)",
            "\u001b[1;32m/Users/jarebb/Documents/Jarebb/code/nyp/nyp-ai-learning/Essentials of Machine Learnings ITI03/L9/AutoML_v3.ipynb Cell 13'\u001b[0m in \u001b[0;36m<cell line: 6>\u001b[0;34m()\u001b[0m\n\u001b[1;32m      <a href='vscode-notebook-cell:/Users/jarebb/Documents/Jarebb/code/nyp/nyp-ai-learning/Essentials%20of%20Machine%20Learnings%20ITI03/L9/AutoML_v3.ipynb#ch0000012?line=0'>1</a>\u001b[0m automl \u001b[39m=\u001b[39m autosklearn\u001b[39m.\u001b[39mclassification\u001b[39m.\u001b[39mAutoSklearnClassifier(\n\u001b[1;32m      <a href='vscode-notebook-cell:/Users/jarebb/Documents/Jarebb/code/nyp/nyp-ai-learning/Essentials%20of%20Machine%20Learnings%20ITI03/L9/AutoML_v3.ipynb#ch0000012?line=1'>2</a>\u001b[0m     time_left_for_this_task\u001b[39m=\u001b[39m\u001b[39m60\u001b[39m,\n\u001b[1;32m      <a href='vscode-notebook-cell:/Users/jarebb/Documents/Jarebb/code/nyp/nyp-ai-learning/Essentials%20of%20Machine%20Learnings%20ITI03/L9/AutoML_v3.ipynb#ch0000012?line=2'>3</a>\u001b[0m     per_run_time_limit\u001b[39m=\u001b[39m\u001b[39m30\u001b[39m)\n\u001b[1;32m      <a href='vscode-notebook-cell:/Users/jarebb/Documents/Jarebb/code/nyp/nyp-ai-learning/Essentials%20of%20Machine%20Learnings%20ITI03/L9/AutoML_v3.ipynb#ch0000012?line=3'>4</a>\u001b[0m     \u001b[39m#tmp_folder='/tmp/autosklearn_classification_example_tmp',\u001b[39;00m\n\u001b[0;32m----> <a href='vscode-notebook-cell:/Users/jarebb/Documents/Jarebb/code/nyp/nyp-ai-learning/Essentials%20of%20Machine%20Learnings%20ITI03/L9/AutoML_v3.ipynb#ch0000012?line=5'>6</a>\u001b[0m automl\u001b[39m.\u001b[39;49mfit(X_train, y_train, dataset_name\u001b[39m=\u001b[39;49m\u001b[39m'\u001b[39;49m\u001b[39mbreast_cancer\u001b[39;49m\u001b[39m'\u001b[39;49m)\n",
            "File \u001b[0;32m/usr/local/lib/python3.9/site-packages/autosklearn/estimators.py:1045\u001b[0m, in \u001b[0;36mAutoSklearnClassifier.fit\u001b[0;34m(self, X, y, X_test, y_test, feat_type, dataset_name)\u001b[0m\n\u001b[1;32m   1042\u001b[0m \u001b[39m# remember target type for using in predict_proba later.\u001b[39;00m\n\u001b[1;32m   1043\u001b[0m \u001b[39mself\u001b[39m\u001b[39m.\u001b[39mtarget_type \u001b[39m=\u001b[39m target_type\n\u001b[0;32m-> 1045\u001b[0m \u001b[39msuper\u001b[39;49m()\u001b[39m.\u001b[39;49mfit(\n\u001b[1;32m   1046\u001b[0m     X\u001b[39m=\u001b[39;49mX,\n\u001b[1;32m   1047\u001b[0m     y\u001b[39m=\u001b[39;49my,\n\u001b[1;32m   1048\u001b[0m     X_test\u001b[39m=\u001b[39;49mX_test,\n\u001b[1;32m   1049\u001b[0m     y_test\u001b[39m=\u001b[39;49my_test,\n\u001b[1;32m   1050\u001b[0m     feat_type\u001b[39m=\u001b[39;49mfeat_type,\n\u001b[1;32m   1051\u001b[0m     dataset_name\u001b[39m=\u001b[39;49mdataset_name,\n\u001b[1;32m   1052\u001b[0m )\n\u001b[1;32m   1054\u001b[0m \u001b[39m# After fit, a classifier is expected to define classes_\u001b[39;00m\n\u001b[1;32m   1055\u001b[0m \u001b[39m# A list of class labels known to the classifier, mapping each label\u001b[39;00m\n\u001b[1;32m   1056\u001b[0m \u001b[39m# to a numerical index used in the model representation our output.\u001b[39;00m\n\u001b[1;32m   1057\u001b[0m \u001b[39mself\u001b[39m\u001b[39m.\u001b[39mclasses_ \u001b[39m=\u001b[39m \u001b[39mself\u001b[39m\u001b[39m.\u001b[39mautoml_\u001b[39m.\u001b[39mInputValidator\u001b[39m.\u001b[39mtarget_validator\u001b[39m.\u001b[39mclasses_\n",
            "File \u001b[0;32m/usr/local/lib/python3.9/site-packages/autosklearn/estimators.py:375\u001b[0m, in \u001b[0;36mAutoSklearnEstimator.fit\u001b[0;34m(self, **kwargs)\u001b[0m\n\u001b[1;32m    373\u001b[0m \u001b[39mif\u001b[39;00m \u001b[39mself\u001b[39m\u001b[39m.\u001b[39mautoml_ \u001b[39mis\u001b[39;00m \u001b[39mNone\u001b[39;00m:\n\u001b[1;32m    374\u001b[0m     \u001b[39mself\u001b[39m\u001b[39m.\u001b[39mautoml_ \u001b[39m=\u001b[39m \u001b[39mself\u001b[39m\u001b[39m.\u001b[39mbuild_automl()\n\u001b[0;32m--> 375\u001b[0m \u001b[39mself\u001b[39;49m\u001b[39m.\u001b[39;49mautoml_\u001b[39m.\u001b[39;49mfit(load_models\u001b[39m=\u001b[39;49m\u001b[39mself\u001b[39;49m\u001b[39m.\u001b[39;49mload_models, \u001b[39m*\u001b[39;49m\u001b[39m*\u001b[39;49mkwargs)\n\u001b[1;32m    377\u001b[0m \u001b[39mreturn\u001b[39;00m \u001b[39mself\u001b[39m\n",
            "File \u001b[0;32m/usr/local/lib/python3.9/site-packages/autosklearn/automl.py:2056\u001b[0m, in \u001b[0;36mAutoMLClassifier.fit\u001b[0;34m(self, X, y, X_test, y_test, feat_type, dataset_name, only_return_configuration_space, load_models)\u001b[0m\n\u001b[1;32m   2045\u001b[0m \u001b[39mdef\u001b[39;00m \u001b[39mfit\u001b[39m(\n\u001b[1;32m   2046\u001b[0m     \u001b[39mself\u001b[39m,\n\u001b[1;32m   2047\u001b[0m     X: SUPPORTED_FEAT_TYPES,\n\u001b[0;32m   (...)\u001b[0m\n\u001b[1;32m   2054\u001b[0m     load_models: \u001b[39mbool\u001b[39m \u001b[39m=\u001b[39m \u001b[39mTrue\u001b[39;00m,\n\u001b[1;32m   2055\u001b[0m ):\n\u001b[0;32m-> 2056\u001b[0m     \u001b[39mreturn\u001b[39;00m \u001b[39msuper\u001b[39;49m()\u001b[39m.\u001b[39;49mfit(\n\u001b[1;32m   2057\u001b[0m         X, y,\n\u001b[1;32m   2058\u001b[0m         X_test\u001b[39m=\u001b[39;49mX_test,\n\u001b[1;32m   2059\u001b[0m         y_test\u001b[39m=\u001b[39;49my_test,\n\u001b[1;32m   2060\u001b[0m         feat_type\u001b[39m=\u001b[39;49mfeat_type,\n\u001b[1;32m   2061\u001b[0m         dataset_name\u001b[39m=\u001b[39;49mdataset_name,\n\u001b[1;32m   2062\u001b[0m         only_return_configuration_space\u001b[39m=\u001b[39;49monly_return_configuration_space,\n\u001b[1;32m   2063\u001b[0m         load_models\u001b[39m=\u001b[39;49mload_models,\n\u001b[1;32m   2064\u001b[0m         is_classification\u001b[39m=\u001b[39;49m\u001b[39mTrue\u001b[39;49;00m,\n\u001b[1;32m   2065\u001b[0m     )\n",
            "File \u001b[0;32m/usr/local/lib/python3.9/site-packages/autosklearn/automl.py:808\u001b[0m, in \u001b[0;36mAutoML.fit\u001b[0;34m(self, X, y, task, X_test, y_test, feat_type, dataset_name, only_return_configuration_space, load_models, is_classification)\u001b[0m\n\u001b[1;32m    804\u001b[0m     \u001b[39mreturn\u001b[39;00m \u001b[39mself\u001b[39m\u001b[39m.\u001b[39mconfiguration_space\n\u001b[1;32m    806\u001b[0m \u001b[39m# == Perform dummy predictions\u001b[39;00m\n\u001b[1;32m    807\u001b[0m \u001b[39m# Dummy prediction always have num_run set to 1\u001b[39;00m\n\u001b[0;32m--> 808\u001b[0m \u001b[39mself\u001b[39m\u001b[39m.\u001b[39mnum_run \u001b[39m+\u001b[39m\u001b[39m=\u001b[39m \u001b[39mself\u001b[39;49m\u001b[39m.\u001b[39;49m_do_dummy_prediction(datamanager, num_run\u001b[39m=\u001b[39;49m\u001b[39m1\u001b[39;49m)\n\u001b[1;32m    810\u001b[0m \u001b[39m# == RUN ensemble builder\u001b[39;00m\n\u001b[1;32m    811\u001b[0m \u001b[39m# Do this before calculating the meta-features to make sure that the\u001b[39;00m\n\u001b[1;32m    812\u001b[0m \u001b[39m# dummy predictions are actually included in the ensemble even if\u001b[39;00m\n\u001b[1;32m    813\u001b[0m \u001b[39m# calculating the meta-features takes very long\u001b[39;00m\n\u001b[1;32m    814\u001b[0m ensemble_task_name \u001b[39m=\u001b[39m \u001b[39m'\u001b[39m\u001b[39mrunEnsemble\u001b[39m\u001b[39m'\u001b[39m\n",
            "File \u001b[0;32m/usr/local/lib/python3.9/site-packages/autosklearn/automl.py:476\u001b[0m, in \u001b[0;36mAutoML._do_dummy_prediction\u001b[0;34m(self, datamanager, num_run)\u001b[0m\n\u001b[1;32m    471\u001b[0m         \u001b[39mself\u001b[39m\u001b[39m.\u001b[39m_logger\u001b[39m.\u001b[39merror(\n\u001b[1;32m    472\u001b[0m             \u001b[39m\"\u001b[39m\u001b[39mDummy prediction failed with run state \u001b[39m\u001b[39m%s\u001b[39;00m\u001b[39m and additional output: \u001b[39m\u001b[39m%s\u001b[39;00m\u001b[39m.\u001b[39m\u001b[39m\"\u001b[39m,\n\u001b[1;32m    473\u001b[0m             \u001b[39mstr\u001b[39m(status), \u001b[39mstr\u001b[39m(additional_info),\n\u001b[1;32m    474\u001b[0m         )\n\u001b[1;32m    475\u001b[0m         \u001b[39m# Fail if dummy prediction fails.\u001b[39;00m\n\u001b[0;32m--> 476\u001b[0m         \u001b[39mraise\u001b[39;00m \u001b[39mValueError\u001b[39;00m(\n\u001b[1;32m    477\u001b[0m             \u001b[39m\"\u001b[39m\u001b[39mDummy prediction failed with run state \u001b[39m\u001b[39m%s\u001b[39;00m\u001b[39m and additional output: \u001b[39m\u001b[39m%s\u001b[39;00m\u001b[39m.\u001b[39m\u001b[39m\"\u001b[39m\n\u001b[1;32m    478\u001b[0m             \u001b[39m%\u001b[39m (\u001b[39mstr\u001b[39m(status), \u001b[39mstr\u001b[39m(additional_info))\n\u001b[1;32m    479\u001b[0m         )\n\u001b[1;32m    480\u001b[0m \u001b[39mreturn\u001b[39;00m num_run\n",
            "\u001b[0;31mValueError\u001b[0m: Dummy prediction failed with run state StatusType.CRASHED and additional output: {'error': 'Result queue is empty', 'exit_status': \"<class 'pynisher.limit_function_call.AnythingException'>\", 'subprocess_stdout': '', 'subprocess_stderr': 'Process pynisher function call:\\nTraceback (most recent call last):\\n  File \"/usr/local/Cellar/python@3.9/3.9.7_1/Frameworks/Python.framework/Versions/3.9/lib/python3.9/multiprocessing/process.py\", line 315, in _bootstrap\\n    self.run()\\n  File \"/usr/local/Cellar/python@3.9/3.9.7_1/Frameworks/Python.framework/Versions/3.9/lib/python3.9/multiprocessing/process.py\", line 108, in run\\n    self._target(*self._args, **self._kwargs)\\n  File \"/usr/local/lib/python3.9/site-packages/pynisher/limit_function_call.py\", line 108, in subprocess_func\\n    resource.setrlimit(resource.RLIMIT_AS, (mem_in_b, mem_in_b))\\nValueError: current limit exceeds maximum limit\\n', 'exitcode': 1, 'configuration_origin': 'DUMMY'}."
          ]
        }
      ],
      "source": [
        "automl = autosklearn.classification.AutoSklearnClassifier(\n",
        "    time_left_for_this_task=60,\n",
        "    per_run_time_limit=30)\n",
        "    #tmp_folder='/tmp/autosklearn_classification_example_tmp',\n",
        "\n",
        "automl.fit(X_train, y_train, dataset_name='breast_cancer')"
      ]
    },
    {
      "cell_type": "markdown",
      "metadata": {
        "id": "6433c5byipeH"
      },
      "source": [
        "3. View the models found by auto-sklearn (Classifier)"
      ]
    },
    {
      "cell_type": "code",
      "execution_count": 10,
      "metadata": {
        "id": "C_9GUmvYZbjF"
      },
      "outputs": [
        {
          "ename": "AttributeError",
          "evalue": "'AutoMLClassifier' object has no attribute 'runhistory_'",
          "output_type": "error",
          "traceback": [
            "\u001b[0;31m---------------------------------------------------------------------------\u001b[0m",
            "\u001b[0;31mAttributeError\u001b[0m                            Traceback (most recent call last)",
            "\u001b[1;32m/Users/jarebb/Documents/Jarebb/code/nyp/nyp-ai-learning/Essentials of Machine Learnings ITI03/L9/AutoML_v3.ipynb Cell 15'\u001b[0m in \u001b[0;36m<cell line: 1>\u001b[0;34m()\u001b[0m\n\u001b[0;32m----> <a href='vscode-notebook-cell:/Users/jarebb/Documents/Jarebb/code/nyp/nyp-ai-learning/Essentials%20of%20Machine%20Learnings%20ITI03/L9/AutoML_v3.ipynb#ch0000014?line=0'>1</a>\u001b[0m \u001b[39mprint\u001b[39m(automl\u001b[39m.\u001b[39;49mleaderboard())\n",
            "File \u001b[0;32m/usr/local/lib/python3.9/site-packages/autosklearn/estimators.py:800\u001b[0m, in \u001b[0;36mAutoSklearnEstimator.leaderboard\u001b[0;34m(self, detailed, ensemble_only, top_k, sort_by, sort_order, include)\u001b[0m\n\u001b[1;32m    781\u001b[0m \u001b[39mdef\u001b[39;00m \u001b[39mhas_key\u001b[39m(rv, key):\n\u001b[1;32m    782\u001b[0m     \u001b[39mreturn\u001b[39;00m rv\u001b[39m.\u001b[39madditional_info \u001b[39mand\u001b[39;00m key \u001b[39min\u001b[39;00m rv\u001b[39m.\u001b[39madditional_info\n\u001b[1;32m    784\u001b[0m model_runs \u001b[39m=\u001b[39m {\n\u001b[1;32m    785\u001b[0m     rval\u001b[39m.\u001b[39madditional_info[\u001b[39m'\u001b[39m\u001b[39mnum_run\u001b[39m\u001b[39m'\u001b[39m]: {\n\u001b[1;32m    786\u001b[0m         \u001b[39m'\u001b[39m\u001b[39mmodel_id\u001b[39m\u001b[39m'\u001b[39m: rval\u001b[39m.\u001b[39madditional_info[\u001b[39m'\u001b[39m\u001b[39mnum_run\u001b[39m\u001b[39m'\u001b[39m],\n\u001b[1;32m    787\u001b[0m         \u001b[39m'\u001b[39m\u001b[39mseed\u001b[39m\u001b[39m'\u001b[39m: rkey\u001b[39m.\u001b[39mseed,\n\u001b[1;32m    788\u001b[0m         \u001b[39m'\u001b[39m\u001b[39mbudget\u001b[39m\u001b[39m'\u001b[39m: rkey\u001b[39m.\u001b[39mbudget,\n\u001b[1;32m    789\u001b[0m         \u001b[39m'\u001b[39m\u001b[39mduration\u001b[39m\u001b[39m'\u001b[39m: rval\u001b[39m.\u001b[39mtime,\n\u001b[1;32m    790\u001b[0m         \u001b[39m'\u001b[39m\u001b[39mconfig_id\u001b[39m\u001b[39m'\u001b[39m: rkey\u001b[39m.\u001b[39mconfig_id,\n\u001b[1;32m    791\u001b[0m         \u001b[39m'\u001b[39m\u001b[39mstart_time\u001b[39m\u001b[39m'\u001b[39m: rval\u001b[39m.\u001b[39mstarttime,\n\u001b[1;32m    792\u001b[0m         \u001b[39m'\u001b[39m\u001b[39mend_time\u001b[39m\u001b[39m'\u001b[39m: rval\u001b[39m.\u001b[39mendtime,\n\u001b[1;32m    793\u001b[0m         \u001b[39m'\u001b[39m\u001b[39mstatus\u001b[39m\u001b[39m'\u001b[39m: \u001b[39mstr\u001b[39m(rval\u001b[39m.\u001b[39mstatus),\n\u001b[1;32m    794\u001b[0m         \u001b[39m'\u001b[39m\u001b[39mcost\u001b[39m\u001b[39m'\u001b[39m: rval\u001b[39m.\u001b[39mcost,\n\u001b[1;32m    795\u001b[0m         \u001b[39m'\u001b[39m\u001b[39mtrain_loss\u001b[39m\u001b[39m'\u001b[39m: rval\u001b[39m.\u001b[39madditional_info[\u001b[39m'\u001b[39m\u001b[39mtrain_loss\u001b[39m\u001b[39m'\u001b[39m]\n\u001b[1;32m    796\u001b[0m         \u001b[39mif\u001b[39;00m has_key(rval, \u001b[39m'\u001b[39m\u001b[39mtrain_loss\u001b[39m\u001b[39m'\u001b[39m) \u001b[39melse\u001b[39;00m \u001b[39mNone\u001b[39;00m,\n\u001b[1;32m    797\u001b[0m         \u001b[39m'\u001b[39m\u001b[39mconfig_origin\u001b[39m\u001b[39m'\u001b[39m: rval\u001b[39m.\u001b[39madditional_info[\u001b[39m'\u001b[39m\u001b[39mconfiguration_origin\u001b[39m\u001b[39m'\u001b[39m]\n\u001b[1;32m    798\u001b[0m         \u001b[39mif\u001b[39;00m has_key(rval, \u001b[39m'\u001b[39m\u001b[39mconfiguration_origin\u001b[39m\u001b[39m'\u001b[39m) \u001b[39melse\u001b[39;00m \u001b[39mNone\u001b[39;00m\n\u001b[1;32m    799\u001b[0m     }\n\u001b[0;32m--> 800\u001b[0m     \u001b[39mfor\u001b[39;00m rkey, rval \u001b[39min\u001b[39;00m \u001b[39mself\u001b[39;49m\u001b[39m.\u001b[39;49mautoml_\u001b[39m.\u001b[39;49mrunhistory_\u001b[39m.\u001b[39mdata\u001b[39m.\u001b[39mitems()\n\u001b[1;32m    801\u001b[0m     \u001b[39mif\u001b[39;00m has_key(rval, \u001b[39m'\u001b[39m\u001b[39mnum_run\u001b[39m\u001b[39m'\u001b[39m)\n\u001b[1;32m    802\u001b[0m }\n\u001b[1;32m    804\u001b[0m \u001b[39m# Next we get some info about the model itself\u001b[39;00m\n\u001b[1;32m    805\u001b[0m model_class_strings \u001b[39m=\u001b[39m {\n\u001b[1;32m    806\u001b[0m     AutoMLClassifier: \u001b[39m'\u001b[39m\u001b[39mclassifier\u001b[39m\u001b[39m'\u001b[39m,\n\u001b[1;32m    807\u001b[0m     AutoMLRegressor: \u001b[39m'\u001b[39m\u001b[39mregressor\u001b[39m\u001b[39m'\u001b[39m\n\u001b[1;32m    808\u001b[0m }\n",
            "\u001b[0;31mAttributeError\u001b[0m: 'AutoMLClassifier' object has no attribute 'runhistory_'"
          ]
        }
      ],
      "source": [
        "print(automl.leaderboard())"
      ]
    },
    {
      "cell_type": "markdown",
      "metadata": {
        "id": "KjS6mW0nikU5"
      },
      "source": [
        "Print the final ensemble constructed by auto-sklearn (Classifier)"
      ]
    },
    {
      "cell_type": "code",
      "execution_count": null,
      "metadata": {
        "id": "NyZWHWmWZeS2"
      },
      "outputs": [],
      "source": [
        "pprint(automl.show_models())"
      ]
    },
    {
      "cell_type": "markdown",
      "metadata": {
        "id": "FrIHjBXajEjk"
      },
      "source": [
        "Now we have the statistics of the model and the algorithms that were checked were 7. Let us now see the accuracy of the model. "
      ]
    },
    {
      "cell_type": "code",
      "execution_count": null,
      "metadata": {
        "id": "GcLEykKtZhKE"
      },
      "outputs": [],
      "source": [
        "predictions = automl.predict(X_test)\n",
        "print(\"Accuracy score:\", sklearn.metrics.accuracy_score(y_test, predictions))"
      ]
    },
    {
      "cell_type": "markdown",
      "metadata": {
        "id": "FswZjKHG9O_A"
      },
      "source": [
        "This is a good score since we have not scaled or pre-processed the data and we have allowed the model to run only for 2 minutes. Thus, we have built a classification model using autosklearn. "
      ]
    },
    {
      "cell_type": "markdown",
      "metadata": {
        "id": "5RUilupfjGmT"
      },
      "source": [
        "Check all the best outperforming pipelines with PipelineProfiler"
      ]
    },
    {
      "cell_type": "code",
      "execution_count": null,
      "metadata": {
        "id": "g_sc5Sa4aKOt"
      },
      "outputs": [],
      "source": [
        "import PipelineProfiler\n",
        "profiler_data= PipelineProfiler.import_autosklearn(automl)\n",
        "PipelineProfiler.plot_pipeline_matrix(profiler_data)"
      ]
    },
    {
      "cell_type": "markdown",
      "metadata": {
        "id": "V0kZZsekjp87"
      },
      "source": [
        "# **AutoML- Regression**"
      ]
    },
    {
      "cell_type": "markdown",
      "metadata": {
        "id": "lNG3ok5rzeX-"
      },
      "source": [
        "1. Import the boston dataset and Split the dataset into train, test set, features and label. "
      ]
    },
    {
      "cell_type": "code",
      "execution_count": 8,
      "metadata": {
        "id": "-GQiew8dkWjn"
      },
      "outputs": [],
      "source": [
        "from sklearn.datasets import load_boston\n",
        "import pandas as pd\n",
        "boston_data=load_boston()\n",
        "features=pd.DataFrame(boston_data.data,columns=boston_data.feature_names)\n",
        "target=pd.DataFrame(boston_data.target,columns=['TARGET'])\n",
        "dataset=pd.concat([features,target],axis=1)\n",
        "\n",
        "#from sklearn.model_selection import train_test_split\n",
        "#xtrain,xtest,ytrain,ytest=train_test_split(features,target,test_size=0.2)\n"
      ]
    },
    {
      "cell_type": "markdown",
      "metadata": {
        "id": "v-2KgufT3gdh"
      },
      "source": [
        "**Exercise**\n",
        "\n",
        "Import the train_test_split and seperate the data into 80:20.\n",
        "\n",
        "<details><summary>Click here for answer</summary>\n",
        "<br/>\n",
        "    \n",
        "```python\n",
        "from sklearn.model_selection import train_test_split\n",
        "xtrain,xtest,ytrain,ytest=train_test_split(features,target,test_size=0.2)\n",
        "    \n",
        "```\n",
        "</details>"
      ]
    },
    {
      "cell_type": "code",
      "execution_count": 9,
      "metadata": {
        "id": "Frbfcaca8E5X"
      },
      "outputs": [],
      "source": [
        "###complete the code below###"
      ]
    },
    {
      "cell_type": "markdown",
      "metadata": {
        "id": "uXQ0ZCNF4yx-"
      },
      "source": [
        "2.Building the Regressor model"
      ]
    },
    {
      "cell_type": "markdown",
      "metadata": {
        "id": "1akHcdwrzsLg"
      },
      "source": [
        "**Exercise**\n",
        "\n",
        "Build your autosklearn regressor model with max of 2 mins, max time per model is 30s and mean absoulte error as your performance matrix. \n",
        "\n",
        "Next, fit your model with the train and testing data.\n",
        "\n",
        "<details><summary>Click here for answer</summary>\n",
        "<br/>\n",
        "    \n",
        "```python\n",
        "from autosklearn.regression import AutoSklearnRegressor\n",
        "regressor=autosklearn.regression.AutoSklearnRegressor(time_left_for_this_task=120,per_run_time_limit=30,metric=autosklearn.metrics.mean_absolute_error)\n",
        "\n",
        "regressor.fit(xtrain, ytrain)\n",
        "```\n",
        "</details>"
      ]
    },
    {
      "cell_type": "code",
      "execution_count": null,
      "metadata": {
        "id": "quZqK6NO5UWj"
      },
      "outputs": [],
      "source": [
        "###complete the code below###\n"
      ]
    },
    {
      "cell_type": "markdown",
      "metadata": {
        "id": "Y-6R-Ov2jyO5"
      },
      "source": [
        "3. View the models found by auto-sklearn (Regression)"
      ]
    },
    {
      "cell_type": "markdown",
      "metadata": {
        "id": "l-VXzSvCyhfR"
      },
      "source": [
        "**Exercise**\n",
        "\n",
        "Print the leaderscore board for regressor.\n",
        "\n",
        "Hint: You may refer to leaderboard under AutoML-Classifier.\n",
        "\n",
        "<details><summary>Click here for answer</summary>\n",
        "<br/>\n",
        "    \n",
        "```python\n",
        "print(regressor.leaderboard())\n",
        "    \n",
        "```\n",
        "</details>"
      ]
    },
    {
      "cell_type": "code",
      "execution_count": null,
      "metadata": {
        "id": "W500iEYv5dkN"
      },
      "outputs": [],
      "source": [
        "###complete the code below###"
      ]
    },
    {
      "cell_type": "markdown",
      "metadata": {
        "id": "iUjKDjUzj6AK"
      },
      "source": [
        "4. Print the final ensemble constructed by auto-sklearn (Regression)"
      ]
    },
    {
      "cell_type": "markdown",
      "metadata": {
        "id": "iZ6aJiMD6NZS"
      },
      "source": [
        "**Exercise**\n",
        "\n",
        "Show the model constructed by auto-sklearn (Regression)\n",
        "<details><summary>Click here for answer</summary>\n",
        "<br/>\n",
        "    \n",
        "```python\n",
        "pprint(regressor.show_models(), indent=4)\n",
        "    \n",
        "```\n",
        "</details>"
      ]
    },
    {
      "cell_type": "code",
      "execution_count": null,
      "metadata": {
        "id": "CAtUHqofk3YQ"
      },
      "outputs": [],
      "source": [
        "###complete the code below###\n"
      ]
    },
    {
      "cell_type": "markdown",
      "metadata": {
        "id": "ppaE9hf8j1LF"
      },
      "source": [
        "Get the Score of the final ensemble"
      ]
    },
    {
      "cell_type": "markdown",
      "metadata": {
        "id": "IgC9EbcJ5ld5"
      },
      "source": [
        "**Exercise**\n",
        "\n",
        "Calculate the mean absolute error for the testing set.\n",
        "<details><summary>Click here for answer</summary>\n",
        "<br/>\n",
        "    \n",
        "```python\n",
        "from sklearn.metrics import mean_absolute_error\n",
        "\n",
        "print(regressor.sprint_statistics())\n",
        "pred= regressor.predict(xtest)\n",
        "mae = mean_absolute_error(ytest, pred)\n",
        "print(\"MAE:\" ,mae)\n",
        "    \n",
        "```\n",
        "</details>"
      ]
    },
    {
      "cell_type": "code",
      "execution_count": null,
      "metadata": {
        "id": "P9qeb_-MyPOC"
      },
      "outputs": [],
      "source": [
        "###complete the code below###\n"
      ]
    },
    {
      "cell_type": "markdown",
      "metadata": {
        "id": "4Mfzrbweju-4"
      },
      "source": [
        "Check all the best outperforming pipelines with PipelineProfiler"
      ]
    },
    {
      "cell_type": "markdown",
      "metadata": {
        "id": "I3XOtGEmvG6-"
      },
      "source": [
        "**Exercise**\n",
        "\n",
        "Plot out the PipelineProfiler matrix for regrssor.\n",
        "\n",
        "Hint: You may refer to PipelineProfiler matrix under classifier.\n",
        "\n",
        "<details><summary>Click here for answer</summary>\n",
        "<br/>\n",
        "    \n",
        "```python\n",
        "import PipelineProfiler\n",
        "profiler_data= PipelineProfiler.import_autosklearn(regressor)\n",
        "PipelineProfiler.plot_pipeline_matrix(profiler_data)\n",
        "    \n",
        "```\n",
        "</details>"
      ]
    },
    {
      "cell_type": "code",
      "execution_count": null,
      "metadata": {
        "id": "rMAJp9dGxXqQ"
      },
      "outputs": [],
      "source": [
        "###complete the code below###\n"
      ]
    }
  ],
  "metadata": {
    "colab": {
      "authorship_tag": "ABX9TyOKGPXImwgiAILbfEqOTAeZ",
      "collapsed_sections": [],
      "include_colab_link": true,
      "name": "AutoML_v1.ipynb",
      "provenance": []
    },
    "kernelspec": {
      "display_name": "Python 3.9.7 64-bit",
      "language": "python",
      "name": "python3"
    },
    "language_info": {
      "codemirror_mode": {
        "name": "ipython",
        "version": 3
      },
      "file_extension": ".py",
      "mimetype": "text/x-python",
      "name": "python",
      "nbconvert_exporter": "python",
      "pygments_lexer": "ipython3",
      "version": "3.9.7"
    },
    "vscode": {
      "interpreter": {
        "hash": "aee8b7b246df8f9039afb4144a1f6fd8d2ca17a180786b69acc140d282b71a49"
      }
    }
  },
  "nbformat": 4,
  "nbformat_minor": 0
}
