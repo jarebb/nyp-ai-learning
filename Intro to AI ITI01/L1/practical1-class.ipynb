{
 "cells": [
  {
   "cell_type": "code",
   "execution_count": 27,
   "id": "56e92f51-f0ef-47e9-a7d2-337baedcd88f",
   "metadata": {},
   "outputs": [],
   "source": [
    "class Human:\n",
    "    def __init__(self, name):\n",
    "        self.name = name\n",
    "        \n",
    "    def getName(self):\n",
    "        return self.name"
   ]
  },
  {
   "cell_type": "code",
   "execution_count": 28,
   "id": "e5e3538b-c91d-4b4f-a002-8cc48a186932",
   "metadata": {},
   "outputs": [],
   "source": [
    "aaa = Human(\"ABC\")"
   ]
  },
  {
   "cell_type": "code",
   "execution_count": 30,
   "id": "5966a18f-0019-4f3f-99da-29b9c43ff50f",
   "metadata": {},
   "outputs": [
    {
     "name": "stdout",
     "output_type": "stream",
     "text": [
      "ABC\n"
     ]
    }
   ],
   "source": [
    "print(aaa.getName())"
   ]
  },
  {
   "cell_type": "code",
   "execution_count": 71,
   "id": "00ea41a6-8702-4263-bf79-831d50c2c844",
   "metadata": {},
   "outputs": [],
   "source": [
    "class Student(Human):\n",
    "    def __init(self, name, studentId):\n",
    "        self.studentId = studentId\n",
    "        \n",
    "    def printStudentId(self):\n",
    "        print(self.studentId)\n",
    "    "
   ]
  },
  {
   "cell_type": "code",
   "execution_count": 72,
   "id": "4bcc8331-ff02-4f4b-a4d0-74e8e3943f61",
   "metadata": {},
   "outputs": [],
   "source": [
    "bbb = Student('bbb')"
   ]
  },
  {
   "cell_type": "code",
   "execution_count": 79,
   "id": "33b20261-aacb-409c-8220-2c5e7b9a3b4b",
   "metadata": {},
   "outputs": [
    {
     "data": {
      "text/plain": [
       "'bbb'"
      ]
     },
     "execution_count": 79,
     "metadata": {},
     "output_type": "execute_result"
    }
   ],
   "source": [
    "bbb.getName()"
   ]
  },
  {
   "cell_type": "markdown",
   "id": "0663401a-0b23-4c60-a76c-f8fdf0af1514",
   "metadata": {},
   "source": [
    "| First | Second |\n",
    "|---|---|\n",
    "|Hello|World|"
   ]
  }
 ],
 "metadata": {
  "kernelspec": {
   "display_name": "Python 3",
   "language": "python",
   "name": "python3"
  },
  "language_info": {
   "codemirror_mode": {
    "name": "ipython",
    "version": 3
   },
   "file_extension": ".py",
   "mimetype": "text/x-python",
   "name": "python",
   "nbconvert_exporter": "python",
   "pygments_lexer": "ipython3",
   "version": "3.8.8"
  }
 },
 "nbformat": 4,
 "nbformat_minor": 5
}
