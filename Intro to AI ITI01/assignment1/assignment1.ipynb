{
 "cells": [
  {
   "cell_type": "markdown",
   "id": "5181320d-20bc-4f3f-b6a7-fa5183f605fd",
   "metadata": {},
   "source": [
    "# Assignment 1"
   ]
  },
  {
   "cell_type": "markdown",
   "id": "e5e66ae5-cf7a-461b-8605-eb9bf67eb51c",
   "metadata": {},
   "source": [
    "|admin no|name|email contact|\n",
    "|---|---|---|\n",
    "|22A208Z|Ng Jarebb|22a208z@mymail.nyp.edu.sg|"
   ]
  },
  {
   "cell_type": "markdown",
   "id": "cb7ac41b-3608-4e16-bc21-413d0b62dd0a",
   "metadata": {},
   "source": [
    "## Experience"
   ]
  },
  {
   "cell_type": "markdown",
   "id": "c9dd91b1-3ed9-461f-a0c3-90ff031ccbdd",
   "metadata": {},
   "source": [
    "My progamming experience\n",
    "- NodeJs\n",
    "- PHP\n",
    "- C#\n",
    "- Java"
   ]
  },
  {
   "cell_type": "markdown",
   "id": "f1e62686-06da-467a-bd8a-66ab39a7d53f",
   "metadata": {},
   "source": [
    "### Code"
   ]
  },
  {
   "cell_type": "markdown",
   "id": "a6d131ab-7c23-4aab-9cdd-ba7f3e5fdcff",
   "metadata": {},
   "source": [
    "`str = \"Hello\"`\n",
    "\n",
    "`print (str)`"
   ]
  },
  {
   "cell_type": "markdown",
   "id": "663e9cda-96ba-4f47-97ae-7eafb6ef58ab",
   "metadata": {},
   "source": [
    "#### Equation"
   ]
  },
  {
   "cell_type": "markdown",
   "id": "ce26740c-b8e5-4b16-8130-092934c415fe",
   "metadata": {},
   "source": [
    "$$\\sqrt{4} \\neq 1$$"
   ]
  },
  {
   "cell_type": "markdown",
   "id": "2446bcd5-66f6-426f-b940-879ce05ff2ea",
   "metadata": {},
   "source": [
    "## Python Part 1"
   ]
  },
  {
   "cell_type": "code",
   "execution_count": 9,
   "id": "b35312e6-ab44-4fce-961e-55cc1c15d0ad",
   "metadata": {},
   "outputs": [
    {
     "name": "stdout",
     "output_type": "stream",
     "text": [
      "Player 1\n",
      " [5 5 1 6 4]\n",
      "Player 2\n",
      " [1 1 1 3 2]\n",
      "Player 1 wins by 4 game \n",
      "\n",
      "Player 1\n",
      " [3 4 3 4 2]\n",
      "Player 2\n",
      " [3 2 6 1 6]\n",
      "It is a draw with 2 win each \n",
      "\n",
      "Player 1\n",
      " [6 3 6 4 5]\n",
      "Player 2\n",
      " [2 4 1 4 1]\n",
      "Player 1 wins by 2 game \n",
      "\n",
      "Player 1\n",
      " [5 6 4 2 5]\n",
      "Player 2\n",
      " [6 5 1 5 4]\n",
      "Player 1 wins by 1 game \n",
      "\n",
      "Player 1\n",
      " [1 6 3 4 5]\n",
      "Player 2\n",
      " [6 5 5 4 2]\n",
      "It is a draw with 2 win each \n",
      "\n"
     ]
    }
   ],
   "source": [
    "import numpy as np\n",
    "#np.random.seed(0)\n",
    "\n",
    "# Function to simulate player 1 & 2 throwing of dice. Default to 5 throws.\n",
    "def playersThrowDice(numOfThrows = 5):\n",
    "    player1_result = np.random.randint(1, high=7, size=numOfThrows)\n",
    "    player2_result = np.random.randint(1, high=7, size=numOfThrows)\n",
    "    print('Player 1\\n', player1_result)\n",
    "    print('Player 2\\n', player2_result)\n",
    "    return player1_result, player2_result\n",
    "\n",
    "# Function to print the game result using players result\n",
    "def printGameResult(player2_result, player1_result):\n",
    "    # Subtract the results from player 1 and player 2 so that we can calculate the total number of won games for each player.\n",
    "    result = player2_result - player1_result\n",
    "    \n",
    "    # Using the expression (result < 0) or (result > 0), we can get an array of true's or false's.\n",
    "    # In Python, boolean can be express using int value 1 or 0\n",
    "    # Using sum(), the function will add all the 1 (True) together, giving a total count on how many won games for either player 1 or 2.\n",
    "    totalPlayer1GameWon = (result < 0).sum()\n",
    "    totalPlayer2GameWon = (result > 0).sum()\n",
    "\n",
    "    if (totalPlayer1GameWon > totalPlayer2GameWon):\n",
    "        print('Player 1 wins by %d game' % (totalPlayer1GameWon - totalPlayer2GameWon), '\\n')\n",
    "    elif (totalPlayer2GameWon > totalPlayer1GameWon):\n",
    "        print('Player 2 wins by %d game' % (totalPlayer2GameWon - totalPlayer1GameWon), '\\n')\n",
    "    else:\n",
    "        print('It is a draw with %d win each' % totalPlayer1GameWon, '\\n')\n",
    "\n",
    "# Function to simulate playing of games. By default, a total of 5 games will be played if numOfTimes is not provided.\n",
    "def playGames(numOfTimes = 5):\n",
    "    for i in range(0, numOfTimes):\n",
    "        player1_result ,player2_result = playersThrowDice()\n",
    "        printGameResult(player2_result, player1_result)\n",
    "\n",
    "#Start playing game        \n",
    "playGames()"
   ]
  },
  {
   "cell_type": "markdown",
   "id": "f6d85637",
   "metadata": {},
   "source": [
    "## Python Part 2"
   ]
  },
  {
   "cell_type": "code",
   "execution_count": 10,
   "id": "5181addc",
   "metadata": {},
   "outputs": [],
   "source": [
    "# Imports\n",
    "import pandas as pd"
   ]
  },
  {
   "cell_type": "markdown",
   "id": "0760e018",
   "metadata": {},
   "source": [
    "### Step 1\n",
    "Store data into three dataframes"
   ]
  },
  {
   "cell_type": "code",
   "execution_count": 11,
   "id": "458ee01d",
   "metadata": {},
   "outputs": [],
   "source": [
    "janDataFrame = pd.DataFrame({\n",
    "  \"Quantity Sold\": [500, 600],\n",
    "  \"Product\": ['Apples', 'Oranges'],\n",
    "  \"Unit Price\": ['$1.00', '$2.00']\n",
    "})\n",
    "\n",
    "# print(\"January\", janDataFrame);\n",
    "\n",
    "febDataFrame = pd.DataFrame({\n",
    "  \"Quantity Sold\": [900, 300],\n",
    "  \"Product\": ['Apples', 'Bananas'],\n",
    "  \"Unit Price\": ['$0.80', '$0.50']\n",
    "})\n",
    "\n",
    "# print(\"February\", febDataFrame);\n",
    "\n",
    "marDataFrame = pd.DataFrame({\n",
    "  \"Quantity Sold\": [200, 100],\n",
    "  \"Product\": ['Apples', 'Bananas'],\n",
    "  \"Unit Price\": ['$0.80', '$1.00']\n",
    "})\n",
    "\n",
    "# print(\"March\", marDataFrame);"
   ]
  },
  {
   "cell_type": "markdown",
   "id": "243d30b3",
   "metadata": {},
   "source": [
    "### Step 2\n",
    "Add a column to store the month of sales"
   ]
  },
  {
   "cell_type": "code",
   "execution_count": 12,
   "id": "a0c6d575",
   "metadata": {},
   "outputs": [],
   "source": [
    "janDataFrame['Month'] = 'Jan'\n",
    "febDataFrame['Month'] = 'Feb'\n",
    "marDataFrame['Month'] = 'Mar'"
   ]
  },
  {
   "cell_type": "markdown",
   "id": "e0604111",
   "metadata": {},
   "source": [
    "### Step 3\n",
    "Concatenate all three DataFrames into a single DataFrame"
   ]
  },
  {
   "cell_type": "code",
   "execution_count": 13,
   "id": "072c151e",
   "metadata": {},
   "outputs": [
    {
     "data": {
      "text/html": [
       "<div>\n",
       "<style scoped>\n",
       "    .dataframe tbody tr th:only-of-type {\n",
       "        vertical-align: middle;\n",
       "    }\n",
       "\n",
       "    .dataframe tbody tr th {\n",
       "        vertical-align: top;\n",
       "    }\n",
       "\n",
       "    .dataframe thead th {\n",
       "        text-align: right;\n",
       "    }\n",
       "</style>\n",
       "<table border=\"1\" class=\"dataframe\">\n",
       "  <thead>\n",
       "    <tr style=\"text-align: right;\">\n",
       "      <th></th>\n",
       "      <th>Quantity Sold</th>\n",
       "      <th>Product</th>\n",
       "      <th>Unit Price</th>\n",
       "      <th>Month</th>\n",
       "    </tr>\n",
       "  </thead>\n",
       "  <tbody>\n",
       "    <tr>\n",
       "      <th>0</th>\n",
       "      <td>500</td>\n",
       "      <td>Apples</td>\n",
       "      <td>$1.00</td>\n",
       "      <td>Jan</td>\n",
       "    </tr>\n",
       "    <tr>\n",
       "      <th>1</th>\n",
       "      <td>600</td>\n",
       "      <td>Oranges</td>\n",
       "      <td>$2.00</td>\n",
       "      <td>Jan</td>\n",
       "    </tr>\n",
       "    <tr>\n",
       "      <th>2</th>\n",
       "      <td>900</td>\n",
       "      <td>Apples</td>\n",
       "      <td>$0.80</td>\n",
       "      <td>Feb</td>\n",
       "    </tr>\n",
       "    <tr>\n",
       "      <th>3</th>\n",
       "      <td>300</td>\n",
       "      <td>Bananas</td>\n",
       "      <td>$0.50</td>\n",
       "      <td>Feb</td>\n",
       "    </tr>\n",
       "    <tr>\n",
       "      <th>4</th>\n",
       "      <td>200</td>\n",
       "      <td>Apples</td>\n",
       "      <td>$0.80</td>\n",
       "      <td>Mar</td>\n",
       "    </tr>\n",
       "    <tr>\n",
       "      <th>5</th>\n",
       "      <td>100</td>\n",
       "      <td>Bananas</td>\n",
       "      <td>$1.00</td>\n",
       "      <td>Mar</td>\n",
       "    </tr>\n",
       "  </tbody>\n",
       "</table>\n",
       "</div>"
      ],
      "text/plain": [
       "   Quantity Sold  Product Unit Price Month\n",
       "0            500   Apples      $1.00   Jan\n",
       "1            600  Oranges      $2.00   Jan\n",
       "2            900   Apples      $0.80   Feb\n",
       "3            300  Bananas      $0.50   Feb\n",
       "4            200   Apples      $0.80   Mar\n",
       "5            100  Bananas      $1.00   Mar"
      ]
     },
     "execution_count": 13,
     "metadata": {},
     "output_type": "execute_result"
    }
   ],
   "source": [
    "firstQuarterSales = pd.concat([janDataFrame, febDataFrame, marDataFrame], axis=0).reset_index(drop=True)\n",
    "firstQuarterSales"
   ]
  },
  {
   "cell_type": "markdown",
   "id": "6c2cbc10",
   "metadata": {},
   "source": [
    "## Python Part 3"
   ]
  },
  {
   "cell_type": "code",
   "execution_count": 14,
   "id": "bae65f0e",
   "metadata": {},
   "outputs": [],
   "source": [
    "# Imports\n",
    "import numpy as np\n",
    "import matplotlib.pyplot as plt"
   ]
  },
  {
   "cell_type": "code",
   "execution_count": 15,
   "id": "9dd6b8a9",
   "metadata": {},
   "outputs": [
    {
     "data": {
      "image/png": "[encoded data removed]",
      "text/plain": [
       "<Figure size 432x288 with 2 Axes>"
      ]
     },
     "metadata": {
      "needs_background": "light"
     },
     "output_type": "display_data"
    }
   ],
   "source": [
    "femaleWeights = np.array([56,60,55,52,40,60,80,39,44,48])\n",
    "femaleHeights= np.array([168,155,150,154,140,153,155,156,153,160])\n",
    "\n",
    "maleWeights = np.array([60,70,73,72,81,52,76,58,66,69])\n",
    "maleHeights= np.array([157,158,168,164,170,164,180,166,169,166])\n",
    "\n",
    "plt.suptitle('Weight-Height Distribution')\n",
    "\n",
    "plt.subplot(121)\n",
    "plt.title('Female')\n",
    "plt.xlabel('Weight')\n",
    "plt.ylabel('Height')\n",
    "plt.scatter(femaleWeights, femaleHeights)\n",
    "\n",
    "plt.subplot(122)\n",
    "plt.title('Male')\n",
    "plt.xlabel('Weight')\n",
    "plt.scatter(maleWeights, maleHeights)\n",
    "\n",
    "plt.show()"
   ]
  },
  {
   "cell_type": "markdown",
   "id": "dd7b3a30",
   "metadata": {},
   "source": [
    "## Python Part 4"
   ]
  },
  {
   "cell_type": "code",
   "execution_count": 16,
   "id": "97ec8266",
   "metadata": {},
   "outputs": [
    {
     "name": "stdout",
     "output_type": "stream",
     "text": [
      "abc#abc is valid\n",
      "1#patch is valid\n",
      "a.b#cd9 is valid\n",
      "12to13#timesup is valid\n",
      "a.b.c#987 is valid\n",
      ".ab#123 is not valid\n",
      "a..b#123 is not valid\n",
      "ab.#123 is not valid\n",
      "ab.c#1.23 is not valid\n",
      "1234.abc is not valid\n",
      "ab12#pass is not valid\n",
      "ab-12#past is not valid\n",
      "ab12#pas$ is not valid\n"
     ]
    }
   ],
   "source": [
    "# Function to return true if param contains dot on the start or end.\n",
    "def startOrEndWithDot(code):\n",
    "  return code[0] == '.' or code[-1] == '.'\n",
    "\n",
    "# Function to return true if the param is not alphanumeric or dot, or contain consective dot.\n",
    "def isNotAlNumOrDotOrWithCsDot(code):\n",
    "  prevStr = ''\n",
    "  for eachChar in code:\n",
    "    if not eachChar.isalnum() and eachChar != '.':\n",
    "      return True\n",
    "    \n",
    "    if eachChar == '.' and prevStr == '.':\n",
    "      return True\n",
    "    \n",
    "    prevStr = eachChar\n",
    "  \n",
    "  return False\n",
    "\n",
    "# Function to return true if param contain repeated characters.\n",
    "def haveRepeatedChar(code):\n",
    "  codeDictionary = {}\n",
    "  for eachChar in code:\n",
    "    if eachChar in codeDictionary:\n",
    "      return True\n",
    "    codeDictionary[eachChar] = None\n",
    "  return False\n",
    "\n",
    "# Function to validate passcode\n",
    "def validatePassCode(passCode):\n",
    "  hexSplit = passCode.split('#')\n",
    "  \n",
    "  if len(hexSplit) != 2:\n",
    "    print('%s is not valid' % passCode)\n",
    "    return\n",
    "\n",
    "  [part1, part2] = hexSplit\n",
    "  \n",
    "  if startOrEndWithDot(part1) or isNotAlNumOrDotOrWithCsDot(part1):\n",
    "    print('%s is not valid' % passCode)\n",
    "    return\n",
    "    \n",
    "  if not part2.isalnum() or haveRepeatedChar(part2):\n",
    "    print('%s is not valid' % passCode)\n",
    "    return\n",
    "\n",
    "  print('%s is valid' % passCode)\n",
    "\n",
    "cases = ['abc#abc', '1#patch', 'a.b#cd9', '12to13#timesup', 'a.b.c#987', '.ab#123','a..b#123', 'ab.#123','ab.c#1.23','1234.abc', 'ab12#pass', 'ab-12#past','ab12#pas$']\n",
    "\n",
    "# Validate all cases\n",
    "for passCode in cases:\n",
    "  validatePassCode(passCode)"
   ]
  },
  {
   "cell_type": "markdown",
   "id": "a56d32c5",
   "metadata": {},
   "source": [
    "## Python 5"
   ]
  },
  {
   "cell_type": "code",
   "execution_count": 17,
   "id": "cb9ec0c9",
   "metadata": {},
   "outputs": [
    {
     "data": {
      "text/plain": [
       "[('of', 51),\n",
       " ('and', 49),\n",
       " ('for', 37),\n",
       " ('NYP', 33),\n",
       " ('Learning', 29),\n",
       " ('School', 29),\n",
       " ('Industry', 29),\n",
       " ('Centre', 24),\n",
       " ('Lifelong', 24),\n",
       " ('Courses', 24)]"
      ]
     },
     "execution_count": 17,
     "metadata": {},
     "output_type": "execute_result"
    }
   ],
   "source": [
    "import numpy as np\n",
    "from bs4 import BeautifulSoup\n",
    "import string\n",
    "import requests\n",
    "import operator\n",
    "\n",
    "# Request for NYP website\n",
    "nypWebsiteUrl = 'https://www.nyp.edu.sg'\n",
    "response = requests.get(nypWebsiteUrl, stream=True)\n",
    "rawHtmlBody = str(response.text)\n",
    "\n",
    "# We can easily pull out HTML text using BeautifulSoup library.\n",
    "soup = BeautifulSoup(rawHtmlBody, \"html.parser\")\n",
    "htmlText = soup.get_text()\n",
    "\n",
    "# Even though BeautifulSoup helps us to remove all html tags, script, css etc, there are still other code which will deter our effort to count words.\n",
    "# Hence, we will need to remove all formatting like \\n, string.punctuation, and even some special characters like ’.\n",
    "htmlText = htmlText.replace('\\n', ' ').replace('\\r', ' ').replace('\\t', ' ').replace('\\xa0', ' ')\n",
    "htmlText = htmlText.translate(str.maketrans('', '', string.punctuation))\n",
    "htmlText = htmlText.replace('’', '').replace('“', '').replace('”', '')\n",
    "\n",
    "# After our first round of cleaning, we will need to split the whole text into words array for ease of calculation.\n",
    "# There will be empty items in the wordArr after split, however, it will be ignored during our loop below.\n",
    "wordArr = np.array(htmlText.split(' '))\n",
    "\n",
    "wordDic = {}\n",
    "\n",
    "for word in wordArr:\n",
    "  # This for loop first check if each array item is alphabet, go next step if its not.\n",
    "  if not word.isalpha():\n",
    "    continue\n",
    "\n",
    "  # If it is an alphabet, check if it exist in the word dictionary wordDic.\n",
    "  # If it does, add 1 to it, else set it as 1.\n",
    "  if word in wordDic:\n",
    "    wordDic[word] = wordDic[word] + 1\n",
    "    continue\n",
    "  \n",
    "  wordDic[word] = 1\n",
    "\n",
    "# Sort the dictionary items using the sorted function, and ensuring that it is in desc order.\n",
    "# The Sorted function will return a list afterward, which we can tap on to only select the first 10 items.\n",
    "topTenHighestWordCounts = sorted(wordDic.items(), key=operator.itemgetter(1),reverse=True)[:10]\n",
    "topTenHighestWordCounts"
   ]
  }
 ],
 "metadata": {
  "interpreter": {
   "hash": "40d3a090f54c6569ab1632332b64b2c03c39dcf918b08424e98f38b5ae0af88f"
  },
  "kernelspec": {
   "display_name": "Python 3.8.8 ('base')",
   "language": "python",
   "name": "python3"
  },
  "language_info": {
   "codemirror_mode": {
    "name": "ipython",
    "version": 3
   },
   "file_extension": ".py",
   "mimetype": "text/x-python",
   "name": "python",
   "nbconvert_exporter": "python",
   "pygments_lexer": "ipython3",
   "version": "3.8.8"
  }
 },
 "nbformat": 4,
 "nbformat_minor": 5
}
